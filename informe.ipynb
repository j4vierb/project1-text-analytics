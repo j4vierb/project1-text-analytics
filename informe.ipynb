{
 "cells": [
  {
   "cell_type": "code",
   "execution_count": 1,
   "id": "4791ba77-7d1d-44d4-9929-bad6ee028ce4",
   "metadata": {},
   "outputs": [],
   "source": [
    "import re, string, unicodedata\n",
    "import numpy as np\n",
    "import pandas as pd\n",
    "import time\n",
    "\n",
    "pd.set_option('display.max_colwidth', 40)"
   ]
  },
  {
   "cell_type": "code",
   "execution_count": 61,
   "id": "5857b0b7-63aa-486b-ab27-bf7b10548145",
   "metadata": {},
   "outputs": [
    {
     "name": "stderr",
     "output_type": "stream",
     "text": [
      "[nltk_data] Downloading package punkt to\n",
      "[nltk_data]     C:\\Users\\javier\\AppData\\Roaming\\nltk_data...\n",
      "[nltk_data]   Package punkt is already up-to-date!\n",
      "[nltk_data] Downloading package punkt_tab to\n",
      "[nltk_data]     C:\\Users\\javier\\AppData\\Roaming\\nltk_data...\n",
      "[nltk_data]   Package punkt_tab is already up-to-date!\n",
      "[nltk_data] Downloading package stopwords to\n",
      "[nltk_data]     C:\\Users\\javier\\AppData\\Roaming\\nltk_data...\n",
      "[nltk_data]   Package stopwords is already up-to-date!\n",
      "[nltk_data] Downloading package wordnet to\n",
      "[nltk_data]     C:\\Users\\javier\\AppData\\Roaming\\nltk_data...\n",
      "[nltk_data]   Package wordnet is already up-to-date!\n"
     ]
    }
   ],
   "source": [
    "import contractions\n",
    "import nltk\n",
    "from datetime import datetime\n",
    "from matplotlib import pyplot as plt\n",
    "\n",
    "nltk.download('punkt')\n",
    "nltk.download('punkt_tab')\n",
    "nltk.download('stopwords')\n",
    "nltk.download('wordnet')\n",
    "\n",
    "import re, string, unicodedata\n",
    "import inflect\n",
    "from nltk import word_tokenize, sent_tokenize\n",
    "from nltk.corpus import stopwords\n",
    "from nltk.stem import LancasterStemmer, WordNetLemmatizer\n",
    "\n",
    "from sklearn.feature_extraction.text import TfidfVectorizer\n",
    "from sklearn.metrics import classification_report, confusion_matrix, ConfusionMatrixDisplay\n",
    "from sklearn.experimental import enable_halving_search_cv\n",
    "from sklearn.model_selection import train_test_split, \\\n",
    "    cross_val_score, KFold, GridSearchCV, RandomizedSearchCV, HalvingRandomSearchCV\n",
    "\n",
    "from sklearn.pipeline import Pipeline\n",
    "from sklearn.preprocessing import FunctionTransformer"
   ]
  },
  {
   "cell_type": "markdown",
   "id": "842db17a-f215-44c7-8682-75d2c1830133",
   "metadata": {},
   "source": [
    "# Perfilamiento y entendimiento de datos"
   ]
  },
  {
   "cell_type": "markdown",
   "id": "a3390353-0bb3-4c83-93f9-e72fd2b7548b",
   "metadata": {},
   "source": [
    "## 1. Lectura de datos"
   ]
  },
  {
   "cell_type": "code",
   "execution_count": 3,
   "id": "dfcfd0a2-991e-41f2-9a6d-2e471d25c821",
   "metadata": {},
   "outputs": [
    {
     "name": "stdout",
     "output_type": "stream",
     "text": [
      "(57063, 5)\n"
     ]
    },
    {
     "data": {
      "text/html": [
       "<div>\n",
       "<style scoped>\n",
       "    .dataframe tbody tr th:only-of-type {\n",
       "        vertical-align: middle;\n",
       "    }\n",
       "\n",
       "    .dataframe tbody tr th {\n",
       "        vertical-align: top;\n",
       "    }\n",
       "\n",
       "    .dataframe thead th {\n",
       "        text-align: right;\n",
       "    }\n",
       "</style>\n",
       "<table border=\"1\" class=\"dataframe\">\n",
       "  <thead>\n",
       "    <tr style=\"text-align: right;\">\n",
       "      <th></th>\n",
       "      <th>ID</th>\n",
       "      <th>Label</th>\n",
       "      <th>Titulo</th>\n",
       "      <th>Descripcion</th>\n",
       "      <th>Fecha</th>\n",
       "    </tr>\n",
       "  </thead>\n",
       "  <tbody>\n",
       "    <tr>\n",
       "      <th>0</th>\n",
       "      <td>ID</td>\n",
       "      <td>1</td>\n",
       "      <td>'The Guardian' va con Sánchez: 'Euro...</td>\n",
       "      <td>El diario británico publicó este pas...</td>\n",
       "      <td>02/06/2023</td>\n",
       "    </tr>\n",
       "    <tr>\n",
       "      <th>1</th>\n",
       "      <td>ID</td>\n",
       "      <td>0</td>\n",
       "      <td>REVELAN QUE EL GOBIERNO NEGOCIO LA L...</td>\n",
       "      <td>REVELAN QUE EL GOBIERNO NEGOCIO LA L...</td>\n",
       "      <td>01/10/2023</td>\n",
       "    </tr>\n",
       "    <tr>\n",
       "      <th>2</th>\n",
       "      <td>ID</td>\n",
       "      <td>1</td>\n",
       "      <td>El 'Ahora o nunca' de Joan Fuster so...</td>\n",
       "      <td>El valencianismo convoca en Castelló...</td>\n",
       "      <td>25/04/2022</td>\n",
       "    </tr>\n",
       "  </tbody>\n",
       "</table>\n",
       "</div>"
      ],
      "text/plain": [
       "   ID  Label                                   Titulo  \\\n",
       "0  ID      1  'The Guardian' va con Sánchez: 'Euro...   \n",
       "1  ID      0  REVELAN QUE EL GOBIERNO NEGOCIO LA L...   \n",
       "2  ID      1  El 'Ahora o nunca' de Joan Fuster so...   \n",
       "\n",
       "                               Descripcion       Fecha  \n",
       "0  El diario británico publicó este pas...  02/06/2023  \n",
       "1  REVELAN QUE EL GOBIERNO NEGOCIO LA L...  01/10/2023  \n",
       "2  El valencianismo convoca en Castelló...  25/04/2022  "
      ]
     },
     "execution_count": 3,
     "metadata": {},
     "output_type": "execute_result"
    }
   ],
   "source": [
    "train_set = \"fake_news_spanish.csv\"\n",
    "df = pd.read_csv(train_set, sep=';', encoding='utf-8')\n",
    "\n",
    "print(df.shape)\n",
    "df.head(3)"
   ]
  },
  {
   "cell_type": "markdown",
   "id": "cbb26189-63d3-4b62-80ed-a933d63d3773",
   "metadata": {},
   "source": [
    "## 2. Entendimiento de datos"
   ]
  },
  {
   "cell_type": "markdown",
   "id": "5c5a8804-36da-4fd6-b08a-b989f6012a08",
   "metadata": {},
   "source": [
    "Debido a que el proyecto no contaba con un diccionario de datos se opto por desarrollar uno propio para la entrega. En el diccionario de datos, documento que también se encuenta en la raiz del proyecto, se detallan las siguientes descripciones:\n",
    "\n",
    "| Columna | Descripción |\n",
    "| - | - |\n",
    "| `ID` | Contiene el identificador del registro, sin embargo, todos los registros tienen la cadena ID. |\n",
    "| `Label` | Es la etiqueta del registro; 1 si el registro es una noticia falsa, 0 de lo contrario.  |\n",
    "| `Titulo` | Corresponde al titulo de la noticia. |\n",
    "| `Descripcion` | Corresponde a la descripción o el cuerpo de la noticia. |\n",
    "| `Fecha` | Es la fecha en la que se publico la noticia. |"
   ]
  },
  {
   "cell_type": "code",
   "execution_count": 4,
   "id": "699fd23d-f607-4da7-8aab-eda8e66231eb",
   "metadata": {},
   "outputs": [
    {
     "data": {
      "text/plain": [
       "ID             object\n",
       "Label           int64\n",
       "Titulo         object\n",
       "Descripcion    object\n",
       "Fecha          object\n",
       "dtype: object"
      ]
     },
     "execution_count": 4,
     "metadata": {},
     "output_type": "execute_result"
    }
   ],
   "source": [
    "df.dtypes"
   ]
  },
  {
   "cell_type": "code",
   "execution_count": 5,
   "id": "6a64d6df-c5cc-4e89-9891-967f73144a1f",
   "metadata": {},
   "outputs": [
    {
     "data": {
      "text/html": [
       "<div>\n",
       "<style scoped>\n",
       "    .dataframe tbody tr th:only-of-type {\n",
       "        vertical-align: middle;\n",
       "    }\n",
       "\n",
       "    .dataframe tbody tr th {\n",
       "        vertical-align: top;\n",
       "    }\n",
       "\n",
       "    .dataframe thead th {\n",
       "        text-align: right;\n",
       "    }\n",
       "</style>\n",
       "<table border=\"1\" class=\"dataframe\">\n",
       "  <thead>\n",
       "    <tr style=\"text-align: right;\">\n",
       "      <th></th>\n",
       "      <th>ID</th>\n",
       "      <th>Label</th>\n",
       "      <th>Titulo</th>\n",
       "      <th>Descripcion</th>\n",
       "      <th>Fecha</th>\n",
       "    </tr>\n",
       "  </thead>\n",
       "  <tbody>\n",
       "    <tr>\n",
       "      <th>0</th>\n",
       "      <td>ID</td>\n",
       "      <td>1</td>\n",
       "      <td>'The Guardian' va con Sánchez: 'Euro...</td>\n",
       "      <td>El diario británico publicó este pas...</td>\n",
       "      <td>02/06/2023</td>\n",
       "    </tr>\n",
       "    <tr>\n",
       "      <th>1</th>\n",
       "      <td>ID</td>\n",
       "      <td>0</td>\n",
       "      <td>REVELAN QUE EL GOBIERNO NEGOCIO LA L...</td>\n",
       "      <td>REVELAN QUE EL GOBIERNO NEGOCIO LA L...</td>\n",
       "      <td>01/10/2023</td>\n",
       "    </tr>\n",
       "    <tr>\n",
       "      <th>2</th>\n",
       "      <td>ID</td>\n",
       "      <td>1</td>\n",
       "      <td>El 'Ahora o nunca' de Joan Fuster so...</td>\n",
       "      <td>El valencianismo convoca en Castelló...</td>\n",
       "      <td>25/04/2022</td>\n",
       "    </tr>\n",
       "    <tr>\n",
       "      <th>3</th>\n",
       "      <td>ID</td>\n",
       "      <td>1</td>\n",
       "      <td>Iglesias alienta a Yolanda Díaz, ERC...</td>\n",
       "      <td>En política, igual que hay que negoc...</td>\n",
       "      <td>03/01/2022</td>\n",
       "    </tr>\n",
       "    <tr>\n",
       "      <th>4</th>\n",
       "      <td>ID</td>\n",
       "      <td>0</td>\n",
       "      <td>Puigdemont: 'No sería ninguna traged...</td>\n",
       "      <td>En una entrevista en El Punt Avui, e...</td>\n",
       "      <td>09/03/2018</td>\n",
       "    </tr>\n",
       "  </tbody>\n",
       "</table>\n",
       "</div>"
      ],
      "text/plain": [
       "   ID  Label                                   Titulo  \\\n",
       "0  ID      1  'The Guardian' va con Sánchez: 'Euro...   \n",
       "1  ID      0  REVELAN QUE EL GOBIERNO NEGOCIO LA L...   \n",
       "2  ID      1  El 'Ahora o nunca' de Joan Fuster so...   \n",
       "3  ID      1  Iglesias alienta a Yolanda Díaz, ERC...   \n",
       "4  ID      0  Puigdemont: 'No sería ninguna traged...   \n",
       "\n",
       "                               Descripcion       Fecha  \n",
       "0  El diario británico publicó este pas...  02/06/2023  \n",
       "1  REVELAN QUE EL GOBIERNO NEGOCIO LA L...  01/10/2023  \n",
       "2  El valencianismo convoca en Castelló...  25/04/2022  \n",
       "3  En política, igual que hay que negoc...  03/01/2022  \n",
       "4  En una entrevista en El Punt Avui, e...  09/03/2018  "
      ]
     },
     "execution_count": 5,
     "metadata": {},
     "output_type": "execute_result"
    }
   ],
   "source": [
    "df.head()"
   ]
  },
  {
   "cell_type": "markdown",
   "id": "c8bf35ed-f0c1-4aae-9f88-7940f125a82a",
   "metadata": {},
   "source": [
    "Al revisar la distribución de noticias catalogadas como falsas y no falsas notamos que este sigue una buena distribución, es decir, se tiene buena cantidad de ambas clases de noticias. Cerca del 60% de los registros son noticias falsas, mientras que aproximadamente el 40% de no lo son. "
   ]
  },
  {
   "cell_type": "code",
   "execution_count": 6,
   "id": "2a8c1518-9668-4f86-9042-469a4d6ef8bf",
   "metadata": {},
   "outputs": [
    {
     "data": {
      "text/plain": [
       "Label\n",
       "1    58.107706\n",
       "0    41.892294\n",
       "Name: count, dtype: float64"
      ]
     },
     "execution_count": 6,
     "metadata": {},
     "output_type": "execute_result"
    }
   ],
   "source": [
    "df[\"Label\"].value_counts() / df.shape[0] * 100"
   ]
  },
  {
   "cell_type": "markdown",
   "id": "3b68c989-0d64-4843-8085-64f71a6980dd",
   "metadata": {},
   "source": [
    "Esto se puede ver mejor en la siguiente gráfica."
   ]
  },
  {
   "cell_type": "code",
   "execution_count": 7,
   "id": "f3378874-0a03-4bf4-938b-ad0893040048",
   "metadata": {},
   "outputs": [
    {
     "data": {
      "image/png": "[encoded data removed]",
      "text/plain": [
       "<Figure size 400x400 with 1 Axes>"
      ]
     },
     "metadata": {},
     "output_type": "display_data"
    }
   ],
   "source": [
    "fig, axis = plt.subplots(1, figsize=(4,4), tight_layout=True)\n",
    "axis.hist(df[\"Label\"], bins=[-0.5, 0.5, 1.5], rwidth=0.6)\n",
    "axis.set_xticks([0, 1])\n",
    "plt.title('Distribución de las etiquetas')\n",
    "plt.show()"
   ]
  },
  {
   "cell_type": "markdown",
   "id": "523d091a-8837-4e0b-8feb-a9a0832b06ca",
   "metadata": {},
   "source": [
    "Luego, se calculan las siguientes columnas para intentar hallar una relación entre estos estadisticos y las noticias falsas."
   ]
  },
  {
   "cell_type": "code",
   "execution_count": 8,
   "id": "88848afc-0730-4179-96b5-2123a0276f7d",
   "metadata": {},
   "outputs": [
    {
     "data": {
      "text/html": [
       "<div>\n",
       "<style scoped>\n",
       "    .dataframe tbody tr th:only-of-type {\n",
       "        vertical-align: middle;\n",
       "    }\n",
       "\n",
       "    .dataframe tbody tr th {\n",
       "        vertical-align: top;\n",
       "    }\n",
       "\n",
       "    .dataframe thead th {\n",
       "        text-align: right;\n",
       "    }\n",
       "</style>\n",
       "<table border=\"1\" class=\"dataframe\">\n",
       "  <thead>\n",
       "    <tr style=\"text-align: right;\">\n",
       "      <th></th>\n",
       "      <th>ID</th>\n",
       "      <th>Label</th>\n",
       "      <th>Titulo</th>\n",
       "      <th>Descripcion</th>\n",
       "      <th>Fecha</th>\n",
       "      <th>Count</th>\n",
       "      <th>Max</th>\n",
       "      <th>Min</th>\n",
       "      <th>Mean</th>\n",
       "    </tr>\n",
       "  </thead>\n",
       "  <tbody>\n",
       "    <tr>\n",
       "      <th>0</th>\n",
       "      <td>ID</td>\n",
       "      <td>1</td>\n",
       "      <td>'The Guardian' va con Sánchez: 'Euro...</td>\n",
       "      <td>El diario británico publicó este pas...</td>\n",
       "      <td>02/06/2023</td>\n",
       "      <td>218</td>\n",
       "      <td>13</td>\n",
       "      <td>1</td>\n",
       "      <td>5.083333</td>\n",
       "    </tr>\n",
       "    <tr>\n",
       "      <th>1</th>\n",
       "      <td>ID</td>\n",
       "      <td>0</td>\n",
       "      <td>REVELAN QUE EL GOBIERNO NEGOCIO LA L...</td>\n",
       "      <td>REVELAN QUE EL GOBIERNO NEGOCIO LA L...</td>\n",
       "      <td>01/10/2023</td>\n",
       "      <td>3251</td>\n",
       "      <td>17</td>\n",
       "      <td>1</td>\n",
       "      <td>5.067164</td>\n",
       "    </tr>\n",
       "    <tr>\n",
       "      <th>2</th>\n",
       "      <td>ID</td>\n",
       "      <td>1</td>\n",
       "      <td>El 'Ahora o nunca' de Joan Fuster so...</td>\n",
       "      <td>El valencianismo convoca en Castelló...</td>\n",
       "      <td>25/04/2022</td>\n",
       "      <td>169</td>\n",
       "      <td>13</td>\n",
       "      <td>2</td>\n",
       "      <td>4.666667</td>\n",
       "    </tr>\n",
       "  </tbody>\n",
       "</table>\n",
       "</div>"
      ],
      "text/plain": [
       "   ID  Label                                   Titulo  \\\n",
       "0  ID      1  'The Guardian' va con Sánchez: 'Euro...   \n",
       "1  ID      0  REVELAN QUE EL GOBIERNO NEGOCIO LA L...   \n",
       "2  ID      1  El 'Ahora o nunca' de Joan Fuster so...   \n",
       "\n",
       "                               Descripcion       Fecha  Count  Max  Min  \\\n",
       "0  El diario británico publicó este pas...  02/06/2023    218   13    1   \n",
       "1  REVELAN QUE EL GOBIERNO NEGOCIO LA L...  01/10/2023   3251   17    1   \n",
       "2  El valencianismo convoca en Castelló...  25/04/2022    169   13    2   \n",
       "\n",
       "       Mean  \n",
       "0  5.083333  \n",
       "1  5.067164  \n",
       "2  4.666667  "
      ]
     },
     "execution_count": 8,
     "metadata": {},
     "output_type": "execute_result"
    }
   ],
   "source": [
    "copy = df.copy()\n",
    "\n",
    "copy[\"Count\"] = [len(text) for text in copy[\"Descripcion\"]] # Cantidad de caracteres en el registro\n",
    "copy[\"Max\"] = [max([len(word) for word in text.split(' ')]) for text in copy[\"Descripcion\"] ] # Longitud de la palabra mas larga en el registro\n",
    "copy[\"Min\"] = [min([len(word) for word in text.split(' ')]) for text in copy[\"Descripcion\"] ] # Longitud de la palabra mas corta en el registro\n",
    "copy[\"Mean\"] = [np.mean([len(word) for word in text.split(' ')]) for text in copy[\"Descripcion\"] ] # Promedio de longitud de la palabra en el registro\n",
    "\n",
    "copy.head(3)"
   ]
  },
  {
   "cell_type": "markdown",
   "id": "16198de4-0ff5-4baa-b4d4-be7670961208",
   "metadata": {},
   "source": [
    "Al realizar un análisis de los estadisticos de las noticias falsas y las que no lo son tal parece que no hay grandes diferencias entre una u otra. Por ejemplo, la media de caracteres en las noticias falsas difiere de tan solo 7 unidades de las noticias que no lo son, 240 y 247 respectivamente. Los otros estadisticos continuan con esta tendencia de similitud."
   ]
  },
  {
   "cell_type": "code",
   "execution_count": 9,
   "id": "b0c9af82-21b1-4a74-99e6-3b0fb06a70bc",
   "metadata": {},
   "outputs": [
    {
     "data": {
      "text/html": [
       "<div>\n",
       "<style scoped>\n",
       "    .dataframe tbody tr th:only-of-type {\n",
       "        vertical-align: middle;\n",
       "    }\n",
       "\n",
       "    .dataframe tbody tr th {\n",
       "        vertical-align: top;\n",
       "    }\n",
       "\n",
       "    .dataframe thead th {\n",
       "        text-align: right;\n",
       "    }\n",
       "</style>\n",
       "<table border=\"1\" class=\"dataframe\">\n",
       "  <thead>\n",
       "    <tr style=\"text-align: right;\">\n",
       "      <th></th>\n",
       "      <th>Count</th>\n",
       "      <th>Max</th>\n",
       "      <th>Min</th>\n",
       "    </tr>\n",
       "  </thead>\n",
       "  <tbody>\n",
       "    <tr>\n",
       "      <th>count</th>\n",
       "      <td>33158.000000</td>\n",
       "      <td>33158.000000</td>\n",
       "      <td>33158.000000</td>\n",
       "    </tr>\n",
       "    <tr>\n",
       "      <th>mean</th>\n",
       "      <td>240.385729</td>\n",
       "      <td>12.708245</td>\n",
       "      <td>1.171965</td>\n",
       "    </tr>\n",
       "    <tr>\n",
       "      <th>std</th>\n",
       "      <td>301.279710</td>\n",
       "      <td>2.102463</td>\n",
       "      <td>0.384403</td>\n",
       "    </tr>\n",
       "    <tr>\n",
       "      <th>min</th>\n",
       "      <td>33.000000</td>\n",
       "      <td>6.000000</td>\n",
       "      <td>0.000000</td>\n",
       "    </tr>\n",
       "    <tr>\n",
       "      <th>25%</th>\n",
       "      <td>169.000000</td>\n",
       "      <td>11.000000</td>\n",
       "      <td>1.000000</td>\n",
       "    </tr>\n",
       "    <tr>\n",
       "      <th>50%</th>\n",
       "      <td>218.000000</td>\n",
       "      <td>13.000000</td>\n",
       "      <td>1.000000</td>\n",
       "    </tr>\n",
       "    <tr>\n",
       "      <th>75%</th>\n",
       "      <td>257.000000</td>\n",
       "      <td>14.000000</td>\n",
       "      <td>1.000000</td>\n",
       "    </tr>\n",
       "    <tr>\n",
       "      <th>max</th>\n",
       "      <td>14019.000000</td>\n",
       "      <td>38.000000</td>\n",
       "      <td>3.000000</td>\n",
       "    </tr>\n",
       "  </tbody>\n",
       "</table>\n",
       "</div>"
      ],
      "text/plain": [
       "              Count           Max           Min\n",
       "count  33158.000000  33158.000000  33158.000000\n",
       "mean     240.385729     12.708245      1.171965\n",
       "std      301.279710      2.102463      0.384403\n",
       "min       33.000000      6.000000      0.000000\n",
       "25%      169.000000     11.000000      1.000000\n",
       "50%      218.000000     13.000000      1.000000\n",
       "75%      257.000000     14.000000      1.000000\n",
       "max    14019.000000     38.000000      3.000000"
      ]
     },
     "execution_count": 9,
     "metadata": {},
     "output_type": "execute_result"
    }
   ],
   "source": [
    "copy[copy[\"Label\"] == 1][[\"Count\", \"Max\", \"Min\"]].describe()"
   ]
  },
  {
   "cell_type": "code",
   "execution_count": 10,
   "id": "2e9d3975-c73c-4a77-b851-f28fe4714b4c",
   "metadata": {},
   "outputs": [
    {
     "data": {
      "text/html": [
       "<div>\n",
       "<style scoped>\n",
       "    .dataframe tbody tr th:only-of-type {\n",
       "        vertical-align: middle;\n",
       "    }\n",
       "\n",
       "    .dataframe tbody tr th {\n",
       "        vertical-align: top;\n",
       "    }\n",
       "\n",
       "    .dataframe thead th {\n",
       "        text-align: right;\n",
       "    }\n",
       "</style>\n",
       "<table border=\"1\" class=\"dataframe\">\n",
       "  <thead>\n",
       "    <tr style=\"text-align: right;\">\n",
       "      <th></th>\n",
       "      <th>Count</th>\n",
       "      <th>Max</th>\n",
       "      <th>Min</th>\n",
       "    </tr>\n",
       "  </thead>\n",
       "  <tbody>\n",
       "    <tr>\n",
       "      <th>count</th>\n",
       "      <td>23905.000000</td>\n",
       "      <td>23905.000000</td>\n",
       "      <td>23905.000000</td>\n",
       "    </tr>\n",
       "    <tr>\n",
       "      <th>mean</th>\n",
       "      <td>247.697260</td>\n",
       "      <td>12.717005</td>\n",
       "      <td>1.156662</td>\n",
       "    </tr>\n",
       "    <tr>\n",
       "      <th>std</th>\n",
       "      <td>228.702697</td>\n",
       "      <td>2.151326</td>\n",
       "      <td>0.383756</td>\n",
       "    </tr>\n",
       "    <tr>\n",
       "      <th>min</th>\n",
       "      <td>35.000000</td>\n",
       "      <td>6.000000</td>\n",
       "      <td>0.000000</td>\n",
       "    </tr>\n",
       "    <tr>\n",
       "      <th>25%</th>\n",
       "      <td>176.000000</td>\n",
       "      <td>11.000000</td>\n",
       "      <td>1.000000</td>\n",
       "    </tr>\n",
       "    <tr>\n",
       "      <th>50%</th>\n",
       "      <td>226.000000</td>\n",
       "      <td>13.000000</td>\n",
       "      <td>1.000000</td>\n",
       "    </tr>\n",
       "    <tr>\n",
       "      <th>75%</th>\n",
       "      <td>278.000000</td>\n",
       "      <td>14.000000</td>\n",
       "      <td>1.000000</td>\n",
       "    </tr>\n",
       "    <tr>\n",
       "      <th>max</th>\n",
       "      <td>13647.000000</td>\n",
       "      <td>69.000000</td>\n",
       "      <td>3.000000</td>\n",
       "    </tr>\n",
       "  </tbody>\n",
       "</table>\n",
       "</div>"
      ],
      "text/plain": [
       "              Count           Max           Min\n",
       "count  23905.000000  23905.000000  23905.000000\n",
       "mean     247.697260     12.717005      1.156662\n",
       "std      228.702697      2.151326      0.383756\n",
       "min       35.000000      6.000000      0.000000\n",
       "25%      176.000000     11.000000      1.000000\n",
       "50%      226.000000     13.000000      1.000000\n",
       "75%      278.000000     14.000000      1.000000\n",
       "max    13647.000000     69.000000      3.000000"
      ]
     },
     "execution_count": 10,
     "metadata": {},
     "output_type": "execute_result"
    }
   ],
   "source": [
    "copy[copy[\"Label\"] == 0][[\"Count\", \"Max\", \"Min\"]].describe()"
   ]
  },
  {
   "cell_type": "markdown",
   "id": "ed1639b4-8e58-4779-a157-46823c76607e",
   "metadata": {},
   "source": [
    "### 2.1 Calidad de datos"
   ]
  },
  {
   "cell_type": "markdown",
   "id": "5792c701-8a90-467f-8e61-76af53477234",
   "metadata": {},
   "source": [
    "En esta sección se hará un análisis de calidad de datos."
   ]
  },
  {
   "cell_type": "markdown",
   "id": "ab3e8fb0-9624-4008-97c1-83cc82e80fcd",
   "metadata": {},
   "source": [
    "### 2.1.1 Unicidad"
   ]
  },
  {
   "cell_type": "markdown",
   "id": "edda3e5f-97ee-4fef-9d70-20595d51787d",
   "metadata": {},
   "source": [
    "En esta parte se realiza la revisión de los duplicados y se soluciona de una vez. Se eliminan registros cuyas columnas son iguales. Además, es necesario mencionar que la columna ID solo contiene la cadena \"ID\". Por lo cual no es útil y se opta por eliminar esta columna."
   ]
  },
  {
   "cell_type": "code",
   "execution_count": 11,
   "id": "0aae065a-cded-40da-b469-5097f806d90c",
   "metadata": {},
   "outputs": [
    {
     "data": {
      "text/plain": [
       "(445, 5)"
      ]
     },
     "execution_count": 11,
     "metadata": {},
     "output_type": "execute_result"
    }
   ],
   "source": [
    "copy.drop('ID', axis=1, inplace=True)\n",
    "copy = df.copy()\n",
    "\n",
    "copy[copy.duplicated()].shape"
   ]
  },
  {
   "cell_type": "code",
   "execution_count": 12,
   "id": "da6474d3-0458-496d-bd21-00488fad7183",
   "metadata": {},
   "outputs": [
    {
     "data": {
      "text/html": [
       "<div>\n",
       "<style scoped>\n",
       "    .dataframe tbody tr th:only-of-type {\n",
       "        vertical-align: middle;\n",
       "    }\n",
       "\n",
       "    .dataframe tbody tr th {\n",
       "        vertical-align: top;\n",
       "    }\n",
       "\n",
       "    .dataframe thead th {\n",
       "        text-align: right;\n",
       "    }\n",
       "</style>\n",
       "<table border=\"1\" class=\"dataframe\">\n",
       "  <thead>\n",
       "    <tr style=\"text-align: right;\">\n",
       "      <th></th>\n",
       "      <th>ID</th>\n",
       "      <th>Label</th>\n",
       "      <th>Titulo</th>\n",
       "      <th>Descripcion</th>\n",
       "      <th>Fecha</th>\n",
       "    </tr>\n",
       "  </thead>\n",
       "  <tbody>\n",
       "    <tr>\n",
       "      <th>0</th>\n",
       "      <td>ID</td>\n",
       "      <td>1</td>\n",
       "      <td>'The Guardian' va con Sánchez: 'Euro...</td>\n",
       "      <td>El diario británico publicó este pas...</td>\n",
       "      <td>02/06/2023</td>\n",
       "    </tr>\n",
       "    <tr>\n",
       "      <th>1</th>\n",
       "      <td>ID</td>\n",
       "      <td>0</td>\n",
       "      <td>REVELAN QUE EL GOBIERNO NEGOCIO LA L...</td>\n",
       "      <td>REVELAN QUE EL GOBIERNO NEGOCIO LA L...</td>\n",
       "      <td>01/10/2023</td>\n",
       "    </tr>\n",
       "  </tbody>\n",
       "</table>\n",
       "</div>"
      ],
      "text/plain": [
       "   ID  Label                                   Titulo  \\\n",
       "0  ID      1  'The Guardian' va con Sánchez: 'Euro...   \n",
       "1  ID      0  REVELAN QUE EL GOBIERNO NEGOCIO LA L...   \n",
       "\n",
       "                               Descripcion       Fecha  \n",
       "0  El diario británico publicó este pas...  02/06/2023  \n",
       "1  REVELAN QUE EL GOBIERNO NEGOCIO LA L...  01/10/2023  "
      ]
     },
     "execution_count": 12,
     "metadata": {},
     "output_type": "execute_result"
    }
   ],
   "source": [
    "copy.drop_duplicates(keep='first', inplace=True)\n",
    "copy.head(2)"
   ]
  },
  {
   "cell_type": "markdown",
   "id": "0a27f836-81bf-46de-a51d-cfd105690a41",
   "metadata": {},
   "source": [
    "Al revisar los titulos y las descripciones duplicadas por separado obtenemos que hay cerca 5000 titulos duplicados y cerca de 7000 descripciones duplicadas. En los siguientes dos bloques de código se realiza un análisis de la distribución de las etiquetas, lo que nos lleva a concluir que las noticias duplicadas no tienden a ser mas falsas que las que no. Por otro lado, no es tan raro pensar en noticias con titulos duplicados, por tanto, se opta por dejar estas. Lo cual no lleva a centrar nuestra atención es las noticias con descripciones iguales. "
   ]
  },
  {
   "cell_type": "code",
   "execution_count": 13,
   "id": "885ad154-0dab-433f-952c-57196ccc2d4a",
   "metadata": {},
   "outputs": [
    {
     "data": {
      "text/plain": [
       "Label\n",
       "0    2596\n",
       "1    2417\n",
       "Name: count, dtype: int64"
      ]
     },
     "execution_count": 13,
     "metadata": {},
     "output_type": "execute_result"
    }
   ],
   "source": [
    "copy[copy.duplicated('Titulo')][\"Label\"].value_counts()"
   ]
  },
  {
   "cell_type": "code",
   "execution_count": 14,
   "id": "a9e40f82-ad72-43b0-9ce7-3c760b1d16c3",
   "metadata": {},
   "outputs": [
    {
     "data": {
      "text/plain": [
       "Label\n",
       "0    3603\n",
       "1    3377\n",
       "Name: count, dtype: int64"
      ]
     },
     "execution_count": 14,
     "metadata": {},
     "output_type": "execute_result"
    }
   ],
   "source": [
    "copy[copy.duplicated('Descripcion')][\"Label\"].value_counts()"
   ]
  },
  {
   "cell_type": "markdown",
   "id": "e34cd845-5665-42a9-9e67-6bb6e11d2f38",
   "metadata": {},
   "source": [
    "En cuanto a las noticias con descripciones duplicadas se opta por eliminarlas del dataset para que las palabras en esas descripciones no tengan mas peso que las demás y de esta manera no se genere sesgo en el modelo."
   ]
  },
  {
   "cell_type": "code",
   "execution_count": 15,
   "id": "4a0fbf33-625b-487a-9885-45a48caa422d",
   "metadata": {},
   "outputs": [
    {
     "data": {
      "text/plain": [
       "(49638, 5)"
      ]
     },
     "execution_count": 15,
     "metadata": {},
     "output_type": "execute_result"
    }
   ],
   "source": [
    "copy.drop_duplicates('Descripcion', keep='first', inplace=True)\n",
    "copy.shape"
   ]
  },
  {
   "cell_type": "markdown",
   "id": "f8b7213c-979d-4222-8d6f-a9ab02b923b0",
   "metadata": {},
   "source": [
    "### 2.1.2 Completitud"
   ]
  },
  {
   "cell_type": "markdown",
   "id": "3804b29a-7249-4d35-bcee-1e5cc76de86b",
   "metadata": {},
   "source": [
    "En esta parte se realiza el análisis de completitud, en el cual se nota que hay algunos titulos que estan en NaN. Por lo tanto, es opta por agregar a estos 16 registros la primera oración de la descripción, hasta donde haya un punto."
   ]
  },
  {
   "cell_type": "code",
   "execution_count": 16,
   "id": "0821a4ea-5d18-48fb-9262-5f7b291c5e60",
   "metadata": {},
   "outputs": [
    {
     "data": {
      "text/plain": [
       "ID              0\n",
       "Label           0\n",
       "Titulo         16\n",
       "Descripcion     0\n",
       "Fecha           0\n",
       "dtype: int64"
      ]
     },
     "execution_count": 16,
     "metadata": {},
     "output_type": "execute_result"
    }
   ],
   "source": [
    "copy.isna().sum()"
   ]
  },
  {
   "cell_type": "code",
   "execution_count": 17,
   "id": "3287e5ba-87ff-4eaa-9dea-e449ea78e08a",
   "metadata": {},
   "outputs": [
    {
     "data": {
      "text/plain": [
       "ID             0\n",
       "Label          0\n",
       "Titulo         0\n",
       "Descripcion    0\n",
       "Fecha          0\n",
       "dtype: int64"
      ]
     },
     "execution_count": 17,
     "metadata": {},
     "output_type": "execute_result"
    }
   ],
   "source": [
    "# solución de la completitud\n",
    "copy \\\n",
    "    .loc[copy[\"Titulo\"].isna(), \"Titulo\"] = copy[\"Descripcion\"] \\\n",
    "    .apply(lambda t: t.strip().split(\".\")[0] if isinstance(t, str) else t)\n",
    "\n",
    "copy.isna().sum()"
   ]
  },
  {
   "cell_type": "markdown",
   "id": "e8abe0c2-1b88-4f7f-9635-1b1245a4d7ab",
   "metadata": {},
   "source": [
    "### 2.1.3 Validez"
   ]
  },
  {
   "cell_type": "markdown",
   "id": "c548d24d-855e-441d-a49c-0d45d77c3862",
   "metadata": {},
   "source": [
    "En la siguiente linea de código se hace la conversión de la columna fecha a una fecha a un tipo de dato. Luego de esto, se revisa si hay valores nulos, puesto que si hay una fecha en un formato que no es apropiado se marca como `NaT`. Como se puede ver no hay fechas con formatos que no correspondan debido a lo anteriormente mencionado."
   ]
  },
  {
   "cell_type": "code",
   "execution_count": 18,
   "id": "de77d765-5b00-44b7-9cfe-c2531efc21fd",
   "metadata": {},
   "outputs": [
    {
     "data": {
      "text/plain": [
       "ID               0\n",
       "Label            0\n",
       "Titulo           0\n",
       "Descripcion      0\n",
       "Fecha            0\n",
       "formated_date    0\n",
       "dtype: int64"
      ]
     },
     "execution_count": 18,
     "metadata": {},
     "output_type": "execute_result"
    }
   ],
   "source": [
    "copy[\"formated_date\"] = pd.to_datetime(copy[\"Fecha\"], format=\"%d/%m/%Y\", errors=\"coerce\")\n",
    "\n",
    "copy.isna().sum()"
   ]
  },
  {
   "cell_type": "markdown",
   "id": "aa77d002-cf5e-4608-b74f-dde0a6f95253",
   "metadata": {},
   "source": [
    "En la columna Label solo debe haber `0` o `1`, esto se verifica en la siguiente celda."
   ]
  },
  {
   "cell_type": "code",
   "execution_count": 19,
   "id": "d99aa975-550d-45a2-a5f3-ee0e960f5cad",
   "metadata": {},
   "outputs": [
    {
     "data": {
      "text/plain": [
       "Label\n",
       "1    29361\n",
       "0    20277\n",
       "Name: count, dtype: int64"
      ]
     },
     "execution_count": 19,
     "metadata": {},
     "output_type": "execute_result"
    }
   ],
   "source": [
    "copy[\"Label\"].value_counts()"
   ]
  },
  {
   "cell_type": "markdown",
   "id": "789639ce-2be2-4e89-89b0-72b5d3104626",
   "metadata": {},
   "source": [
    "Se realiza un análisis de todos los titulos para comprobar si una de las palabras mas usadas en ingles se incluye en el titulo. Al realizar la transformación se obtiene que hay 37 registros con esta palabra y al revisar mas detalladamente se llega a la conclusión de que las noticias pueden tener palabras en ingles, pero en su totalidad el dataset no tiene la palabra en ingles \"The\", indicando la posibilidad de que este sea completamente en español. Nos quedaremos con este supuesto por facilidad. "
   ]
  },
  {
   "cell_type": "code",
   "execution_count": 20,
   "id": "464c078b-815f-4cf7-849e-5017e7b7a0b1",
   "metadata": {},
   "outputs": [],
   "source": [
    "def detectar_idioma(texto):\n",
    "    words = [\"The\", \"The \", \" the \"]\n",
    "    for word in words:\n",
    "        if word in texto:\n",
    "            return \"unk\"\n",
    "    return \"es\"\n",
    "\n",
    "copy[\"Idioma\"] = copy[\"Titulo\"].apply(detectar_idioma)"
   ]
  },
  {
   "cell_type": "code",
   "execution_count": 21,
   "id": "fd7f2168-469b-48ff-835e-e0c795b3a99c",
   "metadata": {},
   "outputs": [
    {
     "name": "stdout",
     "output_type": "stream",
     "text": [
      "Idioma\n",
      "es     49601\n",
      "unk       37\n",
      "Name: count, dtype: int64\n"
     ]
    }
   ],
   "source": [
    "print(copy[\"Idioma\"].value_counts())"
   ]
  },
  {
   "cell_type": "markdown",
   "id": "55c2d743-761b-4eaa-a219-caf9878bfa8b",
   "metadata": {},
   "source": [
    "En la siguiente linea se revisan aquellas filas que estan marcadas con `unk`, al revisar rapidamente los titulos y las descripciones notamos que estas estan en español solo que incluyen, por ejemplo, nombres de peliculas. Para no hacer el cuaderno mas grande optamos por tomar solo los primeros 5 registros de los 37 que mencionamos. "
   ]
  },
  {
   "cell_type": "code",
   "execution_count": 22,
   "id": "d5999355-5a04-45bd-8d40-b4878b395692",
   "metadata": {},
   "outputs": [
    {
     "data": {
      "text/html": [
       "<div>\n",
       "<style scoped>\n",
       "    .dataframe tbody tr th:only-of-type {\n",
       "        vertical-align: middle;\n",
       "    }\n",
       "\n",
       "    .dataframe tbody tr th {\n",
       "        vertical-align: top;\n",
       "    }\n",
       "\n",
       "    .dataframe thead th {\n",
       "        text-align: right;\n",
       "    }\n",
       "</style>\n",
       "<table border=\"1\" class=\"dataframe\">\n",
       "  <thead>\n",
       "    <tr style=\"text-align: right;\">\n",
       "      <th></th>\n",
       "      <th>ID</th>\n",
       "      <th>Label</th>\n",
       "      <th>Titulo</th>\n",
       "      <th>Descripcion</th>\n",
       "      <th>Fecha</th>\n",
       "      <th>formated_date</th>\n",
       "      <th>Idioma</th>\n",
       "    </tr>\n",
       "  </thead>\n",
       "  <tbody>\n",
       "    <tr>\n",
       "      <th>0</th>\n",
       "      <td>ID</td>\n",
       "      <td>1</td>\n",
       "      <td>'The Guardian' va con Sánchez: 'Euro...</td>\n",
       "      <td>El diario británico publicó este pas...</td>\n",
       "      <td>02/06/2023</td>\n",
       "      <td>2023-06-02</td>\n",
       "      <td>unk</td>\n",
       "    </tr>\n",
       "    <tr>\n",
       "      <th>308</th>\n",
       "      <td>ID</td>\n",
       "      <td>1</td>\n",
       "      <td>La Guardia Civil incluye un 'off the...</td>\n",
       "      <td>El instituto armado se hace eco de l...</td>\n",
       "      <td>04/06/2020</td>\n",
       "      <td>2020-06-04</td>\n",
       "      <td>unk</td>\n",
       "    </tr>\n",
       "    <tr>\n",
       "      <th>1752</th>\n",
       "      <td>ID</td>\n",
       "      <td>1</td>\n",
       "      <td>Yolanda Díaz 'on the highway'</td>\n",
       "      <td>Bien podría ser una metáfora, bien p...</td>\n",
       "      <td>23/07/2022</td>\n",
       "      <td>2022-07-23</td>\n",
       "      <td>unk</td>\n",
       "    </tr>\n",
       "    <tr>\n",
       "      <th>3038</th>\n",
       "      <td>ID</td>\n",
       "      <td>1</td>\n",
       "      <td>'The New York Times' da voz a quiene...</td>\n",
       "      <td>Un reportaje refleja el descontento ...</td>\n",
       "      <td>08/04/2019</td>\n",
       "      <td>2019-04-08</td>\n",
       "      <td>unk</td>\n",
       "    </tr>\n",
       "    <tr>\n",
       "      <th>4281</th>\n",
       "      <td>ID</td>\n",
       "      <td>1</td>\n",
       "      <td>La revista 'The Lancet' señala que l...</td>\n",
       "      <td>El editorial de la prestigiosa revis...</td>\n",
       "      <td>17/10/2020</td>\n",
       "      <td>2020-10-17</td>\n",
       "      <td>unk</td>\n",
       "    </tr>\n",
       "  </tbody>\n",
       "</table>\n",
       "</div>"
      ],
      "text/plain": [
       "      ID  Label                                   Titulo  \\\n",
       "0     ID      1  'The Guardian' va con Sánchez: 'Euro...   \n",
       "308   ID      1  La Guardia Civil incluye un 'off the...   \n",
       "1752  ID      1            Yolanda Díaz 'on the highway'   \n",
       "3038  ID      1  'The New York Times' da voz a quiene...   \n",
       "4281  ID      1  La revista 'The Lancet' señala que l...   \n",
       "\n",
       "                                  Descripcion       Fecha formated_date Idioma  \n",
       "0     El diario británico publicó este pas...  02/06/2023    2023-06-02    unk  \n",
       "308   El instituto armado se hace eco de l...  04/06/2020    2020-06-04    unk  \n",
       "1752  Bien podría ser una metáfora, bien p...  23/07/2022    2022-07-23    unk  \n",
       "3038  Un reportaje refleja el descontento ...  08/04/2019    2019-04-08    unk  \n",
       "4281  El editorial de la prestigiosa revis...  17/10/2020    2020-10-17    unk  "
      ]
     },
     "execution_count": 22,
     "metadata": {},
     "output_type": "execute_result"
    }
   ],
   "source": [
    "copy[copy[\"Idioma\"] == 'unk'].head(5)"
   ]
  },
  {
   "cell_type": "code",
   "execution_count": 23,
   "id": "2b8c2b21-9a9b-461b-9cd5-64d68aec0ef5",
   "metadata": {},
   "outputs": [
    {
     "data": {
      "text/plain": [
       "Index(['ID', 'Label', 'Titulo', 'Descripcion', 'formated_date'], dtype='object')"
      ]
     },
     "execution_count": 23,
     "metadata": {},
     "output_type": "execute_result"
    }
   ],
   "source": [
    "copy.drop(['Idioma', 'Fecha'], axis=1, inplace=True)\n",
    "copy.columns"
   ]
  },
  {
   "cell_type": "markdown",
   "id": "be134b9d-841a-4a72-80f1-5cd3f8c68ac1",
   "metadata": {},
   "source": [
    "### 2.1.4 Consistencia"
   ]
  },
  {
   "cell_type": "markdown",
   "id": "8c9b8a78-baa5-4f27-98a8-f9e8ad50a2ab",
   "metadata": {},
   "source": [
    "Se debe verificar que no tengamos noticias mayores al año 2026. Adicionalmente revisamos las fechas de las noticias, para saber si cumplen con los estandares planteados anteriormente en el diccionario."
   ]
  },
  {
   "cell_type": "code",
   "execution_count": 24,
   "id": "2d3afd29-151e-471a-b405-de63da4a1b83",
   "metadata": {},
   "outputs": [
    {
     "data": {
      "text/plain": [
       "(0, 5)"
      ]
     },
     "execution_count": 24,
     "metadata": {},
     "output_type": "execute_result"
    }
   ],
   "source": [
    "today = datetime.today()\n",
    "copy[copy[\"formated_date\"] > today].shape"
   ]
  },
  {
   "cell_type": "code",
   "execution_count": 25,
   "id": "78f3549e-3d55-4bcb-b144-a4a19f535264",
   "metadata": {},
   "outputs": [
    {
     "data": {
      "text/html": [
       "<div>\n",
       "<style scoped>\n",
       "    .dataframe tbody tr th:only-of-type {\n",
       "        vertical-align: middle;\n",
       "    }\n",
       "\n",
       "    .dataframe tbody tr th {\n",
       "        vertical-align: top;\n",
       "    }\n",
       "\n",
       "    .dataframe thead th {\n",
       "        text-align: right;\n",
       "    }\n",
       "</style>\n",
       "<table border=\"1\" class=\"dataframe\">\n",
       "  <thead>\n",
       "    <tr style=\"text-align: right;\">\n",
       "      <th></th>\n",
       "      <th>ID</th>\n",
       "      <th>Label</th>\n",
       "      <th>Titulo</th>\n",
       "      <th>Descripcion</th>\n",
       "      <th>formated_date</th>\n",
       "      <th>Año</th>\n",
       "    </tr>\n",
       "  </thead>\n",
       "  <tbody>\n",
       "    <tr>\n",
       "      <th>0</th>\n",
       "      <td>ID</td>\n",
       "      <td>1</td>\n",
       "      <td>'The Guardian' va con Sánchez: 'Euro...</td>\n",
       "      <td>El diario británico publicó este pas...</td>\n",
       "      <td>2023-06-02</td>\n",
       "      <td>2023</td>\n",
       "    </tr>\n",
       "    <tr>\n",
       "      <th>1</th>\n",
       "      <td>ID</td>\n",
       "      <td>0</td>\n",
       "      <td>REVELAN QUE EL GOBIERNO NEGOCIO LA L...</td>\n",
       "      <td>REVELAN QUE EL GOBIERNO NEGOCIO LA L...</td>\n",
       "      <td>2023-10-01</td>\n",
       "      <td>2023</td>\n",
       "    </tr>\n",
       "    <tr>\n",
       "      <th>2</th>\n",
       "      <td>ID</td>\n",
       "      <td>1</td>\n",
       "      <td>El 'Ahora o nunca' de Joan Fuster so...</td>\n",
       "      <td>El valencianismo convoca en Castelló...</td>\n",
       "      <td>2022-04-25</td>\n",
       "      <td>2022</td>\n",
       "    </tr>\n",
       "  </tbody>\n",
       "</table>\n",
       "</div>"
      ],
      "text/plain": [
       "   ID  Label                                   Titulo  \\\n",
       "0  ID      1  'The Guardian' va con Sánchez: 'Euro...   \n",
       "1  ID      0  REVELAN QUE EL GOBIERNO NEGOCIO LA L...   \n",
       "2  ID      1  El 'Ahora o nunca' de Joan Fuster so...   \n",
       "\n",
       "                               Descripcion formated_date   Año  \n",
       "0  El diario británico publicó este pas...    2023-06-02  2023  \n",
       "1  REVELAN QUE EL GOBIERNO NEGOCIO LA L...    2023-10-01  2023  \n",
       "2  El valencianismo convoca en Castelló...    2022-04-25  2022  "
      ]
     },
     "execution_count": 25,
     "metadata": {},
     "output_type": "execute_result"
    }
   ],
   "source": [
    "copy['Año'] = copy['formated_date'].dt.year\n",
    "\n",
    "copy.head(3)"
   ]
  },
  {
   "cell_type": "markdown",
   "id": "a5d62229-4696-4b8a-94bf-76d5c01fe5d4",
   "metadata": {},
   "source": [
    "En el siguiente codigo se verifica si para una misma descripción se cuentan con mas de dos labels diferentes, esto para evitar inconsistencias.  "
   ]
  },
  {
   "cell_type": "code",
   "execution_count": 26,
   "id": "54e4057d-7d36-4016-a77e-78bc87730275",
   "metadata": {},
   "outputs": [
    {
     "name": "stdout",
     "output_type": "stream",
     "text": [
      "Series([], Name: Label, dtype: int64)\n"
     ]
    }
   ],
   "source": [
    "label_conflicto = copy.groupby(\"Descripcion\")[\"Label\"].nunique()\n",
    "print(label_conflicto[label_conflicto > 1])"
   ]
  },
  {
   "cell_type": "markdown",
   "id": "1879575f-489a-4f6f-962b-1ea945a294e1",
   "metadata": {},
   "source": [
    "# 3. Preparación de datos\n",
    "\n",
    "En esta fase se hará un proceso de tres etapas:\n",
    "\n",
    "1. Limpieza de datos\n",
    "2. Tokenización\n",
    "3. Normalización"
   ]
  },
  {
   "cell_type": "markdown",
   "id": "60d3f6bf-5efa-43dd-a463-f1fc05ec8024",
   "metadata": {},
   "source": [
    "Antes de realizar todo esto se opta por rechazar la columna de la fecha en la que fue publicada la noticia. Esto debido a que al usar la fecha para predecir si una noticia es falsa es una mala idea porque no tiene una relación causal con la veracidad y puede generar sobreajuste si el modelo aprende patrones específicos de ciertos períodos de tiempo. Además, introduce un sesgo temporal, ya que eventos como elecciones o crisis pueden afectar la cantidad de noticias falsas, haciendo que el modelo no generalice bien a datos futuros. También, la fecha por sí sola no aporta información semántica relevante sobre la credibilidad del contenido, por lo que es mejor enfocarse en características como el título, la descripción y el cuerpo de la noticia."
   ]
  },
  {
   "cell_type": "markdown",
   "id": "d1ccb9c3-060d-417e-8f0e-a0a5ed8177bb",
   "metadata": {},
   "source": [
    "## 3.1 Limpieza de datos"
   ]
  },
  {
   "cell_type": "markdown",
   "id": "50d3ad59-ad14-4247-b205-5391a6f86d86",
   "metadata": {},
   "source": [
    "Se completan las siguientes funciones para eliminar los caracteres no ASCII, convertir en minuscula los textos, eliminar la puntuación, reemplazar los números y eliminar los stopwords. Esto se unifica en la función `preprocessing`."
   ]
  },
  {
   "cell_type": "code",
   "execution_count": 27,
   "id": "ef1a3185-9662-4dec-bab4-e149bb093f6d",
   "metadata": {},
   "outputs": [],
   "source": [
    "def remove_non_ascii(words):\n",
    "    \"\"\"Remove non-ASCII characters from list of tokenized words\"\"\"\n",
    "    new_words = []\n",
    "    for word in words:\n",
    "        if word is not None:\n",
    "          new_word = unicodedata.normalize('NFKD', word).encode('ascii', 'ignore').decode('utf-8', 'ignore')\n",
    "          new_words.append(new_word)\n",
    "    return new_words\n",
    "\n",
    "def to_lowercase(words):\n",
    "    \"\"\"Convert all characters to lowercase from list of tokenized words\"\"\"\n",
    "    return [word.lower() for word in words]\n",
    "\n",
    "def remove_punctuation(words):\n",
    "    \"\"\"Remove punctuation from list of tokenized words\"\"\"\n",
    "    new_words = []\n",
    "    for word in words:\n",
    "        if word is not None:\n",
    "            new_word = re.sub(r'[^\\w\\s]', '', word)\n",
    "            if new_word != '':\n",
    "                new_words.append(new_word)\n",
    "    return new_words\n",
    "\n",
    "def replace_numbers(words):\n",
    "   \"\"\"Replace all interger occurrences in list of tokenized words with textual representation\"\"\"\n",
    "   p = inflect.engine()\n",
    "   new_words = []\n",
    "   for word in words:\n",
    "       if word.isdigit():\n",
    "           new_word = p.number_to_words(word)\n",
    "           new_words.append(new_word)\n",
    "           #print(\"if \" + new_word)\n",
    "       else:\n",
    "           new_words.append(word)\n",
    "   return new_words\n",
    "\n",
    "def remove_stopwords(words):\n",
    "    \"\"\"Remove stop words from list of tokenized words\"\"\"\n",
    "    stop_words = set(stopwords.words('spanish'))  # Cargar stopwords en español\n",
    "    return [word for word in words if word not in stop_words]\n",
    "\n",
    "def preprocessing(words):\n",
    "    words = to_lowercase(words)\n",
    "    words = replace_numbers(words)\n",
    "    words = remove_punctuation(words)\n",
    "    words = remove_non_ascii(words)\n",
    "    words = remove_stopwords(words)\n",
    "    return words"
   ]
  },
  {
   "cell_type": "markdown",
   "id": "626d65ab-08f5-49d3-9567-2a50b298a9eb",
   "metadata": {},
   "source": [
    "## 3.2 Tokenización"
   ]
  },
  {
   "cell_type": "markdown",
   "id": "518c96d4-c494-431c-a9fc-574ef413e52d",
   "metadata": {},
   "source": [
    "Primero que todo se expanden las constracciones, lo cual solo requiere expandir \"al\" y \"del\" debido a que son las contracciones mas comunes en español."
   ]
  },
  {
   "cell_type": "code",
   "execution_count": 28,
   "id": "b46e3fb0-0aa9-4239-8ddc-d4b90a135c46",
   "metadata": {},
   "outputs": [
    {
     "data": {
      "text/html": [
       "<div>\n",
       "<style scoped>\n",
       "    .dataframe tbody tr th:only-of-type {\n",
       "        vertical-align: middle;\n",
       "    }\n",
       "\n",
       "    .dataframe tbody tr th {\n",
       "        vertical-align: top;\n",
       "    }\n",
       "\n",
       "    .dataframe thead th {\n",
       "        text-align: right;\n",
       "    }\n",
       "</style>\n",
       "<table border=\"1\" class=\"dataframe\">\n",
       "  <thead>\n",
       "    <tr style=\"text-align: right;\">\n",
       "      <th></th>\n",
       "      <th>Descripcion</th>\n",
       "      <th>Titulo</th>\n",
       "    </tr>\n",
       "  </thead>\n",
       "  <tbody>\n",
       "    <tr>\n",
       "      <th>0</th>\n",
       "      <td>El diario británico publicó este pas...</td>\n",
       "      <td>'The Guardian' va con Sánchez: 'Euro...</td>\n",
       "    </tr>\n",
       "    <tr>\n",
       "      <th>1</th>\n",
       "      <td>REVELAN QUE EL GOBIERNO NEGOCIO LA L...</td>\n",
       "      <td>REVELAN QUE EL GOBIERNO NEGOCIO LA L...</td>\n",
       "    </tr>\n",
       "  </tbody>\n",
       "</table>\n",
       "</div>"
      ],
      "text/plain": [
       "                               Descripcion  \\\n",
       "0  El diario británico publicó este pas...   \n",
       "1  REVELAN QUE EL GOBIERNO NEGOCIO LA L...   \n",
       "\n",
       "                                    Titulo  \n",
       "0  'The Guardian' va con Sánchez: 'Euro...  \n",
       "1  REVELAN QUE EL GOBIERNO NEGOCIO LA L...  "
      ]
     },
     "execution_count": 28,
     "metadata": {},
     "output_type": "execute_result"
    }
   ],
   "source": [
    "def expand_spanish_contractions(text):\n",
    "    text = text.replace(\"al\", \"a el\")\n",
    "    return text.replace(\"del\" ,\"de el\")\n",
    "\n",
    "copy['Descripcion'] = copy['Descripcion'].apply(expand_spanish_contractions)\n",
    "copy['Titulo'] = copy['Titulo'].apply(expand_spanish_contractions)\n",
    "\n",
    "copy[['Descripcion', 'Titulo']].head(2)"
   ]
  },
  {
   "cell_type": "markdown",
   "id": "e7c6c3d4-3f1f-4f23-9dca-7891378602e6",
   "metadata": {},
   "source": [
    "Ahora, se aplica la tokenización de las columnas Descripcion y Titulo. "
   ]
  },
  {
   "cell_type": "code",
   "execution_count": 29,
   "id": "d23035a5-fa6f-4bfe-b8a1-7f8659c31c4b",
   "metadata": {},
   "outputs": [
    {
     "data": {
      "text/html": [
       "<div>\n",
       "<style scoped>\n",
       "    .dataframe tbody tr th:only-of-type {\n",
       "        vertical-align: middle;\n",
       "    }\n",
       "\n",
       "    .dataframe tbody tr th {\n",
       "        vertical-align: top;\n",
       "    }\n",
       "\n",
       "    .dataframe thead th {\n",
       "        text-align: right;\n",
       "    }\n",
       "</style>\n",
       "<table border=\"1\" class=\"dataframe\">\n",
       "  <thead>\n",
       "    <tr style=\"text-align: right;\">\n",
       "      <th></th>\n",
       "      <th>tokenized_desc</th>\n",
       "      <th>tokenized_titl</th>\n",
       "    </tr>\n",
       "  </thead>\n",
       "  <tbody>\n",
       "    <tr>\n",
       "      <th>0</th>\n",
       "      <td>[El, diario, británico, publicó, est...</td>\n",
       "      <td>['The, Guardian, ', va, con, Sánchez...</td>\n",
       "    </tr>\n",
       "    <tr>\n",
       "      <th>1</th>\n",
       "      <td>[REVELAN, QUE, EL, GOBIERNO, NEGOCIO...</td>\n",
       "      <td>[REVELAN, QUE, EL, GOBIERNO, NEGOCIO...</td>\n",
       "    </tr>\n",
       "    <tr>\n",
       "      <th>2</th>\n",
       "      <td>[El, va, elencianismo, convoca, en, ...</td>\n",
       "      <td>[El, 'Ahora, o, nunca, ', de, Joan, ...</td>\n",
       "    </tr>\n",
       "  </tbody>\n",
       "</table>\n",
       "</div>"
      ],
      "text/plain": [
       "                            tokenized_desc  \\\n",
       "0  [El, diario, británico, publicó, est...   \n",
       "1  [REVELAN, QUE, EL, GOBIERNO, NEGOCIO...   \n",
       "2  [El, va, elencianismo, convoca, en, ...   \n",
       "\n",
       "                            tokenized_titl  \n",
       "0  ['The, Guardian, ', va, con, Sánchez...  \n",
       "1  [REVELAN, QUE, EL, GOBIERNO, NEGOCIO...  \n",
       "2  [El, 'Ahora, o, nunca, ', de, Joan, ...  "
      ]
     },
     "execution_count": 29,
     "metadata": {},
     "output_type": "execute_result"
    }
   ],
   "source": [
    "copy['tokenized_desc'] = copy['Descripcion'].apply(word_tokenize)\n",
    "copy['tokenized_titl'] = copy['Titulo'].apply(word_tokenize)\n",
    "\n",
    "copy[['tokenized_desc', 'tokenized_titl']].head(3)"
   ]
  },
  {
   "cell_type": "markdown",
   "id": "38d605c1-282a-4151-bfac-b61112f38b13",
   "metadata": {},
   "source": [
    "Una vez se realiza la tokenización se aplica el preprocesamiento antes mencionado."
   ]
  },
  {
   "cell_type": "code",
   "execution_count": 30,
   "id": "a8bc8d63-1324-40ec-a799-bc009e1b425b",
   "metadata": {},
   "outputs": [
    {
     "data": {
      "text/html": [
       "<div>\n",
       "<style scoped>\n",
       "    .dataframe tbody tr th:only-of-type {\n",
       "        vertical-align: middle;\n",
       "    }\n",
       "\n",
       "    .dataframe tbody tr th {\n",
       "        vertical-align: top;\n",
       "    }\n",
       "\n",
       "    .dataframe thead th {\n",
       "        text-align: right;\n",
       "    }\n",
       "</style>\n",
       "<table border=\"1\" class=\"dataframe\">\n",
       "  <thead>\n",
       "    <tr style=\"text-align: right;\">\n",
       "      <th></th>\n",
       "      <th>Descripcion</th>\n",
       "      <th>tokenized_desc</th>\n",
       "      <th>Titulo</th>\n",
       "      <th>tokenized_titl</th>\n",
       "    </tr>\n",
       "  </thead>\n",
       "  <tbody>\n",
       "    <tr>\n",
       "      <th>0</th>\n",
       "      <td>El diario británico publicó este pas...</td>\n",
       "      <td>[diario, britanico, publico, pasado,...</td>\n",
       "      <td>'The Guardian' va con Sánchez: 'Euro...</td>\n",
       "      <td>[the, guardian, va, sanchez, europa,...</td>\n",
       "    </tr>\n",
       "    <tr>\n",
       "      <th>1</th>\n",
       "      <td>REVELAN QUE EL GOBIERNO NEGOCIO LA L...</td>\n",
       "      <td>[revelan, gobierno, negocio, liberac...</td>\n",
       "      <td>REVELAN QUE EL GOBIERNO NEGOCIO LA L...</td>\n",
       "      <td>[revelan, gobierno, negocio, liberac...</td>\n",
       "    </tr>\n",
       "    <tr>\n",
       "      <th>2</th>\n",
       "      <td>El va elencianismo convoca en Castel...</td>\n",
       "      <td>[va, elencianismo, convoca, castello...</td>\n",
       "      <td>El 'Ahora o nunca' de Joan Fuster so...</td>\n",
       "      <td>[ahora, nunca, joan, fuster, estatut...</td>\n",
       "    </tr>\n",
       "  </tbody>\n",
       "</table>\n",
       "</div>"
      ],
      "text/plain": [
       "                               Descripcion  \\\n",
       "0  El diario británico publicó este pas...   \n",
       "1  REVELAN QUE EL GOBIERNO NEGOCIO LA L...   \n",
       "2  El va elencianismo convoca en Castel...   \n",
       "\n",
       "                            tokenized_desc  \\\n",
       "0  [diario, britanico, publico, pasado,...   \n",
       "1  [revelan, gobierno, negocio, liberac...   \n",
       "2  [va, elencianismo, convoca, castello...   \n",
       "\n",
       "                                    Titulo  \\\n",
       "0  'The Guardian' va con Sánchez: 'Euro...   \n",
       "1  REVELAN QUE EL GOBIERNO NEGOCIO LA L...   \n",
       "2  El 'Ahora o nunca' de Joan Fuster so...   \n",
       "\n",
       "                            tokenized_titl  \n",
       "0  [the, guardian, va, sanchez, europa,...  \n",
       "1  [revelan, gobierno, negocio, liberac...  \n",
       "2  [ahora, nunca, joan, fuster, estatut...  "
      ]
     },
     "execution_count": 30,
     "metadata": {},
     "output_type": "execute_result"
    }
   ],
   "source": [
    "copy['tokenized_desc'] = copy['tokenized_desc'].apply(preprocessing)\n",
    "copy['tokenized_titl'] = copy['tokenized_titl'].apply(preprocessing)\n",
    "\n",
    "copy[['Descripcion', 'tokenized_desc', 'Titulo', 'tokenized_titl']].head(3)"
   ]
  },
  {
   "cell_type": "markdown",
   "id": "7aba810d-d451-4939-843c-d69c53ac20ce",
   "metadata": {},
   "source": [
    "## 3.3 Normalización"
   ]
  },
  {
   "cell_type": "markdown",
   "id": "7a048bcb-2906-4332-a10b-a7411dedfb7b",
   "metadata": {},
   "source": [
    "En la siguiente celda de código se realiza la normalización de las palabras utilizando `LancasterStemmer()` y `WordNetLemmatizer()`. Esto para aplicar la lematización y la eliminación de prefijos y sufijos."
   ]
  },
  {
   "cell_type": "code",
   "execution_count": 31,
   "id": "c5e93f63-a1b1-4494-ab1f-37f56398f617",
   "metadata": {},
   "outputs": [],
   "source": [
    "stemmer = LancasterStemmer()\n",
    "lemmatizer = WordNetLemmatizer()\n",
    "\n",
    "def stem_words(words):\n",
    "    \"\"\"Stem words in list of tokenized words\"\"\"\n",
    "    return [stemmer.stem(word) for word in words]\n",
    "\n",
    "def lemmatize_verbs(words):\n",
    "    \"\"\"Lemmatize verbs in list of tokenized words\"\"\"\n",
    "    return [lemmatizer.lemmatize(word, pos='v') for word in words]\n",
    "\n",
    "def stem_and_lemmatize(words):\n",
    "    stems = stem_words(words)\n",
    "    lemmas = lemmatize_verbs(words)\n",
    "    return stems + lemmas"
   ]
  },
  {
   "cell_type": "code",
   "execution_count": 32,
   "id": "f7b35716-72b0-4fde-bc57-4825c8b962ea",
   "metadata": {},
   "outputs": [],
   "source": [
    "copy['normalized_desc'] = copy['tokenized_desc'].apply(stem_and_lemmatize)\n",
    "copy['normalized_titl'] = copy['tokenized_titl'].apply(stem_and_lemmatize)"
   ]
  },
  {
   "cell_type": "markdown",
   "id": "a736abde-4bce-4ae3-808d-0500c502a032",
   "metadata": {},
   "source": [
    "También se intento hacer esto mismo con otra libreria especializada en español, pero el tiempo que demora en ejecutarse el siguiente bloque de código es demasiado en comparación al otro. El rendimiento del modelo no mejora al utilizar esta libreria, por lo tanto, se opta por no utilizarse. "
   ]
  },
  {
   "cell_type": "code",
   "execution_count": 33,
   "id": "d54c6410-35a0-4a98-bcd7-8ddc54575b34",
   "metadata": {},
   "outputs": [],
   "source": [
    "# import pandas as pd\n",
    "# import spacy\n",
    "# import nltk\n",
    "# from nltk.stem import SnowballStemmer\n",
    "\n",
    "# nlp = spacy.load(\"es_core_news_sm\")\n",
    "# # Inicializar el stemmer en español\n",
    "# stemmer = SnowballStemmer('spanish')\n",
    "\n",
    "# def stem_and_lemmatize_batch(texts):\n",
    "#     \"\"\"Optimiza la lematización y stemming usando spaCy y Snowball en batch\"\"\"\n",
    "#     docs = list(nlp.pipe(texts))  # Procesa en batch\n",
    "#     results = []\n",
    "#     for doc in docs:\n",
    "#         stems = [stemmer.stem(token.text) for token in doc]\n",
    "#         lemmas = [token.lemma_ for token in doc]\n",
    "#         results.append(stems + lemmas)  # Combina ambos\n",
    "#     return results\n",
    "\n",
    "# # Aplicar el procesamiento en batch\n",
    "# copy['normalized'] = stem_and_lemmatize_batch(copy['tokenized_desc'].apply(lambda x: ' '.join(x)))"
   ]
  },
  {
   "cell_type": "markdown",
   "id": "33ffd6fc-8a26-45e8-8012-b22d64c69a62",
   "metadata": {},
   "source": [
    "## 3.4 Selección de campos"
   ]
  },
  {
   "cell_type": "markdown",
   "id": "b0a796a5-b1ad-43e7-8318-16abd3be777c",
   "metadata": {},
   "source": [
    "En esta parte se realiza la unión de las listas de palabras normalizadas para tener una cadena de todas las palabras."
   ]
  },
  {
   "cell_type": "code",
   "execution_count": 34,
   "id": "e932e89e-62a9-4c94-b78f-cf763f076a52",
   "metadata": {},
   "outputs": [],
   "source": [
    "copy['desc_words'] = copy['normalized_desc'].apply(lambda x: ' '.join(map(str, x)))\n",
    "copy['titl_words'] = copy['normalized_titl'].apply(lambda x: ' '.join(map(str, x)))"
   ]
  },
  {
   "cell_type": "code",
   "execution_count": 35,
   "id": "c61981de-6d4e-454a-a410-823fe2167647",
   "metadata": {},
   "outputs": [
    {
     "data": {
      "text/html": [
       "<div>\n",
       "<style scoped>\n",
       "    .dataframe tbody tr th:only-of-type {\n",
       "        vertical-align: middle;\n",
       "    }\n",
       "\n",
       "    .dataframe tbody tr th {\n",
       "        vertical-align: top;\n",
       "    }\n",
       "\n",
       "    .dataframe thead th {\n",
       "        text-align: right;\n",
       "    }\n",
       "</style>\n",
       "<table border=\"1\" class=\"dataframe\">\n",
       "  <thead>\n",
       "    <tr style=\"text-align: right;\">\n",
       "      <th></th>\n",
       "      <th>desc_words</th>\n",
       "      <th>normalized_desc</th>\n",
       "      <th>titl_words</th>\n",
       "      <th>normalized_titl</th>\n",
       "    </tr>\n",
       "  </thead>\n",
       "  <tbody>\n",
       "    <tr>\n",
       "      <th>0</th>\n",
       "      <td>diario britanico publico pasado juev...</td>\n",
       "      <td>[diario, britanico, publico, pasado,...</td>\n",
       "      <td>the guard va sanchez europ necesit a...</td>\n",
       "      <td>[the, guard, va, sanchez, europ, nec...</td>\n",
       "    </tr>\n",
       "    <tr>\n",
       "      <th>1</th>\n",
       "      <td>revel gobierno negocio liberac mirel...</td>\n",
       "      <td>[revel, gobierno, negocio, liberac, ...</td>\n",
       "      <td>revel gobierno negocio liberac mirel...</td>\n",
       "      <td>[revel, gobierno, negocio, liberac, ...</td>\n",
       "    </tr>\n",
       "    <tr>\n",
       "      <th>2</th>\n",
       "      <td>va elencianismo convoc castello fies...</td>\n",
       "      <td>[va, elencianismo, convoc, castello,...</td>\n",
       "      <td>ahor nunc joan fust estatuto va elen...</td>\n",
       "      <td>[ahor, nunc, joan, fust, estatuto, v...</td>\n",
       "    </tr>\n",
       "  </tbody>\n",
       "</table>\n",
       "</div>"
      ],
      "text/plain": [
       "                                desc_words  \\\n",
       "0  diario britanico publico pasado juev...   \n",
       "1  revel gobierno negocio liberac mirel...   \n",
       "2  va elencianismo convoc castello fies...   \n",
       "\n",
       "                           normalized_desc  \\\n",
       "0  [diario, britanico, publico, pasado,...   \n",
       "1  [revel, gobierno, negocio, liberac, ...   \n",
       "2  [va, elencianismo, convoc, castello,...   \n",
       "\n",
       "                                titl_words  \\\n",
       "0  the guard va sanchez europ necesit a...   \n",
       "1  revel gobierno negocio liberac mirel...   \n",
       "2  ahor nunc joan fust estatuto va elen...   \n",
       "\n",
       "                           normalized_titl  \n",
       "0  [the, guard, va, sanchez, europ, nec...  \n",
       "1  [revel, gobierno, negocio, liberac, ...  \n",
       "2  [ahor, nunc, joan, fust, estatuto, v...  "
      ]
     },
     "execution_count": 35,
     "metadata": {},
     "output_type": "execute_result"
    }
   ],
   "source": [
    "copy[['desc_words', 'normalized_desc', 'titl_words', 'normalized_titl']].head(3)"
   ]
  },
  {
   "cell_type": "code",
   "execution_count": 36,
   "id": "4073d245-d713-4172-9bef-e64aa1394418",
   "metadata": {},
   "outputs": [
    {
     "name": "stdout",
     "output_type": "stream",
     "text": [
      "(49638, 2) (49638,)\n"
     ]
    }
   ],
   "source": [
    "X_data, y_label = copy[['desc_words', 'titl_words']], copy['Label']\n",
    "print(X_data.shape, y_label.shape)"
   ]
  },
  {
   "cell_type": "code",
   "execution_count": 37,
   "id": "6fa4d322-1fe2-49d2-9366-de2727ee5804",
   "metadata": {},
   "outputs": [],
   "source": [
    "tf_idf = TfidfVectorizer()\n",
    "\n",
    "X_words = X_data['desc_words'] + ' ' + X_data['titl_words']\n",
    "\n",
    "X_combined = pd.concat([X_words, X_data[['desc_words', 'titl_words']]], axis=1)\n",
    "X_combined.columns = ['combined', 'desc_words', 'titl_words']\n",
    "\n",
    "X_tf_idf = tf_idf.fit_transform(X_combined['combined'])"
   ]
  },
  {
   "cell_type": "code",
   "execution_count": 38,
   "id": "cd8856b4-dadc-4719-8e03-0ae07cb627ca",
   "metadata": {},
   "outputs": [
    {
     "data": {
      "text/plain": [
       "(49638, 66495)"
      ]
     },
     "execution_count": 38,
     "metadata": {},
     "output_type": "execute_result"
    }
   ],
   "source": [
    "X_tf_idf.shape"
   ]
  },
  {
   "cell_type": "markdown",
   "id": "81440898-39fe-4cb3-8794-7a5857fe00b1",
   "metadata": {
    "jp-MarkdownHeadingCollapsed": true
   },
   "source": [
    "# 4. Creación del pipeline de preprocesamiento"
   ]
  },
  {
   "cell_type": "markdown",
   "id": "4418e444-0ceb-429e-895a-f0e5b84b4b4a",
   "metadata": {},
   "source": [
    "En este Pipeline se incluye (TODO: ARREGLAR ESTO)\n",
    "\n",
    "1. Eliminar los duplicados.\n",
    "2. ELIMINAR FILA SI la descripción es None (df.dropna(subset=['Descripcion'])\n",
    "2. Eliminar descripciones duplicadas.\n",
    "3. Para los títulos vacíos hacemos una imputación.\n",
    "4. Expandir las contracciones\n",
    "5. Word_tokenize\n",
    "6. Preprocessing\n",
    "7. Normalizar\n",
    "8. Selección de campos, unirlos\n",
    "9. Unir campos en uno solo\n",
    "10. Devolver una matriz dispersa con las características\n"
   ]
  },
  {
   "cell_type": "markdown",
   "id": "f38ef34a-cd71-4b4a-a414-48fcb8a3d3b5",
   "metadata": {},
   "source": [
    "TODO: ARREGLAR EL PIPELINE "
   ]
  },
  {
   "cell_type": "code",
   "execution_count": 39,
   "id": "d02b30c1-c65f-4fb1-880f-a01f05d34c60",
   "metadata": {},
   "outputs": [],
   "source": [
    "def remove_duplicates(df):\n",
    "    print('status: eliminado duplicados')\n",
    "    return df.drop_duplicates(keep='first')\n",
    "\n",
    "def remove_duplicates_desc(df):\n",
    "    print('status: eliminado descripciones duplicados')\n",
    "    return df.drop_duplicates('Descripcion', keep='first', inplace=False)\n",
    "\n",
    "def empty_title(df):\n",
    "    print('status: imputando titulos')\n",
    "    df \\\n",
    "        .loc[df[\"Titulo\"].isna(), \"Titulo\"] = df[\"Descripcion\"] \\\n",
    "        .apply(lambda t: t.strip().split(\".\")[0] if isinstance(t, str) else t)\n",
    "    \n",
    "    return df\n",
    "\n",
    "def expand_contractions(df):\n",
    "    print('status: contracciones')\n",
    "    df['Descripcion'] = df['Descripcion'].apply(expand_spanish_contractions)\n",
    "    df['Titulo'] = df['Titulo'].apply(expand_spanish_contractions)\n",
    "    return df\n",
    "\n",
    "def tokenize(df):\n",
    "    print('status: tokenizar')\n",
    "    df['tokenized_desc'] = df['Descripcion'].apply(word_tokenize)\n",
    "    df['tokenized_titl'] = df['Titulo'].apply(word_tokenize)\n",
    "    return df\n",
    "\n",
    "def clean_noise(df):\n",
    "    print('status: preprocessing functions')\n",
    "    df['tokenized_desc'] = df['tokenized_desc'].apply(preprocessing)\n",
    "    df['tokenized_titl'] = df['tokenized_titl'].apply(preprocessing)\n",
    "    return df\n",
    "\n",
    "def normalize(df):\n",
    "    print('status: normalizar')\n",
    "    df['normalized_desc'] = df['tokenized_desc'].apply(stem_and_lemmatize)\n",
    "    df['normalized_titl'] = df['tokenized_titl'].apply(stem_and_lemmatize)\n",
    "    return df\n",
    "\n",
    "def feature_sel(df):\n",
    "    print('status: unir palabras ')\n",
    "    df['desc_words'] = df['normalized_desc'].apply(lambda x: ' '.join(map(str, x)))\n",
    "    df['titl_words'] = df['normalized_titl'].apply(lambda x: ' '.join(map(str, x)))\n",
    "    return df\n",
    "\n",
    "def gen_sparse_matrix(df, fit_vectorizer):\n",
    "    print('status: finalizando (seleccionando caracteristicas)')\n",
    "    X_data = df[['desc_words', 'titl_words']]\n",
    "\n",
    "    X_words = X_data['desc_words'] + ' ' + X_data['titl_words']\n",
    "\n",
    "    # X_combined = pd.concat([X_words, X_data[['desc_words', 'titl_words']]], axis=1)\n",
    "    # X_combined.columns = ['combined', 'desc_words', 'titl_words']\n",
    "\n",
    "    if fit_vectorizer:\n",
    "        X_tf_idf = tf_idf.fit_transform(X_words)  # Ajustar y transformar en entrenamiento\n",
    "    else:\n",
    "        X_tf_idf = tf_idf.transform(X_words)\n",
    "\n",
    "    return X_tf_idf\n",
    "\n",
    "def transform_pipeline(df, fit_vectorizer=False):\n",
    "    df = remove_duplicates(df)\n",
    "    df = remove_duplicates_desc(df)\n",
    "    df = empty_title(df)\n",
    "    df = expand_contractions(df)\n",
    "    df = tokenize(df)\n",
    "    df = clean_noise(df)\n",
    "    df = normalize(df)\n",
    "    df = feature_sel(df)\n",
    "    X_tf_idf = gen_sparse_matrix(df, fit_vectorizer)\n",
    "    return X_tf_idf"
   ]
  },
  {
   "cell_type": "code",
   "execution_count": 40,
   "id": "f9aaef35-cdf5-487b-8dc6-cee33393f68e",
   "metadata": {},
   "outputs": [],
   "source": [
    "df_test = pd.read_csv('./fake_news_test.csv', sep=';', encoding='utf-8')\n",
    "\n",
    "# X_test = transform_pipeline(\n",
    "#     df_test,\n",
    "#     True\n",
    "# )\n",
    "\n",
    "# y_pred = model.predict(X_test)"
   ]
  },
  {
   "cell_type": "markdown",
   "id": "3e711664-fe44-4eb3-8082-cb718831ee8b",
   "metadata": {},
   "source": [
    "# 5. Entrenamiento de los modelos"
   ]
  },
  {
   "cell_type": "code",
   "execution_count": 41,
   "id": "23d32031-2748-46fc-bcd2-ab5b57650d68",
   "metadata": {},
   "outputs": [],
   "source": [
    "X_train, X_test, y_train, y_test = train_test_split(\n",
    "    X_tf_idf,\n",
    "    y_label,\n",
    "    test_size=0.3,\n",
    "    random_state=42\n",
    ")"
   ]
  },
  {
   "cell_type": "markdown",
   "id": "66336697-56e2-4b69-a70d-69d7d25d492e",
   "metadata": {},
   "source": [
    "## 5.1 Regresión logistica"
   ]
  },
  {
   "cell_type": "markdown",
   "id": "d84ff1df-6f99-4eb3-8cf1-7fded08d1cf4",
   "metadata": {},
   "source": [
    "En las siguientes dos celdas se hace el entrenamiento de regresión logistica y una validación utilizando validación cruzada, el modelo tiene un muy buen puntaje `f1`, por encima de 90%."
   ]
  },
  {
   "cell_type": "code",
   "execution_count": 42,
   "id": "9e740a9f-8778-4874-b83d-0f5ac18ddfa2",
   "metadata": {},
   "outputs": [
    {
     "data": {
      "text/html": [
       "<style>#sk-container-id-1 {\n",
       "  /* Definition of color scheme common for light and dark mode */\n",
       "  --sklearn-color-text: #000;\n",
       "  --sklearn-color-text-muted: #666;\n",
       "  --sklearn-color-line: gray;\n",
       "  /* Definition of color scheme for unfitted estimators */\n",
       "  --sklearn-color-unfitted-level-0: #fff5e6;\n",
       "  --sklearn-color-unfitted-level-1: #f6e4d2;\n",
       "  --sklearn-color-unfitted-level-2: #ffe0b3;\n",
       "  --sklearn-color-unfitted-level-3: chocolate;\n",
       "  /* Definition of color scheme for fitted estimators */\n",
       "  --sklearn-color-fitted-level-0: #f0f8ff;\n",
       "  --sklearn-color-fitted-level-1: #d4ebff;\n",
       "  --sklearn-color-fitted-level-2: #b3dbfd;\n",
       "  --sklearn-color-fitted-level-3: cornflowerblue;\n",
       "\n",
       "  /* Specific color for light theme */\n",
       "  --sklearn-color-text-on-default-background: var(--sg-text-color, var(--theme-code-foreground, var(--jp-content-font-color1, black)));\n",
       "  --sklearn-color-background: var(--sg-background-color, var(--theme-background, var(--jp-layout-color0, white)));\n",
       "  --sklearn-color-border-box: var(--sg-text-color, var(--theme-code-foreground, var(--jp-content-font-color1, black)));\n",
       "  --sklearn-color-icon: #696969;\n",
       "\n",
       "  @media (prefers-color-scheme: dark) {\n",
       "    /* Redefinition of color scheme for dark theme */\n",
       "    --sklearn-color-text-on-default-background: var(--sg-text-color, var(--theme-code-foreground, var(--jp-content-font-color1, white)));\n",
       "    --sklearn-color-background: var(--sg-background-color, var(--theme-background, var(--jp-layout-color0, #111)));\n",
       "    --sklearn-color-border-box: var(--sg-text-color, var(--theme-code-foreground, var(--jp-content-font-color1, white)));\n",
       "    --sklearn-color-icon: #878787;\n",
       "  }\n",
       "}\n",
       "\n",
       "#sk-container-id-1 {\n",
       "  color: var(--sklearn-color-text);\n",
       "}\n",
       "\n",
       "#sk-container-id-1 pre {\n",
       "  padding: 0;\n",
       "}\n",
       "\n",
       "#sk-container-id-1 input.sk-hidden--visually {\n",
       "  border: 0;\n",
       "  clip: rect(1px 1px 1px 1px);\n",
       "  clip: rect(1px, 1px, 1px, 1px);\n",
       "  height: 1px;\n",
       "  margin: -1px;\n",
       "  overflow: hidden;\n",
       "  padding: 0;\n",
       "  position: absolute;\n",
       "  width: 1px;\n",
       "}\n",
       "\n",
       "#sk-container-id-1 div.sk-dashed-wrapped {\n",
       "  border: 1px dashed var(--sklearn-color-line);\n",
       "  margin: 0 0.4em 0.5em 0.4em;\n",
       "  box-sizing: border-box;\n",
       "  padding-bottom: 0.4em;\n",
       "  background-color: var(--sklearn-color-background);\n",
       "}\n",
       "\n",
       "#sk-container-id-1 div.sk-container {\n",
       "  /* jupyter's `normalize.less` sets `[hidden] { display: none; }`\n",
       "     but bootstrap.min.css set `[hidden] { display: none !important; }`\n",
       "     so we also need the `!important` here to be able to override the\n",
       "     default hidden behavior on the sphinx rendered scikit-learn.org.\n",
       "     See: https://github.com/scikit-learn/scikit-learn/issues/21755 */\n",
       "  display: inline-block !important;\n",
       "  position: relative;\n",
       "}\n",
       "\n",
       "#sk-container-id-1 div.sk-text-repr-fallback {\n",
       "  display: none;\n",
       "}\n",
       "\n",
       "div.sk-parallel-item,\n",
       "div.sk-serial,\n",
       "div.sk-item {\n",
       "  /* draw centered vertical line to link estimators */\n",
       "  background-image: linear-gradient(var(--sklearn-color-text-on-default-background), var(--sklearn-color-text-on-default-background));\n",
       "  background-size: 2px 100%;\n",
       "  background-repeat: no-repeat;\n",
       "  background-position: center center;\n",
       "}\n",
       "\n",
       "/* Parallel-specific style estimator block */\n",
       "\n",
       "#sk-container-id-1 div.sk-parallel-item::after {\n",
       "  content: \"\";\n",
       "  width: 100%;\n",
       "  border-bottom: 2px solid var(--sklearn-color-text-on-default-background);\n",
       "  flex-grow: 1;\n",
       "}\n",
       "\n",
       "#sk-container-id-1 div.sk-parallel {\n",
       "  display: flex;\n",
       "  align-items: stretch;\n",
       "  justify-content: center;\n",
       "  background-color: var(--sklearn-color-background);\n",
       "  position: relative;\n",
       "}\n",
       "\n",
       "#sk-container-id-1 div.sk-parallel-item {\n",
       "  display: flex;\n",
       "  flex-direction: column;\n",
       "}\n",
       "\n",
       "#sk-container-id-1 div.sk-parallel-item:first-child::after {\n",
       "  align-self: flex-end;\n",
       "  width: 50%;\n",
       "}\n",
       "\n",
       "#sk-container-id-1 div.sk-parallel-item:last-child::after {\n",
       "  align-self: flex-start;\n",
       "  width: 50%;\n",
       "}\n",
       "\n",
       "#sk-container-id-1 div.sk-parallel-item:only-child::after {\n",
       "  width: 0;\n",
       "}\n",
       "\n",
       "/* Serial-specific style estimator block */\n",
       "\n",
       "#sk-container-id-1 div.sk-serial {\n",
       "  display: flex;\n",
       "  flex-direction: column;\n",
       "  align-items: center;\n",
       "  background-color: var(--sklearn-color-background);\n",
       "  padding-right: 1em;\n",
       "  padding-left: 1em;\n",
       "}\n",
       "\n",
       "\n",
       "/* Toggleable style: style used for estimator/Pipeline/ColumnTransformer box that is\n",
       "clickable and can be expanded/collapsed.\n",
       "- Pipeline and ColumnTransformer use this feature and define the default style\n",
       "- Estimators will overwrite some part of the style using the `sk-estimator` class\n",
       "*/\n",
       "\n",
       "/* Pipeline and ColumnTransformer style (default) */\n",
       "\n",
       "#sk-container-id-1 div.sk-toggleable {\n",
       "  /* Default theme specific background. It is overwritten whether we have a\n",
       "  specific estimator or a Pipeline/ColumnTransformer */\n",
       "  background-color: var(--sklearn-color-background);\n",
       "}\n",
       "\n",
       "/* Toggleable label */\n",
       "#sk-container-id-1 label.sk-toggleable__label {\n",
       "  cursor: pointer;\n",
       "  display: flex;\n",
       "  width: 100%;\n",
       "  margin-bottom: 0;\n",
       "  padding: 0.5em;\n",
       "  box-sizing: border-box;\n",
       "  text-align: center;\n",
       "  align-items: start;\n",
       "  justify-content: space-between;\n",
       "  gap: 0.5em;\n",
       "}\n",
       "\n",
       "#sk-container-id-1 label.sk-toggleable__label .caption {\n",
       "  font-size: 0.6rem;\n",
       "  font-weight: lighter;\n",
       "  color: var(--sklearn-color-text-muted);\n",
       "}\n",
       "\n",
       "#sk-container-id-1 label.sk-toggleable__label-arrow:before {\n",
       "  /* Arrow on the left of the label */\n",
       "  content: \"▸\";\n",
       "  float: left;\n",
       "  margin-right: 0.25em;\n",
       "  color: var(--sklearn-color-icon);\n",
       "}\n",
       "\n",
       "#sk-container-id-1 label.sk-toggleable__label-arrow:hover:before {\n",
       "  color: var(--sklearn-color-text);\n",
       "}\n",
       "\n",
       "/* Toggleable content - dropdown */\n",
       "\n",
       "#sk-container-id-1 div.sk-toggleable__content {\n",
       "  max-height: 0;\n",
       "  max-width: 0;\n",
       "  overflow: hidden;\n",
       "  text-align: left;\n",
       "  /* unfitted */\n",
       "  background-color: var(--sklearn-color-unfitted-level-0);\n",
       "}\n",
       "\n",
       "#sk-container-id-1 div.sk-toggleable__content.fitted {\n",
       "  /* fitted */\n",
       "  background-color: var(--sklearn-color-fitted-level-0);\n",
       "}\n",
       "\n",
       "#sk-container-id-1 div.sk-toggleable__content pre {\n",
       "  margin: 0.2em;\n",
       "  border-radius: 0.25em;\n",
       "  color: var(--sklearn-color-text);\n",
       "  /* unfitted */\n",
       "  background-color: var(--sklearn-color-unfitted-level-0);\n",
       "}\n",
       "\n",
       "#sk-container-id-1 div.sk-toggleable__content.fitted pre {\n",
       "  /* unfitted */\n",
       "  background-color: var(--sklearn-color-fitted-level-0);\n",
       "}\n",
       "\n",
       "#sk-container-id-1 input.sk-toggleable__control:checked~div.sk-toggleable__content {\n",
       "  /* Expand drop-down */\n",
       "  max-height: 200px;\n",
       "  max-width: 100%;\n",
       "  overflow: auto;\n",
       "}\n",
       "\n",
       "#sk-container-id-1 input.sk-toggleable__control:checked~label.sk-toggleable__label-arrow:before {\n",
       "  content: \"▾\";\n",
       "}\n",
       "\n",
       "/* Pipeline/ColumnTransformer-specific style */\n",
       "\n",
       "#sk-container-id-1 div.sk-label input.sk-toggleable__control:checked~label.sk-toggleable__label {\n",
       "  color: var(--sklearn-color-text);\n",
       "  background-color: var(--sklearn-color-unfitted-level-2);\n",
       "}\n",
       "\n",
       "#sk-container-id-1 div.sk-label.fitted input.sk-toggleable__control:checked~label.sk-toggleable__label {\n",
       "  background-color: var(--sklearn-color-fitted-level-2);\n",
       "}\n",
       "\n",
       "/* Estimator-specific style */\n",
       "\n",
       "/* Colorize estimator box */\n",
       "#sk-container-id-1 div.sk-estimator input.sk-toggleable__control:checked~label.sk-toggleable__label {\n",
       "  /* unfitted */\n",
       "  background-color: var(--sklearn-color-unfitted-level-2);\n",
       "}\n",
       "\n",
       "#sk-container-id-1 div.sk-estimator.fitted input.sk-toggleable__control:checked~label.sk-toggleable__label {\n",
       "  /* fitted */\n",
       "  background-color: var(--sklearn-color-fitted-level-2);\n",
       "}\n",
       "\n",
       "#sk-container-id-1 div.sk-label label.sk-toggleable__label,\n",
       "#sk-container-id-1 div.sk-label label {\n",
       "  /* The background is the default theme color */\n",
       "  color: var(--sklearn-color-text-on-default-background);\n",
       "}\n",
       "\n",
       "/* On hover, darken the color of the background */\n",
       "#sk-container-id-1 div.sk-label:hover label.sk-toggleable__label {\n",
       "  color: var(--sklearn-color-text);\n",
       "  background-color: var(--sklearn-color-unfitted-level-2);\n",
       "}\n",
       "\n",
       "/* Label box, darken color on hover, fitted */\n",
       "#sk-container-id-1 div.sk-label.fitted:hover label.sk-toggleable__label.fitted {\n",
       "  color: var(--sklearn-color-text);\n",
       "  background-color: var(--sklearn-color-fitted-level-2);\n",
       "}\n",
       "\n",
       "/* Estimator label */\n",
       "\n",
       "#sk-container-id-1 div.sk-label label {\n",
       "  font-family: monospace;\n",
       "  font-weight: bold;\n",
       "  display: inline-block;\n",
       "  line-height: 1.2em;\n",
       "}\n",
       "\n",
       "#sk-container-id-1 div.sk-label-container {\n",
       "  text-align: center;\n",
       "}\n",
       "\n",
       "/* Estimator-specific */\n",
       "#sk-container-id-1 div.sk-estimator {\n",
       "  font-family: monospace;\n",
       "  border: 1px dotted var(--sklearn-color-border-box);\n",
       "  border-radius: 0.25em;\n",
       "  box-sizing: border-box;\n",
       "  margin-bottom: 0.5em;\n",
       "  /* unfitted */\n",
       "  background-color: var(--sklearn-color-unfitted-level-0);\n",
       "}\n",
       "\n",
       "#sk-container-id-1 div.sk-estimator.fitted {\n",
       "  /* fitted */\n",
       "  background-color: var(--sklearn-color-fitted-level-0);\n",
       "}\n",
       "\n",
       "/* on hover */\n",
       "#sk-container-id-1 div.sk-estimator:hover {\n",
       "  /* unfitted */\n",
       "  background-color: var(--sklearn-color-unfitted-level-2);\n",
       "}\n",
       "\n",
       "#sk-container-id-1 div.sk-estimator.fitted:hover {\n",
       "  /* fitted */\n",
       "  background-color: var(--sklearn-color-fitted-level-2);\n",
       "}\n",
       "\n",
       "/* Specification for estimator info (e.g. \"i\" and \"?\") */\n",
       "\n",
       "/* Common style for \"i\" and \"?\" */\n",
       "\n",
       ".sk-estimator-doc-link,\n",
       "a:link.sk-estimator-doc-link,\n",
       "a:visited.sk-estimator-doc-link {\n",
       "  float: right;\n",
       "  font-size: smaller;\n",
       "  line-height: 1em;\n",
       "  font-family: monospace;\n",
       "  background-color: var(--sklearn-color-background);\n",
       "  border-radius: 1em;\n",
       "  height: 1em;\n",
       "  width: 1em;\n",
       "  text-decoration: none !important;\n",
       "  margin-left: 0.5em;\n",
       "  text-align: center;\n",
       "  /* unfitted */\n",
       "  border: var(--sklearn-color-unfitted-level-1) 1pt solid;\n",
       "  color: var(--sklearn-color-unfitted-level-1);\n",
       "}\n",
       "\n",
       ".sk-estimator-doc-link.fitted,\n",
       "a:link.sk-estimator-doc-link.fitted,\n",
       "a:visited.sk-estimator-doc-link.fitted {\n",
       "  /* fitted */\n",
       "  border: var(--sklearn-color-fitted-level-1) 1pt solid;\n",
       "  color: var(--sklearn-color-fitted-level-1);\n",
       "}\n",
       "\n",
       "/* On hover */\n",
       "div.sk-estimator:hover .sk-estimator-doc-link:hover,\n",
       ".sk-estimator-doc-link:hover,\n",
       "div.sk-label-container:hover .sk-estimator-doc-link:hover,\n",
       ".sk-estimator-doc-link:hover {\n",
       "  /* unfitted */\n",
       "  background-color: var(--sklearn-color-unfitted-level-3);\n",
       "  color: var(--sklearn-color-background);\n",
       "  text-decoration: none;\n",
       "}\n",
       "\n",
       "div.sk-estimator.fitted:hover .sk-estimator-doc-link.fitted:hover,\n",
       ".sk-estimator-doc-link.fitted:hover,\n",
       "div.sk-label-container:hover .sk-estimator-doc-link.fitted:hover,\n",
       ".sk-estimator-doc-link.fitted:hover {\n",
       "  /* fitted */\n",
       "  background-color: var(--sklearn-color-fitted-level-3);\n",
       "  color: var(--sklearn-color-background);\n",
       "  text-decoration: none;\n",
       "}\n",
       "\n",
       "/* Span, style for the box shown on hovering the info icon */\n",
       ".sk-estimator-doc-link span {\n",
       "  display: none;\n",
       "  z-index: 9999;\n",
       "  position: relative;\n",
       "  font-weight: normal;\n",
       "  right: .2ex;\n",
       "  padding: .5ex;\n",
       "  margin: .5ex;\n",
       "  width: min-content;\n",
       "  min-width: 20ex;\n",
       "  max-width: 50ex;\n",
       "  color: var(--sklearn-color-text);\n",
       "  box-shadow: 2pt 2pt 4pt #999;\n",
       "  /* unfitted */\n",
       "  background: var(--sklearn-color-unfitted-level-0);\n",
       "  border: .5pt solid var(--sklearn-color-unfitted-level-3);\n",
       "}\n",
       "\n",
       ".sk-estimator-doc-link.fitted span {\n",
       "  /* fitted */\n",
       "  background: var(--sklearn-color-fitted-level-0);\n",
       "  border: var(--sklearn-color-fitted-level-3);\n",
       "}\n",
       "\n",
       ".sk-estimator-doc-link:hover span {\n",
       "  display: block;\n",
       "}\n",
       "\n",
       "/* \"?\"-specific style due to the `<a>` HTML tag */\n",
       "\n",
       "#sk-container-id-1 a.estimator_doc_link {\n",
       "  float: right;\n",
       "  font-size: 1rem;\n",
       "  line-height: 1em;\n",
       "  font-family: monospace;\n",
       "  background-color: var(--sklearn-color-background);\n",
       "  border-radius: 1rem;\n",
       "  height: 1rem;\n",
       "  width: 1rem;\n",
       "  text-decoration: none;\n",
       "  /* unfitted */\n",
       "  color: var(--sklearn-color-unfitted-level-1);\n",
       "  border: var(--sklearn-color-unfitted-level-1) 1pt solid;\n",
       "}\n",
       "\n",
       "#sk-container-id-1 a.estimator_doc_link.fitted {\n",
       "  /* fitted */\n",
       "  border: var(--sklearn-color-fitted-level-1) 1pt solid;\n",
       "  color: var(--sklearn-color-fitted-level-1);\n",
       "}\n",
       "\n",
       "/* On hover */\n",
       "#sk-container-id-1 a.estimator_doc_link:hover {\n",
       "  /* unfitted */\n",
       "  background-color: var(--sklearn-color-unfitted-level-3);\n",
       "  color: var(--sklearn-color-background);\n",
       "  text-decoration: none;\n",
       "}\n",
       "\n",
       "#sk-container-id-1 a.estimator_doc_link.fitted:hover {\n",
       "  /* fitted */\n",
       "  background-color: var(--sklearn-color-fitted-level-3);\n",
       "}\n",
       "</style><div id=\"sk-container-id-1\" class=\"sk-top-container\"><div class=\"sk-text-repr-fallback\"><pre>LogisticRegression()</pre><b>In a Jupyter environment, please rerun this cell to show the HTML representation or trust the notebook. <br />On GitHub, the HTML representation is unable to render, please try loading this page with nbviewer.org.</b></div><div class=\"sk-container\" hidden><div class=\"sk-item\"><div class=\"sk-estimator fitted sk-toggleable\"><input class=\"sk-toggleable__control sk-hidden--visually\" id=\"sk-estimator-id-1\" type=\"checkbox\" checked><label for=\"sk-estimator-id-1\" class=\"sk-toggleable__label fitted sk-toggleable__label-arrow\"><div><div>LogisticRegression</div></div><div><a class=\"sk-estimator-doc-link fitted\" rel=\"noreferrer\" target=\"_blank\" href=\"https://scikit-learn.org/1.6/modules/generated/sklearn.linear_model.LogisticRegression.html\">?<span>Documentation for LogisticRegression</span></a><span class=\"sk-estimator-doc-link fitted\">i<span>Fitted</span></span></div></label><div class=\"sk-toggleable__content fitted\"><pre>LogisticRegression()</pre></div> </div></div></div></div>"
      ],
      "text/plain": [
       "LogisticRegression()"
      ]
     },
     "execution_count": 42,
     "metadata": {},
     "output_type": "execute_result"
    }
   ],
   "source": [
    "from sklearn.linear_model import LogisticRegression\n",
    "\n",
    "model = LogisticRegression()\n",
    "model.fit(X_train, y_train)"
   ]
  },
  {
   "cell_type": "code",
   "execution_count": 43,
   "id": "8a0c24ce-f91d-44a0-8342-52ca4c21c781",
   "metadata": {},
   "outputs": [
    {
     "name": "stdout",
     "output_type": "stream",
     "text": [
      "[0.91568837 0.9064482  0.90407359 0.89936776 0.90174326]\n"
     ]
    },
    {
     "data": {
      "text/plain": [
       "0.9054642355330793"
      ]
     },
     "execution_count": 43,
     "metadata": {},
     "output_type": "execute_result"
    }
   ],
   "source": [
    "scores = cross_val_score(model, X_test, y_test, cv=5, scoring='f1')\n",
    "\n",
    "print(scores)\n",
    "scores.mean()"
   ]
  },
  {
   "cell_type": "markdown",
   "id": "3f1a46b0-644a-486f-931d-bffea75a93bf",
   "metadata": {},
   "source": [
    "El modelo presenta una precisión de 0.96 para **la clase 0 (noticia no falsa)**, lo que indica que cuando predice que una noticia es real, acierta el 96% de las veces. Sin embargo, su recall es de 0.79, lo que significa que no detecta correctamente el 21% de las noticias reales, clasificándolas erróneamente como falsas. Esto sugiere que el modelo es más conservador al asignar la etiqueta de noticia real, lo que genera una cantidad considerable de falsos negativos. Por otro lado, para **la clase 1 (noticia falsa)**, la precisión es de 0.87, lo que implica que el 87% de las noticias identificadas como falsas realmente lo son, pero su recall es de 0.97, lo que significa que detecta casi todas las noticias falsas con muy pocos falsos negativos. Esto indica que el modelo está priorizando la detección de noticias falsas a costa de sacrificar algunos casos de noticias reales.\n",
    "\n",
    "El F1-score de 0.86 para la clase 0 y 0.92 para la clase 1 muestra que el rendimiento global es más equilibrado para la detección de noticias falsas, mientras que la detección de noticias reales aún tiene margen de mejora en términos de recall."
   ]
  },
  {
   "cell_type": "code",
   "execution_count": 44,
   "id": "69fe3f85-0b99-4b0e-b70c-49f22c55fb51",
   "metadata": {},
   "outputs": [
    {
     "name": "stdout",
     "output_type": "stream",
     "text": [
      "Classification Report:\n",
      "               precision    recall  f1-score   support\n",
      "\n",
      "           0       0.96      0.79      0.86      6128\n",
      "           1       0.87      0.97      0.92      8764\n",
      "\n",
      "    accuracy                           0.90     14892\n",
      "   macro avg       0.91      0.88      0.89     14892\n",
      "weighted avg       0.90      0.90      0.90     14892\n",
      "\n"
     ]
    }
   ],
   "source": [
    "y_pred = model.predict(X_test)\n",
    "\n",
    "print(\"Classification Report:\\n\", classification_report(y_test, y_pred))"
   ]
  },
  {
   "cell_type": "markdown",
   "id": "6a0aa8e2-4b94-466a-a312-5022ad6502f2",
   "metadata": {},
   "source": [
    "Lo anterior se puede visualizar mejor en el siguiente diagrama que presenta la matriz de confusión."
   ]
  },
  {
   "cell_type": "code",
   "execution_count": 45,
   "id": "c43f49c0-f3e2-4278-a45b-69ede28bb150",
   "metadata": {},
   "outputs": [
    {
     "data": {
      "image/png": "[encoded data removed]",
      "text/plain": [
       "<Figure size 640x480 with 2 Axes>"
      ]
     },
     "metadata": {},
     "output_type": "display_data"
    }
   ],
   "source": [
    "disp = ConfusionMatrixDisplay(\n",
    "    confusion_matrix(y_test, y_pred),\n",
    "    display_labels=[0, 1]\n",
    ")\n",
    "\n",
    "disp.plot(cmap=plt.cm.Blues)\n",
    "plt.title('Confusion matrix')\n",
    "plt.show()"
   ]
  },
  {
   "cell_type": "markdown",
   "id": "8df5569b-821a-43ba-bd8e-b906b4af216b",
   "metadata": {
    "jp-MarkdownHeadingCollapsed": true
   },
   "source": [
    "### 5.1.1. Obtener la importancia de las características\n",
    "TODO: REVISAR."
   ]
  },
  {
   "cell_type": "code",
   "execution_count": 46,
   "id": "d1216cde-c857-431d-841d-cb373d59c015",
   "metadata": {},
   "outputs": [
    {
     "data": {
      "text/plain": [
       "array(['0000', '00083', '001', ..., 'zulueta', 'zurekin', 'zurich'],\n",
       "      dtype=object)"
      ]
     },
     "execution_count": 46,
     "metadata": {},
     "output_type": "execute_result"
    }
   ],
   "source": [
    "importance = np.abs(model.coef_)[0]\n",
    "features = tf_idf.get_feature_names_out()\n",
    "\n",
    "features"
   ]
  },
  {
   "cell_type": "code",
   "execution_count": 47,
   "id": "31db92b5-11d8-465f-a130-22a759b29203",
   "metadata": {},
   "outputs": [
    {
     "name": "stdout",
     "output_type": "stream",
     "text": [
      "equo: 17.08339304462861\n",
      "eajpnv: 14.115647255404562\n",
      "bng: 13.905961621704726\n",
      "per: 12.220731134676647\n",
      "sanchez: 11.508210061005302\n",
      "podemos: 10.249570414965048\n",
      "podemo: 10.199628427817204\n",
      "canaria: 9.559409969045499\n",
      "erc: 9.1900709514612\n",
      "casado: 7.953235567154132\n"
     ]
    }
   ],
   "source": [
    "sorted_indices = np.argsort(importance)[::-1]\n",
    "sorted_features = [features[i] for i in sorted_indices]\n",
    "sorted_importance = importance[sorted_indices]\n",
    "\n",
    "# Mostrar las características más importantes\n",
    "for feat, imp in zip(sorted_features[:10], sorted_importance[:10]):\n",
    "    print(f\"{feat}: {imp}\")"
   ]
  },
  {
   "cell_type": "markdown",
   "id": "0752a0eb-05b6-45e6-8a90-b45dfc64467c",
   "metadata": {},
   "source": [
    "### 5.1.2. Construcción del modelo con búsqueda de hiperparámetros"
   ]
  },
  {
   "cell_type": "markdown",
   "id": "6a201d3b-823f-44f0-8be3-f70011897799",
   "metadata": {},
   "source": [
    "Ahora, se hara rapidamente un `Hyperparameter tunning` para intentar mejorar el modelo."
   ]
  },
  {
   "cell_type": "code",
   "execution_count": 48,
   "id": "21bdbb42-df12-470e-bba1-a0b35b1ca558",
   "metadata": {},
   "outputs": [
    {
     "data": {
      "text/plain": [
       "{'class_weight': [{0: 1.2, 1: 0.8}], 'penalty': ['l2'], 'solver': ['sag']}"
      ]
     },
     "execution_count": 48,
     "metadata": {},
     "output_type": "execute_result"
    }
   ],
   "source": [
    "folds = KFold(n_splits=5, shuffle=True, random_state=0)\n",
    "\n",
    "param_grid = {\n",
    "    'class_weight': [{0: 1.2, 1: 0.8}],\n",
    "    'penalty': ['l2'],\n",
    "    'solver': ['sag']\n",
    "}\n",
    "\n",
    "param_grid"
   ]
  },
  {
   "cell_type": "code",
   "execution_count": 49,
   "id": "3adb441d-a347-412d-a351-6d0774c0da7e",
   "metadata": {},
   "outputs": [
    {
     "data": {
      "text/html": [
       "<style>#sk-container-id-2 {\n",
       "  /* Definition of color scheme common for light and dark mode */\n",
       "  --sklearn-color-text: #000;\n",
       "  --sklearn-color-text-muted: #666;\n",
       "  --sklearn-color-line: gray;\n",
       "  /* Definition of color scheme for unfitted estimators */\n",
       "  --sklearn-color-unfitted-level-0: #fff5e6;\n",
       "  --sklearn-color-unfitted-level-1: #f6e4d2;\n",
       "  --sklearn-color-unfitted-level-2: #ffe0b3;\n",
       "  --sklearn-color-unfitted-level-3: chocolate;\n",
       "  /* Definition of color scheme for fitted estimators */\n",
       "  --sklearn-color-fitted-level-0: #f0f8ff;\n",
       "  --sklearn-color-fitted-level-1: #d4ebff;\n",
       "  --sklearn-color-fitted-level-2: #b3dbfd;\n",
       "  --sklearn-color-fitted-level-3: cornflowerblue;\n",
       "\n",
       "  /* Specific color for light theme */\n",
       "  --sklearn-color-text-on-default-background: var(--sg-text-color, var(--theme-code-foreground, var(--jp-content-font-color1, black)));\n",
       "  --sklearn-color-background: var(--sg-background-color, var(--theme-background, var(--jp-layout-color0, white)));\n",
       "  --sklearn-color-border-box: var(--sg-text-color, var(--theme-code-foreground, var(--jp-content-font-color1, black)));\n",
       "  --sklearn-color-icon: #696969;\n",
       "\n",
       "  @media (prefers-color-scheme: dark) {\n",
       "    /* Redefinition of color scheme for dark theme */\n",
       "    --sklearn-color-text-on-default-background: var(--sg-text-color, var(--theme-code-foreground, var(--jp-content-font-color1, white)));\n",
       "    --sklearn-color-background: var(--sg-background-color, var(--theme-background, var(--jp-layout-color0, #111)));\n",
       "    --sklearn-color-border-box: var(--sg-text-color, var(--theme-code-foreground, var(--jp-content-font-color1, white)));\n",
       "    --sklearn-color-icon: #878787;\n",
       "  }\n",
       "}\n",
       "\n",
       "#sk-container-id-2 {\n",
       "  color: var(--sklearn-color-text);\n",
       "}\n",
       "\n",
       "#sk-container-id-2 pre {\n",
       "  padding: 0;\n",
       "}\n",
       "\n",
       "#sk-container-id-2 input.sk-hidden--visually {\n",
       "  border: 0;\n",
       "  clip: rect(1px 1px 1px 1px);\n",
       "  clip: rect(1px, 1px, 1px, 1px);\n",
       "  height: 1px;\n",
       "  margin: -1px;\n",
       "  overflow: hidden;\n",
       "  padding: 0;\n",
       "  position: absolute;\n",
       "  width: 1px;\n",
       "}\n",
       "\n",
       "#sk-container-id-2 div.sk-dashed-wrapped {\n",
       "  border: 1px dashed var(--sklearn-color-line);\n",
       "  margin: 0 0.4em 0.5em 0.4em;\n",
       "  box-sizing: border-box;\n",
       "  padding-bottom: 0.4em;\n",
       "  background-color: var(--sklearn-color-background);\n",
       "}\n",
       "\n",
       "#sk-container-id-2 div.sk-container {\n",
       "  /* jupyter's `normalize.less` sets `[hidden] { display: none; }`\n",
       "     but bootstrap.min.css set `[hidden] { display: none !important; }`\n",
       "     so we also need the `!important` here to be able to override the\n",
       "     default hidden behavior on the sphinx rendered scikit-learn.org.\n",
       "     See: https://github.com/scikit-learn/scikit-learn/issues/21755 */\n",
       "  display: inline-block !important;\n",
       "  position: relative;\n",
       "}\n",
       "\n",
       "#sk-container-id-2 div.sk-text-repr-fallback {\n",
       "  display: none;\n",
       "}\n",
       "\n",
       "div.sk-parallel-item,\n",
       "div.sk-serial,\n",
       "div.sk-item {\n",
       "  /* draw centered vertical line to link estimators */\n",
       "  background-image: linear-gradient(var(--sklearn-color-text-on-default-background), var(--sklearn-color-text-on-default-background));\n",
       "  background-size: 2px 100%;\n",
       "  background-repeat: no-repeat;\n",
       "  background-position: center center;\n",
       "}\n",
       "\n",
       "/* Parallel-specific style estimator block */\n",
       "\n",
       "#sk-container-id-2 div.sk-parallel-item::after {\n",
       "  content: \"\";\n",
       "  width: 100%;\n",
       "  border-bottom: 2px solid var(--sklearn-color-text-on-default-background);\n",
       "  flex-grow: 1;\n",
       "}\n",
       "\n",
       "#sk-container-id-2 div.sk-parallel {\n",
       "  display: flex;\n",
       "  align-items: stretch;\n",
       "  justify-content: center;\n",
       "  background-color: var(--sklearn-color-background);\n",
       "  position: relative;\n",
       "}\n",
       "\n",
       "#sk-container-id-2 div.sk-parallel-item {\n",
       "  display: flex;\n",
       "  flex-direction: column;\n",
       "}\n",
       "\n",
       "#sk-container-id-2 div.sk-parallel-item:first-child::after {\n",
       "  align-self: flex-end;\n",
       "  width: 50%;\n",
       "}\n",
       "\n",
       "#sk-container-id-2 div.sk-parallel-item:last-child::after {\n",
       "  align-self: flex-start;\n",
       "  width: 50%;\n",
       "}\n",
       "\n",
       "#sk-container-id-2 div.sk-parallel-item:only-child::after {\n",
       "  width: 0;\n",
       "}\n",
       "\n",
       "/* Serial-specific style estimator block */\n",
       "\n",
       "#sk-container-id-2 div.sk-serial {\n",
       "  display: flex;\n",
       "  flex-direction: column;\n",
       "  align-items: center;\n",
       "  background-color: var(--sklearn-color-background);\n",
       "  padding-right: 1em;\n",
       "  padding-left: 1em;\n",
       "}\n",
       "\n",
       "\n",
       "/* Toggleable style: style used for estimator/Pipeline/ColumnTransformer box that is\n",
       "clickable and can be expanded/collapsed.\n",
       "- Pipeline and ColumnTransformer use this feature and define the default style\n",
       "- Estimators will overwrite some part of the style using the `sk-estimator` class\n",
       "*/\n",
       "\n",
       "/* Pipeline and ColumnTransformer style (default) */\n",
       "\n",
       "#sk-container-id-2 div.sk-toggleable {\n",
       "  /* Default theme specific background. It is overwritten whether we have a\n",
       "  specific estimator or a Pipeline/ColumnTransformer */\n",
       "  background-color: var(--sklearn-color-background);\n",
       "}\n",
       "\n",
       "/* Toggleable label */\n",
       "#sk-container-id-2 label.sk-toggleable__label {\n",
       "  cursor: pointer;\n",
       "  display: flex;\n",
       "  width: 100%;\n",
       "  margin-bottom: 0;\n",
       "  padding: 0.5em;\n",
       "  box-sizing: border-box;\n",
       "  text-align: center;\n",
       "  align-items: start;\n",
       "  justify-content: space-between;\n",
       "  gap: 0.5em;\n",
       "}\n",
       "\n",
       "#sk-container-id-2 label.sk-toggleable__label .caption {\n",
       "  font-size: 0.6rem;\n",
       "  font-weight: lighter;\n",
       "  color: var(--sklearn-color-text-muted);\n",
       "}\n",
       "\n",
       "#sk-container-id-2 label.sk-toggleable__label-arrow:before {\n",
       "  /* Arrow on the left of the label */\n",
       "  content: \"▸\";\n",
       "  float: left;\n",
       "  margin-right: 0.25em;\n",
       "  color: var(--sklearn-color-icon);\n",
       "}\n",
       "\n",
       "#sk-container-id-2 label.sk-toggleable__label-arrow:hover:before {\n",
       "  color: var(--sklearn-color-text);\n",
       "}\n",
       "\n",
       "/* Toggleable content - dropdown */\n",
       "\n",
       "#sk-container-id-2 div.sk-toggleable__content {\n",
       "  max-height: 0;\n",
       "  max-width: 0;\n",
       "  overflow: hidden;\n",
       "  text-align: left;\n",
       "  /* unfitted */\n",
       "  background-color: var(--sklearn-color-unfitted-level-0);\n",
       "}\n",
       "\n",
       "#sk-container-id-2 div.sk-toggleable__content.fitted {\n",
       "  /* fitted */\n",
       "  background-color: var(--sklearn-color-fitted-level-0);\n",
       "}\n",
       "\n",
       "#sk-container-id-2 div.sk-toggleable__content pre {\n",
       "  margin: 0.2em;\n",
       "  border-radius: 0.25em;\n",
       "  color: var(--sklearn-color-text);\n",
       "  /* unfitted */\n",
       "  background-color: var(--sklearn-color-unfitted-level-0);\n",
       "}\n",
       "\n",
       "#sk-container-id-2 div.sk-toggleable__content.fitted pre {\n",
       "  /* unfitted */\n",
       "  background-color: var(--sklearn-color-fitted-level-0);\n",
       "}\n",
       "\n",
       "#sk-container-id-2 input.sk-toggleable__control:checked~div.sk-toggleable__content {\n",
       "  /* Expand drop-down */\n",
       "  max-height: 200px;\n",
       "  max-width: 100%;\n",
       "  overflow: auto;\n",
       "}\n",
       "\n",
       "#sk-container-id-2 input.sk-toggleable__control:checked~label.sk-toggleable__label-arrow:before {\n",
       "  content: \"▾\";\n",
       "}\n",
       "\n",
       "/* Pipeline/ColumnTransformer-specific style */\n",
       "\n",
       "#sk-container-id-2 div.sk-label input.sk-toggleable__control:checked~label.sk-toggleable__label {\n",
       "  color: var(--sklearn-color-text);\n",
       "  background-color: var(--sklearn-color-unfitted-level-2);\n",
       "}\n",
       "\n",
       "#sk-container-id-2 div.sk-label.fitted input.sk-toggleable__control:checked~label.sk-toggleable__label {\n",
       "  background-color: var(--sklearn-color-fitted-level-2);\n",
       "}\n",
       "\n",
       "/* Estimator-specific style */\n",
       "\n",
       "/* Colorize estimator box */\n",
       "#sk-container-id-2 div.sk-estimator input.sk-toggleable__control:checked~label.sk-toggleable__label {\n",
       "  /* unfitted */\n",
       "  background-color: var(--sklearn-color-unfitted-level-2);\n",
       "}\n",
       "\n",
       "#sk-container-id-2 div.sk-estimator.fitted input.sk-toggleable__control:checked~label.sk-toggleable__label {\n",
       "  /* fitted */\n",
       "  background-color: var(--sklearn-color-fitted-level-2);\n",
       "}\n",
       "\n",
       "#sk-container-id-2 div.sk-label label.sk-toggleable__label,\n",
       "#sk-container-id-2 div.sk-label label {\n",
       "  /* The background is the default theme color */\n",
       "  color: var(--sklearn-color-text-on-default-background);\n",
       "}\n",
       "\n",
       "/* On hover, darken the color of the background */\n",
       "#sk-container-id-2 div.sk-label:hover label.sk-toggleable__label {\n",
       "  color: var(--sklearn-color-text);\n",
       "  background-color: var(--sklearn-color-unfitted-level-2);\n",
       "}\n",
       "\n",
       "/* Label box, darken color on hover, fitted */\n",
       "#sk-container-id-2 div.sk-label.fitted:hover label.sk-toggleable__label.fitted {\n",
       "  color: var(--sklearn-color-text);\n",
       "  background-color: var(--sklearn-color-fitted-level-2);\n",
       "}\n",
       "\n",
       "/* Estimator label */\n",
       "\n",
       "#sk-container-id-2 div.sk-label label {\n",
       "  font-family: monospace;\n",
       "  font-weight: bold;\n",
       "  display: inline-block;\n",
       "  line-height: 1.2em;\n",
       "}\n",
       "\n",
       "#sk-container-id-2 div.sk-label-container {\n",
       "  text-align: center;\n",
       "}\n",
       "\n",
       "/* Estimator-specific */\n",
       "#sk-container-id-2 div.sk-estimator {\n",
       "  font-family: monospace;\n",
       "  border: 1px dotted var(--sklearn-color-border-box);\n",
       "  border-radius: 0.25em;\n",
       "  box-sizing: border-box;\n",
       "  margin-bottom: 0.5em;\n",
       "  /* unfitted */\n",
       "  background-color: var(--sklearn-color-unfitted-level-0);\n",
       "}\n",
       "\n",
       "#sk-container-id-2 div.sk-estimator.fitted {\n",
       "  /* fitted */\n",
       "  background-color: var(--sklearn-color-fitted-level-0);\n",
       "}\n",
       "\n",
       "/* on hover */\n",
       "#sk-container-id-2 div.sk-estimator:hover {\n",
       "  /* unfitted */\n",
       "  background-color: var(--sklearn-color-unfitted-level-2);\n",
       "}\n",
       "\n",
       "#sk-container-id-2 div.sk-estimator.fitted:hover {\n",
       "  /* fitted */\n",
       "  background-color: var(--sklearn-color-fitted-level-2);\n",
       "}\n",
       "\n",
       "/* Specification for estimator info (e.g. \"i\" and \"?\") */\n",
       "\n",
       "/* Common style for \"i\" and \"?\" */\n",
       "\n",
       ".sk-estimator-doc-link,\n",
       "a:link.sk-estimator-doc-link,\n",
       "a:visited.sk-estimator-doc-link {\n",
       "  float: right;\n",
       "  font-size: smaller;\n",
       "  line-height: 1em;\n",
       "  font-family: monospace;\n",
       "  background-color: var(--sklearn-color-background);\n",
       "  border-radius: 1em;\n",
       "  height: 1em;\n",
       "  width: 1em;\n",
       "  text-decoration: none !important;\n",
       "  margin-left: 0.5em;\n",
       "  text-align: center;\n",
       "  /* unfitted */\n",
       "  border: var(--sklearn-color-unfitted-level-1) 1pt solid;\n",
       "  color: var(--sklearn-color-unfitted-level-1);\n",
       "}\n",
       "\n",
       ".sk-estimator-doc-link.fitted,\n",
       "a:link.sk-estimator-doc-link.fitted,\n",
       "a:visited.sk-estimator-doc-link.fitted {\n",
       "  /* fitted */\n",
       "  border: var(--sklearn-color-fitted-level-1) 1pt solid;\n",
       "  color: var(--sklearn-color-fitted-level-1);\n",
       "}\n",
       "\n",
       "/* On hover */\n",
       "div.sk-estimator:hover .sk-estimator-doc-link:hover,\n",
       ".sk-estimator-doc-link:hover,\n",
       "div.sk-label-container:hover .sk-estimator-doc-link:hover,\n",
       ".sk-estimator-doc-link:hover {\n",
       "  /* unfitted */\n",
       "  background-color: var(--sklearn-color-unfitted-level-3);\n",
       "  color: var(--sklearn-color-background);\n",
       "  text-decoration: none;\n",
       "}\n",
       "\n",
       "div.sk-estimator.fitted:hover .sk-estimator-doc-link.fitted:hover,\n",
       ".sk-estimator-doc-link.fitted:hover,\n",
       "div.sk-label-container:hover .sk-estimator-doc-link.fitted:hover,\n",
       ".sk-estimator-doc-link.fitted:hover {\n",
       "  /* fitted */\n",
       "  background-color: var(--sklearn-color-fitted-level-3);\n",
       "  color: var(--sklearn-color-background);\n",
       "  text-decoration: none;\n",
       "}\n",
       "\n",
       "/* Span, style for the box shown on hovering the info icon */\n",
       ".sk-estimator-doc-link span {\n",
       "  display: none;\n",
       "  z-index: 9999;\n",
       "  position: relative;\n",
       "  font-weight: normal;\n",
       "  right: .2ex;\n",
       "  padding: .5ex;\n",
       "  margin: .5ex;\n",
       "  width: min-content;\n",
       "  min-width: 20ex;\n",
       "  max-width: 50ex;\n",
       "  color: var(--sklearn-color-text);\n",
       "  box-shadow: 2pt 2pt 4pt #999;\n",
       "  /* unfitted */\n",
       "  background: var(--sklearn-color-unfitted-level-0);\n",
       "  border: .5pt solid var(--sklearn-color-unfitted-level-3);\n",
       "}\n",
       "\n",
       ".sk-estimator-doc-link.fitted span {\n",
       "  /* fitted */\n",
       "  background: var(--sklearn-color-fitted-level-0);\n",
       "  border: var(--sklearn-color-fitted-level-3);\n",
       "}\n",
       "\n",
       ".sk-estimator-doc-link:hover span {\n",
       "  display: block;\n",
       "}\n",
       "\n",
       "/* \"?\"-specific style due to the `<a>` HTML tag */\n",
       "\n",
       "#sk-container-id-2 a.estimator_doc_link {\n",
       "  float: right;\n",
       "  font-size: 1rem;\n",
       "  line-height: 1em;\n",
       "  font-family: monospace;\n",
       "  background-color: var(--sklearn-color-background);\n",
       "  border-radius: 1rem;\n",
       "  height: 1rem;\n",
       "  width: 1rem;\n",
       "  text-decoration: none;\n",
       "  /* unfitted */\n",
       "  color: var(--sklearn-color-unfitted-level-1);\n",
       "  border: var(--sklearn-color-unfitted-level-1) 1pt solid;\n",
       "}\n",
       "\n",
       "#sk-container-id-2 a.estimator_doc_link.fitted {\n",
       "  /* fitted */\n",
       "  border: var(--sklearn-color-fitted-level-1) 1pt solid;\n",
       "  color: var(--sklearn-color-fitted-level-1);\n",
       "}\n",
       "\n",
       "/* On hover */\n",
       "#sk-container-id-2 a.estimator_doc_link:hover {\n",
       "  /* unfitted */\n",
       "  background-color: var(--sklearn-color-unfitted-level-3);\n",
       "  color: var(--sklearn-color-background);\n",
       "  text-decoration: none;\n",
       "}\n",
       "\n",
       "#sk-container-id-2 a.estimator_doc_link.fitted:hover {\n",
       "  /* fitted */\n",
       "  background-color: var(--sklearn-color-fitted-level-3);\n",
       "}\n",
       "</style><div id=\"sk-container-id-2\" class=\"sk-top-container\"><div class=\"sk-text-repr-fallback\"><pre>GridSearchCV(cv=KFold(n_splits=5, random_state=0, shuffle=True),\n",
       "             estimator=LogisticRegression(),\n",
       "             param_grid={&#x27;class_weight&#x27;: [{0: 1.2, 1: 0.8}], &#x27;penalty&#x27;: [&#x27;l2&#x27;],\n",
       "                         &#x27;solver&#x27;: [&#x27;sag&#x27;]})</pre><b>In a Jupyter environment, please rerun this cell to show the HTML representation or trust the notebook. <br />On GitHub, the HTML representation is unable to render, please try loading this page with nbviewer.org.</b></div><div class=\"sk-container\" hidden><div class=\"sk-item sk-dashed-wrapped\"><div class=\"sk-label-container\"><div class=\"sk-label fitted sk-toggleable\"><input class=\"sk-toggleable__control sk-hidden--visually\" id=\"sk-estimator-id-2\" type=\"checkbox\" ><label for=\"sk-estimator-id-2\" class=\"sk-toggleable__label fitted sk-toggleable__label-arrow\"><div><div>GridSearchCV</div></div><div><a class=\"sk-estimator-doc-link fitted\" rel=\"noreferrer\" target=\"_blank\" href=\"https://scikit-learn.org/1.6/modules/generated/sklearn.model_selection.GridSearchCV.html\">?<span>Documentation for GridSearchCV</span></a><span class=\"sk-estimator-doc-link fitted\">i<span>Fitted</span></span></div></label><div class=\"sk-toggleable__content fitted\"><pre>GridSearchCV(cv=KFold(n_splits=5, random_state=0, shuffle=True),\n",
       "             estimator=LogisticRegression(),\n",
       "             param_grid={&#x27;class_weight&#x27;: [{0: 1.2, 1: 0.8}], &#x27;penalty&#x27;: [&#x27;l2&#x27;],\n",
       "                         &#x27;solver&#x27;: [&#x27;sag&#x27;]})</pre></div> </div></div><div class=\"sk-parallel\"><div class=\"sk-parallel-item\"><div class=\"sk-item\"><div class=\"sk-label-container\"><div class=\"sk-label fitted sk-toggleable\"><input class=\"sk-toggleable__control sk-hidden--visually\" id=\"sk-estimator-id-3\" type=\"checkbox\" ><label for=\"sk-estimator-id-3\" class=\"sk-toggleable__label fitted sk-toggleable__label-arrow\"><div><div>best_estimator_: LogisticRegression</div></div></label><div class=\"sk-toggleable__content fitted\"><pre>LogisticRegression(class_weight={0: 1.2, 1: 0.8}, solver=&#x27;sag&#x27;)</pre></div> </div></div><div class=\"sk-serial\"><div class=\"sk-item\"><div class=\"sk-estimator fitted sk-toggleable\"><input class=\"sk-toggleable__control sk-hidden--visually\" id=\"sk-estimator-id-4\" type=\"checkbox\" ><label for=\"sk-estimator-id-4\" class=\"sk-toggleable__label fitted sk-toggleable__label-arrow\"><div><div>LogisticRegression</div></div><div><a class=\"sk-estimator-doc-link fitted\" rel=\"noreferrer\" target=\"_blank\" href=\"https://scikit-learn.org/1.6/modules/generated/sklearn.linear_model.LogisticRegression.html\">?<span>Documentation for LogisticRegression</span></a></div></label><div class=\"sk-toggleable__content fitted\"><pre>LogisticRegression(class_weight={0: 1.2, 1: 0.8}, solver=&#x27;sag&#x27;)</pre></div> </div></div></div></div></div></div></div></div></div>"
      ],
      "text/plain": [
       "GridSearchCV(cv=KFold(n_splits=5, random_state=0, shuffle=True),\n",
       "             estimator=LogisticRegression(),\n",
       "             param_grid={'class_weight': [{0: 1.2, 1: 0.8}], 'penalty': ['l2'],\n",
       "                         'solver': ['sag']})"
      ]
     },
     "execution_count": 49,
     "metadata": {},
     "output_type": "execute_result"
    }
   ],
   "source": [
    "log_reg = LogisticRegression()\n",
    "\n",
    "best_log_reg = GridSearchCV(log_reg, param_grid, cv=folds)\n",
    "best_log_reg.fit(X_train, y_train)"
   ]
  },
  {
   "cell_type": "code",
   "execution_count": 50,
   "id": "71e632b9-0473-4e0d-8f16-d1496808fc9c",
   "metadata": {},
   "outputs": [
    {
     "data": {
      "text/plain": [
       "{'class_weight': {0: 1.2, 1: 0.8}, 'penalty': 'l2', 'solver': 'sag'}"
      ]
     },
     "execution_count": 50,
     "metadata": {},
     "output_type": "execute_result"
    }
   ],
   "source": [
    "best_log_reg.best_params_"
   ]
  },
  {
   "cell_type": "code",
   "execution_count": 51,
   "id": "b5ccdb6b-c87b-4fe5-bf6d-c84819afebae",
   "metadata": {},
   "outputs": [],
   "source": [
    "log_reg = best_log_reg.best_estimator_"
   ]
  },
  {
   "cell_type": "markdown",
   "id": "69b253e5-a78a-4baa-9f31-c18561ec0204",
   "metadata": {},
   "source": [
    "Al realizar este proceso obtenemos una mejora en el puntaje f1, el cual aumenta en casi una unidad. Esto se verificará en seguida con el reporte de clasificación."
   ]
  },
  {
   "cell_type": "code",
   "execution_count": 52,
   "id": "82b59137-8c1a-4d72-8da4-fbedfe65d31f",
   "metadata": {},
   "outputs": [
    {
     "name": "stdout",
     "output_type": "stream",
     "text": [
      "[0.92324622 0.91282895 0.90983607 0.90220648 0.90739726]\n"
     ]
    },
    {
     "data": {
      "text/plain": [
       "0.9111029947589472"
      ]
     },
     "execution_count": 52,
     "metadata": {},
     "output_type": "execute_result"
    }
   ],
   "source": [
    "scores = cross_val_score(log_reg, X_test, y_test, cv=5, scoring='f1')\n",
    "\n",
    "print(scores)\n",
    "scores.mean()"
   ]
  },
  {
   "cell_type": "markdown",
   "id": "2688c65c-fe28-41df-b7db-5dba26a44309",
   "metadata": {},
   "source": [
    "Después de realizar el ajuste de hiperparámetros con GridSearchCV, el modelo muestra una precisión de 0.92 para la **clase 0 (noticia no falsa)**, lo que significa que cuando predice que una noticia es real, acierta el 92% de las veces. Su recall ha mejorado a 0.83, lo que indica que ahora detecta mejor las noticias reales, reduciendo la cantidad de falsos negativos en comparación con la versión anterior del modelo.\n",
    "En cuanto a la **clase 1 (noticia falsa)**, la precisión es de 0.89, lo que indica que el 89% de las predicciones de noticias falsas son correctas, mientras que el recall es de 0.95, lo que significa que el modelo sigue detectando la mayoría de las noticias falsas con pocos falsos negativos.\n",
    "\n",
    "El F1-score para la clase 0 ha aumentado a 0.88, lo que indica un mejor equilibrio entre precisión y recall en la detección de noticias reales, y el F1-score para la clase 1 se mantiene en 0.92, lo que sugiere que el modelo sigue teniendo un buen rendimiento en la detección de noticias falsas. En general, la mejora en recall para la clase 0 implica que el modelo ahora tiene una menor tendencia a clasificar erróneamente noticias reales como falsas, lo que lo hace más equilibrado y robusto."
   ]
  },
  {
   "cell_type": "code",
   "execution_count": 53,
   "id": "debb062e-cf10-453b-b854-d20d5cfebd03",
   "metadata": {},
   "outputs": [
    {
     "name": "stdout",
     "output_type": "stream",
     "text": [
      "Classification Report:\n",
      "               precision    recall  f1-score   support\n",
      "\n",
      "           0       0.92      0.83      0.88      6128\n",
      "           1       0.89      0.95      0.92      8764\n",
      "\n",
      "    accuracy                           0.90     14892\n",
      "   macro avg       0.91      0.89      0.90     14892\n",
      "weighted avg       0.90      0.90      0.90     14892\n",
      "\n"
     ]
    }
   ],
   "source": [
    "y_pred_train = log_reg.predict(X_train)\n",
    "y_pred_test = log_reg.predict(X_test)\n",
    "\n",
    "print(\"Classification Report:\\n\", classification_report(y_test, y_pred_test))"
   ]
  },
  {
   "cell_type": "code",
   "execution_count": 54,
   "id": "0d6aae30-5611-482d-aeb4-f72d63e836dd",
   "metadata": {},
   "outputs": [
    {
     "data": {
      "image/png": "[encoded data removed]",
      "text/plain": [
       "<Figure size 640x480 with 2 Axes>"
      ]
     },
     "metadata": {},
     "output_type": "display_data"
    }
   ],
   "source": [
    "disp = ConfusionMatrixDisplay(\n",
    "    confusion_matrix(y_test, y_pred_test),\n",
    "    display_labels=[0, 1]\n",
    ")\n",
    "\n",
    "disp.plot(cmap=plt.cm.Blues)\n",
    "plt.title('Confusion matrix')\n",
    "plt.show()"
   ]
  },
  {
   "cell_type": "markdown",
   "id": "65ad27c0-8cb3-4331-9339-c493a1953785",
   "metadata": {},
   "source": [
    "## 5.2 Modelo XGBoost"
   ]
  },
  {
   "cell_type": "code",
   "execution_count": 108,
   "id": "27030d27-d6b0-45e2-aad2-dbd405a08cac",
   "metadata": {},
   "outputs": [],
   "source": [
    "from xgboost import XGBClassifier"
   ]
  },
  {
   "cell_type": "code",
   "execution_count": null,
   "id": "2418becf-3f48-485b-ab26-dd9260739367",
   "metadata": {},
   "outputs": [],
   "source": [
    "model = XGBClassifier(objective='binary:logistic', random_state=42)\n",
    "model.fit(X_train, y_train)"
   ]
  },
  {
   "cell_type": "code",
   "execution_count": null,
   "id": "f7fefa28-199f-4b27-87ee-c3156bf5cff7",
   "metadata": {},
   "outputs": [],
   "source": [
    "scores = cross_val_score(model, X_test, y_test, cv=5, scoring='f1')\n",
    "\n",
    "print(scores)\n",
    "scores.mean()"
   ]
  },
  {
   "cell_type": "markdown",
   "id": "3a47108c-0c51-493f-b10d-c5c23934612f",
   "metadata": {},
   "source": [
    "El modelo de XGBoost ha logrado un rendimiento notablemente alto en términos de precisión, recall y F1-score para ambas clases. Para la **clase 0 (noticia no falsa)**, la precisión es de 0.97, lo que indica que la mayoría de las noticias clasificadas como no falsas son realmente verdaderas, mientras que el recall es de 0.85, lo que sugiere que aún hay margen de mejora en la detección de todas las noticias no falsas. En la **clase 1 (noticia falsa)**, la precisión es de 0.90 y el recall de 0.98, lo que significa que el modelo identifica casi todas las noticias falsas, aunque ocasionalmente puede clasificar incorrectamente algunas noticias verdaderas como falsas.\n",
    "\n",
    "En general, el modelo obtiene un F1-score de 0.91 para la clase 0 y 0.94 para la clase 1, con una precisión y recall macro promedio de 0.94 y 0.92, respectivamente. A pesar de estos buenos resultados, un inconveniente importante es el tiempo de entrenamiento, ya que XGBoost es un modelo computacionalmente costoso, lo que puede hacer que la optimización sea un proceso lento."
   ]
  },
  {
   "cell_type": "code",
   "execution_count": null,
   "id": "61e8cb71-cc8f-4ba6-9a4e-22c4e0bbaa34",
   "metadata": {},
   "outputs": [],
   "source": [
    "y_pred = model.predict(X_test)\n",
    "\n",
    "print(\"Classification Report:\\n\", classification_report(y_test, y_pred))"
   ]
  },
  {
   "cell_type": "code",
   "execution_count": null,
   "id": "4b6061a6-4473-433b-b2d6-ea65f591c3fd",
   "metadata": {},
   "outputs": [],
   "source": [
    "disp = ConfusionMatrixDisplay(\n",
    "    confusion_matrix(y_test, y_pred),\n",
    "    display_labels=[0, 1]\n",
    ")\n",
    "\n",
    "disp.plot(cmap=plt.cm.Blues)\n",
    "plt.title('Confusion matrix')\n",
    "plt.show()"
   ]
  },
  {
   "cell_type": "markdown",
   "id": "739338fc-df5c-4ac1-beb8-08722627b189",
   "metadata": {},
   "source": [
    "### 5.1.1 Obtener la importancia de las características"
   ]
  },
  {
   "cell_type": "markdown",
   "id": "3245336b-36c6-40b1-a8cc-9f4abd97a43c",
   "metadata": {},
   "source": [
    "### 5.2.2 Construcción del modelo con búsqueda de hiperparámetros"
   ]
  },
  {
   "cell_type": "code",
   "execution_count": 101,
   "id": "5b41ba1a-e18f-4441-af35-a4c9f9420cac",
   "metadata": {},
   "outputs": [
    {
     "data": {
      "text/plain": [
       "{'n_estimators': [100, 200],\n",
       " 'max_depth': [3],\n",
       " 'learning_rate': [3],\n",
       " 'subsample': [0.5, 0.7, 0.1]}"
      ]
     },
     "execution_count": 101,
     "metadata": {},
     "output_type": "execute_result"
    }
   ],
   "source": [
    "folds = KFold(n_splits=3, shuffle=True, random_state=0)\n",
    "\n",
    "param_distributions = {\n",
    "    'n_estimators': [100, 200],\n",
    "    'max_depth': [3],\n",
    "    'learning_rate': [3],\n",
    "    'subsample': [0.5, 0.7, 0.1],\n",
    "}\n",
    "\n",
    "param_distributions"
   ]
  },
  {
   "cell_type": "markdown",
   "id": "c1d6682b-1679-4dfc-bd1e-360d6a16f5d2",
   "metadata": {},
   "source": [
    "En este caso se prefiere `RandomizedSearchCV` sobre `GridSearchCV` cuando el espacio de hiperparámetros es grande o el entrenamiento del modelo es costoso. Esto dado que `RandomizedSearchCV` prueba solo un subconjunto aleatorio de combinaciones, reduciendo el tiempo de cómputo. Todo esto ya que el entrenamiento de este modelo en particular es bastante lento."
   ]
  },
  {
   "cell_type": "code",
   "execution_count": 102,
   "id": "f1f2673b-e86c-4743-9d7c-c44f590de57a",
   "metadata": {},
   "outputs": [
    {
     "name": "stdout",
     "output_type": "stream",
     "text": [
      "Fitting 3 folds for each of 5 candidates, totalling 15 fits\n",
      "[CV] END learning_rate=3, max_depth=3, n_estimators=100, subsample=0.5; total time=   3.7s\n",
      "[CV] END learning_rate=3, max_depth=3, n_estimators=100, subsample=0.5; total time=   3.7s\n",
      "[CV] END learning_rate=3, max_depth=3, n_estimators=100, subsample=0.5; total time=   4.0s\n",
      "[CV] END learning_rate=3, max_depth=3, n_estimators=100, subsample=0.7; total time=   3.8s\n",
      "[CV] END learning_rate=3, max_depth=3, n_estimators=100, subsample=0.7; total time=   3.5s\n",
      "[CV] END learning_rate=3, max_depth=3, n_estimators=100, subsample=0.7; total time=   3.8s\n",
      "[CV] END learning_rate=3, max_depth=3, n_estimators=200, subsample=0.1; total time=   6.2s\n",
      "[CV] END learning_rate=3, max_depth=3, n_estimators=200, subsample=0.1; total time=   6.4s\n",
      "[CV] END learning_rate=3, max_depth=3, n_estimators=200, subsample=0.1; total time=   6.3s\n",
      "[CV] END learning_rate=3, max_depth=3, n_estimators=100, subsample=0.1; total time=   3.6s\n",
      "[CV] END learning_rate=3, max_depth=3, n_estimators=100, subsample=0.1; total time=   3.7s\n",
      "[CV] END learning_rate=3, max_depth=3, n_estimators=100, subsample=0.1; total time=   3.6s\n",
      "[CV] END learning_rate=3, max_depth=3, n_estimators=200, subsample=0.7; total time=   6.5s\n",
      "[CV] END learning_rate=3, max_depth=3, n_estimators=200, subsample=0.7; total time=   6.1s\n",
      "[CV] END learning_rate=3, max_depth=3, n_estimators=200, subsample=0.7; total time=   6.2s\n"
     ]
    },
    {
     "data": {
      "text/html": [
       "<style>#sk-container-id-9 {\n",
       "  /* Definition of color scheme common for light and dark mode */\n",
       "  --sklearn-color-text: #000;\n",
       "  --sklearn-color-text-muted: #666;\n",
       "  --sklearn-color-line: gray;\n",
       "  /* Definition of color scheme for unfitted estimators */\n",
       "  --sklearn-color-unfitted-level-0: #fff5e6;\n",
       "  --sklearn-color-unfitted-level-1: #f6e4d2;\n",
       "  --sklearn-color-unfitted-level-2: #ffe0b3;\n",
       "  --sklearn-color-unfitted-level-3: chocolate;\n",
       "  /* Definition of color scheme for fitted estimators */\n",
       "  --sklearn-color-fitted-level-0: #f0f8ff;\n",
       "  --sklearn-color-fitted-level-1: #d4ebff;\n",
       "  --sklearn-color-fitted-level-2: #b3dbfd;\n",
       "  --sklearn-color-fitted-level-3: cornflowerblue;\n",
       "\n",
       "  /* Specific color for light theme */\n",
       "  --sklearn-color-text-on-default-background: var(--sg-text-color, var(--theme-code-foreground, var(--jp-content-font-color1, black)));\n",
       "  --sklearn-color-background: var(--sg-background-color, var(--theme-background, var(--jp-layout-color0, white)));\n",
       "  --sklearn-color-border-box: var(--sg-text-color, var(--theme-code-foreground, var(--jp-content-font-color1, black)));\n",
       "  --sklearn-color-icon: #696969;\n",
       "\n",
       "  @media (prefers-color-scheme: dark) {\n",
       "    /* Redefinition of color scheme for dark theme */\n",
       "    --sklearn-color-text-on-default-background: var(--sg-text-color, var(--theme-code-foreground, var(--jp-content-font-color1, white)));\n",
       "    --sklearn-color-background: var(--sg-background-color, var(--theme-background, var(--jp-layout-color0, #111)));\n",
       "    --sklearn-color-border-box: var(--sg-text-color, var(--theme-code-foreground, var(--jp-content-font-color1, white)));\n",
       "    --sklearn-color-icon: #878787;\n",
       "  }\n",
       "}\n",
       "\n",
       "#sk-container-id-9 {\n",
       "  color: var(--sklearn-color-text);\n",
       "}\n",
       "\n",
       "#sk-container-id-9 pre {\n",
       "  padding: 0;\n",
       "}\n",
       "\n",
       "#sk-container-id-9 input.sk-hidden--visually {\n",
       "  border: 0;\n",
       "  clip: rect(1px 1px 1px 1px);\n",
       "  clip: rect(1px, 1px, 1px, 1px);\n",
       "  height: 1px;\n",
       "  margin: -1px;\n",
       "  overflow: hidden;\n",
       "  padding: 0;\n",
       "  position: absolute;\n",
       "  width: 1px;\n",
       "}\n",
       "\n",
       "#sk-container-id-9 div.sk-dashed-wrapped {\n",
       "  border: 1px dashed var(--sklearn-color-line);\n",
       "  margin: 0 0.4em 0.5em 0.4em;\n",
       "  box-sizing: border-box;\n",
       "  padding-bottom: 0.4em;\n",
       "  background-color: var(--sklearn-color-background);\n",
       "}\n",
       "\n",
       "#sk-container-id-9 div.sk-container {\n",
       "  /* jupyter's `normalize.less` sets `[hidden] { display: none; }`\n",
       "     but bootstrap.min.css set `[hidden] { display: none !important; }`\n",
       "     so we also need the `!important` here to be able to override the\n",
       "     default hidden behavior on the sphinx rendered scikit-learn.org.\n",
       "     See: https://github.com/scikit-learn/scikit-learn/issues/21755 */\n",
       "  display: inline-block !important;\n",
       "  position: relative;\n",
       "}\n",
       "\n",
       "#sk-container-id-9 div.sk-text-repr-fallback {\n",
       "  display: none;\n",
       "}\n",
       "\n",
       "div.sk-parallel-item,\n",
       "div.sk-serial,\n",
       "div.sk-item {\n",
       "  /* draw centered vertical line to link estimators */\n",
       "  background-image: linear-gradient(var(--sklearn-color-text-on-default-background), var(--sklearn-color-text-on-default-background));\n",
       "  background-size: 2px 100%;\n",
       "  background-repeat: no-repeat;\n",
       "  background-position: center center;\n",
       "}\n",
       "\n",
       "/* Parallel-specific style estimator block */\n",
       "\n",
       "#sk-container-id-9 div.sk-parallel-item::after {\n",
       "  content: \"\";\n",
       "  width: 100%;\n",
       "  border-bottom: 2px solid var(--sklearn-color-text-on-default-background);\n",
       "  flex-grow: 1;\n",
       "}\n",
       "\n",
       "#sk-container-id-9 div.sk-parallel {\n",
       "  display: flex;\n",
       "  align-items: stretch;\n",
       "  justify-content: center;\n",
       "  background-color: var(--sklearn-color-background);\n",
       "  position: relative;\n",
       "}\n",
       "\n",
       "#sk-container-id-9 div.sk-parallel-item {\n",
       "  display: flex;\n",
       "  flex-direction: column;\n",
       "}\n",
       "\n",
       "#sk-container-id-9 div.sk-parallel-item:first-child::after {\n",
       "  align-self: flex-end;\n",
       "  width: 50%;\n",
       "}\n",
       "\n",
       "#sk-container-id-9 div.sk-parallel-item:last-child::after {\n",
       "  align-self: flex-start;\n",
       "  width: 50%;\n",
       "}\n",
       "\n",
       "#sk-container-id-9 div.sk-parallel-item:only-child::after {\n",
       "  width: 0;\n",
       "}\n",
       "\n",
       "/* Serial-specific style estimator block */\n",
       "\n",
       "#sk-container-id-9 div.sk-serial {\n",
       "  display: flex;\n",
       "  flex-direction: column;\n",
       "  align-items: center;\n",
       "  background-color: var(--sklearn-color-background);\n",
       "  padding-right: 1em;\n",
       "  padding-left: 1em;\n",
       "}\n",
       "\n",
       "\n",
       "/* Toggleable style: style used for estimator/Pipeline/ColumnTransformer box that is\n",
       "clickable and can be expanded/collapsed.\n",
       "- Pipeline and ColumnTransformer use this feature and define the default style\n",
       "- Estimators will overwrite some part of the style using the `sk-estimator` class\n",
       "*/\n",
       "\n",
       "/* Pipeline and ColumnTransformer style (default) */\n",
       "\n",
       "#sk-container-id-9 div.sk-toggleable {\n",
       "  /* Default theme specific background. It is overwritten whether we have a\n",
       "  specific estimator or a Pipeline/ColumnTransformer */\n",
       "  background-color: var(--sklearn-color-background);\n",
       "}\n",
       "\n",
       "/* Toggleable label */\n",
       "#sk-container-id-9 label.sk-toggleable__label {\n",
       "  cursor: pointer;\n",
       "  display: flex;\n",
       "  width: 100%;\n",
       "  margin-bottom: 0;\n",
       "  padding: 0.5em;\n",
       "  box-sizing: border-box;\n",
       "  text-align: center;\n",
       "  align-items: start;\n",
       "  justify-content: space-between;\n",
       "  gap: 0.5em;\n",
       "}\n",
       "\n",
       "#sk-container-id-9 label.sk-toggleable__label .caption {\n",
       "  font-size: 0.6rem;\n",
       "  font-weight: lighter;\n",
       "  color: var(--sklearn-color-text-muted);\n",
       "}\n",
       "\n",
       "#sk-container-id-9 label.sk-toggleable__label-arrow:before {\n",
       "  /* Arrow on the left of the label */\n",
       "  content: \"▸\";\n",
       "  float: left;\n",
       "  margin-right: 0.25em;\n",
       "  color: var(--sklearn-color-icon);\n",
       "}\n",
       "\n",
       "#sk-container-id-9 label.sk-toggleable__label-arrow:hover:before {\n",
       "  color: var(--sklearn-color-text);\n",
       "}\n",
       "\n",
       "/* Toggleable content - dropdown */\n",
       "\n",
       "#sk-container-id-9 div.sk-toggleable__content {\n",
       "  max-height: 0;\n",
       "  max-width: 0;\n",
       "  overflow: hidden;\n",
       "  text-align: left;\n",
       "  /* unfitted */\n",
       "  background-color: var(--sklearn-color-unfitted-level-0);\n",
       "}\n",
       "\n",
       "#sk-container-id-9 div.sk-toggleable__content.fitted {\n",
       "  /* fitted */\n",
       "  background-color: var(--sklearn-color-fitted-level-0);\n",
       "}\n",
       "\n",
       "#sk-container-id-9 div.sk-toggleable__content pre {\n",
       "  margin: 0.2em;\n",
       "  border-radius: 0.25em;\n",
       "  color: var(--sklearn-color-text);\n",
       "  /* unfitted */\n",
       "  background-color: var(--sklearn-color-unfitted-level-0);\n",
       "}\n",
       "\n",
       "#sk-container-id-9 div.sk-toggleable__content.fitted pre {\n",
       "  /* unfitted */\n",
       "  background-color: var(--sklearn-color-fitted-level-0);\n",
       "}\n",
       "\n",
       "#sk-container-id-9 input.sk-toggleable__control:checked~div.sk-toggleable__content {\n",
       "  /* Expand drop-down */\n",
       "  max-height: 200px;\n",
       "  max-width: 100%;\n",
       "  overflow: auto;\n",
       "}\n",
       "\n",
       "#sk-container-id-9 input.sk-toggleable__control:checked~label.sk-toggleable__label-arrow:before {\n",
       "  content: \"▾\";\n",
       "}\n",
       "\n",
       "/* Pipeline/ColumnTransformer-specific style */\n",
       "\n",
       "#sk-container-id-9 div.sk-label input.sk-toggleable__control:checked~label.sk-toggleable__label {\n",
       "  color: var(--sklearn-color-text);\n",
       "  background-color: var(--sklearn-color-unfitted-level-2);\n",
       "}\n",
       "\n",
       "#sk-container-id-9 div.sk-label.fitted input.sk-toggleable__control:checked~label.sk-toggleable__label {\n",
       "  background-color: var(--sklearn-color-fitted-level-2);\n",
       "}\n",
       "\n",
       "/* Estimator-specific style */\n",
       "\n",
       "/* Colorize estimator box */\n",
       "#sk-container-id-9 div.sk-estimator input.sk-toggleable__control:checked~label.sk-toggleable__label {\n",
       "  /* unfitted */\n",
       "  background-color: var(--sklearn-color-unfitted-level-2);\n",
       "}\n",
       "\n",
       "#sk-container-id-9 div.sk-estimator.fitted input.sk-toggleable__control:checked~label.sk-toggleable__label {\n",
       "  /* fitted */\n",
       "  background-color: var(--sklearn-color-fitted-level-2);\n",
       "}\n",
       "\n",
       "#sk-container-id-9 div.sk-label label.sk-toggleable__label,\n",
       "#sk-container-id-9 div.sk-label label {\n",
       "  /* The background is the default theme color */\n",
       "  color: var(--sklearn-color-text-on-default-background);\n",
       "}\n",
       "\n",
       "/* On hover, darken the color of the background */\n",
       "#sk-container-id-9 div.sk-label:hover label.sk-toggleable__label {\n",
       "  color: var(--sklearn-color-text);\n",
       "  background-color: var(--sklearn-color-unfitted-level-2);\n",
       "}\n",
       "\n",
       "/* Label box, darken color on hover, fitted */\n",
       "#sk-container-id-9 div.sk-label.fitted:hover label.sk-toggleable__label.fitted {\n",
       "  color: var(--sklearn-color-text);\n",
       "  background-color: var(--sklearn-color-fitted-level-2);\n",
       "}\n",
       "\n",
       "/* Estimator label */\n",
       "\n",
       "#sk-container-id-9 div.sk-label label {\n",
       "  font-family: monospace;\n",
       "  font-weight: bold;\n",
       "  display: inline-block;\n",
       "  line-height: 1.2em;\n",
       "}\n",
       "\n",
       "#sk-container-id-9 div.sk-label-container {\n",
       "  text-align: center;\n",
       "}\n",
       "\n",
       "/* Estimator-specific */\n",
       "#sk-container-id-9 div.sk-estimator {\n",
       "  font-family: monospace;\n",
       "  border: 1px dotted var(--sklearn-color-border-box);\n",
       "  border-radius: 0.25em;\n",
       "  box-sizing: border-box;\n",
       "  margin-bottom: 0.5em;\n",
       "  /* unfitted */\n",
       "  background-color: var(--sklearn-color-unfitted-level-0);\n",
       "}\n",
       "\n",
       "#sk-container-id-9 div.sk-estimator.fitted {\n",
       "  /* fitted */\n",
       "  background-color: var(--sklearn-color-fitted-level-0);\n",
       "}\n",
       "\n",
       "/* on hover */\n",
       "#sk-container-id-9 div.sk-estimator:hover {\n",
       "  /* unfitted */\n",
       "  background-color: var(--sklearn-color-unfitted-level-2);\n",
       "}\n",
       "\n",
       "#sk-container-id-9 div.sk-estimator.fitted:hover {\n",
       "  /* fitted */\n",
       "  background-color: var(--sklearn-color-fitted-level-2);\n",
       "}\n",
       "\n",
       "/* Specification for estimator info (e.g. \"i\" and \"?\") */\n",
       "\n",
       "/* Common style for \"i\" and \"?\" */\n",
       "\n",
       ".sk-estimator-doc-link,\n",
       "a:link.sk-estimator-doc-link,\n",
       "a:visited.sk-estimator-doc-link {\n",
       "  float: right;\n",
       "  font-size: smaller;\n",
       "  line-height: 1em;\n",
       "  font-family: monospace;\n",
       "  background-color: var(--sklearn-color-background);\n",
       "  border-radius: 1em;\n",
       "  height: 1em;\n",
       "  width: 1em;\n",
       "  text-decoration: none !important;\n",
       "  margin-left: 0.5em;\n",
       "  text-align: center;\n",
       "  /* unfitted */\n",
       "  border: var(--sklearn-color-unfitted-level-1) 1pt solid;\n",
       "  color: var(--sklearn-color-unfitted-level-1);\n",
       "}\n",
       "\n",
       ".sk-estimator-doc-link.fitted,\n",
       "a:link.sk-estimator-doc-link.fitted,\n",
       "a:visited.sk-estimator-doc-link.fitted {\n",
       "  /* fitted */\n",
       "  border: var(--sklearn-color-fitted-level-1) 1pt solid;\n",
       "  color: var(--sklearn-color-fitted-level-1);\n",
       "}\n",
       "\n",
       "/* On hover */\n",
       "div.sk-estimator:hover .sk-estimator-doc-link:hover,\n",
       ".sk-estimator-doc-link:hover,\n",
       "div.sk-label-container:hover .sk-estimator-doc-link:hover,\n",
       ".sk-estimator-doc-link:hover {\n",
       "  /* unfitted */\n",
       "  background-color: var(--sklearn-color-unfitted-level-3);\n",
       "  color: var(--sklearn-color-background);\n",
       "  text-decoration: none;\n",
       "}\n",
       "\n",
       "div.sk-estimator.fitted:hover .sk-estimator-doc-link.fitted:hover,\n",
       ".sk-estimator-doc-link.fitted:hover,\n",
       "div.sk-label-container:hover .sk-estimator-doc-link.fitted:hover,\n",
       ".sk-estimator-doc-link.fitted:hover {\n",
       "  /* fitted */\n",
       "  background-color: var(--sklearn-color-fitted-level-3);\n",
       "  color: var(--sklearn-color-background);\n",
       "  text-decoration: none;\n",
       "}\n",
       "\n",
       "/* Span, style for the box shown on hovering the info icon */\n",
       ".sk-estimator-doc-link span {\n",
       "  display: none;\n",
       "  z-index: 9999;\n",
       "  position: relative;\n",
       "  font-weight: normal;\n",
       "  right: .2ex;\n",
       "  padding: .5ex;\n",
       "  margin: .5ex;\n",
       "  width: min-content;\n",
       "  min-width: 20ex;\n",
       "  max-width: 50ex;\n",
       "  color: var(--sklearn-color-text);\n",
       "  box-shadow: 2pt 2pt 4pt #999;\n",
       "  /* unfitted */\n",
       "  background: var(--sklearn-color-unfitted-level-0);\n",
       "  border: .5pt solid var(--sklearn-color-unfitted-level-3);\n",
       "}\n",
       "\n",
       ".sk-estimator-doc-link.fitted span {\n",
       "  /* fitted */\n",
       "  background: var(--sklearn-color-fitted-level-0);\n",
       "  border: var(--sklearn-color-fitted-level-3);\n",
       "}\n",
       "\n",
       ".sk-estimator-doc-link:hover span {\n",
       "  display: block;\n",
       "}\n",
       "\n",
       "/* \"?\"-specific style due to the `<a>` HTML tag */\n",
       "\n",
       "#sk-container-id-9 a.estimator_doc_link {\n",
       "  float: right;\n",
       "  font-size: 1rem;\n",
       "  line-height: 1em;\n",
       "  font-family: monospace;\n",
       "  background-color: var(--sklearn-color-background);\n",
       "  border-radius: 1rem;\n",
       "  height: 1rem;\n",
       "  width: 1rem;\n",
       "  text-decoration: none;\n",
       "  /* unfitted */\n",
       "  color: var(--sklearn-color-unfitted-level-1);\n",
       "  border: var(--sklearn-color-unfitted-level-1) 1pt solid;\n",
       "}\n",
       "\n",
       "#sk-container-id-9 a.estimator_doc_link.fitted {\n",
       "  /* fitted */\n",
       "  border: var(--sklearn-color-fitted-level-1) 1pt solid;\n",
       "  color: var(--sklearn-color-fitted-level-1);\n",
       "}\n",
       "\n",
       "/* On hover */\n",
       "#sk-container-id-9 a.estimator_doc_link:hover {\n",
       "  /* unfitted */\n",
       "  background-color: var(--sklearn-color-unfitted-level-3);\n",
       "  color: var(--sklearn-color-background);\n",
       "  text-decoration: none;\n",
       "}\n",
       "\n",
       "#sk-container-id-9 a.estimator_doc_link.fitted:hover {\n",
       "  /* fitted */\n",
       "  background-color: var(--sklearn-color-fitted-level-3);\n",
       "}\n",
       "</style><div id=\"sk-container-id-9\" class=\"sk-top-container\"><div class=\"sk-text-repr-fallback\"><pre>RandomizedSearchCV(cv=KFold(n_splits=3, random_state=0, shuffle=True),\n",
       "                   estimator=XGBClassifier(base_score=None, booster=None,\n",
       "                                           callbacks=None,\n",
       "                                           colsample_bylevel=None,\n",
       "                                           colsample_bynode=None,\n",
       "                                           colsample_bytree=None, device=None,\n",
       "                                           early_stopping_rounds=None,\n",
       "                                           enable_categorical=False,\n",
       "                                           eval_metric=None, feature_types=None,\n",
       "                                           gamma=None, grow_policy=None,\n",
       "                                           importance_type=Non...\n",
       "                                           max_delta_step=None, max_depth=None,\n",
       "                                           max_leaves=None,\n",
       "                                           min_child_weight=None, missing=nan,\n",
       "                                           monotone_constraints=None,\n",
       "                                           multi_strategy=None,\n",
       "                                           n_estimators=None, n_jobs=None,\n",
       "                                           num_parallel_tree=None,\n",
       "                                           random_state=42, ...),\n",
       "                   n_iter=5,\n",
       "                   param_distributions={&#x27;learning_rate&#x27;: [3], &#x27;max_depth&#x27;: [3],\n",
       "                                        &#x27;n_estimators&#x27;: [100, 200],\n",
       "                                        &#x27;subsample&#x27;: [0.5, 0.7, 0.1]},\n",
       "                   random_state=42, scoring=&#x27;f1&#x27;, verbose=2)</pre><b>In a Jupyter environment, please rerun this cell to show the HTML representation or trust the notebook. <br />On GitHub, the HTML representation is unable to render, please try loading this page with nbviewer.org.</b></div><div class=\"sk-container\" hidden><div class=\"sk-item sk-dashed-wrapped\"><div class=\"sk-label-container\"><div class=\"sk-label fitted sk-toggleable\"><input class=\"sk-toggleable__control sk-hidden--visually\" id=\"sk-estimator-id-21\" type=\"checkbox\" ><label for=\"sk-estimator-id-21\" class=\"sk-toggleable__label fitted sk-toggleable__label-arrow\"><div><div>RandomizedSearchCV</div></div><div><a class=\"sk-estimator-doc-link fitted\" rel=\"noreferrer\" target=\"_blank\" href=\"https://scikit-learn.org/1.6/modules/generated/sklearn.model_selection.RandomizedSearchCV.html\">?<span>Documentation for RandomizedSearchCV</span></a><span class=\"sk-estimator-doc-link fitted\">i<span>Fitted</span></span></div></label><div class=\"sk-toggleable__content fitted\"><pre>RandomizedSearchCV(cv=KFold(n_splits=3, random_state=0, shuffle=True),\n",
       "                   estimator=XGBClassifier(base_score=None, booster=None,\n",
       "                                           callbacks=None,\n",
       "                                           colsample_bylevel=None,\n",
       "                                           colsample_bynode=None,\n",
       "                                           colsample_bytree=None, device=None,\n",
       "                                           early_stopping_rounds=None,\n",
       "                                           enable_categorical=False,\n",
       "                                           eval_metric=None, feature_types=None,\n",
       "                                           gamma=None, grow_policy=None,\n",
       "                                           importance_type=Non...\n",
       "                                           max_delta_step=None, max_depth=None,\n",
       "                                           max_leaves=None,\n",
       "                                           min_child_weight=None, missing=nan,\n",
       "                                           monotone_constraints=None,\n",
       "                                           multi_strategy=None,\n",
       "                                           n_estimators=None, n_jobs=None,\n",
       "                                           num_parallel_tree=None,\n",
       "                                           random_state=42, ...),\n",
       "                   n_iter=5,\n",
       "                   param_distributions={&#x27;learning_rate&#x27;: [3], &#x27;max_depth&#x27;: [3],\n",
       "                                        &#x27;n_estimators&#x27;: [100, 200],\n",
       "                                        &#x27;subsample&#x27;: [0.5, 0.7, 0.1]},\n",
       "                   random_state=42, scoring=&#x27;f1&#x27;, verbose=2)</pre></div> </div></div><div class=\"sk-parallel\"><div class=\"sk-parallel-item\"><div class=\"sk-item\"><div class=\"sk-label-container\"><div class=\"sk-label fitted sk-toggleable\"><input class=\"sk-toggleable__control sk-hidden--visually\" id=\"sk-estimator-id-22\" type=\"checkbox\" ><label for=\"sk-estimator-id-22\" class=\"sk-toggleable__label fitted sk-toggleable__label-arrow\"><div><div>best_estimator_: XGBClassifier</div></div></label><div class=\"sk-toggleable__content fitted\"><pre>XGBClassifier(base_score=None, booster=None, callbacks=None,\n",
       "              colsample_bylevel=None, colsample_bynode=None,\n",
       "              colsample_bytree=None, device=None, early_stopping_rounds=None,\n",
       "              enable_categorical=False, eval_metric=None, feature_types=None,\n",
       "              gamma=None, grow_policy=None, importance_type=None,\n",
       "              interaction_constraints=None, learning_rate=3, max_bin=None,\n",
       "              max_cat_threshold=None, max_cat_to_onehot=None,\n",
       "              max_delta_step=None, max_depth=3, max_leaves=None,\n",
       "              min_child_weight=None, missing=nan, monotone_constraints=None,\n",
       "              multi_strategy=None, n_estimators=100, n_jobs=None,\n",
       "              num_parallel_tree=None, random_state=42, ...)</pre></div> </div></div><div class=\"sk-serial\"><div class=\"sk-item\"><div class=\"sk-estimator fitted sk-toggleable\"><input class=\"sk-toggleable__control sk-hidden--visually\" id=\"sk-estimator-id-23\" type=\"checkbox\" ><label for=\"sk-estimator-id-23\" class=\"sk-toggleable__label fitted sk-toggleable__label-arrow\"><div><div>XGBClassifier</div></div></label><div class=\"sk-toggleable__content fitted\"><pre>XGBClassifier(base_score=None, booster=None, callbacks=None,\n",
       "              colsample_bylevel=None, colsample_bynode=None,\n",
       "              colsample_bytree=None, device=None, early_stopping_rounds=None,\n",
       "              enable_categorical=False, eval_metric=None, feature_types=None,\n",
       "              gamma=None, grow_policy=None, importance_type=None,\n",
       "              interaction_constraints=None, learning_rate=3, max_bin=None,\n",
       "              max_cat_threshold=None, max_cat_to_onehot=None,\n",
       "              max_delta_step=None, max_depth=3, max_leaves=None,\n",
       "              min_child_weight=None, missing=nan, monotone_constraints=None,\n",
       "              multi_strategy=None, n_estimators=100, n_jobs=None,\n",
       "              num_parallel_tree=None, random_state=42, ...)</pre></div> </div></div></div></div></div></div></div></div></div>"
      ],
      "text/plain": [
       "RandomizedSearchCV(cv=KFold(n_splits=3, random_state=0, shuffle=True),\n",
       "                   estimator=XGBClassifier(base_score=None, booster=None,\n",
       "                                           callbacks=None,\n",
       "                                           colsample_bylevel=None,\n",
       "                                           colsample_bynode=None,\n",
       "                                           colsample_bytree=None, device=None,\n",
       "                                           early_stopping_rounds=None,\n",
       "                                           enable_categorical=False,\n",
       "                                           eval_metric=None, feature_types=None,\n",
       "                                           gamma=None, grow_policy=None,\n",
       "                                           importance_type=Non...\n",
       "                                           max_delta_step=None, max_depth=None,\n",
       "                                           max_leaves=None,\n",
       "                                           min_child_weight=None, missing=nan,\n",
       "                                           monotone_constraints=None,\n",
       "                                           multi_strategy=None,\n",
       "                                           n_estimators=None, n_jobs=None,\n",
       "                                           num_parallel_tree=None,\n",
       "                                           random_state=42, ...),\n",
       "                   n_iter=5,\n",
       "                   param_distributions={'learning_rate': [3], 'max_depth': [3],\n",
       "                                        'n_estimators': [100, 200],\n",
       "                                        'subsample': [0.5, 0.7, 0.1]},\n",
       "                   random_state=42, scoring='f1', verbose=2)"
      ]
     },
     "execution_count": 102,
     "metadata": {},
     "output_type": "execute_result"
    }
   ],
   "source": [
    "xgb_classifier = XGBClassifier(\n",
    "    objective='binary:logistic',\n",
    "    random_state=42\n",
    ")\n",
    "\n",
    "random_search = RandomizedSearchCV(\n",
    "    xgb_classifier,\n",
    "    param_distributions,\n",
    "    scoring='f1', \n",
    "    cv=folds, \n",
    "    verbose=2, \n",
    "    random_state=42,\n",
    "    n_iter=5\n",
    ")\n",
    "\n",
    "random_search.fit(X_train, y_train)"
   ]
  },
  {
   "cell_type": "code",
   "execution_count": 103,
   "id": "5823267b-be77-464c-8c1b-882bd5177c78",
   "metadata": {},
   "outputs": [
    {
     "data": {
      "text/plain": [
       "{'subsample': 0.7, 'n_estimators': 100, 'max_depth': 3, 'learning_rate': 3}"
      ]
     },
     "execution_count": 103,
     "metadata": {},
     "output_type": "execute_result"
    }
   ],
   "source": [
    "random_search.best_params_"
   ]
  },
  {
   "cell_type": "code",
   "execution_count": 104,
   "id": "1c1aa94b-b73b-4e00-a011-aa266cac4c42",
   "metadata": {},
   "outputs": [],
   "source": [
    "xgb_model = random_search.best_estimator_"
   ]
  },
  {
   "cell_type": "markdown",
   "id": "1c57222e-dfbe-4a7f-ae8c-4f9fc3be2357",
   "metadata": {},
   "source": [
    "Después de aplicar RandomizedSearchCV para la optimización de hiperparámetros en el modelo XGBoost, se han obtenido métricas de rendimiento ligeramente mejoradas en comparación con el entrenamiento sin optimización. Para la **clase 0 (noticia no falsa)**, la precisión es de 0.97 y el recall ha aumentado a 0.86, lo que indica que el modelo ha mejorado en la detección de noticias no falsas sin comprometer la precisión. Para la **clase 1 (noticia falsa)**, la precisión es de 0.91 y el recall de 0.98, lo que muestra que el modelo sigue siendo altamente efectivo en identificar noticias falsas con muy pocas omisiones.\n",
    "\n",
    "El F1-score para la clase 0 ha subido a 0.91, y para la clase 1 se mantiene en 0.94, reflejando un balance sólido entre precisión y recall. La precisión y recall promedio (macro avg) han alcanzado valores de 0.94 y 0.92 respectivamente, lo que demuestra que el modelo mantiene un buen rendimiento en ambas clases. En conclusión, el ajuste de hiperparámetros ha permitido obtener una mejora en el recall sin afectar la precisión, aunque el proceso sigue siendo costoso en términos computacionales debido a la naturaleza pesada de XGBoost."
   ]
  },
  {
   "cell_type": "code",
   "execution_count": 105,
   "id": "e2ab7c97-b328-40c1-b323-f35d3b22451c",
   "metadata": {},
   "outputs": [
    {
     "name": "stdout",
     "output_type": "stream",
     "text": [
      "Classification Report:\n",
      "               precision    recall  f1-score   support\n",
      "\n",
      "           0       0.97      0.39      0.56      6128\n",
      "           1       0.70      0.99      0.82      8764\n",
      "\n",
      "    accuracy                           0.74     14892\n",
      "   macro avg       0.83      0.69      0.69     14892\n",
      "weighted avg       0.81      0.74      0.71     14892\n",
      "\n"
     ]
    }
   ],
   "source": [
    "y_pred_train = xgb_model.predict(X_train)\n",
    "y_pred_test = xgb_model.predict(X_test)\n",
    "\n",
    "print(\"Classification Report:\\n\", classification_report(y_test, y_pred_test))"
   ]
  },
  {
   "cell_type": "code",
   "execution_count": 107,
   "id": "0558587c-bdc7-41c0-af91-93f98864ec4d",
   "metadata": {},
   "outputs": [
    {
     "data": {
      "image/png": "[encoded data removed]",
      "text/plain": [
       "<Figure size 640x480 with 2 Axes>"
      ]
     },
     "metadata": {},
     "output_type": "display_data"
    }
   ],
   "source": [
    "disp = ConfusionMatrixDisplay(\n",
    "    confusion_matrix(y_test, y_pred_test),\n",
    "    display_labels=[0, 1]\n",
    ")\n",
    "\n",
    "disp.plot(cmap=plt.cm.Blues)\n",
    "plt.title('Confusion matrix')\n",
    "plt.show()"
   ]
  },
  {
   "cell_type": "markdown",
   "id": "659de6c2-ba0d-49af-b771-bbc79365b577",
   "metadata": {},
   "source": [
    "## 5.3. Modelo RandomForest"
   ]
  },
  {
   "cell_type": "code",
   "execution_count": null,
   "id": "49371f19-f0bb-4d65-9bc0-24e6dad3bdf7",
   "metadata": {},
   "outputs": [],
   "source": [
    "from sklearn.ensemble import RandomForestClassifier"
   ]
  },
  {
   "cell_type": "code",
   "execution_count": null,
   "id": "1c4e5482-20e4-43f5-93fa-3d18d419c1f1",
   "metadata": {},
   "outputs": [],
   "source": [
    "randomF = RandomForestClassifier(n_estimators=30, random_state=42)\n",
    "randomF.fit(X_train, y_train)"
   ]
  },
  {
   "cell_type": "markdown",
   "id": "c272fdcd-ed1f-424a-a06c-b22874326d46",
   "metadata": {},
   "source": [
    "El modelo RandomForest presenta un desempeño sólido. Para la **clase 0 (noticias no falsas)**, la precisión es de 0.94, lo que indica que cuando el modelo predice una noticia como no falsa, en la mayoría de los casos, está en lo correcto. Sin embargo, el recall para esta clase es de 0.85, lo que sugiere que el modelo no identifica todas las noticias no falsas correctamente, perdiendo algunas en el proceso. Como resultado, el F1-score de esta clase es de 0.89, reflejando un balance aceptable entre precisión y recall. Para la **clase 1 (noticias falsas)**, el modelo obtiene una precisión de 0.90, lo que significa que cuando predice que una noticia es falsa, en la mayoría de los casos acierta. Además, el recall es bastante alto, con un valor de 0.96, lo que indica que el modelo es muy efectivo en identificar noticias falsas correctamente. Esto se traduce en un F1-score de 0.93, lo que confirma que el modelo maneja bien esta categoría.\n",
    "\n",
    "En términos generales, la exactitud global del modelo es del 92%, lo que es un buen indicador de rendimiento. Sin embargo, un punto importante a considerar es que RandomForest es un modelo computacionalmente costoso. Esto puede representar un problema si se desea hacer iteraciones frecuentes para mejorar el modelo."
   ]
  },
  {
   "cell_type": "code",
   "execution_count": null,
   "id": "23118189-fae5-49dd-9e76-9922e60b7770",
   "metadata": {},
   "outputs": [],
   "source": [
    "y_pred = randomF.predict(X_test)\n",
    "\n",
    "print(\"\\nReporte de clasificación:\\n\", classification_report(y_test, y_pred))"
   ]
  },
  {
   "cell_type": "code",
   "execution_count": null,
   "id": "104f7a3b-92d4-423c-b7c6-15965c14fe09",
   "metadata": {},
   "outputs": [],
   "source": [
    "disp = ConfusionMatrixDisplay(\n",
    "    confusion_matrix(y_test, y_pred),\n",
    "    display_labels=[0, 1]\n",
    ")\n",
    "\n",
    "disp.plot(cmap=plt.cm.Blues)\n",
    "plt.title('Confusion matrix')\n",
    "plt.show()"
   ]
  },
  {
   "cell_type": "markdown",
   "id": "b623b06d-8c2a-46c2-bdb1-5360506b201a",
   "metadata": {},
   "source": [
    "### 5.3.1 Obtener la importancia de las características"
   ]
  },
  {
   "cell_type": "markdown",
   "id": "0ad8a156-e2a3-4282-b03b-674f15f3f35e",
   "metadata": {},
   "source": [
    "### 5.3.2 Construcción del modelo con búsqueda de hiperparámetros"
   ]
  },
  {
   "cell_type": "code",
   "execution_count": null,
   "id": "fabf60cf-313d-42cc-81f6-16beeb448781",
   "metadata": {},
   "outputs": [],
   "source": [
    "folds = KFold(n_splits=5, shuffle=True, random_state=0)\n",
    "\n",
    "param_distributions = {\n",
    "    'n_estimators': [10, 20, 30, 50, 70],\n",
    "    'max_depth': [10, 20, None],\n",
    "    'min_samples_split': [2, 5]\n",
    "}\n",
    "\n",
    "param_distributions"
   ]
  },
  {
   "cell_type": "code",
   "execution_count": null,
   "id": "80f99596-1c26-4485-85c3-f9a584d4c2c0",
   "metadata": {},
   "outputs": [],
   "source": [
    "randomF = RandomForestClassifier(n_estimators=30, random_state=42)\n",
    "\n",
    "random_search = RandomizedSearchCV(\n",
    "    randomF, \n",
    "    param_distributions,\n",
    "    scoring='f1', \n",
    "    cv=folds, \n",
    "    verbose=2, \n",
    "    random_state=42,\n",
    "    n_jobs=-1\n",
    ")\n",
    "\n",
    "random_search.fit(X_train, y_train)"
   ]
  },
  {
   "cell_type": "code",
   "execution_count": null,
   "id": "cd148544-814e-4444-920b-2f90d52021de",
   "metadata": {},
   "outputs": [],
   "source": [
    "random_search.best_params_"
   ]
  },
  {
   "cell_type": "code",
   "execution_count": null,
   "id": "ea090337-fc94-4374-9f8a-b62f7d4262f9",
   "metadata": {},
   "outputs": [],
   "source": [
    "rforest_model = random_search.best_estimator_"
   ]
  },
  {
   "cell_type": "markdown",
   "id": "9521d059-a178-4ccf-bc01-77949984f6c3",
   "metadata": {},
   "source": [
    "Después de aplicar RandomizedSearchCV al modelo RandomForest, se observa un ligero ajuste en las métricas de desempeño. La precisión para la **clase 0** se mantiene alta en 0.94, pero su recall disminuye a 0.84, lo que indica que el modelo tiene más dificultad para identificar correctamente los casos de esta clase. En contraste, la **clase 1** mantiene una precisión de 0.89, mientras que su recall mejora a 0.97, reflejando una mayor sensibilidad para detectar instancias de esta categoría.\n",
    "\n",
    "El f1-score promedio ponderado se mantiene en 0.91, con una ligera reducción en el recall macro. La precisión global del modelo sigue siendo buena, con un accuracy del 91%, pero la disminución del recall para la clase 0 sugiere que el ajuste de hiperparámetros podría haber favorecido la detección de la clase 1 a expensas de la otra. A pesar de las mejoras obtenidas en ciertos aspectos, el entrenamiento del modelo sigue siendo un proceso relativamente lento."
   ]
  },
  {
   "cell_type": "code",
   "execution_count": null,
   "id": "c1613774-217a-421b-9e73-8d489f760e1f",
   "metadata": {},
   "outputs": [],
   "source": [
    "y_pred_train = rforest_model.predict(X_train)\n",
    "y_pred_test = rforest_model.predict(X_test)\n",
    "\n",
    "print(\"Classification Report:\\n\", classification_report(y_test, y_pred_test))"
   ]
  },
  {
   "cell_type": "code",
   "execution_count": null,
   "id": "2cfd4c0f-112a-4146-9cc4-9f5ee06034ef",
   "metadata": {},
   "outputs": [],
   "source": [
    "disp = ConfusionMatrixDisplay(\n",
    "    confusion_matrix(y_test, y_pred_test),\n",
    "    display_labels=[0, 1]\n",
    ")\n",
    "\n",
    "disp.plot(cmap=plt.cm.Blues)\n",
    "plt.title('Confusion matrix')\n",
    "plt.show()"
   ]
  },
  {
   "cell_type": "markdown",
   "id": "3e478629-f29d-4c3d-b7c5-574307d83197",
   "metadata": {},
   "source": [
    "## 5.4 Modelo Naive-Bayes"
   ]
  },
  {
   "cell_type": "code",
   "execution_count": 41,
   "id": "4c0b42b0",
   "metadata": {},
   "outputs": [
    {
     "data": {
      "text/html": [
       "<style>#sk-container-id-1 {\n",
       "  /* Definition of color scheme common for light and dark mode */\n",
       "  --sklearn-color-text: #000;\n",
       "  --sklearn-color-text-muted: #666;\n",
       "  --sklearn-color-line: gray;\n",
       "  /* Definition of color scheme for unfitted estimators */\n",
       "  --sklearn-color-unfitted-level-0: #fff5e6;\n",
       "  --sklearn-color-unfitted-level-1: #f6e4d2;\n",
       "  --sklearn-color-unfitted-level-2: #ffe0b3;\n",
       "  --sklearn-color-unfitted-level-3: chocolate;\n",
       "  /* Definition of color scheme for fitted estimators */\n",
       "  --sklearn-color-fitted-level-0: #f0f8ff;\n",
       "  --sklearn-color-fitted-level-1: #d4ebff;\n",
       "  --sklearn-color-fitted-level-2: #b3dbfd;\n",
       "  --sklearn-color-fitted-level-3: cornflowerblue;\n",
       "\n",
       "  /* Specific color for light theme */\n",
       "  --sklearn-color-text-on-default-background: var(--sg-text-color, var(--theme-code-foreground, var(--jp-content-font-color1, black)));\n",
       "  --sklearn-color-background: var(--sg-background-color, var(--theme-background, var(--jp-layout-color0, white)));\n",
       "  --sklearn-color-border-box: var(--sg-text-color, var(--theme-code-foreground, var(--jp-content-font-color1, black)));\n",
       "  --sklearn-color-icon: #696969;\n",
       "\n",
       "  @media (prefers-color-scheme: dark) {\n",
       "    /* Redefinition of color scheme for dark theme */\n",
       "    --sklearn-color-text-on-default-background: var(--sg-text-color, var(--theme-code-foreground, var(--jp-content-font-color1, white)));\n",
       "    --sklearn-color-background: var(--sg-background-color, var(--theme-background, var(--jp-layout-color0, #111)));\n",
       "    --sklearn-color-border-box: var(--sg-text-color, var(--theme-code-foreground, var(--jp-content-font-color1, white)));\n",
       "    --sklearn-color-icon: #878787;\n",
       "  }\n",
       "}\n",
       "\n",
       "#sk-container-id-1 {\n",
       "  color: var(--sklearn-color-text);\n",
       "}\n",
       "\n",
       "#sk-container-id-1 pre {\n",
       "  padding: 0;\n",
       "}\n",
       "\n",
       "#sk-container-id-1 input.sk-hidden--visually {\n",
       "  border: 0;\n",
       "  clip: rect(1px 1px 1px 1px);\n",
       "  clip: rect(1px, 1px, 1px, 1px);\n",
       "  height: 1px;\n",
       "  margin: -1px;\n",
       "  overflow: hidden;\n",
       "  padding: 0;\n",
       "  position: absolute;\n",
       "  width: 1px;\n",
       "}\n",
       "\n",
       "#sk-container-id-1 div.sk-dashed-wrapped {\n",
       "  border: 1px dashed var(--sklearn-color-line);\n",
       "  margin: 0 0.4em 0.5em 0.4em;\n",
       "  box-sizing: border-box;\n",
       "  padding-bottom: 0.4em;\n",
       "  background-color: var(--sklearn-color-background);\n",
       "}\n",
       "\n",
       "#sk-container-id-1 div.sk-container {\n",
       "  /* jupyter's `normalize.less` sets `[hidden] { display: none; }`\n",
       "     but bootstrap.min.css set `[hidden] { display: none !important; }`\n",
       "     so we also need the `!important` here to be able to override the\n",
       "     default hidden behavior on the sphinx rendered scikit-learn.org.\n",
       "     See: https://github.com/scikit-learn/scikit-learn/issues/21755 */\n",
       "  display: inline-block !important;\n",
       "  position: relative;\n",
       "}\n",
       "\n",
       "#sk-container-id-1 div.sk-text-repr-fallback {\n",
       "  display: none;\n",
       "}\n",
       "\n",
       "div.sk-parallel-item,\n",
       "div.sk-serial,\n",
       "div.sk-item {\n",
       "  /* draw centered vertical line to link estimators */\n",
       "  background-image: linear-gradient(var(--sklearn-color-text-on-default-background), var(--sklearn-color-text-on-default-background));\n",
       "  background-size: 2px 100%;\n",
       "  background-repeat: no-repeat;\n",
       "  background-position: center center;\n",
       "}\n",
       "\n",
       "/* Parallel-specific style estimator block */\n",
       "\n",
       "#sk-container-id-1 div.sk-parallel-item::after {\n",
       "  content: \"\";\n",
       "  width: 100%;\n",
       "  border-bottom: 2px solid var(--sklearn-color-text-on-default-background);\n",
       "  flex-grow: 1;\n",
       "}\n",
       "\n",
       "#sk-container-id-1 div.sk-parallel {\n",
       "  display: flex;\n",
       "  align-items: stretch;\n",
       "  justify-content: center;\n",
       "  background-color: var(--sklearn-color-background);\n",
       "  position: relative;\n",
       "}\n",
       "\n",
       "#sk-container-id-1 div.sk-parallel-item {\n",
       "  display: flex;\n",
       "  flex-direction: column;\n",
       "}\n",
       "\n",
       "#sk-container-id-1 div.sk-parallel-item:first-child::after {\n",
       "  align-self: flex-end;\n",
       "  width: 50%;\n",
       "}\n",
       "\n",
       "#sk-container-id-1 div.sk-parallel-item:last-child::after {\n",
       "  align-self: flex-start;\n",
       "  width: 50%;\n",
       "}\n",
       "\n",
       "#sk-container-id-1 div.sk-parallel-item:only-child::after {\n",
       "  width: 0;\n",
       "}\n",
       "\n",
       "/* Serial-specific style estimator block */\n",
       "\n",
       "#sk-container-id-1 div.sk-serial {\n",
       "  display: flex;\n",
       "  flex-direction: column;\n",
       "  align-items: center;\n",
       "  background-color: var(--sklearn-color-background);\n",
       "  padding-right: 1em;\n",
       "  padding-left: 1em;\n",
       "}\n",
       "\n",
       "\n",
       "/* Toggleable style: style used for estimator/Pipeline/ColumnTransformer box that is\n",
       "clickable and can be expanded/collapsed.\n",
       "- Pipeline and ColumnTransformer use this feature and define the default style\n",
       "- Estimators will overwrite some part of the style using the `sk-estimator` class\n",
       "*/\n",
       "\n",
       "/* Pipeline and ColumnTransformer style (default) */\n",
       "\n",
       "#sk-container-id-1 div.sk-toggleable {\n",
       "  /* Default theme specific background. It is overwritten whether we have a\n",
       "  specific estimator or a Pipeline/ColumnTransformer */\n",
       "  background-color: var(--sklearn-color-background);\n",
       "}\n",
       "\n",
       "/* Toggleable label */\n",
       "#sk-container-id-1 label.sk-toggleable__label {\n",
       "  cursor: pointer;\n",
       "  display: flex;\n",
       "  width: 100%;\n",
       "  margin-bottom: 0;\n",
       "  padding: 0.5em;\n",
       "  box-sizing: border-box;\n",
       "  text-align: center;\n",
       "  align-items: start;\n",
       "  justify-content: space-between;\n",
       "  gap: 0.5em;\n",
       "}\n",
       "\n",
       "#sk-container-id-1 label.sk-toggleable__label .caption {\n",
       "  font-size: 0.6rem;\n",
       "  font-weight: lighter;\n",
       "  color: var(--sklearn-color-text-muted);\n",
       "}\n",
       "\n",
       "#sk-container-id-1 label.sk-toggleable__label-arrow:before {\n",
       "  /* Arrow on the left of the label */\n",
       "  content: \"▸\";\n",
       "  float: left;\n",
       "  margin-right: 0.25em;\n",
       "  color: var(--sklearn-color-icon);\n",
       "}\n",
       "\n",
       "#sk-container-id-1 label.sk-toggleable__label-arrow:hover:before {\n",
       "  color: var(--sklearn-color-text);\n",
       "}\n",
       "\n",
       "/* Toggleable content - dropdown */\n",
       "\n",
       "#sk-container-id-1 div.sk-toggleable__content {\n",
       "  max-height: 0;\n",
       "  max-width: 0;\n",
       "  overflow: hidden;\n",
       "  text-align: left;\n",
       "  /* unfitted */\n",
       "  background-color: var(--sklearn-color-unfitted-level-0);\n",
       "}\n",
       "\n",
       "#sk-container-id-1 div.sk-toggleable__content.fitted {\n",
       "  /* fitted */\n",
       "  background-color: var(--sklearn-color-fitted-level-0);\n",
       "}\n",
       "\n",
       "#sk-container-id-1 div.sk-toggleable__content pre {\n",
       "  margin: 0.2em;\n",
       "  border-radius: 0.25em;\n",
       "  color: var(--sklearn-color-text);\n",
       "  /* unfitted */\n",
       "  background-color: var(--sklearn-color-unfitted-level-0);\n",
       "}\n",
       "\n",
       "#sk-container-id-1 div.sk-toggleable__content.fitted pre {\n",
       "  /* unfitted */\n",
       "  background-color: var(--sklearn-color-fitted-level-0);\n",
       "}\n",
       "\n",
       "#sk-container-id-1 input.sk-toggleable__control:checked~div.sk-toggleable__content {\n",
       "  /* Expand drop-down */\n",
       "  max-height: 200px;\n",
       "  max-width: 100%;\n",
       "  overflow: auto;\n",
       "}\n",
       "\n",
       "#sk-container-id-1 input.sk-toggleable__control:checked~label.sk-toggleable__label-arrow:before {\n",
       "  content: \"▾\";\n",
       "}\n",
       "\n",
       "/* Pipeline/ColumnTransformer-specific style */\n",
       "\n",
       "#sk-container-id-1 div.sk-label input.sk-toggleable__control:checked~label.sk-toggleable__label {\n",
       "  color: var(--sklearn-color-text);\n",
       "  background-color: var(--sklearn-color-unfitted-level-2);\n",
       "}\n",
       "\n",
       "#sk-container-id-1 div.sk-label.fitted input.sk-toggleable__control:checked~label.sk-toggleable__label {\n",
       "  background-color: var(--sklearn-color-fitted-level-2);\n",
       "}\n",
       "\n",
       "/* Estimator-specific style */\n",
       "\n",
       "/* Colorize estimator box */\n",
       "#sk-container-id-1 div.sk-estimator input.sk-toggleable__control:checked~label.sk-toggleable__label {\n",
       "  /* unfitted */\n",
       "  background-color: var(--sklearn-color-unfitted-level-2);\n",
       "}\n",
       "\n",
       "#sk-container-id-1 div.sk-estimator.fitted input.sk-toggleable__control:checked~label.sk-toggleable__label {\n",
       "  /* fitted */\n",
       "  background-color: var(--sklearn-color-fitted-level-2);\n",
       "}\n",
       "\n",
       "#sk-container-id-1 div.sk-label label.sk-toggleable__label,\n",
       "#sk-container-id-1 div.sk-label label {\n",
       "  /* The background is the default theme color */\n",
       "  color: var(--sklearn-color-text-on-default-background);\n",
       "}\n",
       "\n",
       "/* On hover, darken the color of the background */\n",
       "#sk-container-id-1 div.sk-label:hover label.sk-toggleable__label {\n",
       "  color: var(--sklearn-color-text);\n",
       "  background-color: var(--sklearn-color-unfitted-level-2);\n",
       "}\n",
       "\n",
       "/* Label box, darken color on hover, fitted */\n",
       "#sk-container-id-1 div.sk-label.fitted:hover label.sk-toggleable__label.fitted {\n",
       "  color: var(--sklearn-color-text);\n",
       "  background-color: var(--sklearn-color-fitted-level-2);\n",
       "}\n",
       "\n",
       "/* Estimator label */\n",
       "\n",
       "#sk-container-id-1 div.sk-label label {\n",
       "  font-family: monospace;\n",
       "  font-weight: bold;\n",
       "  display: inline-block;\n",
       "  line-height: 1.2em;\n",
       "}\n",
       "\n",
       "#sk-container-id-1 div.sk-label-container {\n",
       "  text-align: center;\n",
       "}\n",
       "\n",
       "/* Estimator-specific */\n",
       "#sk-container-id-1 div.sk-estimator {\n",
       "  font-family: monospace;\n",
       "  border: 1px dotted var(--sklearn-color-border-box);\n",
       "  border-radius: 0.25em;\n",
       "  box-sizing: border-box;\n",
       "  margin-bottom: 0.5em;\n",
       "  /* unfitted */\n",
       "  background-color: var(--sklearn-color-unfitted-level-0);\n",
       "}\n",
       "\n",
       "#sk-container-id-1 div.sk-estimator.fitted {\n",
       "  /* fitted */\n",
       "  background-color: var(--sklearn-color-fitted-level-0);\n",
       "}\n",
       "\n",
       "/* on hover */\n",
       "#sk-container-id-1 div.sk-estimator:hover {\n",
       "  /* unfitted */\n",
       "  background-color: var(--sklearn-color-unfitted-level-2);\n",
       "}\n",
       "\n",
       "#sk-container-id-1 div.sk-estimator.fitted:hover {\n",
       "  /* fitted */\n",
       "  background-color: var(--sklearn-color-fitted-level-2);\n",
       "}\n",
       "\n",
       "/* Specification for estimator info (e.g. \"i\" and \"?\") */\n",
       "\n",
       "/* Common style for \"i\" and \"?\" */\n",
       "\n",
       ".sk-estimator-doc-link,\n",
       "a:link.sk-estimator-doc-link,\n",
       "a:visited.sk-estimator-doc-link {\n",
       "  float: right;\n",
       "  font-size: smaller;\n",
       "  line-height: 1em;\n",
       "  font-family: monospace;\n",
       "  background-color: var(--sklearn-color-background);\n",
       "  border-radius: 1em;\n",
       "  height: 1em;\n",
       "  width: 1em;\n",
       "  text-decoration: none !important;\n",
       "  margin-left: 0.5em;\n",
       "  text-align: center;\n",
       "  /* unfitted */\n",
       "  border: var(--sklearn-color-unfitted-level-1) 1pt solid;\n",
       "  color: var(--sklearn-color-unfitted-level-1);\n",
       "}\n",
       "\n",
       ".sk-estimator-doc-link.fitted,\n",
       "a:link.sk-estimator-doc-link.fitted,\n",
       "a:visited.sk-estimator-doc-link.fitted {\n",
       "  /* fitted */\n",
       "  border: var(--sklearn-color-fitted-level-1) 1pt solid;\n",
       "  color: var(--sklearn-color-fitted-level-1);\n",
       "}\n",
       "\n",
       "/* On hover */\n",
       "div.sk-estimator:hover .sk-estimator-doc-link:hover,\n",
       ".sk-estimator-doc-link:hover,\n",
       "div.sk-label-container:hover .sk-estimator-doc-link:hover,\n",
       ".sk-estimator-doc-link:hover {\n",
       "  /* unfitted */\n",
       "  background-color: var(--sklearn-color-unfitted-level-3);\n",
       "  color: var(--sklearn-color-background);\n",
       "  text-decoration: none;\n",
       "}\n",
       "\n",
       "div.sk-estimator.fitted:hover .sk-estimator-doc-link.fitted:hover,\n",
       ".sk-estimator-doc-link.fitted:hover,\n",
       "div.sk-label-container:hover .sk-estimator-doc-link.fitted:hover,\n",
       ".sk-estimator-doc-link.fitted:hover {\n",
       "  /* fitted */\n",
       "  background-color: var(--sklearn-color-fitted-level-3);\n",
       "  color: var(--sklearn-color-background);\n",
       "  text-decoration: none;\n",
       "}\n",
       "\n",
       "/* Span, style for the box shown on hovering the info icon */\n",
       ".sk-estimator-doc-link span {\n",
       "  display: none;\n",
       "  z-index: 9999;\n",
       "  position: relative;\n",
       "  font-weight: normal;\n",
       "  right: .2ex;\n",
       "  padding: .5ex;\n",
       "  margin: .5ex;\n",
       "  width: min-content;\n",
       "  min-width: 20ex;\n",
       "  max-width: 50ex;\n",
       "  color: var(--sklearn-color-text);\n",
       "  box-shadow: 2pt 2pt 4pt #999;\n",
       "  /* unfitted */\n",
       "  background: var(--sklearn-color-unfitted-level-0);\n",
       "  border: .5pt solid var(--sklearn-color-unfitted-level-3);\n",
       "}\n",
       "\n",
       ".sk-estimator-doc-link.fitted span {\n",
       "  /* fitted */\n",
       "  background: var(--sklearn-color-fitted-level-0);\n",
       "  border: var(--sklearn-color-fitted-level-3);\n",
       "}\n",
       "\n",
       ".sk-estimator-doc-link:hover span {\n",
       "  display: block;\n",
       "}\n",
       "\n",
       "/* \"?\"-specific style due to the `<a>` HTML tag */\n",
       "\n",
       "#sk-container-id-1 a.estimator_doc_link {\n",
       "  float: right;\n",
       "  font-size: 1rem;\n",
       "  line-height: 1em;\n",
       "  font-family: monospace;\n",
       "  background-color: var(--sklearn-color-background);\n",
       "  border-radius: 1rem;\n",
       "  height: 1rem;\n",
       "  width: 1rem;\n",
       "  text-decoration: none;\n",
       "  /* unfitted */\n",
       "  color: var(--sklearn-color-unfitted-level-1);\n",
       "  border: var(--sklearn-color-unfitted-level-1) 1pt solid;\n",
       "}\n",
       "\n",
       "#sk-container-id-1 a.estimator_doc_link.fitted {\n",
       "  /* fitted */\n",
       "  border: var(--sklearn-color-fitted-level-1) 1pt solid;\n",
       "  color: var(--sklearn-color-fitted-level-1);\n",
       "}\n",
       "\n",
       "/* On hover */\n",
       "#sk-container-id-1 a.estimator_doc_link:hover {\n",
       "  /* unfitted */\n",
       "  background-color: var(--sklearn-color-unfitted-level-3);\n",
       "  color: var(--sklearn-color-background);\n",
       "  text-decoration: none;\n",
       "}\n",
       "\n",
       "#sk-container-id-1 a.estimator_doc_link.fitted:hover {\n",
       "  /* fitted */\n",
       "  background-color: var(--sklearn-color-fitted-level-3);\n",
       "}\n",
       "</style><div id=\"sk-container-id-1\" class=\"sk-top-container\"><div class=\"sk-text-repr-fallback\"><pre>MultinomialNB()</pre><b>In a Jupyter environment, please rerun this cell to show the HTML representation or trust the notebook. <br />On GitHub, the HTML representation is unable to render, please try loading this page with nbviewer.org.</b></div><div class=\"sk-container\" hidden><div class=\"sk-item\"><div class=\"sk-estimator fitted sk-toggleable\"><input class=\"sk-toggleable__control sk-hidden--visually\" id=\"sk-estimator-id-1\" type=\"checkbox\" checked><label for=\"sk-estimator-id-1\" class=\"sk-toggleable__label fitted sk-toggleable__label-arrow\"><div><div>MultinomialNB</div></div><div><a class=\"sk-estimator-doc-link fitted\" rel=\"noreferrer\" target=\"_blank\" href=\"https://scikit-learn.org/1.6/modules/generated/sklearn.naive_bayes.MultinomialNB.html\">?<span>Documentation for MultinomialNB</span></a><span class=\"sk-estimator-doc-link fitted\">i<span>Fitted</span></span></div></label><div class=\"sk-toggleable__content fitted\"><pre>MultinomialNB()</pre></div> </div></div></div></div>"
      ],
      "text/plain": [
       "MultinomialNB()"
      ]
     },
     "execution_count": 41,
     "metadata": {},
     "output_type": "execute_result"
    }
   ],
   "source": [
    "from sklearn.naive_bayes import MultinomialNB\n",
    "from sklearn.model_selection import train_test_split, cross_val_score\n",
    "from sklearn.metrics import classification_report, confusion_matrix, ConfusionMatrixDisplay\n",
    "import matplotlib.pyplot as plt\n",
    "\n",
    "# Asegurar que estás usando la variable correcta de la vectorización\n",
    "X_features = X_tf_idf  # Reemplazar con el nombre correcto si es diferente\n",
    "y_target = y_label  # La variable con las etiquetas\n",
    "\n",
    "# Separar los datos en entrenamiento y prueba\n",
    "X_train, X_test, y_train, y_test = train_test_split(X_features, y_target, test_size=0.2, random_state=42)\n",
    "\n",
    "# Inicializar el modelo Naive Bayes\n",
    "nb_model = MultinomialNB()\n",
    "\n",
    "# Entrenar el modelo\n",
    "nb_model.fit(X_train, y_train)\n",
    "\n",
    "\n",
    "\n"
   ]
  },
  {
   "cell_type": "code",
   "execution_count": null,
   "id": "68ed0a69",
   "metadata": {},
   "outputs": [
    {
     "name": "stdout",
     "output_type": "stream",
     "text": [
      "F1-scores en validación cruzada: [0.83357245 0.84286749 0.83345298 0.82679971 0.83112227]\n",
      "Media del F1-score: 0.8335629801646132\n"
     ]
    }
   ],
   "source": [
    "# Validación cruzada\n",
    "scores = cross_val_score(nb_model, X_test, y_test, cv=5, scoring='f1')\n",
    "# Imprimir los resultados de la validación cruzada\n",
    "print(\"F1-scores en validación cruzada:\", scores)\n",
    "print(\"Media del F1-score:\", scores.mean())\n"
   ]
  },
  {
   "cell_type": "code",
   "execution_count": 39,
   "id": "d945e0cb",
   "metadata": {},
   "outputs": [
    {
     "name": "stdout",
     "output_type": "stream",
     "text": [
      "Classification Report:\n",
      "               precision    recall  f1-score   support\n",
      "\n",
      "           0       0.96      0.60      0.74      4098\n",
      "           1       0.78      0.98      0.87      5830\n",
      "\n",
      "    accuracy                           0.83      9928\n",
      "   macro avg       0.87      0.79      0.80      9928\n",
      "weighted avg       0.85      0.83      0.81      9928\n",
      "\n"
     ]
    }
   ],
   "source": [
    "#Predicción en el conjunto de prueba\n",
    "y_pred = nb_model.predict(X_test)\n",
    "\n",
    "# Reporte de clasificación\n",
    "print(\"Classification Report:\\n\", classification_report(y_test, y_pred))\n",
    "\n"
   ]
  },
  {
   "cell_type": "code",
   "execution_count": 40,
   "id": "04b20f6b",
   "metadata": {},
   "outputs": [
    {
     "data": {
      "image/png": "[encoded data removed]",
      "text/plain": [
       "<Figure size 640x480 with 2 Axes>"
      ]
     },
     "metadata": {},
     "output_type": "display_data"
    }
   ],
   "source": [
    "# Matriz de confusión\n",
    "disp = ConfusionMatrixDisplay(confusion_matrix(y_test, y_pred), display_labels=[0, 1])\n",
    "disp.plot(cmap=plt.cm.Blues)\n",
    "plt.title('Confusion matrix')\n",
    "plt.show()"
   ]
  }
 ],
 "metadata": {
  "kernelspec": {
   "display_name": "Python 3 (ipykernel)",
   "language": "python",
   "name": "python3"
  },
  "language_info": {
   "codemirror_mode": {
    "name": "ipython",
    "version": 3
   },
   "file_extension": ".py",
   "mimetype": "text/x-python",
   "name": "python",
   "nbconvert_exporter": "python",
   "pygments_lexer": "ipython3",
   "version": "3.12.8"
  }
 },
 "nbformat": 4,
 "nbformat_minor": 5
}
