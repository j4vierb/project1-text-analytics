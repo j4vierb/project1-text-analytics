{
 "cells": [
  {
   "cell_type": "code",
   "execution_count": 1,
   "id": "4791ba77-7d1d-44d4-9929-bad6ee028ce4",
   "metadata": {},
   "outputs": [],
   "source": [
    "import re, string, unicodedata\n",
    "import numpy as np\n",
    "import pandas as pd\n",
    "import time\n",
    "\n",
    "pd.set_option('display.max_colwidth', 40)"
   ]
  },
  {
   "cell_type": "code",
<<<<<<<< HEAD:informe.ipynb
   "execution_count": 61,
========
   "execution_count": 2,
>>>>>>>> ecfa5ff7e82bed6791d991fbb8ac490006c68c5e:cambios_2.ipynb
   "id": "5857b0b7-63aa-486b-ab27-bf7b10548145",
   "metadata": {},
   "outputs": [
    {
     "name": "stderr",
     "output_type": "stream",
     "text": [
      "[nltk_data] Downloading package punkt to\n",
      "[nltk_data]     C:\\Users\\Camilo_\\AppData\\Roaming\\nltk_data...\n",
      "[nltk_data]   Package punkt is already up-to-date!\n",
      "[nltk_data] Downloading package punkt_tab to\n",
      "[nltk_data]     C:\\Users\\Camilo_\\AppData\\Roaming\\nltk_data...\n",
      "[nltk_data]   Package punkt_tab is already up-to-date!\n",
      "[nltk_data] Downloading package stopwords to\n",
      "[nltk_data]     C:\\Users\\Camilo_\\AppData\\Roaming\\nltk_data...\n",
      "[nltk_data]   Package stopwords is already up-to-date!\n",
      "[nltk_data] Downloading package wordnet to\n",
      "[nltk_data]     C:\\Users\\Camilo_\\AppData\\Roaming\\nltk_data...\n",
      "[nltk_data]   Package wordnet is already up-to-date!\n"
     ]
    }
   ],
   "source": [
    "import contractions\n",
    "import nltk\n",
    "from datetime import datetime\n",
    "from matplotlib import pyplot as plt\n",
    "\n",
    "nltk.download('punkt')\n",
    "nltk.download('punkt_tab')\n",
    "nltk.download('stopwords')\n",
    "nltk.download('wordnet')\n",
    "\n",
    "import re, string, unicodedata\n",
    "import inflect\n",
    "from nltk import word_tokenize, sent_tokenize\n",
    "from nltk.corpus import stopwords\n",
    "from nltk.stem import LancasterStemmer, WordNetLemmatizer\n",
    "\n",
    "from sklearn.feature_extraction.text import TfidfVectorizer\n",
    "from sklearn.metrics import classification_report, confusion_matrix, ConfusionMatrixDisplay\n",
    "from sklearn.experimental import enable_halving_search_cv\n",
    "from sklearn.model_selection import train_test_split, \\\n",
    "    cross_val_score, KFold, GridSearchCV, RandomizedSearchCV, HalvingRandomSearchCV\n",
    "\n",
    "from sklearn.pipeline import Pipeline\n",
    "from sklearn.preprocessing import FunctionTransformer"
   ]
  },
  {
   "cell_type": "markdown",
   "id": "842db17a-f215-44c7-8682-75d2c1830133",
   "metadata": {},
   "source": [
    "# Perfilamiento y entendimiento de datos"
   ]
  },
  {
   "cell_type": "markdown",
   "id": "a3390353-0bb3-4c83-93f9-e72fd2b7548b",
   "metadata": {},
   "source": [
    "## 1. Lectura de datos"
   ]
  },
  {
   "cell_type": "code",
   "execution_count": 3,
   "id": "dfcfd0a2-991e-41f2-9a6d-2e471d25c821",
   "metadata": {},
   "outputs": [
    {
     "name": "stdout",
     "output_type": "stream",
     "text": [
      "(57063, 5)\n"
     ]
    },
    {
     "data": {
      "text/html": [
       "<div>\n",
       "<style scoped>\n",
       "    .dataframe tbody tr th:only-of-type {\n",
       "        vertical-align: middle;\n",
       "    }\n",
       "\n",
       "    .dataframe tbody tr th {\n",
       "        vertical-align: top;\n",
       "    }\n",
       "\n",
       "    .dataframe thead th {\n",
       "        text-align: right;\n",
       "    }\n",
       "</style>\n",
       "<table border=\"1\" class=\"dataframe\">\n",
       "  <thead>\n",
       "    <tr style=\"text-align: right;\">\n",
       "      <th></th>\n",
       "      <th>ID</th>\n",
       "      <th>Label</th>\n",
       "      <th>Titulo</th>\n",
       "      <th>Descripcion</th>\n",
       "      <th>Fecha</th>\n",
       "    </tr>\n",
       "  </thead>\n",
       "  <tbody>\n",
       "    <tr>\n",
       "      <th>0</th>\n",
       "      <td>ID</td>\n",
       "      <td>1</td>\n",
       "      <td>'The Guardian' va con Sánchez: 'Euro...</td>\n",
       "      <td>El diario británico publicó este pas...</td>\n",
       "      <td>02/06/2023</td>\n",
       "    </tr>\n",
       "    <tr>\n",
       "      <th>1</th>\n",
       "      <td>ID</td>\n",
       "      <td>0</td>\n",
       "      <td>REVELAN QUE EL GOBIERNO NEGOCIO LA L...</td>\n",
       "      <td>REVELAN QUE EL GOBIERNO NEGOCIO LA L...</td>\n",
       "      <td>01/10/2023</td>\n",
       "    </tr>\n",
       "    <tr>\n",
       "      <th>2</th>\n",
       "      <td>ID</td>\n",
       "      <td>1</td>\n",
       "      <td>El 'Ahora o nunca' de Joan Fuster so...</td>\n",
       "      <td>El valencianismo convoca en Castelló...</td>\n",
       "      <td>25/04/2022</td>\n",
       "    </tr>\n",
       "  </tbody>\n",
       "</table>\n",
       "</div>"
      ],
      "text/plain": [
       "   ID  Label                                   Titulo  \\\n",
       "0  ID      1  'The Guardian' va con Sánchez: 'Euro...   \n",
       "1  ID      0  REVELAN QUE EL GOBIERNO NEGOCIO LA L...   \n",
       "2  ID      1  El 'Ahora o nunca' de Joan Fuster so...   \n",
       "\n",
       "                               Descripcion       Fecha  \n",
       "0  El diario británico publicó este pas...  02/06/2023  \n",
       "1  REVELAN QUE EL GOBIERNO NEGOCIO LA L...  01/10/2023  \n",
       "2  El valencianismo convoca en Castelló...  25/04/2022  "
      ]
     },
     "execution_count": 3,
     "metadata": {},
     "output_type": "execute_result"
    }
   ],
   "source": [
    "train_set = \"fake_news_spanish.csv\"\n",
    "df = pd.read_csv(train_set, sep=';', encoding='utf-8')\n",
    "\n",
    "print(df.shape)\n",
    "df.head(3)"
   ]
  },
  {
   "cell_type": "markdown",
   "id": "cbb26189-63d3-4b62-80ed-a933d63d3773",
   "metadata": {},
   "source": [
    "## 2. Entendimiento de datos"
   ]
  },
  {
   "cell_type": "markdown",
   "id": "5c5a8804-36da-4fd6-b08a-b989f6012a08",
   "metadata": {},
   "source": [
    "Debido a que el proyecto no contaba con un diccionario de datos se opto por desarrollar uno propio para la entrega. En el diccionario de datos, documento que también se encuenta en la raiz del proyecto, se detallan las siguientes descripciones:\n",
    "\n",
    "| Columna | Descripción |\n",
    "| - | - |\n",
    "| `ID` | Contiene el identificador del registro, sin embargo, todos los registros tienen la cadena ID. |\n",
    "| `Label` | Es la etiqueta del registro; 1 si el registro es una noticia falsa, 0 de lo contrario.  |\n",
    "| `Titulo` | Corresponde al titulo de la noticia. |\n",
    "| `Descripcion` | Corresponde a la descripción o el cuerpo de la noticia. |\n",
    "| `Fecha` | Es la fecha en la que se publico la noticia. |"
   ]
  },
  {
   "cell_type": "code",
   "execution_count": 4,
   "id": "699fd23d-f607-4da7-8aab-eda8e66231eb",
   "metadata": {},
   "outputs": [
    {
     "data": {
      "text/plain": [
       "ID             object\n",
       "Label           int64\n",
       "Titulo         object\n",
       "Descripcion    object\n",
       "Fecha          object\n",
       "dtype: object"
      ]
     },
     "execution_count": 4,
     "metadata": {},
     "output_type": "execute_result"
    }
   ],
   "source": [
    "df.dtypes"
   ]
  },
  {
   "cell_type": "code",
   "execution_count": 5,
   "id": "6a64d6df-c5cc-4e89-9891-967f73144a1f",
   "metadata": {},
   "outputs": [
    {
     "data": {
      "text/html": [
       "<div>\n",
       "<style scoped>\n",
       "    .dataframe tbody tr th:only-of-type {\n",
       "        vertical-align: middle;\n",
       "    }\n",
       "\n",
       "    .dataframe tbody tr th {\n",
       "        vertical-align: top;\n",
       "    }\n",
       "\n",
       "    .dataframe thead th {\n",
       "        text-align: right;\n",
       "    }\n",
       "</style>\n",
       "<table border=\"1\" class=\"dataframe\">\n",
       "  <thead>\n",
       "    <tr style=\"text-align: right;\">\n",
       "      <th></th>\n",
       "      <th>ID</th>\n",
       "      <th>Label</th>\n",
       "      <th>Titulo</th>\n",
       "      <th>Descripcion</th>\n",
       "      <th>Fecha</th>\n",
       "    </tr>\n",
       "  </thead>\n",
       "  <tbody>\n",
       "    <tr>\n",
       "      <th>0</th>\n",
       "      <td>ID</td>\n",
       "      <td>1</td>\n",
       "      <td>'The Guardian' va con Sánchez: 'Euro...</td>\n",
       "      <td>El diario británico publicó este pas...</td>\n",
       "      <td>02/06/2023</td>\n",
       "    </tr>\n",
       "    <tr>\n",
       "      <th>1</th>\n",
       "      <td>ID</td>\n",
       "      <td>0</td>\n",
       "      <td>REVELAN QUE EL GOBIERNO NEGOCIO LA L...</td>\n",
       "      <td>REVELAN QUE EL GOBIERNO NEGOCIO LA L...</td>\n",
       "      <td>01/10/2023</td>\n",
       "    </tr>\n",
       "    <tr>\n",
       "      <th>2</th>\n",
       "      <td>ID</td>\n",
       "      <td>1</td>\n",
       "      <td>El 'Ahora o nunca' de Joan Fuster so...</td>\n",
       "      <td>El valencianismo convoca en Castelló...</td>\n",
       "      <td>25/04/2022</td>\n",
       "    </tr>\n",
       "    <tr>\n",
       "      <th>3</th>\n",
       "      <td>ID</td>\n",
       "      <td>1</td>\n",
       "      <td>Iglesias alienta a Yolanda Díaz, ERC...</td>\n",
       "      <td>En política, igual que hay que negoc...</td>\n",
       "      <td>03/01/2022</td>\n",
       "    </tr>\n",
       "    <tr>\n",
       "      <th>4</th>\n",
       "      <td>ID</td>\n",
       "      <td>0</td>\n",
       "      <td>Puigdemont: 'No sería ninguna traged...</td>\n",
       "      <td>En una entrevista en El Punt Avui, e...</td>\n",
       "      <td>09/03/2018</td>\n",
       "    </tr>\n",
       "  </tbody>\n",
       "</table>\n",
       "</div>"
      ],
      "text/plain": [
       "   ID  Label                                   Titulo  \\\n",
       "0  ID      1  'The Guardian' va con Sánchez: 'Euro...   \n",
       "1  ID      0  REVELAN QUE EL GOBIERNO NEGOCIO LA L...   \n",
       "2  ID      1  El 'Ahora o nunca' de Joan Fuster so...   \n",
       "3  ID      1  Iglesias alienta a Yolanda Díaz, ERC...   \n",
       "4  ID      0  Puigdemont: 'No sería ninguna traged...   \n",
       "\n",
       "                               Descripcion       Fecha  \n",
       "0  El diario británico publicó este pas...  02/06/2023  \n",
       "1  REVELAN QUE EL GOBIERNO NEGOCIO LA L...  01/10/2023  \n",
       "2  El valencianismo convoca en Castelló...  25/04/2022  \n",
       "3  En política, igual que hay que negoc...  03/01/2022  \n",
       "4  En una entrevista en El Punt Avui, e...  09/03/2018  "
      ]
     },
     "execution_count": 5,
     "metadata": {},
     "output_type": "execute_result"
    }
   ],
   "source": [
    "df.head()"
   ]
  },
  {
   "cell_type": "markdown",
   "id": "c8bf35ed-f0c1-4aae-9f88-7940f125a82a",
   "metadata": {},
   "source": [
    "Al analizar la distribución de noticias falsas y no falsas, notamos que el conjunto de datos mantiene un equilibrio razonable. Aproximadamente el 60% de los registros son noticias falsas, mientras que el 40% son verdaderas. Esto es importante porque evita que el modelo se sesgue hacia una de las clases y mejora su capacidad de generalización."
   ]
  },
  {
   "cell_type": "code",
   "execution_count": 6,
   "id": "2a8c1518-9668-4f86-9042-469a4d6ef8bf",
   "metadata": {},
   "outputs": [
    {
     "data": {
      "text/plain": [
       "Label\n",
       "1    58.107706\n",
       "0    41.892294\n",
       "Name: count, dtype: float64"
      ]
     },
     "execution_count": 6,
     "metadata": {},
     "output_type": "execute_result"
    }
   ],
   "source": [
    "df[\"Label\"].value_counts() / df.shape[0] * 100"
   ]
  },
  {
   "cell_type": "markdown",
   "id": "ec3313a5",
   "metadata": {},
   "source": [
    "Los resultados del análisis muestran que en el conjunto de datos hay una mayor cantidad de noticias etiquetadas como falsas en comparación con las verdaderas. Aproximadamente el 58.1% de las noticias han sido clasificadas como falsas, mientras que el 41.9% corresponden a noticias verdaderas. "
   ]
  },
  {
   "cell_type": "markdown",
   "id": "3b68c989-0d64-4843-8085-64f71a6980dd",
   "metadata": {},
   "source": [
    "Esto se puede ver mejor en la siguiente gráfica."
   ]
  },
  {
   "cell_type": "code",
   "execution_count": 7,
   "id": "f3378874-0a03-4bf4-938b-ad0893040048",
   "metadata": {},
   "outputs": [
    {
     "data": {
      "image/png": "iVBORw0KGgoAAAANSUhEUgAAAYYAAAGGCAYAAAB/gCblAAAAOnRFWHRTb2Z0d2FyZQBNYXRwbG90bGliIHZlcnNpb24zLjEwLjAsIGh0dHBzOi8vbWF0cGxvdGxpYi5vcmcvlHJYcgAAAAlwSFlzAAAPYQAAD2EBqD+naQAAK7lJREFUeJzt3Qt81fV9//FPCiQCEoQEgpSAzCENgnQFFwhWUCBAA6jYQceKMFPAojAKjArOiq1c5KobK0MeVCyX4jZEbYMMmIJS7qxMblJdA4TJTbkEKEsAz//x/m6/8z/fkxA4CRASXs/H4yfn/M73dzm//PJ7/76XX4wLhUIhAwDg/3wteAEAgBAMAAAPwQAA8BAMAAAPwQAA8BAMAAAPwQAA8BAMAAAPwQAA8BAMuKWMGjXKvv71r1teXl557wpw0yIYbnILFiywuLi48HTbbbdZgwYN7KGHHrLJkyfbsWPHiiwzYcIEVzYWf/zjH91ya9eujWm54rZ11113Wc+ePe1Gu9L3Xr58uf3iF7+w9957z1JTU2/IPml/tF/Xio7toEGD7Ga0ZMkSe+WVV27IcSiL0p7rtxKCoYJ4/fXXbePGjbZ69Wr7x3/8R/vmN79pL7/8sqWlpdmaNWu8sj/4wQ9c2Vh/WV588cWYf1lKs63rpaR9+cMf/mBDhw61ZcuW2X333XfD9+1WUFIw6Oein8/NoLTn+q2kannvAK5Oy5YtrW3btuH3jz/+uP3oRz+yBx54wPr06WOffvqppaSkuM8aNWrkpuv9y1WjRo0bsq2rVdK+/Mmf/EmxtSvcGO3atSvvXUAMqDFUYI0bN7YZM2bYmTNnbO7cuSU2qbz//vvWqVMnS0pKsurVq7tlFS66wO/fv9/q1avnyulOKmi2CposgvX9x3/8h333u9+1OnXq2N13333ZbUU23ejuXM1fujD//d//fbHNZNp+JN3JaX70Hd3KlSutc+fOVrt2bRdKqi2pOa2k7/3VV1/Z1KlT7Rvf+IYlJCRY/fr17YknnrBDhw555XRsFL5bt261b3/722792ucpU6a4dVxJfn6+DR482B3f22+/3bp3726///3viy2rEO/fv7/bF+2TvodqgaXxP//zPzZ69GhXg9RxqVu3rrVv397eeeedImX/5V/+xdLT08PHT9/vySefvOI29AeYf/7zn7tt6NzRz1/ngWphkccvJyfHDhw44DV9ltSUtGnTJuvQoYM7Pxo2bGjjxo2zefPmFTknLtcMVVyz2pEjR1zNUDcI8fHx1rRpU3dOX7x40X1+pXP9s88+s7/+67+2Zs2auWOk/qhevXrZzp07ve3onHjppZesefPm7pjccccd7lx/9dVXrTKgxlDBfec737EqVarYhx9+eNky+mXIyspyFzy1sesk/u///m93oS0sLLQ777zTvdbFLDs7O1zlD36BAqqZfO9737OnnnrKzp07V+J+7dixw0aOHOl+odUnsnjxYvubv/kbt70xY8bE/D3nz5/vLrwdO3a0f/qnf3IXVV14d+3aVeJyP/zhD+21116zZ555xvV76Fg8//zzLnQUdMnJyd5F5a/+6q/chfaFF15wwaaLlS5aCpOSLpyPPvqobdiwwX7yk5/Y/fffb7/97W+tR48eRcru2bPHMjIywqGuY/Nv//ZvNmLECPviiy/cdmNRUFBgJ06ccMdUFzEdXzUt6mel5sdgv9WU069fPzfpZ6KLsS7iumG4El1oFeLaRzVfans//elP3ff4z//8T1dTVXAMGTLE/uu//ssdtyvRcVDI6+KudesirHWoOaq09PP78z//c/va177mfg66edH31gVcP3cdjyud659//rkLd90QaJ6+6xtvvOEC9Xe/+50LAtHNho7j3/3d39mDDz5oFy5csE8++cROnTpllYL+fwy4eb3++uv6/2WEtm7detkyKSkpobS0tPD7F154wS0T+Nd//Vf3fseOHZddx/Hjx10ZLRstWN9PfvKTy34WqUmTJqG4uLgi2+vatWsoMTExdO7cOe+75ebmeuU++OADN1//ypkzZ9xyDzzwQOirr7667HeI3pe9e/e698OGDfPKbd682c0fP358eF7Hjh3dPH0WqUWLFqFu3bqFSvLee++5ZV999VVv/sSJE4scU62rUaNGodOnT3tln3nmmdBtt90WOnHiRInb0rEdOHDgZT+/ePFi6MKFC6Hs7OzQn/3Zn4XnT58+3e3LqVOnQrHYuHGjW27GjBne/Ly8vFD16tVDY8eODc/Lyspy+1ec6OPQr18/t/yRI0e8ff/GN75R5Jy43HkZfSyGDh0auv3220MHDhzwygXffffu3Vc816NdvHgxVFhYGGrWrFnoRz/6UXh+z549Q9/85jdDlRVNSZXAlf5fS2oCULVad3S6+4lsAoiFmp6u1r333mutW7f25qn5RE0uulOPhe7EtdywYcNiGm31wQcfuH+jmxt0V6nmm3//93/35uvuXZ9FUvOA7qyvZjuqbUR/3+hmH23zsccec3fIat4IJtX89LmaV2KlJiI1yagJq2rVqlatWjVXw9q7d2+4jGox0rdvX/vnf/5nV2O8Gr/5zW/cMf/+97/v7a+OlX6+pe3A1TFTjSHoFxPVfFWjKS3tq0brqYYXua9BzW3dunVXXIfKT5o0yVq0aOF+Z3Q89a+a/yKPp84T1ZZ0TqrGp/OzMiEYKjg16Xz55Zful+FyVKVW84KaX55++mn3XlOs7aGqhl8tXTguN0/7G4vjx4+7f2Pt5A62U9x+63hF74eaEKKpD+D8+fNX3I4uINHLRx8DldOF5x/+4R/cxTtyUjCImpNi8dZbb7mLvZqRFi1a5JpO1E+ivgMFTUDNHW+//bbbvpqXdCzVp/KrX/2qxPUfPXrU3XjoAh69zwqxWPc38liUdI6Uhvb117/+dZH91E2KXM2+6jmX559/3jUNal2bN292x1MhGHkeqIlx+vTp7hgoePSzV9Bt27bNKgP6GCo4dfhdunTJdf6VRP0LmlRWJ68uTuoD0C+8+g2uRix362rvvdy84AKqdu6gnTxS9C9w0P4b3WF8JcF2Dh8+XCRU1JYc2b9QFtqOLri62EWGQ/QxUKet7ooHDBjgAro46iyNhcJAy7z55pvezyf6mMojjzziJn2mC5o67lWrUTu/OqyLo2Ok9X700UcuJKMVN+9q6DiVdI5Eb6O47xMd7NpX1fAmTpxY7DZLunmKPJ5PPPGEqzVEn5PqmwvoRkAhokn9CrrxGj9+vHXr1s09PKkaYUVGjaECO3jwoOt01CgTdRBeDV2Y1JEWjIIJmnWCX/Ar3R1frd27d7uqdiR1LNaqVcu+9a1vufe6IMnHH3/slXv33Xe99+rk1HdUp3Ms/4vyhx9+OPzLHkl3gGoW0B3etaDmC1EHe6TojlRdLFRWnZi6gGn4cfRUXK2lJLpoq6kjMhR0cS1uVFJAP2t14qsjWbQ/l6MOex1zNT0Vt7+tWrXy1nu154+Og5rVdJcf0E2LAi6azpPoc0Sd5mfPni2yrxqMoNpwcfsaBENJ57qOY0JU2Onmq6SmNwWGRmkp7NVZHT3KriKixlBB6IQP2kw1Hl93cBploQu9RoFEjyCKpAuqfpE0MkmjYdTEoNFJ0qVLF/evLthNmjRxFxRdMDXsUXdgwcU7Vvol7N27txu5oaYcXZz1cJ4uRsHdlNq9NcpD4abvpTtqfZf169d761LbuUbwaASJ9lejk1TT0dBChc/s2bOL3QetW/0qqh1ppIqq/MGoJD35rOdAroXMzEzXVDN27FjXtKeLkEYlLVy4sEhZNd/p2RPV3jRiSsdXw431XdR0cTWjhKIvhmpOUlu3Lk66W/3Zz37mjrnaxQMapaMal362qj3pLlf7oqYWhcTlqO9Cx1BDOFXT1PesWbOmq4Xp56Rg0PcQvda+zJkzx9q0aeOOeeSzN5E0mkc3AApv7ZvOCd2sFDfaTTUs/cxUTvuqEU36metmIZJGSukc042ERlDp569zXT/zFStWuN8DffeSznUdzwULFrjhzQrv7du327Rp04rUODWENXi2SL976ofSw31ar4a6Vnjl3fuNkgUjd4IpPj4+VL9+fTeKZtKkSaFjx45dcXSORpY89thjbhRHQkJCKCkpyS3/7rvvesutWbPGjWRRGS0fjPgI1qfRHFfalmg7GqGi0VD33nuv2+e77rorNHPmzCLL//73vw9lZma6UUf16tULDR8+PJSTk+ONSgqsWLHC7XfNmjVDNWrUcCOGXn755RL35dKlS67MPffcE6pWrVooOTk59P3vf9+Nqomk9Wpfo+kYXG6kTSSN9nnyySdDd9xxh9s3jcD65JNPih39ohE3Kvv1r3/d7ZO+d0ZGRuill1664naKG5U0ZcoUd3z1c9PotHnz5hU5Fr/5zW9CPXr0cNsMzqHvfOc7oY8++ih0NX7xi1+E0tPT3bHXaKK777479MQTT4S2bdsWLqMRVd/97nfdMdCotMjtF3ccfvvb34batWvn9rtBgwahv/3bvw299tprRUYlFRQUuNFPqampbtv6WWnEW3HHQufoiBEjQk2bNnXHtm7duqE2bdqEnnvuudDZs2eveK6fPHnSjejS8dHPUSPhdIy0TU0BjdLSz0znk45n48aN3XL79+8PVQZx+k95hxMAiO7WVTvJzc0tdW0VZUcfAwDAQzAAADw0JQEAPNQYAAAeggEA4CEYAACeW/oBN/1Ndf1pBD3wEuv/ChMAKhJ1J+thSj18qocPS3JLB4NC4Ub9v38B4Gagp+Ov9Acpb+lgUE0hOFCJiYnlvTsAcN3oT4PrRji47pXklg6GoPlIoUAwALgVxF1FszmdzwAAD8EAAPAQDAAAD8EAAPAQDAAAD8EAAPAQDAAAD8EAAPAQDAAAD8EAAPAQDAAAD8EAAPAQDAAAzy3911UB/K+7ns0p711ADPZPybLriRoDAMBDMAAAPAQDAMBDMAAAPAQDAMBDMAAAPAQDAMBDMAAAPAQDAMBDMAAAPAQDAMBDMAAAPAQDAMBDMAAAPAQDAMBDMAAAPAQDAMBDMAAAPAQDAMBDMAAAPAQDAMBDMAAAPAQDAMBDMAAASh8Mc+bMsfvuu88SExPd1L59e3vvvffCn4dCIZswYYI1bNjQqlevbp06dbLdu3d76ygoKLDhw4dbcnKy1axZ03r37m2HDh3yypw8edIGDBhgtWvXdpNenzp1yitz8OBB69Wrl1uH1jVixAgrLCyM5esAAMoaDI0aNbIpU6bYtm3b3PTwww/bI488Er74T5061WbOnGmzZ8+2rVu3WoMGDaxr16525syZ8DpGjhxpy5cvt6VLl9r69evt7Nmz1rNnT7t06VK4TP/+/W3Hjh22cuVKN+m1wiGgsllZWXbu3Dm3Dq1r2bJlNnr06Fi+DgCgGHEh3eaXQd26dW3atGn25JNPupqCLvw//vGPw7WDlJQUe/nll23o0KF2+vRpq1evni1cuND69evnynz++eeWmppqK1assG7dutnevXutRYsWtmnTJktPT3dl9Fq1k08++cSaN2/uaikKk7y8PLdNUTgMGjTIjh075mozVyM/P9/VSLRfV7sMUBnd9WxOee8CYrB/SpbFKpbrXan7GHTXroux7tp10c7NzbUjR45YZmZmuExCQoJ17NjRNmzY4N5v377dLly44JXRhb1ly5bhMhs3bnQ7H4SCtGvXzs2LLKNlglAQhYqCSNu4HH2ugxM5AQDKGAw7d+6022+/3V30n3rqKdcspDt8hYKohhBJ74PP9G98fLzVqVOnxDL169cvsl3NiywTvR2tU+sOyhRn8uTJ4X4LTaqpAADKGAxqylGbv5p3fvjDH9rAgQNtz5494c/j4uK88mqpip4XLbpMceVLUybauHHjXDUqmNQUBQAoYzDorvxP//RPrW3btu4OvHXr1vbqq6+6jmaJvmNXm39wd68yGjmkUUcllTl69GiR7R4/ftwrE70drVPNVNE1iUiq5QQjqoIJAHCNn2PQXbra7ps2beou2KtXrw5/phBYt26dZWRkuPdt2rSxatWqeWUOHz5su3btCpdRf4Xu5rds2RIus3nzZjcvsoyW0bKBVatWuQu/tgEAKL2qsRQeP3689ejRw7XNawiqOp/Xrl3rhpSqCUcjkiZNmmTNmjVzk17XqFHDDT8VtetnZ2e7YaVJSUluRNOYMWOsVatW1qVLF1cmLS3NunfvboMHD7a5c+e6eUOGDHGjkNSMJeq8Vr+GhrBqRNSJEyfcerQMtQAAuIHBoCYeXYx1p66LvB52UyjoWQUZO3asnT9/3oYNG+aadjSySHfytWrVCq9j1qxZVrVqVevbt68r27lzZ1uwYIFVqVIlXGbx4sXugbVg9JIegtOzEQGVzcnJcdvp0KGDe5hO4TN9+vQyHg4AQJmfY6jIeI4B+F88x1Cx7L9Zn2MAAFROBAMAwEMwAAA8BAMAwEMwAAA8BAMAwEMwAAA8BAMAwEMwAAA8BAMAwEMwAAA8BAMAwEMwAAA8BAMAwEMwAAA8BAMAwEMwAAA8BAMAwEMwAAA8BAMAwEMwAAA8BAMAwEMwAAA8BAMAwEMwAAA8BAMAwEMwAAA8BAMAwEMwAAA8BAMAwEMwAAA8BAMAwEMwAAA8BAMAwEMwAABKHwyTJ0+2+++/32rVqmX169e3Rx991Pbt2+eVGTRokMXFxXlTu3btvDIFBQU2fPhwS05Otpo1a1rv3r3t0KFDXpmTJ0/agAEDrHbt2m7S61OnTnllDh48aL169XLr0LpGjBhhhYWFsXwlAEBZgmHdunX29NNP26ZNm2z16tV28eJFy8zMtHPnznnlunfvbocPHw5PK1as8D4fOXKkLV++3JYuXWrr16+3s2fPWs+ePe3SpUvhMv3797cdO3bYypUr3aTXCoeAymZlZbltax1a17Jly2z06NGxfCUAQJSqFgNdoCO9/vrrruawfft2e/DBB8PzExISrEGDBsWu4/Tp0zZ//nxbuHChdenSxc1btGiRpaam2po1a6xbt262d+9ety0FUHp6uiszb948a9++vauhNG/e3FatWmV79uyxvLw8a9iwoSszY8YMV2OZOHGiJSYmxvLVAADXoo9BF3mpW7euN3/t2rUuMO655x4bPHiwHTt2LPyZQuTChQuuphHQhb1ly5a2YcMG937jxo2u+SgIBVFzlOZFltEyQSiIQkXNVNoGAOAG1BgihUIhGzVqlD3wwAPuAh3o0aOH/cVf/IU1adLEcnNz7fnnn7eHH37YXaxVkzhy5IjFx8dbnTp1vPWlpKS4z0T/KliiaV5kGS0TSevUuoMy0RQamgL5+fml/foAUGmVOhieeeYZ+/jjj137fqR+/fqFXysw2rZt60IiJyfH+vTpU2LQqKM6EPm6LGWiO89ffPHFq/h2AHDrKlVTkkYUvfvuu/bBBx9Yo0aNSix75513umD49NNP3Xv1PWjkkEYdRVJzU1ADUJmjR48WWdfx48e9MtE1A61TzVTRNYnAuHHjXPNXMKl/AgBQhmDQ3bhqCm+99Za9//771rRp0ysu8+WXX7oLsAJC2rRpY9WqVXOjmgIaubRr1y7LyMhw79XJrAv3li1bwmU2b97s5kWW0TJaNqAOaTVXaRvF0WfqlI6cAABlaErSUNUlS5bYO++8455lCO7Y1SlcvXp1N+x0woQJ9vjjj7sg2L9/v40fP949Y/DYY4+Fy2ZnZ7thpUlJSa7jesyYMdaqVavwKKW0tDQ35FUd13PnznXzhgwZ4oa0akSSqPO6RYsWbgjrtGnT7MSJE249WoYLPgDcoBrDnDlz3F17p06d3IU/mN588033eZUqVWznzp32yCOPuBFJAwcOdP9qBJGCJDBr1iz3cFzfvn2tQ4cOVqNGDfv1r3/tlg8sXrzYhYUCQNN9993nhrgGVFb9Frfddptbh9aldU6fPr0MhwMAEBdS+9AtSqOSVINR2FHLwK3srmdzynsXEIP9U7Lsel7v+FtJAAAPwQAA8BAMAAAPwQAAuDZPPt/q6Kyr/J11wK2KGgMAwEMwAAA8BAMAwEMwAAA8BAMAwEMwAAA8BAMAwEMwAAA8BAMAwEMwAAA8BAMAwEMwAAA8BAMAwEMwAAA8BAMAwEMwAAA8BAMAwEMwAAA8BAMAwEMwAAA8BAMAwEMwAAA8BAMAwEMwAAA8BAMAwEMwAAA8BAMAwEMwAAA8BAMAwEMwAAA8BAMAoPTBMHnyZLv//vutVq1aVr9+fXv00Udt3759XplQKGQTJkywhg0bWvXq1a1Tp062e/dur0xBQYENHz7ckpOTrWbNmta7d287dOiQV+bkyZM2YMAAq127tpv0+tSpU16ZgwcPWq9evdw6tK4RI0ZYYWFhLF8JAFCWYFi3bp09/fTTtmnTJlu9erVdvHjRMjMz7dy5c+EyU6dOtZkzZ9rs2bNt69at1qBBA+vataudOXMmXGbkyJG2fPlyW7p0qa1fv97Onj1rPXv2tEuXLoXL9O/f33bs2GErV650k14rHAIqm5WV5batdWhdy5Yts9GjR8fylQAAUeJCusUvpePHj7uagwLjwQcfdLUF1RR04f/xj38crh2kpKTYyy+/bEOHDrXTp09bvXr1bOHChdavXz9X5vPPP7fU1FRbsWKFdevWzfbu3WstWrRwAZSenu7K6HX79u3tk08+sebNm9t7773nwiQvL89tUxQOgwYNsmPHjlliYuIV9z8/P9/VRrRPV1M+0l3P5pTiiKG87J+SVd67cFPjfK7853N+DNe7MvUxaANSt25d929ubq4dOXLE1SICCQkJ1rFjR9uwYYN7v337drtw4YJXRhf2li1bhsts3LjRfYEgFKRdu3ZuXmQZLROEgihUFETaBgCgdKqWcjlXOxg1apQ98MAD7gItCgVRDSGS3h84cCBcJj4+3urUqVOkTLC8/lVNJJrmRZaJ3o7WqXUHZaIpNDRFJigA4BrVGJ555hn7+OOP7Ve/+lWRz+Li4oqESPS8aNFliitfmjLRnedBZ7YmNV8BAK5BMGhE0bvvvmsffPCBNWrUKDxfHc0SfceuNv/g7l5lNHJIo45KKnP06NFi+zQiy0RvR+tUM1V0TSIwbtw41/wVTOqfAACUIRh0N66awltvvWXvv/++NW3a1Ptc73XB1oilgEJAndMZGRnufZs2baxatWpemcOHD9uuXbvCZdTJrAv3li1bwmU2b97s5kWW0TJaNrBq1SrXp6FtFEefqdMlcgIAlKGPQUNVlyxZYu+88457liG4Y1ezjJ5ZUBOORiRNmjTJmjVr5ia9rlGjhht+GpTNzs52w0qTkpJcx/WYMWOsVatW1qVLF1cmLS3NunfvboMHD7a5c+e6eUOGDHGjkDQiSdR5rZFLGsI6bdo0O3HihFuPluGCDwA3KBjmzJnj/tVDa5Fef/11N0xUxo4da+fPn7dhw4a5ph2NLNKdvIIkMGvWLKtatar17dvXle3cubMtWLDAqlSpEi6zePFi98BaMHpJD8Hp2YiAyubk5LjtdOjQwQWTwmf69OmlPRYAgLI+x1DR8RzDrYPnGErG+Vyx7L+Zn2MAAFQ+BAMAwEMwAAA8BAMAwEMwAAA8BAMAwEMwAAA8BAMAwEMwAAA8BAMAwEMwAAA8BAMAwEMwAAA8BAMAwEMwAAA8BAMAwEMwAAA8BAMAwEMwAAA8BAMAwEMwAAA8BAMAwEMwAAA8BAMAwEMwAAA8BAMAwEMwAAA8BAMAwEMwAAA8BAMAwEMwAAA8BAMAwEMwAAA8BAMAwEMwAAA8BAMAoGzB8OGHH1qvXr2sYcOGFhcXZ2+//bb3+aBBg9z8yKldu3ZemYKCAhs+fLglJydbzZo1rXfv3nbo0CGvzMmTJ23AgAFWu3ZtN+n1qVOnvDIHDx50+6J1aF0jRoywwsLCWL8SAKAswXDu3Dlr3bq1zZ49+7JlunfvbocPHw5PK1as8D4fOXKkLV++3JYuXWrr16+3s2fPWs+ePe3SpUvhMv3797cdO3bYypUr3aTXCoeAymZlZbn90Tq0rmXLltno0aNj/UoAgAhVLUY9evRwU0kSEhKsQYMGxX52+vRpmz9/vi1cuNC6dOni5i1atMhSU1NtzZo11q1bN9u7d68Lg02bNll6erorM2/ePGvfvr3t27fPmjdvbqtWrbI9e/ZYXl6eq73IjBkzXI1l4sSJlpiYGOtXAwBcrz6GtWvXWv369e2ee+6xwYMH27Fjx8Kfbd++3S5cuGCZmZnhebqwt2zZ0jZs2ODeb9y40TUfBaEgao7SvMgyWiYIBVGoqJlK2yiOPsvPz/cmAMB1DgbVJhYvXmzvv/++u4PfunWrPfzww+6iLEeOHLH4+HirU6eOt1xKSor7LCijYImmeZFltEwkrVPrDspEmzx5crjPQpNqKQCAMjYlXUm/fv3Cr3VH37ZtW2vSpInl5ORYnz59LrtcKBRyHdWByNdlKRNp3LhxNmrUqPB71RgIBwC4wcNV77zzThcMn376qXuvvgeNHNKoo0hqbgpqACpz9OjRIus6fvy4Vya6ZqB1qpkquiYR2fehvofICQBwg4Phyy+/dB3ECghp06aNVatWzVavXh0uo5FLu3btsoyMDPdenczqpN6yZUu4zObNm928yDJaRssG1CGti7+2AQC4QU1JGlr62Wefhd/n5ua6oaR169Z104QJE+zxxx93QbB//34bP368e8bgsccec+XVtp+dne2GlSYlJbllxowZY61atQqPUkpLS3NDXtVxPXfuXDdvyJAhbkirRiSJOq9btGjhhrBOmzbNTpw44dajZagJAMANDIZt27bZQw89FH4ftNkPHDjQ5syZYzt37rRf/vKX7mE0hYPKvvnmm1arVq3wMrNmzbKqVata37597fz589a5c2dbsGCBValSJVxGHdh6YC0YvaSH4CKfnVBZ9VsMGzbMOnToYNWrV3fPPkyfPr30RwMAYHEh9dbeotT5rBqMmqhirWXc9WzOddsvXHv7p2SV9y7c1DifK//5nB/D9Y6/lQQA8BAMAAAPwQAA8BAMAAAPwQAA8BAMAAAPwQAA8BAMAAAPwQAA8BAMAAAPwQAA8BAMAAAPwQAA8BAMAAAPwQAA8BAMAAAPwQAA8BAMAAAPwQAA8BAMAAAPwQAA8BAMAAAPwQAA8BAMAAAPwQAA8BAMAAAPwQAA8BAMAAAPwQAA8BAMAAAPwQAA8BAMAAAPwQAA8BAMAAAPwQAAKFswfPjhh9arVy9r2LChxcXF2dtvv+19HgqFbMKECe7z6tWrW6dOnWz37t1emYKCAhs+fLglJydbzZo1rXfv3nbo0CGvzMmTJ23AgAFWu3ZtN+n1qVOnvDIHDx50+6J1aF0jRoywwsLCWL8SAKAswXDu3Dlr3bq1zZ49u9jPp06dajNnznSfb9261Ro0aGBdu3a1M2fOhMuMHDnSli9fbkuXLrX169fb2bNnrWfPnnbp0qVwmf79+9uOHTts5cqVbtJrhUNAZbOystz+aB1a17Jly2z06NGxfiUAQISqFqMePXq4qTiqLbzyyiv23HPPWZ8+fdy8N954w1JSUmzJkiU2dOhQO336tM2fP98WLlxoXbp0cWUWLVpkqamptmbNGuvWrZvt3bvXhcGmTZssPT3dlZk3b561b9/e9u3bZ82bN7dVq1bZnj17LC8vz9VOZMaMGTZo0CCbOHGiJSYmxvrVAADXuo8hNzfXjhw5YpmZmeF5CQkJ1rFjR9uwYYN7v337drtw4YJXRhf2li1bhsts3LjRNR8FoSDt2rVz8yLLaJkgFEShomYqbQMAcINqDCVRKIhqCJH0/sCBA+Ey8fHxVqdOnSJlguX1b/369YusX/Miy0RvR+vUuoMy0RQamgL5+fml/KYAUHldl1FJ6pSObmKKnhctukxx5UtTJtLkyZPDndma1HwFALiOwaCOZom+Yz927Fj47l5lNHJIo45KKnP06NEi6z9+/LhXJno7WqeaqaJrEoFx48a5Po5gUv8EAOA6BkPTpk3dBXv16tXheQqBdevWWUZGhnvfpk0bq1atmlfm8OHDtmvXrnAZdTLrwr1ly5Zwmc2bN7t5kWW0jJYNqENafRraRnH0mTqlIycAQBn7GDS09LPPPvM6nDWUtG7duta4cWM3FHXSpEnWrFkzN+l1jRo13PBTURNOdna2G1aalJTklhszZoy1atUqPEopLS3NunfvboMHD7a5c+e6eUOGDHFDWjUiSdR53aJFCzeEddq0aXbixAm3Hi3DBR8AbmAwbNu2zR566KHw+1GjRrl/Bw4caAsWLLCxY8fa+fPnbdiwYa5pRyOLdCdfq1at8DKzZs2yqlWrWt++fV3Zzp07u2WrVKkSLrN48WL3wFowekkPwUU+O6GyOTk5bjsdOnRwD9MpfKZPn176owEAsLiQemtvURqVpBqMmqhirWXc9WzOddsvXHv7p2SV9y7c1DifK//5nB/D9Y6/lQQA8BAMAAAPwQAA8BAMAAAPwQAA8BAMAAAPwQAA8BAMAAAPwQAA8BAMAAAPwQAA8BAMAAAPwQAA8BAMAAAPwQAA8BAMAAAPwQAA8BAMAAAPwQAA8BAMAAAPwQAA8BAMAAAPwQAA8BAMAAAPwQAA8BAMAAAPwQAA8BAMAAAPwQAA8BAMAAAPwQAA8BAMAAAPwQAA8BAMAAAPwQAA8BAMAIDrGwwTJkywuLg4b2rQoEH481Ao5Mo0bNjQqlevbp06dbLdu3d76ygoKLDhw4dbcnKy1axZ03r37m2HDh3yypw8edIGDBhgtWvXdpNenzp16lp/HQC45VyXGsO9995rhw8fDk87d+4MfzZ16lSbOXOmzZ4927Zu3epCo2vXrnbmzJlwmZEjR9ry5ctt6dKltn79ejt79qz17NnTLl26FC7Tv39/27Fjh61cudJNeq1wAACUTdXrstKqVb1aQmRt4ZVXXrHnnnvO+vTp4+a98cYblpKSYkuWLLGhQ4fa6dOnbf78+bZw4ULr0qWLK7No0SJLTU21NWvWWLdu3Wzv3r0uDDZt2mTp6emuzLx586x9+/a2b98+a968+fX4WgBwS7guNYZPP/3UNRU1bdrUvve979kf/vAHNz83N9eOHDlimZmZ4bIJCQnWsWNH27Bhg3u/fft2u3DhgldG62rZsmW4zMaNG13zURAK0q5dOzcvKAMAuElqDLpY//KXv7R77rnHjh49ai+99JJlZGS4fgSFgqiGEEnvDxw44F6rTHx8vNWpU6dImWB5/Vu/fv0i29a8oExx1HehKZCfn1/GbwsAlc81D4YePXqEX7dq1co179x9992uyUh39aIO6egmpuh50aLLFFf+SuuZPHmyvfjiizF9HwC41Vz34aoaVaSAUPNS0O8QfVd/7NixcC1CZQoLC92oo5LKqDYS7fjx40VqI5HGjRvn+jCCKS8v75p8RwCoTK57MKjpRp3Fd955p+tz0EV99erV4c8VAuvWrXPNTdKmTRurVq2aV0Yjm3bt2hUuo1qILuxbtmwJl9m8ebObF5QpjvozEhMTvQkAcJ2bksaMGWO9evWyxo0bu7t89TGoLX/gwIGumUdDUSdNmmTNmjVzk17XqFHDDT8VdSBnZ2fb6NGjLSkpyerWrevWqVpHMEopLS3NunfvboMHD7a5c+e6eUOGDHFDWhmRBAA3WTDoQbS//Mu/tC+++MLq1avn+hU0rLRJkybu87Fjx9r58+dt2LBhrrlIndWrVq2yWrVqhdcxa9YsN+S1b9++rmznzp1twYIFVqVKlXCZxYsX24gRI8Kjl/QQnJ6NAACUTVxIPba3KNVkVENRE1SszUp3PZtz3fYL197+KVnlvQs3Nc7nyn8+58dwveNvJQEAPAQDAMBDMAAAPAQDAMBDMAAAPAQDAMBDMAAAPAQDAMBDMAAAPAQDAMBDMAAAPAQDAMBDMAAAPAQDAMBDMAAAPAQDAMBDMAAAPAQDAMBDMAAAPAQDAMBDMAAAPAQDAMBDMAAAPAQDAMBDMAAAPAQDAMBDMAAAPAQDAMBDMAAAPAQDAMBDMAAAPAQDAMBDMAAAPAQDAMBDMAAAPAQDAKByBcPPf/5za9q0qd12223Wpk0b++ijj8p7lwCgQqvQwfDmm2/ayJEj7bnnnrPf/e539u1vf9t69OhhBw8eLO9dA4AKq0IHw8yZMy07O9t+8IMfWFpamr3yyiuWmppqc+bMKe9dA4AKq6pVUIWFhbZ9+3Z79tlnvfmZmZm2YcOGYpcpKChwU+D06dPu3/z8/Ji3/1XBH2NeBuWnND/jWwnnc+U/n/P/b5lQKFR5g+GLL76wS5cuWUpKijdf748cOVLsMpMnT7YXX3yxyHzVMlC51X6lvPcAuDnO5zNnzljt2rUrZzAE4uLivPdKw+h5gXHjxtmoUaPC77/66is7ceKEJSUlXXaZW4nuKBSSeXl5lpiYWN67A5QJ57MVuTYqFBo2bGhXUmGDITk52apUqVKkdnDs2LEitYhAQkKCmyLdcccd13U/KyL9EvGLhMqC8/n/u1JNocJ3PsfHx7vhqatXr/bm631GRka57RcAVHQVtsYgahYaMGCAtW3b1tq3b2+vvfaaG6r61FNPlfeuAUCFVaGDoV+/fvbll1/aT3/6Uzt8+LC1bNnSVqxYYU2aNCnvXauQ1Mz2wgsvFGluAyoizufSiwtdzdglAMAto8L2MQAArg+CAQDgIRgAAB6CAQDgIRgQxp8wR2Xw4YcfWq9evdwTvvqLBm+//XZ571KFQzDA4U+Yo7I4d+6ctW7d2mbPnl3eu1JhMVwVTnp6un3rW9/y/mS5/pT5o48+6v74IFARqcawfPlydx7j6lFjQPhPmOtPll/tnzAHUHkRDCjVnzAHUHkRDCjVnzAHUHkRDCjVnzAHUHkRDOBPmAOoPH9dFdcOf8IclcXZs2fts88+C7/Pzc21HTt2WN26da1x48blum8VBcNV4T3gNnXq1PCfMJ81a5Y9+OCD5b1bQEzWrl1rDz30UJH5AwcOtAULFpTLPlU0BAMAwEMfAwDAQzAAADwEAwDAQzAAADwEAwDAQzAAADwEAwDAQzAAADwEAwDAQzAAADwEAwDAQzAAACzS/wP8StUkGwPe3QAAAABJRU5ErkJggg==",
      "text/plain": [
       "<Figure size 400x400 with 1 Axes>"
      ]
     },
     "metadata": {},
     "output_type": "display_data"
    }
   ],
   "source": [
    "fig, axis = plt.subplots(1, figsize=(4,4), tight_layout=True)\n",
    "axis.hist(df[\"Label\"], bins=[-0.5, 0.5, 1.5], rwidth=0.6)\n",
    "axis.set_xticks([0, 1])\n",
    "plt.title('Distribución de las etiquetas')\n",
    "plt.show()"
   ]
  },
  {
   "cell_type": "markdown",
   "id": "fc6f3e30",
   "metadata": {},
   "source": [
    "La gráfica de barras confirma esta diferencia, mostrando que la cantidad de noticias falsas supera a la de noticias verdaderas, pero sin una diferencia muy grande. Esto sugiere que el conjunto de datos mantiene una distribución relativamente equilibrada, lo cual es bueno para el entrenamiento de los modelos ya que evita sesgos hacia una de las categorías."
   ]
  },
  {
   "cell_type": "markdown",
   "id": "523d091a-8837-4e0b-8feb-a9a0832b06ca",
   "metadata": {},
   "source": [
    "Luego, se calculan las siguientes columnas para intentar hallar una relación entre estos estadisticos y las noticias falsas."
   ]
  },
  {
   "cell_type": "code",
<<<<<<<< HEAD:informe.ipynb
   "execution_count": 8,
========
   "execution_count": 5,
>>>>>>>> ecfa5ff7e82bed6791d991fbb8ac490006c68c5e:cambios_2.ipynb
   "id": "88848afc-0730-4179-96b5-2123a0276f7d",
   "metadata": {},
   "outputs": [
    {
     "data": {
      "text/html": [
       "<div>\n",
       "<style scoped>\n",
       "    .dataframe tbody tr th:only-of-type {\n",
       "        vertical-align: middle;\n",
       "    }\n",
       "\n",
       "    .dataframe tbody tr th {\n",
       "        vertical-align: top;\n",
       "    }\n",
       "\n",
       "    .dataframe thead th {\n",
       "        text-align: right;\n",
       "    }\n",
       "</style>\n",
       "<table border=\"1\" class=\"dataframe\">\n",
       "  <thead>\n",
       "    <tr style=\"text-align: right;\">\n",
       "      <th></th>\n",
       "      <th>ID</th>\n",
       "      <th>Label</th>\n",
       "      <th>Titulo</th>\n",
       "      <th>Descripcion</th>\n",
       "      <th>Fecha</th>\n",
       "      <th>Count</th>\n",
       "      <th>Max</th>\n",
       "      <th>Min</th>\n",
       "      <th>Mean</th>\n",
       "    </tr>\n",
       "  </thead>\n",
       "  <tbody>\n",
       "    <tr>\n",
       "      <th>0</th>\n",
       "      <td>ID</td>\n",
       "      <td>1</td>\n",
       "      <td>'The Guardian' va con Sánchez: 'Euro...</td>\n",
       "      <td>El diario británico publicó este pas...</td>\n",
       "      <td>02/06/2023</td>\n",
       "      <td>218</td>\n",
       "      <td>13</td>\n",
       "      <td>1</td>\n",
       "      <td>5.083333</td>\n",
       "    </tr>\n",
       "    <tr>\n",
       "      <th>1</th>\n",
       "      <td>ID</td>\n",
       "      <td>0</td>\n",
       "      <td>REVELAN QUE EL GOBIERNO NEGOCIO LA L...</td>\n",
       "      <td>REVELAN QUE EL GOBIERNO NEGOCIO LA L...</td>\n",
       "      <td>01/10/2023</td>\n",
       "      <td>3260</td>\n",
       "      <td>18</td>\n",
       "      <td>1</td>\n",
       "      <td>5.083955</td>\n",
       "    </tr>\n",
       "    <tr>\n",
       "      <th>2</th>\n",
       "      <td>ID</td>\n",
       "      <td>1</td>\n",
       "      <td>El 'Ahora o nunca' de Joan Fuster so...</td>\n",
       "      <td>El valencianismo convoca en Castelló...</td>\n",
       "      <td>25/04/2022</td>\n",
       "      <td>169</td>\n",
       "      <td>13</td>\n",
       "      <td>2</td>\n",
       "      <td>4.666667</td>\n",
       "    </tr>\n",
       "  </tbody>\n",
       "</table>\n",
       "</div>"
      ],
      "text/plain": [
       "   ID  Label                                   Titulo  \\\n",
       "0  ID      1  'The Guardian' va con Sánchez: 'Euro...   \n",
       "1  ID      0  REVELAN QUE EL GOBIERNO NEGOCIO LA L...   \n",
       "2  ID      1  El 'Ahora o nunca' de Joan Fuster so...   \n",
       "\n",
       "                               Descripcion       Fecha  Count  Max  Min  \\\n",
       "0  El diario británico publicó este pas...  02/06/2023    218   13    1   \n",
       "1  REVELAN QUE EL GOBIERNO NEGOCIO LA L...  01/10/2023   3260   18    1   \n",
       "2  El valencianismo convoca en Castelló...  25/04/2022    169   13    2   \n",
       "\n",
       "       Mean  \n",
       "0  5.083333  \n",
       "1  5.083955  \n",
       "2  4.666667  "
      ]
     },
<<<<<<<< HEAD:informe.ipynb
     "execution_count": 8,
========
     "execution_count": 5,
>>>>>>>> ecfa5ff7e82bed6791d991fbb8ac490006c68c5e:cambios_2.ipynb
     "metadata": {},
     "output_type": "execute_result"
    }
   ],
   "source": [
    "copy = df.copy()\n",
    "\n",
    "copy[\"Count\"] = [len(text) for text in copy[\"Descripcion\"]] # Cantidad de caracteres en el registro\n",
    "copy[\"Max\"] = [max([len(word) for word in text.split(' ')]) for text in copy[\"Descripcion\"] ] # Longitud de la palabra mas larga en el registro\n",
    "copy[\"Min\"] = [min([len(word) for word in text.split(' ')]) for text in copy[\"Descripcion\"] ] # Longitud de la palabra mas corta en el registro\n",
    "copy[\"Mean\"] = [np.mean([len(word) for word in text.split(' ')]) for text in copy[\"Descripcion\"] ] # Promedio de longitud de la palabra en el registro\n",
    "\n",
    "copy.head(3)"
   ]
  },
  {
   "cell_type": "markdown",
   "id": "16198de4-0ff5-4baa-b4d4-be7670961208",
   "metadata": {},
   "source": [
    "Análisis estadistico"
   ]
  },
  {
   "cell_type": "code",
<<<<<<<< HEAD:informe.ipynb
   "execution_count": 9,
========
   "execution_count": 6,
>>>>>>>> ecfa5ff7e82bed6791d991fbb8ac490006c68c5e:cambios_2.ipynb
   "id": "b0c9af82-21b1-4a74-99e6-3b0fb06a70bc",
   "metadata": {},
   "outputs": [
    {
     "data": {
      "text/html": [
       "<div>\n",
       "<style scoped>\n",
       "    .dataframe tbody tr th:only-of-type {\n",
       "        vertical-align: middle;\n",
       "    }\n",
       "\n",
       "    .dataframe tbody tr th {\n",
       "        vertical-align: top;\n",
       "    }\n",
       "\n",
       "    .dataframe thead th {\n",
       "        text-align: right;\n",
       "    }\n",
       "</style>\n",
       "<table border=\"1\" class=\"dataframe\">\n",
       "  <thead>\n",
       "    <tr style=\"text-align: right;\">\n",
       "      <th></th>\n",
       "      <th>Count</th>\n",
       "      <th>Max</th>\n",
       "      <th>Min</th>\n",
       "    </tr>\n",
       "  </thead>\n",
       "  <tbody>\n",
       "    <tr>\n",
       "      <th>count</th>\n",
       "      <td>33158.000000</td>\n",
       "      <td>33158.000000</td>\n",
       "      <td>33158.000000</td>\n",
       "    </tr>\n",
       "    <tr>\n",
       "      <th>mean</th>\n",
       "      <td>240.456964</td>\n",
       "      <td>12.713915</td>\n",
       "      <td>1.171965</td>\n",
       "    </tr>\n",
       "    <tr>\n",
       "      <th>std</th>\n",
       "      <td>302.507150</td>\n",
       "      <td>2.125877</td>\n",
       "      <td>0.384403</td>\n",
       "    </tr>\n",
       "    <tr>\n",
       "      <th>min</th>\n",
       "      <td>33.000000</td>\n",
       "      <td>6.000000</td>\n",
       "      <td>0.000000</td>\n",
       "    </tr>\n",
       "    <tr>\n",
       "      <th>25%</th>\n",
       "      <td>169.000000</td>\n",
       "      <td>11.000000</td>\n",
       "      <td>1.000000</td>\n",
       "    </tr>\n",
       "    <tr>\n",
       "      <th>50%</th>\n",
       "      <td>218.000000</td>\n",
       "      <td>13.000000</td>\n",
       "      <td>1.000000</td>\n",
       "    </tr>\n",
       "    <tr>\n",
       "      <th>75%</th>\n",
       "      <td>257.000000</td>\n",
       "      <td>14.000000</td>\n",
       "      <td>1.000000</td>\n",
       "    </tr>\n",
       "    <tr>\n",
       "      <th>max</th>\n",
       "      <td>14153.000000</td>\n",
       "      <td>41.000000</td>\n",
       "      <td>3.000000</td>\n",
       "    </tr>\n",
       "  </tbody>\n",
       "</table>\n",
       "</div>"
      ],
      "text/plain": [
       "              Count           Max           Min\n",
       "count  33158.000000  33158.000000  33158.000000\n",
       "mean     240.456964     12.713915      1.171965\n",
       "std      302.507150      2.125877      0.384403\n",
       "min       33.000000      6.000000      0.000000\n",
       "25%      169.000000     11.000000      1.000000\n",
       "50%      218.000000     13.000000      1.000000\n",
       "75%      257.000000     14.000000      1.000000\n",
       "max    14153.000000     41.000000      3.000000"
      ]
     },
<<<<<<<< HEAD:informe.ipynb
     "execution_count": 9,
========
     "execution_count": 6,
>>>>>>>> ecfa5ff7e82bed6791d991fbb8ac490006c68c5e:cambios_2.ipynb
     "metadata": {},
     "output_type": "execute_result"
    }
   ],
   "source": [
    "copy[copy[\"Label\"] == 1][[\"Count\", \"Max\", \"Min\"]].describe()"
   ]
  },
  {
   "cell_type": "code",
   "execution_count": 10,
   "id": "2e9d3975-c73c-4a77-b851-f28fe4714b4c",
   "metadata": {},
   "outputs": [
    {
     "data": {
      "text/html": [
       "<div>\n",
       "<style scoped>\n",
       "    .dataframe tbody tr th:only-of-type {\n",
       "        vertical-align: middle;\n",
       "    }\n",
       "\n",
       "    .dataframe tbody tr th {\n",
       "        vertical-align: top;\n",
       "    }\n",
       "\n",
       "    .dataframe thead th {\n",
       "        text-align: right;\n",
       "    }\n",
       "</style>\n",
       "<table border=\"1\" class=\"dataframe\">\n",
       "  <thead>\n",
       "    <tr style=\"text-align: right;\">\n",
       "      <th></th>\n",
       "      <th>Count</th>\n",
       "      <th>Max</th>\n",
       "      <th>Min</th>\n",
       "    </tr>\n",
       "  </thead>\n",
       "  <tbody>\n",
       "    <tr>\n",
       "      <th>count</th>\n",
       "      <td>23905.000000</td>\n",
       "      <td>23905.000000</td>\n",
       "      <td>23905.000000</td>\n",
       "    </tr>\n",
       "    <tr>\n",
       "      <th>mean</th>\n",
       "      <td>247.697260</td>\n",
       "      <td>12.717005</td>\n",
       "      <td>1.156662</td>\n",
       "    </tr>\n",
       "    <tr>\n",
       "      <th>std</th>\n",
       "      <td>228.702697</td>\n",
       "      <td>2.151326</td>\n",
       "      <td>0.383756</td>\n",
       "    </tr>\n",
       "    <tr>\n",
       "      <th>min</th>\n",
       "      <td>35.000000</td>\n",
       "      <td>6.000000</td>\n",
       "      <td>0.000000</td>\n",
       "    </tr>\n",
       "    <tr>\n",
       "      <th>25%</th>\n",
       "      <td>176.000000</td>\n",
       "      <td>11.000000</td>\n",
       "      <td>1.000000</td>\n",
       "    </tr>\n",
       "    <tr>\n",
       "      <th>50%</th>\n",
       "      <td>226.000000</td>\n",
       "      <td>13.000000</td>\n",
       "      <td>1.000000</td>\n",
       "    </tr>\n",
       "    <tr>\n",
       "      <th>75%</th>\n",
       "      <td>278.000000</td>\n",
       "      <td>14.000000</td>\n",
       "      <td>1.000000</td>\n",
       "    </tr>\n",
       "    <tr>\n",
       "      <th>max</th>\n",
       "      <td>13647.000000</td>\n",
       "      <td>69.000000</td>\n",
       "      <td>3.000000</td>\n",
       "    </tr>\n",
       "  </tbody>\n",
       "</table>\n",
       "</div>"
      ],
      "text/plain": [
       "              Count           Max           Min\n",
       "count  23905.000000  23905.000000  23905.000000\n",
       "mean     247.697260     12.717005      1.156662\n",
       "std      228.702697      2.151326      0.383756\n",
       "min       35.000000      6.000000      0.000000\n",
       "25%      176.000000     11.000000      1.000000\n",
       "50%      226.000000     13.000000      1.000000\n",
       "75%      278.000000     14.000000      1.000000\n",
       "max    13647.000000     69.000000      3.000000"
      ]
     },
     "execution_count": 10,
     "metadata": {},
     "output_type": "execute_result"
    }
   ],
   "source": [
    "copy[copy[\"Label\"] == 0][[\"Count\", \"Max\", \"Min\"]].describe()"
   ]
  },
  {
   "cell_type": "markdown",
   "id": "78424b6b",
   "metadata": {},
   "source": [
    "Los resultados del análisis estadístico muestran que no hay diferencias significativas entre las noticias falsas y las verdaderas en cuanto a las métricas evaluadas.\n",
    "\n",
    "    Cantidad de noticias: Hay 33,158 registros etiquetados como noticias falsas y 23,905 como verdaderas, lo que confirma la distribución observada previamente donde las noticias falsas representan la mayor proporción del conjunto de datos.\n",
    "\n",
    "    Promedio de caracteres por noticia: Las noticias falsas tienen una longitud promedio de 240 caracteres, mientras que las verdaderas tienen 247, lo que indica una diferencia mínima de solo 7 caracteres.\n",
    "\n",
    "    Máximo y mínimo de caracteres: Ambas categorías presentan valores de longitud similares en términos de mínimo y máximo, lo que indica que la cantidad de texto por noticia no es un factor diferenciador relevante.\n",
    "\n",
    "    Desviación estándar: Se observa una desviación estándar cercana en ambos casos, lo que indica que la variabilidad en la longitud de las noticias es consistente en ambas clases.\n",
    "\n",
    "    Estos resultados nos indican que el número de caracteres o la extensión de las noticias no es un criterio importante para distinguir entre noticias falsas y verdaderas."
   ]
  },
  {
   "cell_type": "markdown",
   "id": "ed1639b4-8e58-4779-a157-46823c76607e",
   "metadata": {},
   "source": [
    "### 2.1 Calidad de datos"
   ]
  },
  {
   "cell_type": "markdown",
   "id": "5792c701-8a90-467f-8e61-76af53477234",
   "metadata": {},
   "source": [
    "En esta sección se hará un análisis de calidad de datos."
   ]
  },
  {
   "cell_type": "markdown",
   "id": "ab3e8fb0-9624-4008-97c1-83cc82e80fcd",
   "metadata": {},
   "source": [
    "### 2.1.1 Unicidad"
   ]
  },
  {
   "cell_type": "markdown",
   "id": "edda3e5f-97ee-4fef-9d70-20595d51787d",
   "metadata": {},
   "source": [
    "En esta parte se realiza la revisión de los duplicados y se soluciona de una vez. Se eliminan registros cuyas columnas son iguales. Además, es necesario mencionar que la columna ID solo contiene la cadena \"ID\". Por lo cual no es útil y se opta por eliminar esta columna."
   ]
  },
  {
   "cell_type": "code",
<<<<<<<< HEAD:informe.ipynb
   "execution_count": 11,
========
   "execution_count": 7,
>>>>>>>> ecfa5ff7e82bed6791d991fbb8ac490006c68c5e:cambios_2.ipynb
   "id": "0aae065a-cded-40da-b469-5097f806d90c",
   "metadata": {},
   "outputs": [
    {
     "data": {
      "text/plain": [
       "(445, 5)"
      ]
     },
<<<<<<<< HEAD:informe.ipynb
     "execution_count": 11,
========
     "execution_count": 7,
>>>>>>>> ecfa5ff7e82bed6791d991fbb8ac490006c68c5e:cambios_2.ipynb
     "metadata": {},
     "output_type": "execute_result"
    }
   ],
   "source": [
    "copy.drop('ID', axis=1, inplace=True)\n",
    "copy = df.copy()\n",
    "\n",
    "copy[copy.duplicated()].shape"
   ]
  },
  {
   "cell_type": "code",
<<<<<<<< HEAD:informe.ipynb
   "execution_count": 12,
========
   "execution_count": 8,
>>>>>>>> ecfa5ff7e82bed6791d991fbb8ac490006c68c5e:cambios_2.ipynb
   "id": "da6474d3-0458-496d-bd21-00488fad7183",
   "metadata": {},
   "outputs": [
    {
     "data": {
      "text/html": [
       "<div>\n",
       "<style scoped>\n",
       "    .dataframe tbody tr th:only-of-type {\n",
       "        vertical-align: middle;\n",
       "    }\n",
       "\n",
       "    .dataframe tbody tr th {\n",
       "        vertical-align: top;\n",
       "    }\n",
       "\n",
       "    .dataframe thead th {\n",
       "        text-align: right;\n",
       "    }\n",
       "</style>\n",
       "<table border=\"1\" class=\"dataframe\">\n",
       "  <thead>\n",
       "    <tr style=\"text-align: right;\">\n",
       "      <th></th>\n",
       "      <th>ID</th>\n",
       "      <th>Label</th>\n",
       "      <th>Titulo</th>\n",
       "      <th>Descripcion</th>\n",
       "      <th>Fecha</th>\n",
       "    </tr>\n",
       "  </thead>\n",
       "  <tbody>\n",
       "    <tr>\n",
       "      <th>0</th>\n",
       "      <td>ID</td>\n",
       "      <td>1</td>\n",
       "      <td>'The Guardian' va con Sánchez: 'Euro...</td>\n",
       "      <td>El diario británico publicó este pas...</td>\n",
       "      <td>02/06/2023</td>\n",
       "    </tr>\n",
       "    <tr>\n",
       "      <th>1</th>\n",
       "      <td>ID</td>\n",
       "      <td>0</td>\n",
       "      <td>REVELAN QUE EL GOBIERNO NEGOCIO LA L...</td>\n",
       "      <td>REVELAN QUE EL GOBIERNO NEGOCIO LA L...</td>\n",
       "      <td>01/10/2023</td>\n",
       "    </tr>\n",
       "  </tbody>\n",
       "</table>\n",
       "</div>"
      ],
      "text/plain": [
       "   ID  Label                                   Titulo  \\\n",
       "0  ID      1  'The Guardian' va con Sánchez: 'Euro...   \n",
       "1  ID      0  REVELAN QUE EL GOBIERNO NEGOCIO LA L...   \n",
       "\n",
       "                               Descripcion       Fecha  \n",
       "0  El diario británico publicó este pas...  02/06/2023  \n",
       "1  REVELAN QUE EL GOBIERNO NEGOCIO LA L...  01/10/2023  "
      ]
     },
<<<<<<<< HEAD:informe.ipynb
     "execution_count": 12,
========
     "execution_count": 8,
>>>>>>>> ecfa5ff7e82bed6791d991fbb8ac490006c68c5e:cambios_2.ipynb
     "metadata": {},
     "output_type": "execute_result"
    }
   ],
   "source": [
    "copy.drop_duplicates(keep='first', inplace=True)\n",
    "copy.head(2)"
   ]
  },
  {
   "cell_type": "markdown",
   "id": "0a27f836-81bf-46de-a51d-cfd105690a41",
   "metadata": {},
   "source": [
    "Al revisar los titulos y las descripciones duplicadas por separado obtenemos que hay cerca 5000 titulos duplicados y cerca de 7000 descripciones duplicadas. En los siguientes dos bloques de código se realiza un análisis de la distribución de las etiquetas, lo que nos lleva a concluir que las noticias duplicadas no tienden a ser mas falsas que las que no. Por otro lado, no es tan raro pensar en noticias con titulos duplicados, por tanto, se opta por dejar estas. Lo cual no lleva a centrar nuestra atención es las noticias con descripciones iguales. "
   ]
  },
  {
   "cell_type": "code",
<<<<<<<< HEAD:informe.ipynb
   "execution_count": 13,
========
   "execution_count": 9,
>>>>>>>> ecfa5ff7e82bed6791d991fbb8ac490006c68c5e:cambios_2.ipynb
   "id": "885ad154-0dab-433f-952c-57196ccc2d4a",
   "metadata": {},
   "outputs": [
    {
     "data": {
      "text/plain": [
       "Label\n",
       "0    2596\n",
       "1    2417\n",
       "Name: count, dtype: int64"
      ]
     },
<<<<<<<< HEAD:informe.ipynb
     "execution_count": 13,
========
     "execution_count": 9,
>>>>>>>> ecfa5ff7e82bed6791d991fbb8ac490006c68c5e:cambios_2.ipynb
     "metadata": {},
     "output_type": "execute_result"
    }
   ],
   "source": [
    "copy[copy.duplicated('Titulo')][\"Label\"].value_counts()"
   ]
  },
  {
   "cell_type": "code",
<<<<<<<< HEAD:informe.ipynb
   "execution_count": 14,
========
   "execution_count": 10,
>>>>>>>> ecfa5ff7e82bed6791d991fbb8ac490006c68c5e:cambios_2.ipynb
   "id": "a9e40f82-ad72-43b0-9ce7-3c760b1d16c3",
   "metadata": {},
   "outputs": [
    {
     "data": {
      "text/plain": [
       "Label\n",
       "0    3603\n",
       "1    3377\n",
       "Name: count, dtype: int64"
      ]
     },
<<<<<<<< HEAD:informe.ipynb
     "execution_count": 14,
========
     "execution_count": 10,
>>>>>>>> ecfa5ff7e82bed6791d991fbb8ac490006c68c5e:cambios_2.ipynb
     "metadata": {},
     "output_type": "execute_result"
    }
   ],
   "source": [
    "copy[copy.duplicated('Descripcion')][\"Label\"].value_counts()"
   ]
  },
  {
   "cell_type": "markdown",
   "id": "e34cd845-5665-42a9-9e67-6bb6e11d2f38",
   "metadata": {},
   "source": [
    "En cuanto a las noticias con descripciones duplicadas se opta por eliminarlas del dataset para que las palabras en esas descripciones no tengan mas peso que las demás y de esta manera no se genere sesgo en el modelo."
   ]
  },
  {
   "cell_type": "code",
<<<<<<<< HEAD:informe.ipynb
   "execution_count": 15,
========
   "execution_count": 11,
>>>>>>>> ecfa5ff7e82bed6791d991fbb8ac490006c68c5e:cambios_2.ipynb
   "id": "4a0fbf33-625b-487a-9885-45a48caa422d",
   "metadata": {},
   "outputs": [
    {
     "data": {
      "text/plain": [
       "(49638, 5)"
      ]
     },
<<<<<<<< HEAD:informe.ipynb
     "execution_count": 15,
========
     "execution_count": 11,
>>>>>>>> ecfa5ff7e82bed6791d991fbb8ac490006c68c5e:cambios_2.ipynb
     "metadata": {},
     "output_type": "execute_result"
    }
   ],
   "source": [
    "copy.drop_duplicates('Descripcion', keep='first', inplace=True)\n",
    "copy.shape"
   ]
  },
  {
   "cell_type": "markdown",
   "id": "f8b7213c-979d-4222-8d6f-a9ab02b923b0",
   "metadata": {},
   "source": [
    "### 2.1.2 Completitud"
   ]
  },
  {
   "cell_type": "markdown",
   "id": "3804b29a-7249-4d35-bcee-1e5cc76de86b",
   "metadata": {},
   "source": [
    "En esta parte se realiza el análisis de completitud, en el cual se nota que hay algunos titulos que estan en NaN. Por lo tanto, es opta por agregar a estos 16 registros la primera oración de la descripción, hasta donde haya un punto."
   ]
  },
  {
   "cell_type": "code",
<<<<<<<< HEAD:informe.ipynb
   "execution_count": 16,
========
   "execution_count": 12,
>>>>>>>> ecfa5ff7e82bed6791d991fbb8ac490006c68c5e:cambios_2.ipynb
   "id": "0821a4ea-5d18-48fb-9262-5f7b291c5e60",
   "metadata": {},
   "outputs": [
    {
     "data": {
      "text/plain": [
       "ID              0\n",
       "Label           0\n",
       "Titulo         16\n",
       "Descripcion     0\n",
       "Fecha           0\n",
       "dtype: int64"
      ]
     },
<<<<<<<< HEAD:informe.ipynb
     "execution_count": 16,
========
     "execution_count": 12,
>>>>>>>> ecfa5ff7e82bed6791d991fbb8ac490006c68c5e:cambios_2.ipynb
     "metadata": {},
     "output_type": "execute_result"
    }
   ],
   "source": [
    "copy.isna().sum()"
   ]
  },
  {
   "cell_type": "code",
<<<<<<<< HEAD:informe.ipynb
   "execution_count": 17,
========
   "execution_count": 22,
>>>>>>>> ecfa5ff7e82bed6791d991fbb8ac490006c68c5e:cambios_2.ipynb
   "id": "3287e5ba-87ff-4eaa-9dea-e449ea78e08a",
   "metadata": {},
   "outputs": [
    {
     "data": {
      "text/plain": [
       "ID             0\n",
       "Label          0\n",
       "Titulo         0\n",
       "Descripcion    0\n",
       "dtype: int64"
      ]
     },
<<<<<<<< HEAD:informe.ipynb
     "execution_count": 17,
========
     "execution_count": 22,
>>>>>>>> ecfa5ff7e82bed6791d991fbb8ac490006c68c5e:cambios_2.ipynb
     "metadata": {},
     "output_type": "execute_result"
    }
   ],
   "source": [
    "# solución de la completitud\n",
    "copy \\\n",
    "    .loc[copy[\"Titulo\"].isna(), \"Titulo\"] = copy[\"Descripcion\"] \\\n",
    "    .apply(lambda t: t.strip().split(\".\")[0] if isinstance(t, str) else t)\n",
    "\n",
    "copy.isna().sum()"
   ]
  },
  {
   "cell_type": "markdown",
   "id": "e8abe0c2-1b88-4f7f-9635-1b1245a4d7ab",
   "metadata": {},
   "source": [
    "### 2.1.3 Validez"
   ]
  },
  {
   "cell_type": "markdown",
   "id": "c548d24d-855e-441d-a49c-0d45d77c3862",
   "metadata": {},
   "source": [
    "En la siguiente linea de código se hace la conversión de la columna fecha a una fecha a un tipo de dato. Luego de esto, se revisa si hay valores nulos, puesto que si hay una fecha en un formato que no es apropiado se marca como `NaT`. Como se puede ver no hay fechas con formatos que no correspondan debido a lo anteriormente mencionado."
   ]
  },
  {
   "cell_type": "code",
<<<<<<<< HEAD:informe.ipynb
   "execution_count": 18,
========
   "execution_count": 23,
>>>>>>>> ecfa5ff7e82bed6791d991fbb8ac490006c68c5e:cambios_2.ipynb
   "id": "de77d765-5b00-44b7-9cfe-c2531efc21fd",
   "metadata": {},
   "outputs": [
    {
<<<<<<<< HEAD:informe.ipynb
     "data": {
      "text/plain": [
       "ID               0\n",
       "Label            0\n",
       "Titulo           0\n",
       "Descripcion      0\n",
       "Fecha            0\n",
       "formated_date    0\n",
       "dtype: int64"
      ]
     },
     "execution_count": 18,
     "metadata": {},
     "output_type": "execute_result"
========
     "ename": "KeyError",
     "evalue": "'Fecha'",
     "output_type": "error",
     "traceback": [
      "\u001b[1;31m---------------------------------------------------------------------------\u001b[0m",
      "\u001b[1;31mKeyError\u001b[0m                                  Traceback (most recent call last)",
      "File \u001b[1;32mc:\\Users\\Camilo_\\.conda\\envs\\pyomo_env\\lib\\site-packages\\pandas\\core\\indexes\\base.py:3805\u001b[0m, in \u001b[0;36mIndex.get_loc\u001b[1;34m(self, key)\u001b[0m\n\u001b[0;32m   3804\u001b[0m \u001b[38;5;28;01mtry\u001b[39;00m:\n\u001b[1;32m-> 3805\u001b[0m     \u001b[38;5;28;01mreturn\u001b[39;00m \u001b[38;5;28;43mself\u001b[39;49m\u001b[38;5;241;43m.\u001b[39;49m\u001b[43m_engine\u001b[49m\u001b[38;5;241;43m.\u001b[39;49m\u001b[43mget_loc\u001b[49m\u001b[43m(\u001b[49m\u001b[43mcasted_key\u001b[49m\u001b[43m)\u001b[49m\n\u001b[0;32m   3806\u001b[0m \u001b[38;5;28;01mexcept\u001b[39;00m \u001b[38;5;167;01mKeyError\u001b[39;00m \u001b[38;5;28;01mas\u001b[39;00m err:\n",
      "File \u001b[1;32mindex.pyx:167\u001b[0m, in \u001b[0;36mpandas._libs.index.IndexEngine.get_loc\u001b[1;34m()\u001b[0m\n",
      "File \u001b[1;32mindex.pyx:196\u001b[0m, in \u001b[0;36mpandas._libs.index.IndexEngine.get_loc\u001b[1;34m()\u001b[0m\n",
      "File \u001b[1;32mpandas\\\\_libs\\\\hashtable_class_helper.pxi:7081\u001b[0m, in \u001b[0;36mpandas._libs.hashtable.PyObjectHashTable.get_item\u001b[1;34m()\u001b[0m\n",
      "File \u001b[1;32mpandas\\\\_libs\\\\hashtable_class_helper.pxi:7089\u001b[0m, in \u001b[0;36mpandas._libs.hashtable.PyObjectHashTable.get_item\u001b[1;34m()\u001b[0m\n",
      "\u001b[1;31mKeyError\u001b[0m: 'Fecha'",
      "\nThe above exception was the direct cause of the following exception:\n",
      "\u001b[1;31mKeyError\u001b[0m                                  Traceback (most recent call last)",
      "Cell \u001b[1;32mIn[23], line 1\u001b[0m\n\u001b[1;32m----> 1\u001b[0m copy[\u001b[38;5;124m\"\u001b[39m\u001b[38;5;124mformated_date\u001b[39m\u001b[38;5;124m\"\u001b[39m] \u001b[38;5;241m=\u001b[39m pd\u001b[38;5;241m.\u001b[39mto_datetime(\u001b[43mcopy\u001b[49m\u001b[43m[\u001b[49m\u001b[38;5;124;43m\"\u001b[39;49m\u001b[38;5;124;43mFecha\u001b[39;49m\u001b[38;5;124;43m\"\u001b[39;49m\u001b[43m]\u001b[49m, \u001b[38;5;28mformat\u001b[39m\u001b[38;5;241m=\u001b[39m\u001b[38;5;124m\"\u001b[39m\u001b[38;5;132;01m%d\u001b[39;00m\u001b[38;5;124m/\u001b[39m\u001b[38;5;124m%\u001b[39m\u001b[38;5;124mm/\u001b[39m\u001b[38;5;124m%\u001b[39m\u001b[38;5;124mY\u001b[39m\u001b[38;5;124m\"\u001b[39m, errors\u001b[38;5;241m=\u001b[39m\u001b[38;5;124m\"\u001b[39m\u001b[38;5;124mcoerce\u001b[39m\u001b[38;5;124m\"\u001b[39m)\n\u001b[0;32m      3\u001b[0m copy\u001b[38;5;241m.\u001b[39misna()\u001b[38;5;241m.\u001b[39msum()\n",
      "File \u001b[1;32mc:\\Users\\Camilo_\\.conda\\envs\\pyomo_env\\lib\\site-packages\\pandas\\core\\frame.py:4102\u001b[0m, in \u001b[0;36mDataFrame.__getitem__\u001b[1;34m(self, key)\u001b[0m\n\u001b[0;32m   4100\u001b[0m \u001b[38;5;28;01mif\u001b[39;00m \u001b[38;5;28mself\u001b[39m\u001b[38;5;241m.\u001b[39mcolumns\u001b[38;5;241m.\u001b[39mnlevels \u001b[38;5;241m>\u001b[39m \u001b[38;5;241m1\u001b[39m:\n\u001b[0;32m   4101\u001b[0m     \u001b[38;5;28;01mreturn\u001b[39;00m \u001b[38;5;28mself\u001b[39m\u001b[38;5;241m.\u001b[39m_getitem_multilevel(key)\n\u001b[1;32m-> 4102\u001b[0m indexer \u001b[38;5;241m=\u001b[39m \u001b[38;5;28;43mself\u001b[39;49m\u001b[38;5;241;43m.\u001b[39;49m\u001b[43mcolumns\u001b[49m\u001b[38;5;241;43m.\u001b[39;49m\u001b[43mget_loc\u001b[49m\u001b[43m(\u001b[49m\u001b[43mkey\u001b[49m\u001b[43m)\u001b[49m\n\u001b[0;32m   4103\u001b[0m \u001b[38;5;28;01mif\u001b[39;00m is_integer(indexer):\n\u001b[0;32m   4104\u001b[0m     indexer \u001b[38;5;241m=\u001b[39m [indexer]\n",
      "File \u001b[1;32mc:\\Users\\Camilo_\\.conda\\envs\\pyomo_env\\lib\\site-packages\\pandas\\core\\indexes\\base.py:3812\u001b[0m, in \u001b[0;36mIndex.get_loc\u001b[1;34m(self, key)\u001b[0m\n\u001b[0;32m   3807\u001b[0m     \u001b[38;5;28;01mif\u001b[39;00m \u001b[38;5;28misinstance\u001b[39m(casted_key, \u001b[38;5;28mslice\u001b[39m) \u001b[38;5;129;01mor\u001b[39;00m (\n\u001b[0;32m   3808\u001b[0m         \u001b[38;5;28misinstance\u001b[39m(casted_key, abc\u001b[38;5;241m.\u001b[39mIterable)\n\u001b[0;32m   3809\u001b[0m         \u001b[38;5;129;01mand\u001b[39;00m \u001b[38;5;28many\u001b[39m(\u001b[38;5;28misinstance\u001b[39m(x, \u001b[38;5;28mslice\u001b[39m) \u001b[38;5;28;01mfor\u001b[39;00m x \u001b[38;5;129;01min\u001b[39;00m casted_key)\n\u001b[0;32m   3810\u001b[0m     ):\n\u001b[0;32m   3811\u001b[0m         \u001b[38;5;28;01mraise\u001b[39;00m InvalidIndexError(key)\n\u001b[1;32m-> 3812\u001b[0m     \u001b[38;5;28;01mraise\u001b[39;00m \u001b[38;5;167;01mKeyError\u001b[39;00m(key) \u001b[38;5;28;01mfrom\u001b[39;00m \u001b[38;5;21;01merr\u001b[39;00m\n\u001b[0;32m   3813\u001b[0m \u001b[38;5;28;01mexcept\u001b[39;00m \u001b[38;5;167;01mTypeError\u001b[39;00m:\n\u001b[0;32m   3814\u001b[0m     \u001b[38;5;66;03m# If we have a listlike key, _check_indexing_error will raise\u001b[39;00m\n\u001b[0;32m   3815\u001b[0m     \u001b[38;5;66;03m#  InvalidIndexError. Otherwise we fall through and re-raise\u001b[39;00m\n\u001b[0;32m   3816\u001b[0m     \u001b[38;5;66;03m#  the TypeError.\u001b[39;00m\n\u001b[0;32m   3817\u001b[0m     \u001b[38;5;28mself\u001b[39m\u001b[38;5;241m.\u001b[39m_check_indexing_error(key)\n",
      "\u001b[1;31mKeyError\u001b[0m: 'Fecha'"
     ]
>>>>>>>> ecfa5ff7e82bed6791d991fbb8ac490006c68c5e:cambios_2.ipynb
    }
   ],
   "source": [
    "copy[\"formated_date\"] = pd.to_datetime(copy[\"Fecha\"], format=\"%d/%m/%Y\", errors=\"coerce\")\n",
    "\n",
    "copy.isna().sum()"
   ]
  },
  {
   "cell_type": "markdown",
   "id": "aa77d002-cf5e-4608-b74f-dde0a6f95253",
   "metadata": {},
   "source": [
    "En la columna Label solo debe haber `0` o `1`, esto se verifica en la siguiente celda."
   ]
  },
  {
   "cell_type": "code",
<<<<<<<< HEAD:informe.ipynb
   "execution_count": 19,
========
   "execution_count": 20,
>>>>>>>> ecfa5ff7e82bed6791d991fbb8ac490006c68c5e:cambios_2.ipynb
   "id": "d99aa975-550d-45a2-a5f3-ee0e960f5cad",
   "metadata": {},
   "outputs": [
    {
     "data": {
      "text/plain": [
       "Label\n",
       "1    29361\n",
       "0    20277\n",
       "Name: count, dtype: int64"
      ]
     },
<<<<<<<< HEAD:informe.ipynb
     "execution_count": 19,
========
     "execution_count": 20,
>>>>>>>> ecfa5ff7e82bed6791d991fbb8ac490006c68c5e:cambios_2.ipynb
     "metadata": {},
     "output_type": "execute_result"
    }
   ],
   "source": [
    "copy[\"Label\"].value_counts()"
   ]
  },
  {
   "cell_type": "markdown",
   "id": "789639ce-2be2-4e89-89b0-72b5d3104626",
   "metadata": {},
   "source": [
    "Se realiza un análisis de todos los titulos para comprobar si una de las palabras mas usadas en ingles se incluye en el titulo. Al realizar la transformación se obtiene que hay 37 registros con esta palabra y al revisar mas detalladamente se llega a la conclusión de que las noticias pueden tener palabras en ingles, pero en su totalidad el dataset no tiene la palabra en ingles \"The\", indicando la posibilidad de que este sea completamente en español. Nos quedaremos con este supuesto por facilidad. "
   ]
  },
  {
   "cell_type": "code",
<<<<<<<< HEAD:informe.ipynb
   "execution_count": 20,
========
   "execution_count": 14,
>>>>>>>> ecfa5ff7e82bed6791d991fbb8ac490006c68c5e:cambios_2.ipynb
   "id": "464c078b-815f-4cf7-849e-5017e7b7a0b1",
   "metadata": {},
   "outputs": [],
   "source": [
    "def detectar_idioma(texto):\n",
    "    words = [\"The\", \"The \", \" the \"]\n",
    "    for word in words:\n",
    "        if word in texto:\n",
    "            return \"unk\"\n",
    "    return \"es\"\n",
    "\n",
    "copy[\"Idioma\"] = copy[\"Titulo\"].apply(detectar_idioma)"
   ]
  },
  {
   "cell_type": "code",
<<<<<<<< HEAD:informe.ipynb
   "execution_count": 21,
========
   "execution_count": 15,
>>>>>>>> ecfa5ff7e82bed6791d991fbb8ac490006c68c5e:cambios_2.ipynb
   "id": "fd7f2168-469b-48ff-835e-e0c795b3a99c",
   "metadata": {},
   "outputs": [
    {
     "name": "stdout",
     "output_type": "stream",
     "text": [
      "Idioma\n",
      "es     49601\n",
      "unk       37\n",
      "Name: count, dtype: int64\n"
     ]
    }
   ],
   "source": [
    "print(copy[\"Idioma\"].value_counts())"
   ]
  },
  {
   "cell_type": "markdown",
   "id": "55c2d743-761b-4eaa-a219-caf9878bfa8b",
   "metadata": {},
   "source": [
    "En la siguiente linea se revisan aquellas filas que estan marcadas con `unk`, al revisar rapidamente los titulos y las descripciones notamos que estas estan en español solo que incluyen, por ejemplo, nombres de peliculas. Para no hacer el cuaderno mas grande optamos por tomar solo los primeros 5 registros de los 37 que mencionamos. "
   ]
  },
  {
   "cell_type": "code",
<<<<<<<< HEAD:informe.ipynb
   "execution_count": 22,
========
   "execution_count": 16,
>>>>>>>> ecfa5ff7e82bed6791d991fbb8ac490006c68c5e:cambios_2.ipynb
   "id": "d5999355-5a04-45bd-8d40-b4878b395692",
   "metadata": {},
   "outputs": [
    {
     "data": {
      "text/html": [
       "<div>\n",
       "<style scoped>\n",
       "    .dataframe tbody tr th:only-of-type {\n",
       "        vertical-align: middle;\n",
       "    }\n",
       "\n",
       "    .dataframe tbody tr th {\n",
       "        vertical-align: top;\n",
       "    }\n",
       "\n",
       "    .dataframe thead th {\n",
       "        text-align: right;\n",
       "    }\n",
       "</style>\n",
       "<table border=\"1\" class=\"dataframe\">\n",
       "  <thead>\n",
       "    <tr style=\"text-align: right;\">\n",
       "      <th></th>\n",
       "      <th>ID</th>\n",
       "      <th>Label</th>\n",
       "      <th>Titulo</th>\n",
       "      <th>Descripcion</th>\n",
       "      <th>Fecha</th>\n",
       "      <th>Idioma</th>\n",
       "    </tr>\n",
       "  </thead>\n",
       "  <tbody>\n",
       "    <tr>\n",
       "      <th>0</th>\n",
       "      <td>ID</td>\n",
       "      <td>1</td>\n",
       "      <td>'The Guardian' va con Sánchez: 'Euro...</td>\n",
       "      <td>El diario británico publicó este pas...</td>\n",
       "      <td>02/06/2023</td>\n",
       "      <td>unk</td>\n",
       "    </tr>\n",
       "    <tr>\n",
       "      <th>308</th>\n",
       "      <td>ID</td>\n",
       "      <td>1</td>\n",
       "      <td>La Guardia Civil incluye un 'off the...</td>\n",
       "      <td>El instituto armado se hace eco de l...</td>\n",
       "      <td>04/06/2020</td>\n",
       "      <td>unk</td>\n",
       "    </tr>\n",
       "    <tr>\n",
       "      <th>1752</th>\n",
       "      <td>ID</td>\n",
       "      <td>1</td>\n",
       "      <td>Yolanda Díaz 'on the highway'</td>\n",
       "      <td>Bien podría ser una metáfora, bien p...</td>\n",
       "      <td>23/07/2022</td>\n",
       "      <td>unk</td>\n",
       "    </tr>\n",
       "    <tr>\n",
       "      <th>3038</th>\n",
       "      <td>ID</td>\n",
       "      <td>1</td>\n",
       "      <td>'The New York Times' da voz a quiene...</td>\n",
       "      <td>Un reportaje refleja el descontento ...</td>\n",
       "      <td>08/04/2019</td>\n",
       "      <td>unk</td>\n",
       "    </tr>\n",
       "    <tr>\n",
       "      <th>4281</th>\n",
       "      <td>ID</td>\n",
       "      <td>1</td>\n",
       "      <td>La revista 'The Lancet' señala que l...</td>\n",
       "      <td>El editorial de la prestigiosa revis...</td>\n",
       "      <td>17/10/2020</td>\n",
       "      <td>unk</td>\n",
       "    </tr>\n",
       "  </tbody>\n",
       "</table>\n",
       "</div>"
      ],
      "text/plain": [
       "      ID  Label                                   Titulo  \\\n",
       "0     ID      1  'The Guardian' va con Sánchez: 'Euro...   \n",
       "308   ID      1  La Guardia Civil incluye un 'off the...   \n",
       "1752  ID      1            Yolanda Díaz 'on the highway'   \n",
       "3038  ID      1  'The New York Times' da voz a quiene...   \n",
       "4281  ID      1  La revista 'The Lancet' señala que l...   \n",
       "\n",
       "                                  Descripcion       Fecha Idioma  \n",
       "0     El diario británico publicó este pas...  02/06/2023    unk  \n",
       "308   El instituto armado se hace eco de l...  04/06/2020    unk  \n",
       "1752  Bien podría ser una metáfora, bien p...  23/07/2022    unk  \n",
       "3038  Un reportaje refleja el descontento ...  08/04/2019    unk  \n",
       "4281  El editorial de la prestigiosa revis...  17/10/2020    unk  "
      ]
     },
<<<<<<<< HEAD:informe.ipynb
     "execution_count": 22,
========
     "execution_count": 16,
>>>>>>>> ecfa5ff7e82bed6791d991fbb8ac490006c68c5e:cambios_2.ipynb
     "metadata": {},
     "output_type": "execute_result"
    }
   ],
   "source": [
    "copy[copy[\"Idioma\"] == 'unk'].head(5)"
   ]
  },
  {
   "cell_type": "code",
<<<<<<<< HEAD:informe.ipynb
   "execution_count": 23,
========
   "execution_count": 17,
>>>>>>>> ecfa5ff7e82bed6791d991fbb8ac490006c68c5e:cambios_2.ipynb
   "id": "2b8c2b21-9a9b-461b-9cd5-64d68aec0ef5",
   "metadata": {},
   "outputs": [
    {
     "data": {
      "text/plain": [
       "Index(['ID', 'Label', 'Titulo', 'Descripcion'], dtype='object')"
      ]
     },
<<<<<<<< HEAD:informe.ipynb
     "execution_count": 23,
========
     "execution_count": 17,
>>>>>>>> ecfa5ff7e82bed6791d991fbb8ac490006c68c5e:cambios_2.ipynb
     "metadata": {},
     "output_type": "execute_result"
    }
   ],
   "source": [
    "copy.drop(['Idioma', 'Fecha'], axis=1, inplace=True)\n",
    "copy.columns"
   ]
  },
  {
   "cell_type": "markdown",
   "id": "be134b9d-841a-4a72-80f1-5cd3f8c68ac1",
   "metadata": {},
   "source": [
    "### 2.1.4 Consistencia"
   ]
  },
  {
   "cell_type": "markdown",
   "id": "8c9b8a78-baa5-4f27-98a8-f9e8ad50a2ab",
   "metadata": {},
   "source": [
    "Se debe verificar que no tengamos noticias mayores al año 2026. Adicionalmente revisamos las fechas de las noticias, para saber si cumplen con los estandares planteados anteriormente en el diccionario."
   ]
  },
  {
   "cell_type": "code",
<<<<<<<< HEAD:informe.ipynb
   "execution_count": 24,
========
   "execution_count": 19,
>>>>>>>> ecfa5ff7e82bed6791d991fbb8ac490006c68c5e:cambios_2.ipynb
   "id": "2d3afd29-151e-471a-b405-de63da4a1b83",
   "metadata": {},
   "outputs": [
    {
<<<<<<<< HEAD:informe.ipynb
     "data": {
      "text/plain": [
       "(0, 5)"
      ]
     },
     "execution_count": 24,
     "metadata": {},
     "output_type": "execute_result"
========
     "ename": "KeyError",
     "evalue": "'formated_date'",
     "output_type": "error",
     "traceback": [
      "\u001b[1;31m---------------------------------------------------------------------------\u001b[0m",
      "\u001b[1;31mKeyError\u001b[0m                                  Traceback (most recent call last)",
      "File \u001b[1;32mc:\\Users\\Camilo_\\.conda\\envs\\pyomo_env\\lib\\site-packages\\pandas\\core\\indexes\\base.py:3805\u001b[0m, in \u001b[0;36mIndex.get_loc\u001b[1;34m(self, key)\u001b[0m\n\u001b[0;32m   3804\u001b[0m \u001b[38;5;28;01mtry\u001b[39;00m:\n\u001b[1;32m-> 3805\u001b[0m     \u001b[38;5;28;01mreturn\u001b[39;00m \u001b[38;5;28;43mself\u001b[39;49m\u001b[38;5;241;43m.\u001b[39;49m\u001b[43m_engine\u001b[49m\u001b[38;5;241;43m.\u001b[39;49m\u001b[43mget_loc\u001b[49m\u001b[43m(\u001b[49m\u001b[43mcasted_key\u001b[49m\u001b[43m)\u001b[49m\n\u001b[0;32m   3806\u001b[0m \u001b[38;5;28;01mexcept\u001b[39;00m \u001b[38;5;167;01mKeyError\u001b[39;00m \u001b[38;5;28;01mas\u001b[39;00m err:\n",
      "File \u001b[1;32mindex.pyx:167\u001b[0m, in \u001b[0;36mpandas._libs.index.IndexEngine.get_loc\u001b[1;34m()\u001b[0m\n",
      "File \u001b[1;32mindex.pyx:196\u001b[0m, in \u001b[0;36mpandas._libs.index.IndexEngine.get_loc\u001b[1;34m()\u001b[0m\n",
      "File \u001b[1;32mpandas\\\\_libs\\\\hashtable_class_helper.pxi:7081\u001b[0m, in \u001b[0;36mpandas._libs.hashtable.PyObjectHashTable.get_item\u001b[1;34m()\u001b[0m\n",
      "File \u001b[1;32mpandas\\\\_libs\\\\hashtable_class_helper.pxi:7089\u001b[0m, in \u001b[0;36mpandas._libs.hashtable.PyObjectHashTable.get_item\u001b[1;34m()\u001b[0m\n",
      "\u001b[1;31mKeyError\u001b[0m: 'formated_date'",
      "\nThe above exception was the direct cause of the following exception:\n",
      "\u001b[1;31mKeyError\u001b[0m                                  Traceback (most recent call last)",
      "Cell \u001b[1;32mIn[19], line 2\u001b[0m\n\u001b[0;32m      1\u001b[0m today \u001b[38;5;241m=\u001b[39m datetime\u001b[38;5;241m.\u001b[39mtoday()\n\u001b[1;32m----> 2\u001b[0m copy[\u001b[43mcopy\u001b[49m\u001b[43m[\u001b[49m\u001b[38;5;124;43m\"\u001b[39;49m\u001b[38;5;124;43mformated_date\u001b[39;49m\u001b[38;5;124;43m\"\u001b[39;49m\u001b[43m]\u001b[49m \u001b[38;5;241m>\u001b[39m today]\u001b[38;5;241m.\u001b[39mshape\n",
      "File \u001b[1;32mc:\\Users\\Camilo_\\.conda\\envs\\pyomo_env\\lib\\site-packages\\pandas\\core\\frame.py:4102\u001b[0m, in \u001b[0;36mDataFrame.__getitem__\u001b[1;34m(self, key)\u001b[0m\n\u001b[0;32m   4100\u001b[0m \u001b[38;5;28;01mif\u001b[39;00m \u001b[38;5;28mself\u001b[39m\u001b[38;5;241m.\u001b[39mcolumns\u001b[38;5;241m.\u001b[39mnlevels \u001b[38;5;241m>\u001b[39m \u001b[38;5;241m1\u001b[39m:\n\u001b[0;32m   4101\u001b[0m     \u001b[38;5;28;01mreturn\u001b[39;00m \u001b[38;5;28mself\u001b[39m\u001b[38;5;241m.\u001b[39m_getitem_multilevel(key)\n\u001b[1;32m-> 4102\u001b[0m indexer \u001b[38;5;241m=\u001b[39m \u001b[38;5;28;43mself\u001b[39;49m\u001b[38;5;241;43m.\u001b[39;49m\u001b[43mcolumns\u001b[49m\u001b[38;5;241;43m.\u001b[39;49m\u001b[43mget_loc\u001b[49m\u001b[43m(\u001b[49m\u001b[43mkey\u001b[49m\u001b[43m)\u001b[49m\n\u001b[0;32m   4103\u001b[0m \u001b[38;5;28;01mif\u001b[39;00m is_integer(indexer):\n\u001b[0;32m   4104\u001b[0m     indexer \u001b[38;5;241m=\u001b[39m [indexer]\n",
      "File \u001b[1;32mc:\\Users\\Camilo_\\.conda\\envs\\pyomo_env\\lib\\site-packages\\pandas\\core\\indexes\\base.py:3812\u001b[0m, in \u001b[0;36mIndex.get_loc\u001b[1;34m(self, key)\u001b[0m\n\u001b[0;32m   3807\u001b[0m     \u001b[38;5;28;01mif\u001b[39;00m \u001b[38;5;28misinstance\u001b[39m(casted_key, \u001b[38;5;28mslice\u001b[39m) \u001b[38;5;129;01mor\u001b[39;00m (\n\u001b[0;32m   3808\u001b[0m         \u001b[38;5;28misinstance\u001b[39m(casted_key, abc\u001b[38;5;241m.\u001b[39mIterable)\n\u001b[0;32m   3809\u001b[0m         \u001b[38;5;129;01mand\u001b[39;00m \u001b[38;5;28many\u001b[39m(\u001b[38;5;28misinstance\u001b[39m(x, \u001b[38;5;28mslice\u001b[39m) \u001b[38;5;28;01mfor\u001b[39;00m x \u001b[38;5;129;01min\u001b[39;00m casted_key)\n\u001b[0;32m   3810\u001b[0m     ):\n\u001b[0;32m   3811\u001b[0m         \u001b[38;5;28;01mraise\u001b[39;00m InvalidIndexError(key)\n\u001b[1;32m-> 3812\u001b[0m     \u001b[38;5;28;01mraise\u001b[39;00m \u001b[38;5;167;01mKeyError\u001b[39;00m(key) \u001b[38;5;28;01mfrom\u001b[39;00m \u001b[38;5;21;01merr\u001b[39;00m\n\u001b[0;32m   3813\u001b[0m \u001b[38;5;28;01mexcept\u001b[39;00m \u001b[38;5;167;01mTypeError\u001b[39;00m:\n\u001b[0;32m   3814\u001b[0m     \u001b[38;5;66;03m# If we have a listlike key, _check_indexing_error will raise\u001b[39;00m\n\u001b[0;32m   3815\u001b[0m     \u001b[38;5;66;03m#  InvalidIndexError. Otherwise we fall through and re-raise\u001b[39;00m\n\u001b[0;32m   3816\u001b[0m     \u001b[38;5;66;03m#  the TypeError.\u001b[39;00m\n\u001b[0;32m   3817\u001b[0m     \u001b[38;5;28mself\u001b[39m\u001b[38;5;241m.\u001b[39m_check_indexing_error(key)\n",
      "\u001b[1;31mKeyError\u001b[0m: 'formated_date'"
     ]
>>>>>>>> ecfa5ff7e82bed6791d991fbb8ac490006c68c5e:cambios_2.ipynb
    }
   ],
   "source": [
    "today = datetime.today()\n",
    "copy[copy[\"formated_date\"] > today].shape"
   ]
  },
  {
   "cell_type": "code",
   "execution_count": 25,
   "id": "78f3549e-3d55-4bcb-b144-a4a19f535264",
   "metadata": {},
   "outputs": [
    {
     "data": {
      "text/html": [
       "<div>\n",
       "<style scoped>\n",
       "    .dataframe tbody tr th:only-of-type {\n",
       "        vertical-align: middle;\n",
       "    }\n",
       "\n",
       "    .dataframe tbody tr th {\n",
       "        vertical-align: top;\n",
       "    }\n",
       "\n",
       "    .dataframe thead th {\n",
       "        text-align: right;\n",
       "    }\n",
       "</style>\n",
       "<table border=\"1\" class=\"dataframe\">\n",
       "  <thead>\n",
       "    <tr style=\"text-align: right;\">\n",
       "      <th></th>\n",
       "      <th>ID</th>\n",
       "      <th>Label</th>\n",
       "      <th>Titulo</th>\n",
       "      <th>Descripcion</th>\n",
       "      <th>formated_date</th>\n",
       "      <th>Año</th>\n",
       "    </tr>\n",
       "  </thead>\n",
       "  <tbody>\n",
       "    <tr>\n",
       "      <th>0</th>\n",
       "      <td>ID</td>\n",
       "      <td>1</td>\n",
       "      <td>'The Guardian' va con Sánchez: 'Euro...</td>\n",
       "      <td>El diario británico publicó este pas...</td>\n",
       "      <td>2023-06-02</td>\n",
       "      <td>2023</td>\n",
       "    </tr>\n",
       "    <tr>\n",
       "      <th>1</th>\n",
       "      <td>ID</td>\n",
       "      <td>0</td>\n",
       "      <td>REVELAN QUE EL GOBIERNO NEGOCIO LA L...</td>\n",
       "      <td>REVELAN QUE EL GOBIERNO NEGOCIO LA L...</td>\n",
       "      <td>2023-10-01</td>\n",
       "      <td>2023</td>\n",
       "    </tr>\n",
       "    <tr>\n",
       "      <th>2</th>\n",
       "      <td>ID</td>\n",
       "      <td>1</td>\n",
       "      <td>El 'Ahora o nunca' de Joan Fuster so...</td>\n",
       "      <td>El valencianismo convoca en Castelló...</td>\n",
       "      <td>2022-04-25</td>\n",
       "      <td>2022</td>\n",
       "    </tr>\n",
       "  </tbody>\n",
       "</table>\n",
       "</div>"
      ],
      "text/plain": [
       "   ID  Label                                   Titulo  \\\n",
       "0  ID      1  'The Guardian' va con Sánchez: 'Euro...   \n",
       "1  ID      0  REVELAN QUE EL GOBIERNO NEGOCIO LA L...   \n",
       "2  ID      1  El 'Ahora o nunca' de Joan Fuster so...   \n",
       "\n",
       "                               Descripcion formated_date   Año  \n",
       "0  El diario británico publicó este pas...    2023-06-02  2023  \n",
       "1  REVELAN QUE EL GOBIERNO NEGOCIO LA L...    2023-10-01  2023  \n",
       "2  El valencianismo convoca en Castelló...    2022-04-25  2022  "
      ]
     },
     "execution_count": 25,
     "metadata": {},
     "output_type": "execute_result"
    }
   ],
   "source": [
    "copy['Año'] = copy['formated_date'].dt.year\n",
    "\n",
    "copy.head(3)"
   ]
  },
  {
   "cell_type": "markdown",
   "id": "a5d62229-4696-4b8a-94bf-76d5c01fe5d4",
   "metadata": {},
   "source": [
    "En el siguiente codigo se verifica si para una misma descripción se cuentan con mas de dos labels diferentes, esto para evitar inconsistencias.  "
   ]
  },
  {
   "cell_type": "code",
   "execution_count": 26,
   "id": "54e4057d-7d36-4016-a77e-78bc87730275",
   "metadata": {},
   "outputs": [
    {
     "name": "stdout",
     "output_type": "stream",
     "text": [
      "Series([], Name: Label, dtype: int64)\n"
     ]
    }
   ],
   "source": [
    "label_conflicto = copy.groupby(\"Descripcion\")[\"Label\"].nunique()\n",
    "print(label_conflicto[label_conflicto > 1])"
   ]
  },
  {
   "cell_type": "markdown",
   "id": "1879575f-489a-4f6f-962b-1ea945a294e1",
   "metadata": {},
   "source": [
    "# 3. Preparación de datos\n",
    "\n",
    "En esta fase se hará un proceso de tres etapas:\n",
    "\n",
    "1. Limpieza de datos\n",
    "2. Tokenización\n",
    "3. Normalización"
   ]
  },
  {
   "cell_type": "markdown",
   "id": "60d3f6bf-5efa-43dd-a463-f1fc05ec8024",
   "metadata": {},
   "source": [
    "Antes de realizar todo esto se opta por rechazar la columna de la fecha en la que fue publicada la noticia. Esto debido a que al usar la fecha para predecir si una noticia es falsa es una mala idea porque no tiene una relación causal con la veracidad y puede generar sobreajuste si el modelo aprende patrones específicos de ciertos períodos de tiempo. Además, introduce un sesgo temporal, ya que eventos como elecciones o crisis pueden afectar la cantidad de noticias falsas, haciendo que el modelo no generalice bien a datos futuros. También, la fecha por sí sola no aporta información semántica relevante sobre la credibilidad del contenido, por lo que es mejor enfocarse en características como el título, la descripción y el cuerpo de la noticia."
   ]
  },
  {
   "cell_type": "markdown",
   "id": "d1ccb9c3-060d-417e-8f0e-a0a5ed8177bb",
   "metadata": {},
   "source": [
    "## 3.1 Limpieza de datos"
   ]
  },
  {
   "cell_type": "markdown",
   "id": "50d3ad59-ad14-4247-b205-5391a6f86d86",
   "metadata": {},
   "source": [
    "Se completan las siguientes funciones para eliminar los caracteres no ASCII, convertir en minuscula los textos, eliminar la puntuación, reemplazar los números y eliminar los stopwords. Esto se unifica en la función `preprocessing`."
   ]
  },
  {
   "cell_type": "code",
<<<<<<<< HEAD:informe.ipynb
   "execution_count": 27,
========
   "execution_count": 24,
>>>>>>>> ecfa5ff7e82bed6791d991fbb8ac490006c68c5e:cambios_2.ipynb
   "id": "ef1a3185-9662-4dec-bab4-e149bb093f6d",
   "metadata": {},
   "outputs": [],
   "source": [
    "def remove_non_ascii(words):\n",
    "    \"\"\"Remove non-ASCII characters from list of tokenized words\"\"\"\n",
    "    new_words = []\n",
    "    for word in words:\n",
    "        if word is not None:\n",
    "          new_word = unicodedata.normalize('NFKD', word).encode('ascii', 'ignore').decode('utf-8', 'ignore')\n",
    "          new_words.append(new_word)\n",
    "    return new_words\n",
    "\n",
    "def to_lowercase(words):\n",
    "    \"\"\"Convert all characters to lowercase from list of tokenized words\"\"\"\n",
    "    return [word.lower() for word in words]\n",
    "\n",
    "def remove_punctuation(words):\n",
    "    \"\"\"Remove punctuation from list of tokenized words\"\"\"\n",
    "    new_words = []\n",
    "    for word in words:\n",
    "        if word is not None:\n",
    "            new_word = re.sub(r'[^\\w\\s]', '', word)\n",
    "            if new_word != '':\n",
    "                new_words.append(new_word)\n",
    "    return new_words\n",
    "\n",
    "def replace_numbers(words):\n",
    "   \"\"\"Replace all interger occurrences in list of tokenized words with textual representation\"\"\"\n",
    "   p = inflect.engine()\n",
    "   new_words = []\n",
    "   for word in words:\n",
    "       if word.isdigit():\n",
    "           new_word = p.number_to_words(word)\n",
    "           new_words.append(new_word)\n",
    "           #print(\"if \" + new_word)\n",
    "       else:\n",
    "           new_words.append(word)\n",
    "   return new_words\n",
    "\n",
    "def remove_stopwords(words):\n",
    "    \"\"\"Remove stop words from list of tokenized words\"\"\"\n",
    "    stop_words = set(stopwords.words('spanish'))  # Cargar stopwords en español\n",
    "    return [word for word in words if word not in stop_words]\n",
    "\n",
    "def preprocessing(words):\n",
    "    words = to_lowercase(words)\n",
    "    words = replace_numbers(words)\n",
    "    words = remove_punctuation(words)\n",
    "    words = remove_non_ascii(words)\n",
    "    words = remove_stopwords(words)\n",
    "    return words"
   ]
  },
  {
   "cell_type": "markdown",
   "id": "626d65ab-08f5-49d3-9567-2a50b298a9eb",
   "metadata": {},
   "source": [
    "## 3.2 Tokenización"
   ]
  },
  {
   "cell_type": "markdown",
   "id": "518c96d4-c494-431c-a9fc-574ef413e52d",
   "metadata": {},
   "source": [
    "Primero que todo se expanden las constracciones, lo cual solo requiere expandir \"al\" y \"del\" debido a que son las contracciones mas comunes en español."
   ]
  },
  {
   "cell_type": "code",
<<<<<<<< HEAD:informe.ipynb
   "execution_count": 28,
========
   "execution_count": 25,
>>>>>>>> ecfa5ff7e82bed6791d991fbb8ac490006c68c5e:cambios_2.ipynb
   "id": "b46e3fb0-0aa9-4239-8ddc-d4b90a135c46",
   "metadata": {},
   "outputs": [
    {
     "data": {
      "text/html": [
       "<div>\n",
       "<style scoped>\n",
       "    .dataframe tbody tr th:only-of-type {\n",
       "        vertical-align: middle;\n",
       "    }\n",
       "\n",
       "    .dataframe tbody tr th {\n",
       "        vertical-align: top;\n",
       "    }\n",
       "\n",
       "    .dataframe thead th {\n",
       "        text-align: right;\n",
       "    }\n",
       "</style>\n",
       "<table border=\"1\" class=\"dataframe\">\n",
       "  <thead>\n",
       "    <tr style=\"text-align: right;\">\n",
       "      <th></th>\n",
       "      <th>Descripcion</th>\n",
       "      <th>Titulo</th>\n",
       "    </tr>\n",
       "  </thead>\n",
       "  <tbody>\n",
       "    <tr>\n",
       "      <th>0</th>\n",
       "      <td>El diario británico publicó este pas...</td>\n",
       "      <td>'The Guardian' va con Sánchez: 'Euro...</td>\n",
       "    </tr>\n",
       "    <tr>\n",
       "      <th>1</th>\n",
       "      <td>REVELAN QUE EL GOBIERNO NEGOCIO LA L...</td>\n",
       "      <td>REVELAN QUE EL GOBIERNO NEGOCIO LA L...</td>\n",
       "    </tr>\n",
       "  </tbody>\n",
       "</table>\n",
       "</div>"
      ],
      "text/plain": [
       "                               Descripcion  \\\n",
       "0  El diario británico publicó este pas...   \n",
       "1  REVELAN QUE EL GOBIERNO NEGOCIO LA L...   \n",
       "\n",
       "                                    Titulo  \n",
       "0  'The Guardian' va con Sánchez: 'Euro...  \n",
       "1  REVELAN QUE EL GOBIERNO NEGOCIO LA L...  "
      ]
     },
<<<<<<<< HEAD:informe.ipynb
     "execution_count": 28,
========
     "execution_count": 25,
>>>>>>>> ecfa5ff7e82bed6791d991fbb8ac490006c68c5e:cambios_2.ipynb
     "metadata": {},
     "output_type": "execute_result"
    }
   ],
   "source": [
    "def expand_spanish_contractions(text):\n",
    "    text = text.replace(\"al\", \"a el\")\n",
    "    return text.replace(\"del\" ,\"de el\")\n",
    "\n",
    "copy['Descripcion'] = copy['Descripcion'].apply(expand_spanish_contractions)\n",
    "copy['Titulo'] = copy['Titulo'].apply(expand_spanish_contractions)\n",
    "\n",
    "copy[['Descripcion', 'Titulo']].head(2)"
   ]
  },
  {
   "cell_type": "markdown",
   "id": "e7c6c3d4-3f1f-4f23-9dca-7891378602e6",
   "metadata": {},
   "source": [
    "Ahora, se aplica la tokenización de las columnas Descripcion y Titulo. "
   ]
  },
  {
   "cell_type": "code",
<<<<<<<< HEAD:informe.ipynb
   "execution_count": 29,
========
   "execution_count": 26,
>>>>>>>> ecfa5ff7e82bed6791d991fbb8ac490006c68c5e:cambios_2.ipynb
   "id": "d23035a5-fa6f-4bfe-b8a1-7f8659c31c4b",
   "metadata": {},
   "outputs": [
    {
     "data": {
      "text/html": [
       "<div>\n",
       "<style scoped>\n",
       "    .dataframe tbody tr th:only-of-type {\n",
       "        vertical-align: middle;\n",
       "    }\n",
       "\n",
       "    .dataframe tbody tr th {\n",
       "        vertical-align: top;\n",
       "    }\n",
       "\n",
       "    .dataframe thead th {\n",
       "        text-align: right;\n",
       "    }\n",
       "</style>\n",
       "<table border=\"1\" class=\"dataframe\">\n",
       "  <thead>\n",
       "    <tr style=\"text-align: right;\">\n",
       "      <th></th>\n",
       "      <th>tokenized_desc</th>\n",
       "      <th>tokenized_titl</th>\n",
       "    </tr>\n",
       "  </thead>\n",
       "  <tbody>\n",
       "    <tr>\n",
       "      <th>0</th>\n",
       "      <td>[El, diario, británico, publicó, est...</td>\n",
       "      <td>['The, Guardian, ', va, con, Sánchez...</td>\n",
       "    </tr>\n",
       "    <tr>\n",
       "      <th>1</th>\n",
       "      <td>[REVELAN, QUE, EL, GOBIERNO, NEGOCIO...</td>\n",
       "      <td>[REVELAN, QUE, EL, GOBIERNO, NEGOCIO...</td>\n",
       "    </tr>\n",
       "    <tr>\n",
       "      <th>2</th>\n",
       "      <td>[El, va, elencianismo, convoca, en, ...</td>\n",
       "      <td>[El, 'Ahora, o, nunca, ', de, Joan, ...</td>\n",
       "    </tr>\n",
       "  </tbody>\n",
       "</table>\n",
       "</div>"
      ],
      "text/plain": [
       "                            tokenized_desc  \\\n",
       "0  [El, diario, británico, publicó, est...   \n",
       "1  [REVELAN, QUE, EL, GOBIERNO, NEGOCIO...   \n",
       "2  [El, va, elencianismo, convoca, en, ...   \n",
       "\n",
       "                            tokenized_titl  \n",
       "0  ['The, Guardian, ', va, con, Sánchez...  \n",
       "1  [REVELAN, QUE, EL, GOBIERNO, NEGOCIO...  \n",
       "2  [El, 'Ahora, o, nunca, ', de, Joan, ...  "
      ]
     },
<<<<<<<< HEAD:informe.ipynb
     "execution_count": 29,
========
     "execution_count": 26,
>>>>>>>> ecfa5ff7e82bed6791d991fbb8ac490006c68c5e:cambios_2.ipynb
     "metadata": {},
     "output_type": "execute_result"
    }
   ],
   "source": [
    "copy['tokenized_desc'] = copy['Descripcion'].apply(word_tokenize)\n",
    "copy['tokenized_titl'] = copy['Titulo'].apply(word_tokenize)\n",
    "\n",
    "copy[['tokenized_desc', 'tokenized_titl']].head(3)"
   ]
  },
  {
   "cell_type": "markdown",
   "id": "38d605c1-282a-4151-bfac-b61112f38b13",
   "metadata": {},
   "source": [
    "Una vez se realiza la tokenización se aplica el preprocesamiento antes mencionado."
   ]
  },
  {
   "cell_type": "code",
<<<<<<<< HEAD:informe.ipynb
   "execution_count": 30,
========
   "execution_count": 27,
>>>>>>>> ecfa5ff7e82bed6791d991fbb8ac490006c68c5e:cambios_2.ipynb
   "id": "a8bc8d63-1324-40ec-a799-bc009e1b425b",
   "metadata": {},
   "outputs": [
    {
     "data": {
      "text/html": [
       "<div>\n",
       "<style scoped>\n",
       "    .dataframe tbody tr th:only-of-type {\n",
       "        vertical-align: middle;\n",
       "    }\n",
       "\n",
       "    .dataframe tbody tr th {\n",
       "        vertical-align: top;\n",
       "    }\n",
       "\n",
       "    .dataframe thead th {\n",
       "        text-align: right;\n",
       "    }\n",
       "</style>\n",
       "<table border=\"1\" class=\"dataframe\">\n",
       "  <thead>\n",
       "    <tr style=\"text-align: right;\">\n",
       "      <th></th>\n",
       "      <th>Descripcion</th>\n",
       "      <th>tokenized_desc</th>\n",
       "      <th>Titulo</th>\n",
       "      <th>tokenized_titl</th>\n",
       "    </tr>\n",
       "  </thead>\n",
       "  <tbody>\n",
       "    <tr>\n",
       "      <th>0</th>\n",
       "      <td>El diario británico publicó este pas...</td>\n",
       "      <td>[diario, britanico, publico, pasado,...</td>\n",
       "      <td>'The Guardian' va con Sánchez: 'Euro...</td>\n",
       "      <td>[the, guardian, va, sanchez, europa,...</td>\n",
       "    </tr>\n",
       "    <tr>\n",
       "      <th>1</th>\n",
       "      <td>REVELAN QUE EL GOBIERNO NEGOCIO LA L...</td>\n",
       "      <td>[revelan, gobierno, negocio, liberac...</td>\n",
       "      <td>REVELAN QUE EL GOBIERNO NEGOCIO LA L...</td>\n",
       "      <td>[revelan, gobierno, negocio, liberac...</td>\n",
       "    </tr>\n",
       "    <tr>\n",
       "      <th>2</th>\n",
       "      <td>El va elencianismo convoca en Castel...</td>\n",
       "      <td>[va, elencianismo, convoca, castello...</td>\n",
       "      <td>El 'Ahora o nunca' de Joan Fuster so...</td>\n",
       "      <td>[ahora, nunca, joan, fuster, estatut...</td>\n",
       "    </tr>\n",
       "  </tbody>\n",
       "</table>\n",
       "</div>"
      ],
      "text/plain": [
       "                               Descripcion  \\\n",
       "0  El diario británico publicó este pas...   \n",
       "1  REVELAN QUE EL GOBIERNO NEGOCIO LA L...   \n",
       "2  El va elencianismo convoca en Castel...   \n",
       "\n",
       "                            tokenized_desc  \\\n",
       "0  [diario, britanico, publico, pasado,...   \n",
       "1  [revelan, gobierno, negocio, liberac...   \n",
       "2  [va, elencianismo, convoca, castello...   \n",
       "\n",
       "                                    Titulo  \\\n",
       "0  'The Guardian' va con Sánchez: 'Euro...   \n",
       "1  REVELAN QUE EL GOBIERNO NEGOCIO LA L...   \n",
       "2  El 'Ahora o nunca' de Joan Fuster so...   \n",
       "\n",
       "                            tokenized_titl  \n",
       "0  [the, guardian, va, sanchez, europa,...  \n",
       "1  [revelan, gobierno, negocio, liberac...  \n",
       "2  [ahora, nunca, joan, fuster, estatut...  "
      ]
     },
<<<<<<<< HEAD:informe.ipynb
     "execution_count": 30,
========
     "execution_count": 27,
>>>>>>>> ecfa5ff7e82bed6791d991fbb8ac490006c68c5e:cambios_2.ipynb
     "metadata": {},
     "output_type": "execute_result"
    }
   ],
   "source": [
    "copy['tokenized_desc'] = copy['tokenized_desc'].apply(preprocessing)\n",
    "copy['tokenized_titl'] = copy['tokenized_titl'].apply(preprocessing)\n",
    "\n",
    "copy[['Descripcion', 'tokenized_desc', 'Titulo', 'tokenized_titl']].head(3)"
   ]
  },
  {
   "cell_type": "markdown",
   "id": "7aba810d-d451-4939-843c-d69c53ac20ce",
   "metadata": {},
   "source": [
    "## 3.3 Normalización"
   ]
  },
  {
   "cell_type": "markdown",
   "id": "7a048bcb-2906-4332-a10b-a7411dedfb7b",
   "metadata": {},
   "source": [
    "En la siguiente celda de código se realiza la normalización de las palabras utilizando `LancasterStemmer()` y `WordNetLemmatizer()`. Esto para aplicar la lematización y la eliminación de prefijos y sufijos."
   ]
  },
  {
   "cell_type": "code",
<<<<<<<< HEAD:informe.ipynb
   "execution_count": 31,
========
   "execution_count": 28,
>>>>>>>> ecfa5ff7e82bed6791d991fbb8ac490006c68c5e:cambios_2.ipynb
   "id": "c5e93f63-a1b1-4494-ab1f-37f56398f617",
   "metadata": {},
   "outputs": [],
   "source": [
    "stemmer = LancasterStemmer()\n",
    "lemmatizer = WordNetLemmatizer()\n",
    "\n",
    "def stem_words(words):\n",
    "    \"\"\"Stem words in list of tokenized words\"\"\"\n",
    "    return [stemmer.stem(word) for word in words]\n",
    "\n",
    "def lemmatize_verbs(words):\n",
    "    \"\"\"Lemmatize verbs in list of tokenized words\"\"\"\n",
    "    return [lemmatizer.lemmatize(word, pos='v') for word in words]\n",
    "\n",
    "def stem_and_lemmatize(words):\n",
    "    stems = stem_words(words)\n",
    "    lemmas = lemmatize_verbs(words)\n",
    "    return stems + lemmas"
   ]
  },
  {
   "cell_type": "code",
<<<<<<<< HEAD:informe.ipynb
   "execution_count": 32,
========
   "execution_count": 29,
>>>>>>>> ecfa5ff7e82bed6791d991fbb8ac490006c68c5e:cambios_2.ipynb
   "id": "f7b35716-72b0-4fde-bc57-4825c8b962ea",
   "metadata": {},
   "outputs": [],
   "source": [
    "copy['normalized_desc'] = copy['tokenized_desc'].apply(stem_and_lemmatize)\n",
    "copy['normalized_titl'] = copy['tokenized_titl'].apply(stem_and_lemmatize)"
   ]
  },
  {
   "cell_type": "markdown",
   "id": "a736abde-4bce-4ae3-808d-0500c502a032",
   "metadata": {},
   "source": [
    "También se intento hacer esto mismo con otra libreria especializada en español, pero el tiempo que demora en ejecutarse el siguiente bloque de código es demasiado en comparación al otro. El rendimiento del modelo no mejora al utilizar esta libreria, por lo tanto, se opta por no utilizarse. "
   ]
  },
  {
   "cell_type": "code",
   "execution_count": 33,
   "id": "d54c6410-35a0-4a98-bcd7-8ddc54575b34",
   "metadata": {},
   "outputs": [],
   "source": [
    "# import pandas as pd\n",
    "# import spacy\n",
    "# import nltk\n",
    "# from nltk.stem import SnowballStemmer\n",
    "\n",
    "# nlp = spacy.load(\"es_core_news_sm\")\n",
    "# # Inicializar el stemmer en español\n",
    "# stemmer = SnowballStemmer('spanish')\n",
    "\n",
    "# def stem_and_lemmatize_batch(texts):\n",
    "#     \"\"\"Optimiza la lematización y stemming usando spaCy y Snowball en batch\"\"\"\n",
    "#     docs = list(nlp.pipe(texts))  # Procesa en batch\n",
    "#     results = []\n",
    "#     for doc in docs:\n",
    "#         stems = [stemmer.stem(token.text) for token in doc]\n",
    "#         lemmas = [token.lemma_ for token in doc]\n",
    "#         results.append(stems + lemmas)  # Combina ambos\n",
    "#     return results\n",
    "\n",
    "# # Aplicar el procesamiento en batch\n",
    "# copy['normalized'] = stem_and_lemmatize_batch(copy['tokenized_desc'].apply(lambda x: ' '.join(x)))"
   ]
  },
  {
   "cell_type": "markdown",
   "id": "33ffd6fc-8a26-45e8-8012-b22d64c69a62",
   "metadata": {},
   "source": [
    "## 3.4 Selección de campos"
   ]
  },
  {
   "cell_type": "markdown",
   "id": "b0a796a5-b1ad-43e7-8318-16abd3be777c",
   "metadata": {},
   "source": [
    "En esta parte se realiza la unión de las listas de palabras normalizadas para tener una cadena de todas las palabras."
   ]
  },
  {
   "cell_type": "code",
<<<<<<<< HEAD:informe.ipynb
   "execution_count": 34,
========
   "execution_count": 30,
>>>>>>>> ecfa5ff7e82bed6791d991fbb8ac490006c68c5e:cambios_2.ipynb
   "id": "e932e89e-62a9-4c94-b78f-cf763f076a52",
   "metadata": {},
   "outputs": [],
   "source": [
    "copy['desc_words'] = copy['normalized_desc'].apply(lambda x: ' '.join(map(str, x)))\n",
    "copy['titl_words'] = copy['normalized_titl'].apply(lambda x: ' '.join(map(str, x)))"
   ]
  },
  {
   "cell_type": "code",
<<<<<<<< HEAD:informe.ipynb
   "execution_count": 35,
========
   "execution_count": 31,
>>>>>>>> ecfa5ff7e82bed6791d991fbb8ac490006c68c5e:cambios_2.ipynb
   "id": "c61981de-6d4e-454a-a410-823fe2167647",
   "metadata": {},
   "outputs": [
    {
     "data": {
      "text/html": [
       "<div>\n",
       "<style scoped>\n",
       "    .dataframe tbody tr th:only-of-type {\n",
       "        vertical-align: middle;\n",
       "    }\n",
       "\n",
       "    .dataframe tbody tr th {\n",
       "        vertical-align: top;\n",
       "    }\n",
       "\n",
       "    .dataframe thead th {\n",
       "        text-align: right;\n",
       "    }\n",
       "</style>\n",
       "<table border=\"1\" class=\"dataframe\">\n",
       "  <thead>\n",
       "    <tr style=\"text-align: right;\">\n",
       "      <th></th>\n",
       "      <th>desc_words</th>\n",
       "      <th>normalized_desc</th>\n",
       "      <th>titl_words</th>\n",
       "      <th>normalized_titl</th>\n",
       "    </tr>\n",
       "  </thead>\n",
       "  <tbody>\n",
       "    <tr>\n",
       "      <th>0</th>\n",
       "      <td>diario britanico publico pasado juev...</td>\n",
       "      <td>[diario, britanico, publico, pasado,...</td>\n",
       "      <td>the guard va sanchez europ necesit a...</td>\n",
       "      <td>[the, guard, va, sanchez, europ, nec...</td>\n",
       "    </tr>\n",
       "    <tr>\n",
       "      <th>1</th>\n",
       "      <td>revel gobierno negocio liberac mirel...</td>\n",
       "      <td>[revel, gobierno, negocio, liberac, ...</td>\n",
       "      <td>revel gobierno negocio liberac mirel...</td>\n",
       "      <td>[revel, gobierno, negocio, liberac, ...</td>\n",
       "    </tr>\n",
       "    <tr>\n",
       "      <th>2</th>\n",
       "      <td>va elencianismo convoc castello fies...</td>\n",
       "      <td>[va, elencianismo, convoc, castello,...</td>\n",
       "      <td>ahor nunc joan fust estatuto va elen...</td>\n",
       "      <td>[ahor, nunc, joan, fust, estatuto, v...</td>\n",
       "    </tr>\n",
       "  </tbody>\n",
       "</table>\n",
       "</div>"
      ],
      "text/plain": [
       "                                desc_words  \\\n",
       "0  diario britanico publico pasado juev...   \n",
       "1  revel gobierno negocio liberac mirel...   \n",
       "2  va elencianismo convoc castello fies...   \n",
       "\n",
       "                           normalized_desc  \\\n",
       "0  [diario, britanico, publico, pasado,...   \n",
       "1  [revel, gobierno, negocio, liberac, ...   \n",
       "2  [va, elencianismo, convoc, castello,...   \n",
       "\n",
       "                                titl_words  \\\n",
       "0  the guard va sanchez europ necesit a...   \n",
       "1  revel gobierno negocio liberac mirel...   \n",
       "2  ahor nunc joan fust estatuto va elen...   \n",
       "\n",
       "                           normalized_titl  \n",
       "0  [the, guard, va, sanchez, europ, nec...  \n",
       "1  [revel, gobierno, negocio, liberac, ...  \n",
       "2  [ahor, nunc, joan, fust, estatuto, v...  "
      ]
     },
<<<<<<<< HEAD:informe.ipynb
     "execution_count": 35,
========
     "execution_count": 31,
>>>>>>>> ecfa5ff7e82bed6791d991fbb8ac490006c68c5e:cambios_2.ipynb
     "metadata": {},
     "output_type": "execute_result"
    }
   ],
   "source": [
    "copy[['desc_words', 'normalized_desc', 'titl_words', 'normalized_titl']].head(3)"
   ]
  },
  {
   "cell_type": "code",
<<<<<<<< HEAD:informe.ipynb
   "execution_count": 36,
========
   "execution_count": 32,
>>>>>>>> ecfa5ff7e82bed6791d991fbb8ac490006c68c5e:cambios_2.ipynb
   "id": "4073d245-d713-4172-9bef-e64aa1394418",
   "metadata": {},
   "outputs": [
    {
     "name": "stdout",
     "output_type": "stream",
     "text": [
      "(49638, 2) (49638,)\n"
     ]
    }
   ],
   "source": [
    "X_data, y_label = copy[['desc_words', 'titl_words']], copy['Label']\n",
    "print(X_data.shape, y_label.shape)"
   ]
  },
  {
   "cell_type": "code",
<<<<<<<< HEAD:informe.ipynb
   "execution_count": 37,
========
   "execution_count": 33,
>>>>>>>> ecfa5ff7e82bed6791d991fbb8ac490006c68c5e:cambios_2.ipynb
   "id": "6fa4d322-1fe2-49d2-9366-de2727ee5804",
   "metadata": {},
   "outputs": [],
   "source": [
    "tf_idf = TfidfVectorizer()\n",
    "\n",
    "X_words = X_data['desc_words'] + ' ' + X_data['titl_words']\n",
    "\n",
    "X_combined = pd.concat([X_words, X_data[['desc_words', 'titl_words']]], axis=1)\n",
    "X_combined.columns = ['combined', 'desc_words', 'titl_words']\n",
    "\n",
    "X_tf_idf = tf_idf.fit_transform(X_combined['combined'])"
   ]
  },
  {
   "cell_type": "code",
<<<<<<<< HEAD:informe.ipynb
   "execution_count": 38,
========
   "execution_count": 34,
>>>>>>>> ecfa5ff7e82bed6791d991fbb8ac490006c68c5e:cambios_2.ipynb
   "id": "cd8856b4-dadc-4719-8e03-0ae07cb627ca",
   "metadata": {},
   "outputs": [
    {
     "data": {
      "text/plain": [
       "(49638, 66495)"
      ]
     },
<<<<<<<< HEAD:informe.ipynb
     "execution_count": 38,
========
     "execution_count": 34,
>>>>>>>> ecfa5ff7e82bed6791d991fbb8ac490006c68c5e:cambios_2.ipynb
     "metadata": {},
     "output_type": "execute_result"
    }
   ],
   "source": [
    "X_tf_idf.shape"
   ]
  },
  {
   "cell_type": "markdown",
   "id": "81440898-39fe-4cb3-8794-7a5857fe00b1",
   "metadata": {
    "jp-MarkdownHeadingCollapsed": true
   },
   "source": [
    "# 4. Creación del pipeline de preprocesamiento"
   ]
  },
  {
   "cell_type": "markdown",
   "id": "4418e444-0ceb-429e-895a-f0e5b84b4b4a",
   "metadata": {},
   "source": [
    "En este Pipeline se incluye (TODO: ARREGLAR ESTO)\n",
    "\n",
    "1. Eliminar los duplicados.\n",
    "2. ELIMINAR FILA SI la descripción es None (df.dropna(subset=['Descripcion'])\n",
    "2. Eliminar descripciones duplicadas.\n",
    "3. Para los títulos vacíos hacemos una imputación.\n",
    "4. Expandir las contracciones\n",
    "5. Word_tokenize\n",
    "6. Preprocessing\n",
    "7. Normalizar\n",
    "8. Selección de campos, unirlos\n",
    "9. Unir campos en uno solo\n",
    "10. Devolver una matriz dispersa con las características\n"
   ]
  },
  {
   "cell_type": "markdown",
   "id": "f38ef34a-cd71-4b4a-a414-48fcb8a3d3b5",
   "metadata": {},
   "source": [
    "TODO: ARREGLAR EL PIPELINE "
   ]
  },
  {
   "cell_type": "code",
   "execution_count": 39,
   "id": "d02b30c1-c65f-4fb1-880f-a01f05d34c60",
   "metadata": {},
   "outputs": [],
   "source": [
    "def remove_duplicates(df):\n",
    "    print('status: eliminado duplicados')\n",
    "    return df.drop_duplicates(keep='first')\n",
    "\n",
    "def remove_duplicates_desc(df):\n",
    "    print('status: eliminado descripciones duplicados')\n",
    "    return df.drop_duplicates('Descripcion', keep='first', inplace=False)\n",
    "\n",
    "def empty_title(df):\n",
    "    print('status: imputando titulos')\n",
    "    df \\\n",
    "        .loc[df[\"Titulo\"].isna(), \"Titulo\"] = df[\"Descripcion\"] \\\n",
    "        .apply(lambda t: t.strip().split(\".\")[0] if isinstance(t, str) else t)\n",
    "    \n",
    "    return df\n",
    "\n",
    "def expand_contractions(df):\n",
    "    print('status: contracciones')\n",
    "    df['Descripcion'] = df['Descripcion'].apply(expand_spanish_contractions)\n",
    "    df['Titulo'] = df['Titulo'].apply(expand_spanish_contractions)\n",
    "    return df\n",
    "\n",
    "def tokenize(df):\n",
    "    print('status: tokenizar')\n",
    "    df['tokenized_desc'] = df['Descripcion'].apply(word_tokenize)\n",
    "    df['tokenized_titl'] = df['Titulo'].apply(word_tokenize)\n",
    "    return df\n",
    "\n",
    "def clean_noise(df):\n",
    "    print('status: preprocessing functions')\n",
    "    df['tokenized_desc'] = df['tokenized_desc'].apply(preprocessing)\n",
    "    df['tokenized_titl'] = df['tokenized_titl'].apply(preprocessing)\n",
    "    return df\n",
    "\n",
    "def normalize(df):\n",
    "    print('status: normalizar')\n",
    "    df['normalized_desc'] = df['tokenized_desc'].apply(stem_and_lemmatize)\n",
    "    df['normalized_titl'] = df['tokenized_titl'].apply(stem_and_lemmatize)\n",
    "    return df\n",
    "\n",
    "def feature_sel(df):\n",
    "    print('status: unir palabras ')\n",
    "    df['desc_words'] = df['normalized_desc'].apply(lambda x: ' '.join(map(str, x)))\n",
    "    df['titl_words'] = df['normalized_titl'].apply(lambda x: ' '.join(map(str, x)))\n",
    "    return df\n",
    "\n",
    "def gen_sparse_matrix(df, fit_vectorizer):\n",
    "    print('status: finalizando (seleccionando caracteristicas)')\n",
    "    X_data = df[['desc_words', 'titl_words']]\n",
    "\n",
    "    X_words = X_data['desc_words'] + ' ' + X_data['titl_words']\n",
    "\n",
    "    # X_combined = pd.concat([X_words, X_data[['desc_words', 'titl_words']]], axis=1)\n",
    "    # X_combined.columns = ['combined', 'desc_words', 'titl_words']\n",
    "\n",
    "    if fit_vectorizer:\n",
    "        X_tf_idf = tf_idf.fit_transform(X_words)  # Ajustar y transformar en entrenamiento\n",
    "    else:\n",
    "        X_tf_idf = tf_idf.transform(X_words)\n",
    "\n",
    "    return X_tf_idf\n",
    "\n",
    "def transform_pipeline(df, fit_vectorizer=False):\n",
    "    df = remove_duplicates(df)\n",
    "    df = remove_duplicates_desc(df)\n",
    "    df = empty_title(df)\n",
    "    df = expand_contractions(df)\n",
    "    df = tokenize(df)\n",
    "    df = clean_noise(df)\n",
    "    df = normalize(df)\n",
    "    df = feature_sel(df)\n",
    "    X_tf_idf = gen_sparse_matrix(df, fit_vectorizer)\n",
    "    return X_tf_idf"
   ]
  },
  {
   "cell_type": "code",
<<<<<<<< HEAD:informe.ipynb
   "execution_count": 40,
========
   "execution_count": 35,
>>>>>>>> ecfa5ff7e82bed6791d991fbb8ac490006c68c5e:cambios_2.ipynb
   "id": "f9aaef35-cdf5-487b-8dc6-cee33393f68e",
   "metadata": {},
   "outputs": [],
   "source": [
    "df_test = pd.read_csv('./fake_news_test.csv', sep=';', encoding='utf-8')\n",
    "\n",
    "# X_test = transform_pipeline(\n",
    "#     df_test,\n",
    "#     True\n",
    "# )\n",
    "\n",
    "# y_pred = model.predict(X_test)"
   ]
  },
  {
   "cell_type": "markdown",
   "id": "3e711664-fe44-4eb3-8082-cb718831ee8b",
   "metadata": {},
   "source": [
    "# 5. Entrenamiento de los modelos"
   ]
  },
  {
   "cell_type": "code",
<<<<<<<< HEAD:informe.ipynb
   "execution_count": 41,
========
   "execution_count": 36,
>>>>>>>> ecfa5ff7e82bed6791d991fbb8ac490006c68c5e:cambios_2.ipynb
   "id": "23d32031-2748-46fc-bcd2-ab5b57650d68",
   "metadata": {},
   "outputs": [],
   "source": [
    "X_train, X_test, y_train, y_test = train_test_split(\n",
    "    X_tf_idf,\n",
    "    y_label,\n",
    "    test_size=0.3,\n",
    "    random_state=42\n",
    ")"
   ]
  },
  {
   "cell_type": "markdown",
   "id": "66336697-56e2-4b69-a70d-69d7d25d492e",
   "metadata": {},
   "source": [
    "## 5.1 Regresión logistica"
   ]
  },
  {
   "cell_type": "markdown",
   "id": "d84ff1df-6f99-4eb3-8cf1-7fded08d1cf4",
   "metadata": {},
   "source": [
    "En las siguientes dos celdas se hace el entrenamiento de regresión logistica y una validación utilizando validación cruzada, el modelo tiene un muy buen puntaje `f1`, por encima de 90%."
   ]
  },
  {
   "cell_type": "code",
   "execution_count": 42,
   "id": "9e740a9f-8778-4874-b83d-0f5ac18ddfa2",
   "metadata": {},
   "outputs": [
    {
     "data": {
      "text/html": [
       "<style>#sk-container-id-1 {\n",
       "  /* Definition of color scheme common for light and dark mode */\n",
       "  --sklearn-color-text: #000;\n",
       "  --sklearn-color-text-muted: #666;\n",
       "  --sklearn-color-line: gray;\n",
       "  /* Definition of color scheme for unfitted estimators */\n",
       "  --sklearn-color-unfitted-level-0: #fff5e6;\n",
       "  --sklearn-color-unfitted-level-1: #f6e4d2;\n",
       "  --sklearn-color-unfitted-level-2: #ffe0b3;\n",
       "  --sklearn-color-unfitted-level-3: chocolate;\n",
       "  /* Definition of color scheme for fitted estimators */\n",
       "  --sklearn-color-fitted-level-0: #f0f8ff;\n",
       "  --sklearn-color-fitted-level-1: #d4ebff;\n",
       "  --sklearn-color-fitted-level-2: #b3dbfd;\n",
       "  --sklearn-color-fitted-level-3: cornflowerblue;\n",
       "\n",
       "  /* Specific color for light theme */\n",
       "  --sklearn-color-text-on-default-background: var(--sg-text-color, var(--theme-code-foreground, var(--jp-content-font-color1, black)));\n",
       "  --sklearn-color-background: var(--sg-background-color, var(--theme-background, var(--jp-layout-color0, white)));\n",
       "  --sklearn-color-border-box: var(--sg-text-color, var(--theme-code-foreground, var(--jp-content-font-color1, black)));\n",
       "  --sklearn-color-icon: #696969;\n",
       "\n",
       "  @media (prefers-color-scheme: dark) {\n",
       "    /* Redefinition of color scheme for dark theme */\n",
       "    --sklearn-color-text-on-default-background: var(--sg-text-color, var(--theme-code-foreground, var(--jp-content-font-color1, white)));\n",
       "    --sklearn-color-background: var(--sg-background-color, var(--theme-background, var(--jp-layout-color0, #111)));\n",
       "    --sklearn-color-border-box: var(--sg-text-color, var(--theme-code-foreground, var(--jp-content-font-color1, white)));\n",
       "    --sklearn-color-icon: #878787;\n",
       "  }\n",
       "}\n",
       "\n",
       "#sk-container-id-1 {\n",
       "  color: var(--sklearn-color-text);\n",
       "}\n",
       "\n",
       "#sk-container-id-1 pre {\n",
       "  padding: 0;\n",
       "}\n",
       "\n",
       "#sk-container-id-1 input.sk-hidden--visually {\n",
       "  border: 0;\n",
       "  clip: rect(1px 1px 1px 1px);\n",
       "  clip: rect(1px, 1px, 1px, 1px);\n",
       "  height: 1px;\n",
       "  margin: -1px;\n",
       "  overflow: hidden;\n",
       "  padding: 0;\n",
       "  position: absolute;\n",
       "  width: 1px;\n",
       "}\n",
       "\n",
       "#sk-container-id-1 div.sk-dashed-wrapped {\n",
       "  border: 1px dashed var(--sklearn-color-line);\n",
       "  margin: 0 0.4em 0.5em 0.4em;\n",
       "  box-sizing: border-box;\n",
       "  padding-bottom: 0.4em;\n",
       "  background-color: var(--sklearn-color-background);\n",
       "}\n",
       "\n",
       "#sk-container-id-1 div.sk-container {\n",
       "  /* jupyter's `normalize.less` sets `[hidden] { display: none; }`\n",
       "     but bootstrap.min.css set `[hidden] { display: none !important; }`\n",
       "     so we also need the `!important` here to be able to override the\n",
       "     default hidden behavior on the sphinx rendered scikit-learn.org.\n",
       "     See: https://github.com/scikit-learn/scikit-learn/issues/21755 */\n",
       "  display: inline-block !important;\n",
       "  position: relative;\n",
       "}\n",
       "\n",
       "#sk-container-id-1 div.sk-text-repr-fallback {\n",
       "  display: none;\n",
       "}\n",
       "\n",
       "div.sk-parallel-item,\n",
       "div.sk-serial,\n",
       "div.sk-item {\n",
       "  /* draw centered vertical line to link estimators */\n",
       "  background-image: linear-gradient(var(--sklearn-color-text-on-default-background), var(--sklearn-color-text-on-default-background));\n",
       "  background-size: 2px 100%;\n",
       "  background-repeat: no-repeat;\n",
       "  background-position: center center;\n",
       "}\n",
       "\n",
       "/* Parallel-specific style estimator block */\n",
       "\n",
       "#sk-container-id-1 div.sk-parallel-item::after {\n",
       "  content: \"\";\n",
       "  width: 100%;\n",
       "  border-bottom: 2px solid var(--sklearn-color-text-on-default-background);\n",
       "  flex-grow: 1;\n",
       "}\n",
       "\n",
       "#sk-container-id-1 div.sk-parallel {\n",
       "  display: flex;\n",
       "  align-items: stretch;\n",
       "  justify-content: center;\n",
       "  background-color: var(--sklearn-color-background);\n",
       "  position: relative;\n",
       "}\n",
       "\n",
       "#sk-container-id-1 div.sk-parallel-item {\n",
       "  display: flex;\n",
       "  flex-direction: column;\n",
       "}\n",
       "\n",
       "#sk-container-id-1 div.sk-parallel-item:first-child::after {\n",
       "  align-self: flex-end;\n",
       "  width: 50%;\n",
       "}\n",
       "\n",
       "#sk-container-id-1 div.sk-parallel-item:last-child::after {\n",
       "  align-self: flex-start;\n",
       "  width: 50%;\n",
       "}\n",
       "\n",
       "#sk-container-id-1 div.sk-parallel-item:only-child::after {\n",
       "  width: 0;\n",
       "}\n",
       "\n",
       "/* Serial-specific style estimator block */\n",
       "\n",
       "#sk-container-id-1 div.sk-serial {\n",
       "  display: flex;\n",
       "  flex-direction: column;\n",
       "  align-items: center;\n",
       "  background-color: var(--sklearn-color-background);\n",
       "  padding-right: 1em;\n",
       "  padding-left: 1em;\n",
       "}\n",
       "\n",
       "\n",
       "/* Toggleable style: style used for estimator/Pipeline/ColumnTransformer box that is\n",
       "clickable and can be expanded/collapsed.\n",
       "- Pipeline and ColumnTransformer use this feature and define the default style\n",
       "- Estimators will overwrite some part of the style using the `sk-estimator` class\n",
       "*/\n",
       "\n",
       "/* Pipeline and ColumnTransformer style (default) */\n",
       "\n",
       "#sk-container-id-1 div.sk-toggleable {\n",
       "  /* Default theme specific background. It is overwritten whether we have a\n",
       "  specific estimator or a Pipeline/ColumnTransformer */\n",
       "  background-color: var(--sklearn-color-background);\n",
       "}\n",
       "\n",
       "/* Toggleable label */\n",
       "#sk-container-id-1 label.sk-toggleable__label {\n",
       "  cursor: pointer;\n",
       "  display: flex;\n",
       "  width: 100%;\n",
       "  margin-bottom: 0;\n",
       "  padding: 0.5em;\n",
       "  box-sizing: border-box;\n",
       "  text-align: center;\n",
       "  align-items: start;\n",
       "  justify-content: space-between;\n",
       "  gap: 0.5em;\n",
       "}\n",
       "\n",
       "#sk-container-id-1 label.sk-toggleable__label .caption {\n",
       "  font-size: 0.6rem;\n",
       "  font-weight: lighter;\n",
       "  color: var(--sklearn-color-text-muted);\n",
       "}\n",
       "\n",
       "#sk-container-id-1 label.sk-toggleable__label-arrow:before {\n",
       "  /* Arrow on the left of the label */\n",
       "  content: \"▸\";\n",
       "  float: left;\n",
       "  margin-right: 0.25em;\n",
       "  color: var(--sklearn-color-icon);\n",
       "}\n",
       "\n",
       "#sk-container-id-1 label.sk-toggleable__label-arrow:hover:before {\n",
       "  color: var(--sklearn-color-text);\n",
       "}\n",
       "\n",
       "/* Toggleable content - dropdown */\n",
       "\n",
       "#sk-container-id-1 div.sk-toggleable__content {\n",
       "  max-height: 0;\n",
       "  max-width: 0;\n",
       "  overflow: hidden;\n",
       "  text-align: left;\n",
       "  /* unfitted */\n",
       "  background-color: var(--sklearn-color-unfitted-level-0);\n",
       "}\n",
       "\n",
       "#sk-container-id-1 div.sk-toggleable__content.fitted {\n",
       "  /* fitted */\n",
       "  background-color: var(--sklearn-color-fitted-level-0);\n",
       "}\n",
       "\n",
       "#sk-container-id-1 div.sk-toggleable__content pre {\n",
       "  margin: 0.2em;\n",
       "  border-radius: 0.25em;\n",
       "  color: var(--sklearn-color-text);\n",
       "  /* unfitted */\n",
       "  background-color: var(--sklearn-color-unfitted-level-0);\n",
       "}\n",
       "\n",
       "#sk-container-id-1 div.sk-toggleable__content.fitted pre {\n",
       "  /* unfitted */\n",
       "  background-color: var(--sklearn-color-fitted-level-0);\n",
       "}\n",
       "\n",
       "#sk-container-id-1 input.sk-toggleable__control:checked~div.sk-toggleable__content {\n",
       "  /* Expand drop-down */\n",
       "  max-height: 200px;\n",
       "  max-width: 100%;\n",
       "  overflow: auto;\n",
       "}\n",
       "\n",
       "#sk-container-id-1 input.sk-toggleable__control:checked~label.sk-toggleable__label-arrow:before {\n",
       "  content: \"▾\";\n",
       "}\n",
       "\n",
       "/* Pipeline/ColumnTransformer-specific style */\n",
       "\n",
       "#sk-container-id-1 div.sk-label input.sk-toggleable__control:checked~label.sk-toggleable__label {\n",
       "  color: var(--sklearn-color-text);\n",
       "  background-color: var(--sklearn-color-unfitted-level-2);\n",
       "}\n",
       "\n",
       "#sk-container-id-1 div.sk-label.fitted input.sk-toggleable__control:checked~label.sk-toggleable__label {\n",
       "  background-color: var(--sklearn-color-fitted-level-2);\n",
       "}\n",
       "\n",
       "/* Estimator-specific style */\n",
       "\n",
       "/* Colorize estimator box */\n",
       "#sk-container-id-1 div.sk-estimator input.sk-toggleable__control:checked~label.sk-toggleable__label {\n",
       "  /* unfitted */\n",
       "  background-color: var(--sklearn-color-unfitted-level-2);\n",
       "}\n",
       "\n",
       "#sk-container-id-1 div.sk-estimator.fitted input.sk-toggleable__control:checked~label.sk-toggleable__label {\n",
       "  /* fitted */\n",
       "  background-color: var(--sklearn-color-fitted-level-2);\n",
       "}\n",
       "\n",
       "#sk-container-id-1 div.sk-label label.sk-toggleable__label,\n",
       "#sk-container-id-1 div.sk-label label {\n",
       "  /* The background is the default theme color */\n",
       "  color: var(--sklearn-color-text-on-default-background);\n",
       "}\n",
       "\n",
       "/* On hover, darken the color of the background */\n",
       "#sk-container-id-1 div.sk-label:hover label.sk-toggleable__label {\n",
       "  color: var(--sklearn-color-text);\n",
       "  background-color: var(--sklearn-color-unfitted-level-2);\n",
       "}\n",
       "\n",
       "/* Label box, darken color on hover, fitted */\n",
       "#sk-container-id-1 div.sk-label.fitted:hover label.sk-toggleable__label.fitted {\n",
       "  color: var(--sklearn-color-text);\n",
       "  background-color: var(--sklearn-color-fitted-level-2);\n",
       "}\n",
       "\n",
       "/* Estimator label */\n",
       "\n",
       "#sk-container-id-1 div.sk-label label {\n",
       "  font-family: monospace;\n",
       "  font-weight: bold;\n",
       "  display: inline-block;\n",
       "  line-height: 1.2em;\n",
       "}\n",
       "\n",
       "#sk-container-id-1 div.sk-label-container {\n",
       "  text-align: center;\n",
       "}\n",
       "\n",
       "/* Estimator-specific */\n",
       "#sk-container-id-1 div.sk-estimator {\n",
       "  font-family: monospace;\n",
       "  border: 1px dotted var(--sklearn-color-border-box);\n",
       "  border-radius: 0.25em;\n",
       "  box-sizing: border-box;\n",
       "  margin-bottom: 0.5em;\n",
       "  /* unfitted */\n",
       "  background-color: var(--sklearn-color-unfitted-level-0);\n",
       "}\n",
       "\n",
       "#sk-container-id-1 div.sk-estimator.fitted {\n",
       "  /* fitted */\n",
       "  background-color: var(--sklearn-color-fitted-level-0);\n",
       "}\n",
       "\n",
       "/* on hover */\n",
       "#sk-container-id-1 div.sk-estimator:hover {\n",
       "  /* unfitted */\n",
       "  background-color: var(--sklearn-color-unfitted-level-2);\n",
       "}\n",
       "\n",
       "#sk-container-id-1 div.sk-estimator.fitted:hover {\n",
       "  /* fitted */\n",
       "  background-color: var(--sklearn-color-fitted-level-2);\n",
       "}\n",
       "\n",
       "/* Specification for estimator info (e.g. \"i\" and \"?\") */\n",
       "\n",
       "/* Common style for \"i\" and \"?\" */\n",
       "\n",
       ".sk-estimator-doc-link,\n",
       "a:link.sk-estimator-doc-link,\n",
       "a:visited.sk-estimator-doc-link {\n",
       "  float: right;\n",
       "  font-size: smaller;\n",
       "  line-height: 1em;\n",
       "  font-family: monospace;\n",
       "  background-color: var(--sklearn-color-background);\n",
       "  border-radius: 1em;\n",
       "  height: 1em;\n",
       "  width: 1em;\n",
       "  text-decoration: none !important;\n",
       "  margin-left: 0.5em;\n",
       "  text-align: center;\n",
       "  /* unfitted */\n",
       "  border: var(--sklearn-color-unfitted-level-1) 1pt solid;\n",
       "  color: var(--sklearn-color-unfitted-level-1);\n",
       "}\n",
       "\n",
       ".sk-estimator-doc-link.fitted,\n",
       "a:link.sk-estimator-doc-link.fitted,\n",
       "a:visited.sk-estimator-doc-link.fitted {\n",
       "  /* fitted */\n",
       "  border: var(--sklearn-color-fitted-level-1) 1pt solid;\n",
       "  color: var(--sklearn-color-fitted-level-1);\n",
       "}\n",
       "\n",
       "/* On hover */\n",
       "div.sk-estimator:hover .sk-estimator-doc-link:hover,\n",
       ".sk-estimator-doc-link:hover,\n",
       "div.sk-label-container:hover .sk-estimator-doc-link:hover,\n",
       ".sk-estimator-doc-link:hover {\n",
       "  /* unfitted */\n",
       "  background-color: var(--sklearn-color-unfitted-level-3);\n",
       "  color: var(--sklearn-color-background);\n",
       "  text-decoration: none;\n",
       "}\n",
       "\n",
       "div.sk-estimator.fitted:hover .sk-estimator-doc-link.fitted:hover,\n",
       ".sk-estimator-doc-link.fitted:hover,\n",
       "div.sk-label-container:hover .sk-estimator-doc-link.fitted:hover,\n",
       ".sk-estimator-doc-link.fitted:hover {\n",
       "  /* fitted */\n",
       "  background-color: var(--sklearn-color-fitted-level-3);\n",
       "  color: var(--sklearn-color-background);\n",
       "  text-decoration: none;\n",
       "}\n",
       "\n",
       "/* Span, style for the box shown on hovering the info icon */\n",
       ".sk-estimator-doc-link span {\n",
       "  display: none;\n",
       "  z-index: 9999;\n",
       "  position: relative;\n",
       "  font-weight: normal;\n",
       "  right: .2ex;\n",
       "  padding: .5ex;\n",
       "  margin: .5ex;\n",
       "  width: min-content;\n",
       "  min-width: 20ex;\n",
       "  max-width: 50ex;\n",
       "  color: var(--sklearn-color-text);\n",
       "  box-shadow: 2pt 2pt 4pt #999;\n",
       "  /* unfitted */\n",
       "  background: var(--sklearn-color-unfitted-level-0);\n",
       "  border: .5pt solid var(--sklearn-color-unfitted-level-3);\n",
       "}\n",
       "\n",
       ".sk-estimator-doc-link.fitted span {\n",
       "  /* fitted */\n",
       "  background: var(--sklearn-color-fitted-level-0);\n",
       "  border: var(--sklearn-color-fitted-level-3);\n",
       "}\n",
       "\n",
       ".sk-estimator-doc-link:hover span {\n",
       "  display: block;\n",
       "}\n",
       "\n",
       "/* \"?\"-specific style due to the `<a>` HTML tag */\n",
       "\n",
       "#sk-container-id-1 a.estimator_doc_link {\n",
       "  float: right;\n",
       "  font-size: 1rem;\n",
       "  line-height: 1em;\n",
       "  font-family: monospace;\n",
       "  background-color: var(--sklearn-color-background);\n",
       "  border-radius: 1rem;\n",
       "  height: 1rem;\n",
       "  width: 1rem;\n",
       "  text-decoration: none;\n",
       "  /* unfitted */\n",
       "  color: var(--sklearn-color-unfitted-level-1);\n",
       "  border: var(--sklearn-color-unfitted-level-1) 1pt solid;\n",
       "}\n",
       "\n",
       "#sk-container-id-1 a.estimator_doc_link.fitted {\n",
       "  /* fitted */\n",
       "  border: var(--sklearn-color-fitted-level-1) 1pt solid;\n",
       "  color: var(--sklearn-color-fitted-level-1);\n",
       "}\n",
       "\n",
       "/* On hover */\n",
       "#sk-container-id-1 a.estimator_doc_link:hover {\n",
       "  /* unfitted */\n",
       "  background-color: var(--sklearn-color-unfitted-level-3);\n",
       "  color: var(--sklearn-color-background);\n",
       "  text-decoration: none;\n",
       "}\n",
       "\n",
       "#sk-container-id-1 a.estimator_doc_link.fitted:hover {\n",
       "  /* fitted */\n",
       "  background-color: var(--sklearn-color-fitted-level-3);\n",
       "}\n",
       "</style><div id=\"sk-container-id-1\" class=\"sk-top-container\"><div class=\"sk-text-repr-fallback\"><pre>LogisticRegression()</pre><b>In a Jupyter environment, please rerun this cell to show the HTML representation or trust the notebook. <br />On GitHub, the HTML representation is unable to render, please try loading this page with nbviewer.org.</b></div><div class=\"sk-container\" hidden><div class=\"sk-item\"><div class=\"sk-estimator fitted sk-toggleable\"><input class=\"sk-toggleable__control sk-hidden--visually\" id=\"sk-estimator-id-1\" type=\"checkbox\" checked><label for=\"sk-estimator-id-1\" class=\"sk-toggleable__label fitted sk-toggleable__label-arrow\"><div><div>LogisticRegression</div></div><div><a class=\"sk-estimator-doc-link fitted\" rel=\"noreferrer\" target=\"_blank\" href=\"https://scikit-learn.org/1.6/modules/generated/sklearn.linear_model.LogisticRegression.html\">?<span>Documentation for LogisticRegression</span></a><span class=\"sk-estimator-doc-link fitted\">i<span>Fitted</span></span></div></label><div class=\"sk-toggleable__content fitted\"><pre>LogisticRegression()</pre></div> </div></div></div></div>"
      ],
      "text/plain": [
       "LogisticRegression()"
      ]
     },
     "execution_count": 42,
     "metadata": {},
     "output_type": "execute_result"
    }
   ],
   "source": [
    "from sklearn.linear_model import LogisticRegression\n",
    "\n",
    "model = LogisticRegression()\n",
    "model.fit(X_train, y_train)"
   ]
  },
  {
   "cell_type": "code",
   "execution_count": 43,
   "id": "8a0c24ce-f91d-44a0-8342-52ca4c21c781",
   "metadata": {},
   "outputs": [
    {
     "name": "stdout",
     "output_type": "stream",
     "text": [
      "[0.91568837 0.9064482  0.90407359 0.89936776 0.90174326]\n"
     ]
    },
    {
     "data": {
      "text/plain": [
       "0.9054642355330793"
      ]
     },
     "execution_count": 43,
     "metadata": {},
     "output_type": "execute_result"
    }
   ],
   "source": [
    "scores = cross_val_score(model, X_test, y_test, cv=5, scoring='f1')\n",
    "\n",
    "print(scores)\n",
    "scores.mean()"
   ]
  },
  {
   "cell_type": "markdown",
   "id": "3f1a46b0-644a-486f-931d-bffea75a93bf",
   "metadata": {},
   "source": [
    "El modelo presenta una precisión de 0.96 para **la clase 0 (noticia no falsa)**, lo que indica que cuando predice que una noticia es real, acierta el 96% de las veces. Sin embargo, su recall es de 0.79, lo que significa que no detecta correctamente el 21% de las noticias reales, clasificándolas erróneamente como falsas. Esto sugiere que el modelo es más conservador al asignar la etiqueta de noticia real, lo que genera una cantidad considerable de falsos negativos. Por otro lado, para **la clase 1 (noticia falsa)**, la precisión es de 0.87, lo que implica que el 87% de las noticias identificadas como falsas realmente lo son, pero su recall es de 0.97, lo que significa que detecta casi todas las noticias falsas con muy pocos falsos negativos. Esto indica que el modelo está priorizando la detección de noticias falsas a costa de sacrificar algunos casos de noticias reales.\n",
    "\n",
    "El F1-score de 0.86 para la clase 0 y 0.92 para la clase 1 muestra que el rendimiento global es más equilibrado para la detección de noticias falsas, mientras que la detección de noticias reales aún tiene margen de mejora en términos de recall."
   ]
  },
  {
   "cell_type": "code",
   "execution_count": 44,
   "id": "69fe3f85-0b99-4b0e-b70c-49f22c55fb51",
   "metadata": {},
   "outputs": [
    {
     "name": "stdout",
     "output_type": "stream",
     "text": [
      "Classification Report:\n",
      "               precision    recall  f1-score   support\n",
      "\n",
      "           0       0.96      0.79      0.86      6128\n",
      "           1       0.87      0.97      0.92      8764\n",
      "\n",
      "    accuracy                           0.90     14892\n",
      "   macro avg       0.91      0.88      0.89     14892\n",
      "weighted avg       0.90      0.90      0.90     14892\n",
      "\n"
     ]
    }
   ],
   "source": [
    "y_pred = model.predict(X_test)\n",
    "\n",
    "print(\"Classification Report:\\n\", classification_report(y_test, y_pred))"
   ]
  },
  {
   "cell_type": "markdown",
   "id": "6a0aa8e2-4b94-466a-a312-5022ad6502f2",
   "metadata": {},
   "source": [
    "Lo anterior se puede visualizar mejor en el siguiente diagrama que presenta la matriz de confusión."
   ]
  },
  {
   "cell_type": "code",
   "execution_count": 45,
   "id": "c43f49c0-f3e2-4278-a45b-69ede28bb150",
   "metadata": {},
   "outputs": [
    {
     "data": {
      "image/png": "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",
      "text/plain": [
       "<Figure size 640x480 with 2 Axes>"
      ]
     },
     "metadata": {},
     "output_type": "display_data"
    }
   ],
   "source": [
    "disp = ConfusionMatrixDisplay(\n",
    "    confusion_matrix(y_test, y_pred),\n",
    "    display_labels=[0, 1]\n",
    ")\n",
    "\n",
    "disp.plot(cmap=plt.cm.Blues)\n",
    "plt.title('Confusion matrix')\n",
    "plt.show()"
   ]
  },
  {
   "cell_type": "markdown",
   "id": "8df5569b-821a-43ba-bd8e-b906b4af216b",
   "metadata": {
    "jp-MarkdownHeadingCollapsed": true
   },
   "source": [
    "### 5.1.1. Obtener la importancia de las características\n",
    "TODO: REVISAR."
   ]
  },
  {
   "cell_type": "code",
   "execution_count": 46,
   "id": "d1216cde-c857-431d-841d-cb373d59c015",
   "metadata": {},
   "outputs": [
    {
     "data": {
      "text/plain": [
       "array(['0000', '00083', '001', ..., 'zulueta', 'zurekin', 'zurich'],\n",
       "      dtype=object)"
      ]
     },
     "execution_count": 46,
     "metadata": {},
     "output_type": "execute_result"
    }
   ],
   "source": [
    "importance = np.abs(model.coef_)[0]\n",
    "features = tf_idf.get_feature_names_out()\n",
    "\n",
    "features"
   ]
  },
  {
   "cell_type": "code",
   "execution_count": 47,
   "id": "31db92b5-11d8-465f-a130-22a759b29203",
   "metadata": {},
   "outputs": [
    {
     "name": "stdout",
     "output_type": "stream",
     "text": [
      "equo: 17.08339304462861\n",
      "eajpnv: 14.115647255404562\n",
      "bng: 13.905961621704726\n",
      "per: 12.220731134676647\n",
      "sanchez: 11.508210061005302\n",
      "podemos: 10.249570414965048\n",
      "podemo: 10.199628427817204\n",
      "canaria: 9.559409969045499\n",
      "erc: 9.1900709514612\n",
      "casado: 7.953235567154132\n"
     ]
    }
   ],
   "source": [
    "sorted_indices = np.argsort(importance)[::-1]\n",
    "sorted_features = [features[i] for i in sorted_indices]\n",
    "sorted_importance = importance[sorted_indices]\n",
    "\n",
    "# Mostrar las características más importantes\n",
    "for feat, imp in zip(sorted_features[:10], sorted_importance[:10]):\n",
    "    print(f\"{feat}: {imp}\")"
   ]
  },
  {
   "cell_type": "markdown",
   "id": "0752a0eb-05b6-45e6-8a90-b45dfc64467c",
   "metadata": {},
   "source": [
    "### 5.1.2. Construcción del modelo con búsqueda de hiperparámetros"
   ]
  },
  {
   "cell_type": "markdown",
   "id": "6a201d3b-823f-44f0-8be3-f70011897799",
   "metadata": {},
   "source": [
    "Ahora, se hara rapidamente un `Hyperparameter tunning` para intentar mejorar el modelo."
   ]
  },
  {
   "cell_type": "code",
   "execution_count": 48,
   "id": "21bdbb42-df12-470e-bba1-a0b35b1ca558",
   "metadata": {},
   "outputs": [
    {
     "data": {
      "text/plain": [
       "{'class_weight': [{0: 1.2, 1: 0.8}], 'penalty': ['l2'], 'solver': ['sag']}"
      ]
     },
     "execution_count": 48,
     "metadata": {},
     "output_type": "execute_result"
    }
   ],
   "source": [
    "folds = KFold(n_splits=5, shuffle=True, random_state=0)\n",
    "\n",
    "param_grid = {\n",
    "    'class_weight': [{0: 1.2, 1: 0.8}],\n",
    "    'penalty': ['l2'],\n",
    "    'solver': ['sag']\n",
    "}\n",
    "\n",
    "param_grid"
   ]
  },
  {
   "cell_type": "code",
   "execution_count": 49,
   "id": "3adb441d-a347-412d-a351-6d0774c0da7e",
   "metadata": {},
   "outputs": [
    {
     "data": {
      "text/html": [
       "<style>#sk-container-id-2 {\n",
       "  /* Definition of color scheme common for light and dark mode */\n",
       "  --sklearn-color-text: #000;\n",
       "  --sklearn-color-text-muted: #666;\n",
       "  --sklearn-color-line: gray;\n",
       "  /* Definition of color scheme for unfitted estimators */\n",
       "  --sklearn-color-unfitted-level-0: #fff5e6;\n",
       "  --sklearn-color-unfitted-level-1: #f6e4d2;\n",
       "  --sklearn-color-unfitted-level-2: #ffe0b3;\n",
       "  --sklearn-color-unfitted-level-3: chocolate;\n",
       "  /* Definition of color scheme for fitted estimators */\n",
       "  --sklearn-color-fitted-level-0: #f0f8ff;\n",
       "  --sklearn-color-fitted-level-1: #d4ebff;\n",
       "  --sklearn-color-fitted-level-2: #b3dbfd;\n",
       "  --sklearn-color-fitted-level-3: cornflowerblue;\n",
       "\n",
       "  /* Specific color for light theme */\n",
       "  --sklearn-color-text-on-default-background: var(--sg-text-color, var(--theme-code-foreground, var(--jp-content-font-color1, black)));\n",
       "  --sklearn-color-background: var(--sg-background-color, var(--theme-background, var(--jp-layout-color0, white)));\n",
       "  --sklearn-color-border-box: var(--sg-text-color, var(--theme-code-foreground, var(--jp-content-font-color1, black)));\n",
       "  --sklearn-color-icon: #696969;\n",
       "\n",
       "  @media (prefers-color-scheme: dark) {\n",
       "    /* Redefinition of color scheme for dark theme */\n",
       "    --sklearn-color-text-on-default-background: var(--sg-text-color, var(--theme-code-foreground, var(--jp-content-font-color1, white)));\n",
       "    --sklearn-color-background: var(--sg-background-color, var(--theme-background, var(--jp-layout-color0, #111)));\n",
       "    --sklearn-color-border-box: var(--sg-text-color, var(--theme-code-foreground, var(--jp-content-font-color1, white)));\n",
       "    --sklearn-color-icon: #878787;\n",
       "  }\n",
       "}\n",
       "\n",
       "#sk-container-id-2 {\n",
       "  color: var(--sklearn-color-text);\n",
       "}\n",
       "\n",
       "#sk-container-id-2 pre {\n",
       "  padding: 0;\n",
       "}\n",
       "\n",
       "#sk-container-id-2 input.sk-hidden--visually {\n",
       "  border: 0;\n",
       "  clip: rect(1px 1px 1px 1px);\n",
       "  clip: rect(1px, 1px, 1px, 1px);\n",
       "  height: 1px;\n",
       "  margin: -1px;\n",
       "  overflow: hidden;\n",
       "  padding: 0;\n",
       "  position: absolute;\n",
       "  width: 1px;\n",
       "}\n",
       "\n",
       "#sk-container-id-2 div.sk-dashed-wrapped {\n",
       "  border: 1px dashed var(--sklearn-color-line);\n",
       "  margin: 0 0.4em 0.5em 0.4em;\n",
       "  box-sizing: border-box;\n",
       "  padding-bottom: 0.4em;\n",
       "  background-color: var(--sklearn-color-background);\n",
       "}\n",
       "\n",
       "#sk-container-id-2 div.sk-container {\n",
       "  /* jupyter's `normalize.less` sets `[hidden] { display: none; }`\n",
       "     but bootstrap.min.css set `[hidden] { display: none !important; }`\n",
       "     so we also need the `!important` here to be able to override the\n",
       "     default hidden behavior on the sphinx rendered scikit-learn.org.\n",
       "     See: https://github.com/scikit-learn/scikit-learn/issues/21755 */\n",
       "  display: inline-block !important;\n",
       "  position: relative;\n",
       "}\n",
       "\n",
       "#sk-container-id-2 div.sk-text-repr-fallback {\n",
       "  display: none;\n",
       "}\n",
       "\n",
       "div.sk-parallel-item,\n",
       "div.sk-serial,\n",
       "div.sk-item {\n",
       "  /* draw centered vertical line to link estimators */\n",
       "  background-image: linear-gradient(var(--sklearn-color-text-on-default-background), var(--sklearn-color-text-on-default-background));\n",
       "  background-size: 2px 100%;\n",
       "  background-repeat: no-repeat;\n",
       "  background-position: center center;\n",
       "}\n",
       "\n",
       "/* Parallel-specific style estimator block */\n",
       "\n",
       "#sk-container-id-2 div.sk-parallel-item::after {\n",
       "  content: \"\";\n",
       "  width: 100%;\n",
       "  border-bottom: 2px solid var(--sklearn-color-text-on-default-background);\n",
       "  flex-grow: 1;\n",
       "}\n",
       "\n",
       "#sk-container-id-2 div.sk-parallel {\n",
       "  display: flex;\n",
       "  align-items: stretch;\n",
       "  justify-content: center;\n",
       "  background-color: var(--sklearn-color-background);\n",
       "  position: relative;\n",
       "}\n",
       "\n",
       "#sk-container-id-2 div.sk-parallel-item {\n",
       "  display: flex;\n",
       "  flex-direction: column;\n",
       "}\n",
       "\n",
       "#sk-container-id-2 div.sk-parallel-item:first-child::after {\n",
       "  align-self: flex-end;\n",
       "  width: 50%;\n",
       "}\n",
       "\n",
       "#sk-container-id-2 div.sk-parallel-item:last-child::after {\n",
       "  align-self: flex-start;\n",
       "  width: 50%;\n",
       "}\n",
       "\n",
       "#sk-container-id-2 div.sk-parallel-item:only-child::after {\n",
       "  width: 0;\n",
       "}\n",
       "\n",
       "/* Serial-specific style estimator block */\n",
       "\n",
       "#sk-container-id-2 div.sk-serial {\n",
       "  display: flex;\n",
       "  flex-direction: column;\n",
       "  align-items: center;\n",
       "  background-color: var(--sklearn-color-background);\n",
       "  padding-right: 1em;\n",
       "  padding-left: 1em;\n",
       "}\n",
       "\n",
       "\n",
       "/* Toggleable style: style used for estimator/Pipeline/ColumnTransformer box that is\n",
       "clickable and can be expanded/collapsed.\n",
       "- Pipeline and ColumnTransformer use this feature and define the default style\n",
       "- Estimators will overwrite some part of the style using the `sk-estimator` class\n",
       "*/\n",
       "\n",
       "/* Pipeline and ColumnTransformer style (default) */\n",
       "\n",
       "#sk-container-id-2 div.sk-toggleable {\n",
       "  /* Default theme specific background. It is overwritten whether we have a\n",
       "  specific estimator or a Pipeline/ColumnTransformer */\n",
       "  background-color: var(--sklearn-color-background);\n",
       "}\n",
       "\n",
       "/* Toggleable label */\n",
       "#sk-container-id-2 label.sk-toggleable__label {\n",
       "  cursor: pointer;\n",
       "  display: flex;\n",
       "  width: 100%;\n",
       "  margin-bottom: 0;\n",
       "  padding: 0.5em;\n",
       "  box-sizing: border-box;\n",
       "  text-align: center;\n",
       "  align-items: start;\n",
       "  justify-content: space-between;\n",
       "  gap: 0.5em;\n",
       "}\n",
       "\n",
       "#sk-container-id-2 label.sk-toggleable__label .caption {\n",
       "  font-size: 0.6rem;\n",
       "  font-weight: lighter;\n",
       "  color: var(--sklearn-color-text-muted);\n",
       "}\n",
       "\n",
       "#sk-container-id-2 label.sk-toggleable__label-arrow:before {\n",
       "  /* Arrow on the left of the label */\n",
       "  content: \"▸\";\n",
       "  float: left;\n",
       "  margin-right: 0.25em;\n",
       "  color: var(--sklearn-color-icon);\n",
       "}\n",
       "\n",
       "#sk-container-id-2 label.sk-toggleable__label-arrow:hover:before {\n",
       "  color: var(--sklearn-color-text);\n",
       "}\n",
       "\n",
       "/* Toggleable content - dropdown */\n",
       "\n",
       "#sk-container-id-2 div.sk-toggleable__content {\n",
       "  max-height: 0;\n",
       "  max-width: 0;\n",
       "  overflow: hidden;\n",
       "  text-align: left;\n",
       "  /* unfitted */\n",
       "  background-color: var(--sklearn-color-unfitted-level-0);\n",
       "}\n",
       "\n",
       "#sk-container-id-2 div.sk-toggleable__content.fitted {\n",
       "  /* fitted */\n",
       "  background-color: var(--sklearn-color-fitted-level-0);\n",
       "}\n",
       "\n",
       "#sk-container-id-2 div.sk-toggleable__content pre {\n",
       "  margin: 0.2em;\n",
       "  border-radius: 0.25em;\n",
       "  color: var(--sklearn-color-text);\n",
       "  /* unfitted */\n",
       "  background-color: var(--sklearn-color-unfitted-level-0);\n",
       "}\n",
       "\n",
       "#sk-container-id-2 div.sk-toggleable__content.fitted pre {\n",
       "  /* unfitted */\n",
       "  background-color: var(--sklearn-color-fitted-level-0);\n",
       "}\n",
       "\n",
       "#sk-container-id-2 input.sk-toggleable__control:checked~div.sk-toggleable__content {\n",
       "  /* Expand drop-down */\n",
       "  max-height: 200px;\n",
       "  max-width: 100%;\n",
       "  overflow: auto;\n",
       "}\n",
       "\n",
       "#sk-container-id-2 input.sk-toggleable__control:checked~label.sk-toggleable__label-arrow:before {\n",
       "  content: \"▾\";\n",
       "}\n",
       "\n",
       "/* Pipeline/ColumnTransformer-specific style */\n",
       "\n",
       "#sk-container-id-2 div.sk-label input.sk-toggleable__control:checked~label.sk-toggleable__label {\n",
       "  color: var(--sklearn-color-text);\n",
       "  background-color: var(--sklearn-color-unfitted-level-2);\n",
       "}\n",
       "\n",
       "#sk-container-id-2 div.sk-label.fitted input.sk-toggleable__control:checked~label.sk-toggleable__label {\n",
       "  background-color: var(--sklearn-color-fitted-level-2);\n",
       "}\n",
       "\n",
       "/* Estimator-specific style */\n",
       "\n",
       "/* Colorize estimator box */\n",
       "#sk-container-id-2 div.sk-estimator input.sk-toggleable__control:checked~label.sk-toggleable__label {\n",
       "  /* unfitted */\n",
       "  background-color: var(--sklearn-color-unfitted-level-2);\n",
       "}\n",
       "\n",
       "#sk-container-id-2 div.sk-estimator.fitted input.sk-toggleable__control:checked~label.sk-toggleable__label {\n",
       "  /* fitted */\n",
       "  background-color: var(--sklearn-color-fitted-level-2);\n",
       "}\n",
       "\n",
       "#sk-container-id-2 div.sk-label label.sk-toggleable__label,\n",
       "#sk-container-id-2 div.sk-label label {\n",
       "  /* The background is the default theme color */\n",
       "  color: var(--sklearn-color-text-on-default-background);\n",
       "}\n",
       "\n",
       "/* On hover, darken the color of the background */\n",
       "#sk-container-id-2 div.sk-label:hover label.sk-toggleable__label {\n",
       "  color: var(--sklearn-color-text);\n",
       "  background-color: var(--sklearn-color-unfitted-level-2);\n",
       "}\n",
       "\n",
       "/* Label box, darken color on hover, fitted */\n",
       "#sk-container-id-2 div.sk-label.fitted:hover label.sk-toggleable__label.fitted {\n",
       "  color: var(--sklearn-color-text);\n",
       "  background-color: var(--sklearn-color-fitted-level-2);\n",
       "}\n",
       "\n",
       "/* Estimator label */\n",
       "\n",
       "#sk-container-id-2 div.sk-label label {\n",
       "  font-family: monospace;\n",
       "  font-weight: bold;\n",
       "  display: inline-block;\n",
       "  line-height: 1.2em;\n",
       "}\n",
       "\n",
       "#sk-container-id-2 div.sk-label-container {\n",
       "  text-align: center;\n",
       "}\n",
       "\n",
       "/* Estimator-specific */\n",
       "#sk-container-id-2 div.sk-estimator {\n",
       "  font-family: monospace;\n",
       "  border: 1px dotted var(--sklearn-color-border-box);\n",
       "  border-radius: 0.25em;\n",
       "  box-sizing: border-box;\n",
       "  margin-bottom: 0.5em;\n",
       "  /* unfitted */\n",
       "  background-color: var(--sklearn-color-unfitted-level-0);\n",
       "}\n",
       "\n",
       "#sk-container-id-2 div.sk-estimator.fitted {\n",
       "  /* fitted */\n",
       "  background-color: var(--sklearn-color-fitted-level-0);\n",
       "}\n",
       "\n",
       "/* on hover */\n",
       "#sk-container-id-2 div.sk-estimator:hover {\n",
       "  /* unfitted */\n",
       "  background-color: var(--sklearn-color-unfitted-level-2);\n",
       "}\n",
       "\n",
       "#sk-container-id-2 div.sk-estimator.fitted:hover {\n",
       "  /* fitted */\n",
       "  background-color: var(--sklearn-color-fitted-level-2);\n",
       "}\n",
       "\n",
       "/* Specification for estimator info (e.g. \"i\" and \"?\") */\n",
       "\n",
       "/* Common style for \"i\" and \"?\" */\n",
       "\n",
       ".sk-estimator-doc-link,\n",
       "a:link.sk-estimator-doc-link,\n",
       "a:visited.sk-estimator-doc-link {\n",
       "  float: right;\n",
       "  font-size: smaller;\n",
       "  line-height: 1em;\n",
       "  font-family: monospace;\n",
       "  background-color: var(--sklearn-color-background);\n",
       "  border-radius: 1em;\n",
       "  height: 1em;\n",
       "  width: 1em;\n",
       "  text-decoration: none !important;\n",
       "  margin-left: 0.5em;\n",
       "  text-align: center;\n",
       "  /* unfitted */\n",
       "  border: var(--sklearn-color-unfitted-level-1) 1pt solid;\n",
       "  color: var(--sklearn-color-unfitted-level-1);\n",
       "}\n",
       "\n",
       ".sk-estimator-doc-link.fitted,\n",
       "a:link.sk-estimator-doc-link.fitted,\n",
       "a:visited.sk-estimator-doc-link.fitted {\n",
       "  /* fitted */\n",
       "  border: var(--sklearn-color-fitted-level-1) 1pt solid;\n",
       "  color: var(--sklearn-color-fitted-level-1);\n",
       "}\n",
       "\n",
       "/* On hover */\n",
       "div.sk-estimator:hover .sk-estimator-doc-link:hover,\n",
       ".sk-estimator-doc-link:hover,\n",
       "div.sk-label-container:hover .sk-estimator-doc-link:hover,\n",
       ".sk-estimator-doc-link:hover {\n",
       "  /* unfitted */\n",
       "  background-color: var(--sklearn-color-unfitted-level-3);\n",
       "  color: var(--sklearn-color-background);\n",
       "  text-decoration: none;\n",
       "}\n",
       "\n",
       "div.sk-estimator.fitted:hover .sk-estimator-doc-link.fitted:hover,\n",
       ".sk-estimator-doc-link.fitted:hover,\n",
       "div.sk-label-container:hover .sk-estimator-doc-link.fitted:hover,\n",
       ".sk-estimator-doc-link.fitted:hover {\n",
       "  /* fitted */\n",
       "  background-color: var(--sklearn-color-fitted-level-3);\n",
       "  color: var(--sklearn-color-background);\n",
       "  text-decoration: none;\n",
       "}\n",
       "\n",
       "/* Span, style for the box shown on hovering the info icon */\n",
       ".sk-estimator-doc-link span {\n",
       "  display: none;\n",
       "  z-index: 9999;\n",
       "  position: relative;\n",
       "  font-weight: normal;\n",
       "  right: .2ex;\n",
       "  padding: .5ex;\n",
       "  margin: .5ex;\n",
       "  width: min-content;\n",
       "  min-width: 20ex;\n",
       "  max-width: 50ex;\n",
       "  color: var(--sklearn-color-text);\n",
       "  box-shadow: 2pt 2pt 4pt #999;\n",
       "  /* unfitted */\n",
       "  background: var(--sklearn-color-unfitted-level-0);\n",
       "  border: .5pt solid var(--sklearn-color-unfitted-level-3);\n",
       "}\n",
       "\n",
       ".sk-estimator-doc-link.fitted span {\n",
       "  /* fitted */\n",
       "  background: var(--sklearn-color-fitted-level-0);\n",
       "  border: var(--sklearn-color-fitted-level-3);\n",
       "}\n",
       "\n",
       ".sk-estimator-doc-link:hover span {\n",
       "  display: block;\n",
       "}\n",
       "\n",
       "/* \"?\"-specific style due to the `<a>` HTML tag */\n",
       "\n",
       "#sk-container-id-2 a.estimator_doc_link {\n",
       "  float: right;\n",
       "  font-size: 1rem;\n",
       "  line-height: 1em;\n",
       "  font-family: monospace;\n",
       "  background-color: var(--sklearn-color-background);\n",
       "  border-radius: 1rem;\n",
       "  height: 1rem;\n",
       "  width: 1rem;\n",
       "  text-decoration: none;\n",
       "  /* unfitted */\n",
       "  color: var(--sklearn-color-unfitted-level-1);\n",
       "  border: var(--sklearn-color-unfitted-level-1) 1pt solid;\n",
       "}\n",
       "\n",
       "#sk-container-id-2 a.estimator_doc_link.fitted {\n",
       "  /* fitted */\n",
       "  border: var(--sklearn-color-fitted-level-1) 1pt solid;\n",
       "  color: var(--sklearn-color-fitted-level-1);\n",
       "}\n",
       "\n",
       "/* On hover */\n",
       "#sk-container-id-2 a.estimator_doc_link:hover {\n",
       "  /* unfitted */\n",
       "  background-color: var(--sklearn-color-unfitted-level-3);\n",
       "  color: var(--sklearn-color-background);\n",
       "  text-decoration: none;\n",
       "}\n",
       "\n",
       "#sk-container-id-2 a.estimator_doc_link.fitted:hover {\n",
       "  /* fitted */\n",
       "  background-color: var(--sklearn-color-fitted-level-3);\n",
       "}\n",
       "</style><div id=\"sk-container-id-2\" class=\"sk-top-container\"><div class=\"sk-text-repr-fallback\"><pre>GridSearchCV(cv=KFold(n_splits=5, random_state=0, shuffle=True),\n",
       "             estimator=LogisticRegression(),\n",
       "             param_grid={&#x27;class_weight&#x27;: [{0: 1.2, 1: 0.8}], &#x27;penalty&#x27;: [&#x27;l2&#x27;],\n",
       "                         &#x27;solver&#x27;: [&#x27;sag&#x27;]})</pre><b>In a Jupyter environment, please rerun this cell to show the HTML representation or trust the notebook. <br />On GitHub, the HTML representation is unable to render, please try loading this page with nbviewer.org.</b></div><div class=\"sk-container\" hidden><div class=\"sk-item sk-dashed-wrapped\"><div class=\"sk-label-container\"><div class=\"sk-label fitted sk-toggleable\"><input class=\"sk-toggleable__control sk-hidden--visually\" id=\"sk-estimator-id-2\" type=\"checkbox\" ><label for=\"sk-estimator-id-2\" class=\"sk-toggleable__label fitted sk-toggleable__label-arrow\"><div><div>GridSearchCV</div></div><div><a class=\"sk-estimator-doc-link fitted\" rel=\"noreferrer\" target=\"_blank\" href=\"https://scikit-learn.org/1.6/modules/generated/sklearn.model_selection.GridSearchCV.html\">?<span>Documentation for GridSearchCV</span></a><span class=\"sk-estimator-doc-link fitted\">i<span>Fitted</span></span></div></label><div class=\"sk-toggleable__content fitted\"><pre>GridSearchCV(cv=KFold(n_splits=5, random_state=0, shuffle=True),\n",
       "             estimator=LogisticRegression(),\n",
       "             param_grid={&#x27;class_weight&#x27;: [{0: 1.2, 1: 0.8}], &#x27;penalty&#x27;: [&#x27;l2&#x27;],\n",
       "                         &#x27;solver&#x27;: [&#x27;sag&#x27;]})</pre></div> </div></div><div class=\"sk-parallel\"><div class=\"sk-parallel-item\"><div class=\"sk-item\"><div class=\"sk-label-container\"><div class=\"sk-label fitted sk-toggleable\"><input class=\"sk-toggleable__control sk-hidden--visually\" id=\"sk-estimator-id-3\" type=\"checkbox\" ><label for=\"sk-estimator-id-3\" class=\"sk-toggleable__label fitted sk-toggleable__label-arrow\"><div><div>best_estimator_: LogisticRegression</div></div></label><div class=\"sk-toggleable__content fitted\"><pre>LogisticRegression(class_weight={0: 1.2, 1: 0.8}, solver=&#x27;sag&#x27;)</pre></div> </div></div><div class=\"sk-serial\"><div class=\"sk-item\"><div class=\"sk-estimator fitted sk-toggleable\"><input class=\"sk-toggleable__control sk-hidden--visually\" id=\"sk-estimator-id-4\" type=\"checkbox\" ><label for=\"sk-estimator-id-4\" class=\"sk-toggleable__label fitted sk-toggleable__label-arrow\"><div><div>LogisticRegression</div></div><div><a class=\"sk-estimator-doc-link fitted\" rel=\"noreferrer\" target=\"_blank\" href=\"https://scikit-learn.org/1.6/modules/generated/sklearn.linear_model.LogisticRegression.html\">?<span>Documentation for LogisticRegression</span></a></div></label><div class=\"sk-toggleable__content fitted\"><pre>LogisticRegression(class_weight={0: 1.2, 1: 0.8}, solver=&#x27;sag&#x27;)</pre></div> </div></div></div></div></div></div></div></div></div>"
      ],
      "text/plain": [
       "GridSearchCV(cv=KFold(n_splits=5, random_state=0, shuffle=True),\n",
       "             estimator=LogisticRegression(),\n",
       "             param_grid={'class_weight': [{0: 1.2, 1: 0.8}], 'penalty': ['l2'],\n",
       "                         'solver': ['sag']})"
      ]
     },
     "execution_count": 49,
     "metadata": {},
     "output_type": "execute_result"
    }
   ],
   "source": [
    "log_reg = LogisticRegression()\n",
    "\n",
    "best_log_reg = GridSearchCV(log_reg, param_grid, cv=folds)\n",
    "best_log_reg.fit(X_train, y_train)"
   ]
  },
  {
   "cell_type": "code",
   "execution_count": 50,
   "id": "71e632b9-0473-4e0d-8f16-d1496808fc9c",
   "metadata": {},
   "outputs": [
    {
     "data": {
      "text/plain": [
       "{'class_weight': {0: 1.2, 1: 0.8}, 'penalty': 'l2', 'solver': 'sag'}"
      ]
     },
     "execution_count": 50,
     "metadata": {},
     "output_type": "execute_result"
    }
   ],
   "source": [
    "best_log_reg.best_params_"
   ]
  },
  {
   "cell_type": "code",
   "execution_count": 51,
   "id": "b5ccdb6b-c87b-4fe5-bf6d-c84819afebae",
   "metadata": {},
   "outputs": [],
   "source": [
    "log_reg = best_log_reg.best_estimator_"
   ]
  },
  {
   "cell_type": "markdown",
   "id": "69b253e5-a78a-4baa-9f31-c18561ec0204",
   "metadata": {},
   "source": [
    "Al realizar este proceso obtenemos una mejora en el puntaje f1, el cual aumenta en casi una unidad. Esto se verificará en seguida con el reporte de clasificación."
   ]
  },
  {
   "cell_type": "code",
   "execution_count": 52,
   "id": "82b59137-8c1a-4d72-8da4-fbedfe65d31f",
   "metadata": {},
   "outputs": [
    {
     "name": "stdout",
     "output_type": "stream",
     "text": [
      "[0.92324622 0.91282895 0.90983607 0.90220648 0.90739726]\n"
     ]
    },
    {
     "data": {
      "text/plain": [
       "0.9111029947589472"
      ]
     },
     "execution_count": 52,
     "metadata": {},
     "output_type": "execute_result"
    }
   ],
   "source": [
    "scores = cross_val_score(log_reg, X_test, y_test, cv=5, scoring='f1')\n",
    "\n",
    "print(scores)\n",
    "scores.mean()"
   ]
  },
  {
   "cell_type": "markdown",
   "id": "2688c65c-fe28-41df-b7db-5dba26a44309",
   "metadata": {},
   "source": [
    "Después de realizar el ajuste de hiperparámetros con GridSearchCV, el modelo muestra una precisión de 0.92 para la **clase 0 (noticia no falsa)**, lo que significa que cuando predice que una noticia es real, acierta el 92% de las veces. Su recall ha mejorado a 0.83, lo que indica que ahora detecta mejor las noticias reales, reduciendo la cantidad de falsos negativos en comparación con la versión anterior del modelo.\n",
    "En cuanto a la **clase 1 (noticia falsa)**, la precisión es de 0.89, lo que indica que el 89% de las predicciones de noticias falsas son correctas, mientras que el recall es de 0.95, lo que significa que el modelo sigue detectando la mayoría de las noticias falsas con pocos falsos negativos.\n",
    "\n",
    "El F1-score para la clase 0 ha aumentado a 0.88, lo que indica un mejor equilibrio entre precisión y recall en la detección de noticias reales, y el F1-score para la clase 1 se mantiene en 0.92, lo que sugiere que el modelo sigue teniendo un buen rendimiento en la detección de noticias falsas. En general, la mejora en recall para la clase 0 implica que el modelo ahora tiene una menor tendencia a clasificar erróneamente noticias reales como falsas, lo que lo hace más equilibrado y robusto."
   ]
  },
  {
   "cell_type": "code",
   "execution_count": 53,
   "id": "debb062e-cf10-453b-b854-d20d5cfebd03",
   "metadata": {},
   "outputs": [
    {
     "name": "stdout",
     "output_type": "stream",
     "text": [
      "Classification Report:\n",
      "               precision    recall  f1-score   support\n",
      "\n",
      "           0       0.92      0.83      0.88      6128\n",
      "           1       0.89      0.95      0.92      8764\n",
      "\n",
      "    accuracy                           0.90     14892\n",
      "   macro avg       0.91      0.89      0.90     14892\n",
      "weighted avg       0.90      0.90      0.90     14892\n",
      "\n"
     ]
    }
   ],
   "source": [
    "y_pred_train = log_reg.predict(X_train)\n",
    "y_pred_test = log_reg.predict(X_test)\n",
    "\n",
    "print(\"Classification Report:\\n\", classification_report(y_test, y_pred_test))"
   ]
  },
  {
   "cell_type": "code",
   "execution_count": 54,
   "id": "0d6aae30-5611-482d-aeb4-f72d63e836dd",
   "metadata": {},
   "outputs": [
    {
     "data": {
      "image/png": "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",
      "text/plain": [
       "<Figure size 640x480 with 2 Axes>"
      ]
     },
     "metadata": {},
     "output_type": "display_data"
    }
   ],
   "source": [
    "disp = ConfusionMatrixDisplay(\n",
    "    confusion_matrix(y_test, y_pred_test),\n",
    "    display_labels=[0, 1]\n",
    ")\n",
    "\n",
    "disp.plot(cmap=plt.cm.Blues)\n",
    "plt.title('Confusion matrix')\n",
    "plt.show()"
   ]
  },
  {
   "cell_type": "markdown",
   "id": "65ad27c0-8cb3-4331-9339-c493a1953785",
   "metadata": {},
   "source": [
    "## 5.2 Modelo XGBoost"
   ]
  },
  {
   "cell_type": "code",
   "execution_count": 108,
   "id": "27030d27-d6b0-45e2-aad2-dbd405a08cac",
   "metadata": {},
   "outputs": [],
   "source": [
    "from xgboost import XGBClassifier"
   ]
  },
  {
   "cell_type": "code",
   "execution_count": null,
   "id": "2418becf-3f48-485b-ab26-dd9260739367",
   "metadata": {},
   "outputs": [],
   "source": [
    "model = XGBClassifier(objective='binary:logistic', random_state=42)\n",
    "model.fit(X_train, y_train)"
   ]
  },
  {
   "cell_type": "code",
   "execution_count": null,
   "id": "f7fefa28-199f-4b27-87ee-c3156bf5cff7",
   "metadata": {},
   "outputs": [],
   "source": [
    "scores = cross_val_score(model, X_test, y_test, cv=5, scoring='f1')\n",
    "\n",
    "print(scores)\n",
    "scores.mean()"
   ]
  },
  {
   "cell_type": "markdown",
   "id": "3a47108c-0c51-493f-b10d-c5c23934612f",
   "metadata": {},
   "source": [
    "El modelo de XGBoost ha logrado un rendimiento notablemente alto en términos de precisión, recall y F1-score para ambas clases. Para la **clase 0 (noticia no falsa)**, la precisión es de 0.97, lo que indica que la mayoría de las noticias clasificadas como no falsas son realmente verdaderas, mientras que el recall es de 0.85, lo que sugiere que aún hay margen de mejora en la detección de todas las noticias no falsas. En la **clase 1 (noticia falsa)**, la precisión es de 0.90 y el recall de 0.98, lo que significa que el modelo identifica casi todas las noticias falsas, aunque ocasionalmente puede clasificar incorrectamente algunas noticias verdaderas como falsas.\n",
    "\n",
    "En general, el modelo obtiene un F1-score de 0.91 para la clase 0 y 0.94 para la clase 1, con una precisión y recall macro promedio de 0.94 y 0.92, respectivamente. A pesar de estos buenos resultados, un inconveniente importante es el tiempo de entrenamiento, ya que XGBoost es un modelo computacionalmente costoso, lo que puede hacer que la optimización sea un proceso lento."
   ]
  },
  {
   "cell_type": "code",
   "execution_count": null,
   "id": "61e8cb71-cc8f-4ba6-9a4e-22c4e0bbaa34",
   "metadata": {},
   "outputs": [],
   "source": [
    "y_pred = model.predict(X_test)\n",
    "\n",
    "print(\"Classification Report:\\n\", classification_report(y_test, y_pred))"
   ]
  },
  {
   "cell_type": "code",
   "execution_count": null,
   "id": "4b6061a6-4473-433b-b2d6-ea65f591c3fd",
   "metadata": {},
   "outputs": [],
   "source": [
    "disp = ConfusionMatrixDisplay(\n",
    "    confusion_matrix(y_test, y_pred),\n",
    "    display_labels=[0, 1]\n",
    ")\n",
    "\n",
    "disp.plot(cmap=plt.cm.Blues)\n",
    "plt.title('Confusion matrix')\n",
    "plt.show()"
   ]
  },
  {
   "cell_type": "markdown",
   "id": "739338fc-df5c-4ac1-beb8-08722627b189",
   "metadata": {},
   "source": [
    "### 5.1.1 Obtener la importancia de las características"
   ]
  },
  {
   "cell_type": "markdown",
   "id": "3245336b-36c6-40b1-a8cc-9f4abd97a43c",
   "metadata": {},
   "source": [
    "### 5.2.2 Construcción del modelo con búsqueda de hiperparámetros"
   ]
  },
  {
   "cell_type": "code",
   "execution_count": 101,
   "id": "5b41ba1a-e18f-4441-af35-a4c9f9420cac",
   "metadata": {},
   "outputs": [
    {
     "data": {
      "text/plain": [
       "{'n_estimators': [100, 200],\n",
       " 'max_depth': [3],\n",
       " 'learning_rate': [3],\n",
       " 'subsample': [0.5, 0.7, 0.1]}"
      ]
     },
     "execution_count": 101,
     "metadata": {},
     "output_type": "execute_result"
    }
   ],
   "source": [
    "folds = KFold(n_splits=3, shuffle=True, random_state=0)\n",
    "\n",
    "param_distributions = {\n",
    "    'n_estimators': [100, 200],\n",
    "    'max_depth': [3],\n",
    "    'learning_rate': [3],\n",
    "    'subsample': [0.5, 0.7, 0.1],\n",
    "}\n",
    "\n",
    "param_distributions"
   ]
  },
  {
   "cell_type": "markdown",
   "id": "c1d6682b-1679-4dfc-bd1e-360d6a16f5d2",
   "metadata": {},
   "source": [
    "En este caso se prefiere `RandomizedSearchCV` sobre `GridSearchCV` cuando el espacio de hiperparámetros es grande o el entrenamiento del modelo es costoso. Esto dado que `RandomizedSearchCV` prueba solo un subconjunto aleatorio de combinaciones, reduciendo el tiempo de cómputo. Todo esto ya que el entrenamiento de este modelo en particular es bastante lento."
   ]
  },
  {
   "cell_type": "code",
   "execution_count": 102,
   "id": "f1f2673b-e86c-4743-9d7c-c44f590de57a",
   "metadata": {},
   "outputs": [
    {
     "name": "stdout",
     "output_type": "stream",
     "text": [
      "Fitting 3 folds for each of 5 candidates, totalling 15 fits\n",
      "[CV] END learning_rate=3, max_depth=3, n_estimators=100, subsample=0.5; total time=   3.7s\n",
      "[CV] END learning_rate=3, max_depth=3, n_estimators=100, subsample=0.5; total time=   3.7s\n",
      "[CV] END learning_rate=3, max_depth=3, n_estimators=100, subsample=0.5; total time=   4.0s\n",
      "[CV] END learning_rate=3, max_depth=3, n_estimators=100, subsample=0.7; total time=   3.8s\n",
      "[CV] END learning_rate=3, max_depth=3, n_estimators=100, subsample=0.7; total time=   3.5s\n",
      "[CV] END learning_rate=3, max_depth=3, n_estimators=100, subsample=0.7; total time=   3.8s\n",
      "[CV] END learning_rate=3, max_depth=3, n_estimators=200, subsample=0.1; total time=   6.2s\n",
      "[CV] END learning_rate=3, max_depth=3, n_estimators=200, subsample=0.1; total time=   6.4s\n",
      "[CV] END learning_rate=3, max_depth=3, n_estimators=200, subsample=0.1; total time=   6.3s\n",
      "[CV] END learning_rate=3, max_depth=3, n_estimators=100, subsample=0.1; total time=   3.6s\n",
      "[CV] END learning_rate=3, max_depth=3, n_estimators=100, subsample=0.1; total time=   3.7s\n",
      "[CV] END learning_rate=3, max_depth=3, n_estimators=100, subsample=0.1; total time=   3.6s\n",
      "[CV] END learning_rate=3, max_depth=3, n_estimators=200, subsample=0.7; total time=   6.5s\n",
      "[CV] END learning_rate=3, max_depth=3, n_estimators=200, subsample=0.7; total time=   6.1s\n",
      "[CV] END learning_rate=3, max_depth=3, n_estimators=200, subsample=0.7; total time=   6.2s\n"
     ]
    },
    {
     "data": {
      "text/html": [
       "<style>#sk-container-id-9 {\n",
       "  /* Definition of color scheme common for light and dark mode */\n",
       "  --sklearn-color-text: #000;\n",
       "  --sklearn-color-text-muted: #666;\n",
       "  --sklearn-color-line: gray;\n",
       "  /* Definition of color scheme for unfitted estimators */\n",
       "  --sklearn-color-unfitted-level-0: #fff5e6;\n",
       "  --sklearn-color-unfitted-level-1: #f6e4d2;\n",
       "  --sklearn-color-unfitted-level-2: #ffe0b3;\n",
       "  --sklearn-color-unfitted-level-3: chocolate;\n",
       "  /* Definition of color scheme for fitted estimators */\n",
       "  --sklearn-color-fitted-level-0: #f0f8ff;\n",
       "  --sklearn-color-fitted-level-1: #d4ebff;\n",
       "  --sklearn-color-fitted-level-2: #b3dbfd;\n",
       "  --sklearn-color-fitted-level-3: cornflowerblue;\n",
       "\n",
       "  /* Specific color for light theme */\n",
       "  --sklearn-color-text-on-default-background: var(--sg-text-color, var(--theme-code-foreground, var(--jp-content-font-color1, black)));\n",
       "  --sklearn-color-background: var(--sg-background-color, var(--theme-background, var(--jp-layout-color0, white)));\n",
       "  --sklearn-color-border-box: var(--sg-text-color, var(--theme-code-foreground, var(--jp-content-font-color1, black)));\n",
       "  --sklearn-color-icon: #696969;\n",
       "\n",
       "  @media (prefers-color-scheme: dark) {\n",
       "    /* Redefinition of color scheme for dark theme */\n",
       "    --sklearn-color-text-on-default-background: var(--sg-text-color, var(--theme-code-foreground, var(--jp-content-font-color1, white)));\n",
       "    --sklearn-color-background: var(--sg-background-color, var(--theme-background, var(--jp-layout-color0, #111)));\n",
       "    --sklearn-color-border-box: var(--sg-text-color, var(--theme-code-foreground, var(--jp-content-font-color1, white)));\n",
       "    --sklearn-color-icon: #878787;\n",
       "  }\n",
       "}\n",
       "\n",
       "#sk-container-id-9 {\n",
       "  color: var(--sklearn-color-text);\n",
       "}\n",
       "\n",
       "#sk-container-id-9 pre {\n",
       "  padding: 0;\n",
       "}\n",
       "\n",
       "#sk-container-id-9 input.sk-hidden--visually {\n",
       "  border: 0;\n",
       "  clip: rect(1px 1px 1px 1px);\n",
       "  clip: rect(1px, 1px, 1px, 1px);\n",
       "  height: 1px;\n",
       "  margin: -1px;\n",
       "  overflow: hidden;\n",
       "  padding: 0;\n",
       "  position: absolute;\n",
       "  width: 1px;\n",
       "}\n",
       "\n",
       "#sk-container-id-9 div.sk-dashed-wrapped {\n",
       "  border: 1px dashed var(--sklearn-color-line);\n",
       "  margin: 0 0.4em 0.5em 0.4em;\n",
       "  box-sizing: border-box;\n",
       "  padding-bottom: 0.4em;\n",
       "  background-color: var(--sklearn-color-background);\n",
       "}\n",
       "\n",
       "#sk-container-id-9 div.sk-container {\n",
       "  /* jupyter's `normalize.less` sets `[hidden] { display: none; }`\n",
       "     but bootstrap.min.css set `[hidden] { display: none !important; }`\n",
       "     so we also need the `!important` here to be able to override the\n",
       "     default hidden behavior on the sphinx rendered scikit-learn.org.\n",
       "     See: https://github.com/scikit-learn/scikit-learn/issues/21755 */\n",
       "  display: inline-block !important;\n",
       "  position: relative;\n",
       "}\n",
       "\n",
       "#sk-container-id-9 div.sk-text-repr-fallback {\n",
       "  display: none;\n",
       "}\n",
       "\n",
       "div.sk-parallel-item,\n",
       "div.sk-serial,\n",
       "div.sk-item {\n",
       "  /* draw centered vertical line to link estimators */\n",
       "  background-image: linear-gradient(var(--sklearn-color-text-on-default-background), var(--sklearn-color-text-on-default-background));\n",
       "  background-size: 2px 100%;\n",
       "  background-repeat: no-repeat;\n",
       "  background-position: center center;\n",
       "}\n",
       "\n",
       "/* Parallel-specific style estimator block */\n",
       "\n",
       "#sk-container-id-9 div.sk-parallel-item::after {\n",
       "  content: \"\";\n",
       "  width: 100%;\n",
       "  border-bottom: 2px solid var(--sklearn-color-text-on-default-background);\n",
       "  flex-grow: 1;\n",
       "}\n",
       "\n",
       "#sk-container-id-9 div.sk-parallel {\n",
       "  display: flex;\n",
       "  align-items: stretch;\n",
       "  justify-content: center;\n",
       "  background-color: var(--sklearn-color-background);\n",
       "  position: relative;\n",
       "}\n",
       "\n",
       "#sk-container-id-9 div.sk-parallel-item {\n",
       "  display: flex;\n",
       "  flex-direction: column;\n",
       "}\n",
       "\n",
       "#sk-container-id-9 div.sk-parallel-item:first-child::after {\n",
       "  align-self: flex-end;\n",
       "  width: 50%;\n",
       "}\n",
       "\n",
       "#sk-container-id-9 div.sk-parallel-item:last-child::after {\n",
       "  align-self: flex-start;\n",
       "  width: 50%;\n",
       "}\n",
       "\n",
       "#sk-container-id-9 div.sk-parallel-item:only-child::after {\n",
       "  width: 0;\n",
       "}\n",
       "\n",
       "/* Serial-specific style estimator block */\n",
       "\n",
       "#sk-container-id-9 div.sk-serial {\n",
       "  display: flex;\n",
       "  flex-direction: column;\n",
       "  align-items: center;\n",
       "  background-color: var(--sklearn-color-background);\n",
       "  padding-right: 1em;\n",
       "  padding-left: 1em;\n",
       "}\n",
       "\n",
       "\n",
       "/* Toggleable style: style used for estimator/Pipeline/ColumnTransformer box that is\n",
       "clickable and can be expanded/collapsed.\n",
       "- Pipeline and ColumnTransformer use this feature and define the default style\n",
       "- Estimators will overwrite some part of the style using the `sk-estimator` class\n",
       "*/\n",
       "\n",
       "/* Pipeline and ColumnTransformer style (default) */\n",
       "\n",
       "#sk-container-id-9 div.sk-toggleable {\n",
       "  /* Default theme specific background. It is overwritten whether we have a\n",
       "  specific estimator or a Pipeline/ColumnTransformer */\n",
       "  background-color: var(--sklearn-color-background);\n",
       "}\n",
       "\n",
       "/* Toggleable label */\n",
       "#sk-container-id-9 label.sk-toggleable__label {\n",
       "  cursor: pointer;\n",
       "  display: flex;\n",
       "  width: 100%;\n",
       "  margin-bottom: 0;\n",
       "  padding: 0.5em;\n",
       "  box-sizing: border-box;\n",
       "  text-align: center;\n",
       "  align-items: start;\n",
       "  justify-content: space-between;\n",
       "  gap: 0.5em;\n",
       "}\n",
       "\n",
       "#sk-container-id-9 label.sk-toggleable__label .caption {\n",
       "  font-size: 0.6rem;\n",
       "  font-weight: lighter;\n",
       "  color: var(--sklearn-color-text-muted);\n",
       "}\n",
       "\n",
       "#sk-container-id-9 label.sk-toggleable__label-arrow:before {\n",
       "  /* Arrow on the left of the label */\n",
       "  content: \"▸\";\n",
       "  float: left;\n",
       "  margin-right: 0.25em;\n",
       "  color: var(--sklearn-color-icon);\n",
       "}\n",
       "\n",
       "#sk-container-id-9 label.sk-toggleable__label-arrow:hover:before {\n",
       "  color: var(--sklearn-color-text);\n",
       "}\n",
       "\n",
       "/* Toggleable content - dropdown */\n",
       "\n",
       "#sk-container-id-9 div.sk-toggleable__content {\n",
       "  max-height: 0;\n",
       "  max-width: 0;\n",
       "  overflow: hidden;\n",
       "  text-align: left;\n",
       "  /* unfitted */\n",
       "  background-color: var(--sklearn-color-unfitted-level-0);\n",
       "}\n",
       "\n",
       "#sk-container-id-9 div.sk-toggleable__content.fitted {\n",
       "  /* fitted */\n",
       "  background-color: var(--sklearn-color-fitted-level-0);\n",
       "}\n",
       "\n",
       "#sk-container-id-9 div.sk-toggleable__content pre {\n",
       "  margin: 0.2em;\n",
       "  border-radius: 0.25em;\n",
       "  color: var(--sklearn-color-text);\n",
       "  /* unfitted */\n",
       "  background-color: var(--sklearn-color-unfitted-level-0);\n",
       "}\n",
       "\n",
       "#sk-container-id-9 div.sk-toggleable__content.fitted pre {\n",
       "  /* unfitted */\n",
       "  background-color: var(--sklearn-color-fitted-level-0);\n",
       "}\n",
       "\n",
       "#sk-container-id-9 input.sk-toggleable__control:checked~div.sk-toggleable__content {\n",
       "  /* Expand drop-down */\n",
       "  max-height: 200px;\n",
       "  max-width: 100%;\n",
       "  overflow: auto;\n",
       "}\n",
       "\n",
       "#sk-container-id-9 input.sk-toggleable__control:checked~label.sk-toggleable__label-arrow:before {\n",
       "  content: \"▾\";\n",
       "}\n",
       "\n",
       "/* Pipeline/ColumnTransformer-specific style */\n",
       "\n",
       "#sk-container-id-9 div.sk-label input.sk-toggleable__control:checked~label.sk-toggleable__label {\n",
       "  color: var(--sklearn-color-text);\n",
       "  background-color: var(--sklearn-color-unfitted-level-2);\n",
       "}\n",
       "\n",
       "#sk-container-id-9 div.sk-label.fitted input.sk-toggleable__control:checked~label.sk-toggleable__label {\n",
       "  background-color: var(--sklearn-color-fitted-level-2);\n",
       "}\n",
       "\n",
       "/* Estimator-specific style */\n",
       "\n",
       "/* Colorize estimator box */\n",
       "#sk-container-id-9 div.sk-estimator input.sk-toggleable__control:checked~label.sk-toggleable__label {\n",
       "  /* unfitted */\n",
       "  background-color: var(--sklearn-color-unfitted-level-2);\n",
       "}\n",
       "\n",
       "#sk-container-id-9 div.sk-estimator.fitted input.sk-toggleable__control:checked~label.sk-toggleable__label {\n",
       "  /* fitted */\n",
       "  background-color: var(--sklearn-color-fitted-level-2);\n",
       "}\n",
       "\n",
       "#sk-container-id-9 div.sk-label label.sk-toggleable__label,\n",
       "#sk-container-id-9 div.sk-label label {\n",
       "  /* The background is the default theme color */\n",
       "  color: var(--sklearn-color-text-on-default-background);\n",
       "}\n",
       "\n",
       "/* On hover, darken the color of the background */\n",
       "#sk-container-id-9 div.sk-label:hover label.sk-toggleable__label {\n",
       "  color: var(--sklearn-color-text);\n",
       "  background-color: var(--sklearn-color-unfitted-level-2);\n",
       "}\n",
       "\n",
       "/* Label box, darken color on hover, fitted */\n",
       "#sk-container-id-9 div.sk-label.fitted:hover label.sk-toggleable__label.fitted {\n",
       "  color: var(--sklearn-color-text);\n",
       "  background-color: var(--sklearn-color-fitted-level-2);\n",
       "}\n",
       "\n",
       "/* Estimator label */\n",
       "\n",
       "#sk-container-id-9 div.sk-label label {\n",
       "  font-family: monospace;\n",
       "  font-weight: bold;\n",
       "  display: inline-block;\n",
       "  line-height: 1.2em;\n",
       "}\n",
       "\n",
       "#sk-container-id-9 div.sk-label-container {\n",
       "  text-align: center;\n",
       "}\n",
       "\n",
       "/* Estimator-specific */\n",
       "#sk-container-id-9 div.sk-estimator {\n",
       "  font-family: monospace;\n",
       "  border: 1px dotted var(--sklearn-color-border-box);\n",
       "  border-radius: 0.25em;\n",
       "  box-sizing: border-box;\n",
       "  margin-bottom: 0.5em;\n",
       "  /* unfitted */\n",
       "  background-color: var(--sklearn-color-unfitted-level-0);\n",
       "}\n",
       "\n",
       "#sk-container-id-9 div.sk-estimator.fitted {\n",
       "  /* fitted */\n",
       "  background-color: var(--sklearn-color-fitted-level-0);\n",
       "}\n",
       "\n",
       "/* on hover */\n",
       "#sk-container-id-9 div.sk-estimator:hover {\n",
       "  /* unfitted */\n",
       "  background-color: var(--sklearn-color-unfitted-level-2);\n",
       "}\n",
       "\n",
       "#sk-container-id-9 div.sk-estimator.fitted:hover {\n",
       "  /* fitted */\n",
       "  background-color: var(--sklearn-color-fitted-level-2);\n",
       "}\n",
       "\n",
       "/* Specification for estimator info (e.g. \"i\" and \"?\") */\n",
       "\n",
       "/* Common style for \"i\" and \"?\" */\n",
       "\n",
       ".sk-estimator-doc-link,\n",
       "a:link.sk-estimator-doc-link,\n",
       "a:visited.sk-estimator-doc-link {\n",
       "  float: right;\n",
       "  font-size: smaller;\n",
       "  line-height: 1em;\n",
       "  font-family: monospace;\n",
       "  background-color: var(--sklearn-color-background);\n",
       "  border-radius: 1em;\n",
       "  height: 1em;\n",
       "  width: 1em;\n",
       "  text-decoration: none !important;\n",
       "  margin-left: 0.5em;\n",
       "  text-align: center;\n",
       "  /* unfitted */\n",
       "  border: var(--sklearn-color-unfitted-level-1) 1pt solid;\n",
       "  color: var(--sklearn-color-unfitted-level-1);\n",
       "}\n",
       "\n",
       ".sk-estimator-doc-link.fitted,\n",
       "a:link.sk-estimator-doc-link.fitted,\n",
       "a:visited.sk-estimator-doc-link.fitted {\n",
       "  /* fitted */\n",
       "  border: var(--sklearn-color-fitted-level-1) 1pt solid;\n",
       "  color: var(--sklearn-color-fitted-level-1);\n",
       "}\n",
       "\n",
       "/* On hover */\n",
       "div.sk-estimator:hover .sk-estimator-doc-link:hover,\n",
       ".sk-estimator-doc-link:hover,\n",
       "div.sk-label-container:hover .sk-estimator-doc-link:hover,\n",
       ".sk-estimator-doc-link:hover {\n",
       "  /* unfitted */\n",
       "  background-color: var(--sklearn-color-unfitted-level-3);\n",
       "  color: var(--sklearn-color-background);\n",
       "  text-decoration: none;\n",
       "}\n",
       "\n",
       "div.sk-estimator.fitted:hover .sk-estimator-doc-link.fitted:hover,\n",
       ".sk-estimator-doc-link.fitted:hover,\n",
       "div.sk-label-container:hover .sk-estimator-doc-link.fitted:hover,\n",
       ".sk-estimator-doc-link.fitted:hover {\n",
       "  /* fitted */\n",
       "  background-color: var(--sklearn-color-fitted-level-3);\n",
       "  color: var(--sklearn-color-background);\n",
       "  text-decoration: none;\n",
       "}\n",
       "\n",
       "/* Span, style for the box shown on hovering the info icon */\n",
       ".sk-estimator-doc-link span {\n",
       "  display: none;\n",
       "  z-index: 9999;\n",
       "  position: relative;\n",
       "  font-weight: normal;\n",
       "  right: .2ex;\n",
       "  padding: .5ex;\n",
       "  margin: .5ex;\n",
       "  width: min-content;\n",
       "  min-width: 20ex;\n",
       "  max-width: 50ex;\n",
       "  color: var(--sklearn-color-text);\n",
       "  box-shadow: 2pt 2pt 4pt #999;\n",
       "  /* unfitted */\n",
       "  background: var(--sklearn-color-unfitted-level-0);\n",
       "  border: .5pt solid var(--sklearn-color-unfitted-level-3);\n",
       "}\n",
       "\n",
       ".sk-estimator-doc-link.fitted span {\n",
       "  /* fitted */\n",
       "  background: var(--sklearn-color-fitted-level-0);\n",
       "  border: var(--sklearn-color-fitted-level-3);\n",
       "}\n",
       "\n",
       ".sk-estimator-doc-link:hover span {\n",
       "  display: block;\n",
       "}\n",
       "\n",
       "/* \"?\"-specific style due to the `<a>` HTML tag */\n",
       "\n",
       "#sk-container-id-9 a.estimator_doc_link {\n",
       "  float: right;\n",
       "  font-size: 1rem;\n",
       "  line-height: 1em;\n",
       "  font-family: monospace;\n",
       "  background-color: var(--sklearn-color-background);\n",
       "  border-radius: 1rem;\n",
       "  height: 1rem;\n",
       "  width: 1rem;\n",
       "  text-decoration: none;\n",
       "  /* unfitted */\n",
       "  color: var(--sklearn-color-unfitted-level-1);\n",
       "  border: var(--sklearn-color-unfitted-level-1) 1pt solid;\n",
       "}\n",
       "\n",
       "#sk-container-id-9 a.estimator_doc_link.fitted {\n",
       "  /* fitted */\n",
       "  border: var(--sklearn-color-fitted-level-1) 1pt solid;\n",
       "  color: var(--sklearn-color-fitted-level-1);\n",
       "}\n",
       "\n",
       "/* On hover */\n",
       "#sk-container-id-9 a.estimator_doc_link:hover {\n",
       "  /* unfitted */\n",
       "  background-color: var(--sklearn-color-unfitted-level-3);\n",
       "  color: var(--sklearn-color-background);\n",
       "  text-decoration: none;\n",
       "}\n",
       "\n",
       "#sk-container-id-9 a.estimator_doc_link.fitted:hover {\n",
       "  /* fitted */\n",
       "  background-color: var(--sklearn-color-fitted-level-3);\n",
       "}\n",
       "</style><div id=\"sk-container-id-9\" class=\"sk-top-container\"><div class=\"sk-text-repr-fallback\"><pre>RandomizedSearchCV(cv=KFold(n_splits=3, random_state=0, shuffle=True),\n",
       "                   estimator=XGBClassifier(base_score=None, booster=None,\n",
       "                                           callbacks=None,\n",
       "                                           colsample_bylevel=None,\n",
       "                                           colsample_bynode=None,\n",
       "                                           colsample_bytree=None, device=None,\n",
       "                                           early_stopping_rounds=None,\n",
       "                                           enable_categorical=False,\n",
       "                                           eval_metric=None, feature_types=None,\n",
       "                                           gamma=None, grow_policy=None,\n",
       "                                           importance_type=Non...\n",
       "                                           max_delta_step=None, max_depth=None,\n",
       "                                           max_leaves=None,\n",
       "                                           min_child_weight=None, missing=nan,\n",
       "                                           monotone_constraints=None,\n",
       "                                           multi_strategy=None,\n",
       "                                           n_estimators=None, n_jobs=None,\n",
       "                                           num_parallel_tree=None,\n",
       "                                           random_state=42, ...),\n",
       "                   n_iter=5,\n",
       "                   param_distributions={&#x27;learning_rate&#x27;: [3], &#x27;max_depth&#x27;: [3],\n",
       "                                        &#x27;n_estimators&#x27;: [100, 200],\n",
       "                                        &#x27;subsample&#x27;: [0.5, 0.7, 0.1]},\n",
       "                   random_state=42, scoring=&#x27;f1&#x27;, verbose=2)</pre><b>In a Jupyter environment, please rerun this cell to show the HTML representation or trust the notebook. <br />On GitHub, the HTML representation is unable to render, please try loading this page with nbviewer.org.</b></div><div class=\"sk-container\" hidden><div class=\"sk-item sk-dashed-wrapped\"><div class=\"sk-label-container\"><div class=\"sk-label fitted sk-toggleable\"><input class=\"sk-toggleable__control sk-hidden--visually\" id=\"sk-estimator-id-21\" type=\"checkbox\" ><label for=\"sk-estimator-id-21\" class=\"sk-toggleable__label fitted sk-toggleable__label-arrow\"><div><div>RandomizedSearchCV</div></div><div><a class=\"sk-estimator-doc-link fitted\" rel=\"noreferrer\" target=\"_blank\" href=\"https://scikit-learn.org/1.6/modules/generated/sklearn.model_selection.RandomizedSearchCV.html\">?<span>Documentation for RandomizedSearchCV</span></a><span class=\"sk-estimator-doc-link fitted\">i<span>Fitted</span></span></div></label><div class=\"sk-toggleable__content fitted\"><pre>RandomizedSearchCV(cv=KFold(n_splits=3, random_state=0, shuffle=True),\n",
       "                   estimator=XGBClassifier(base_score=None, booster=None,\n",
       "                                           callbacks=None,\n",
       "                                           colsample_bylevel=None,\n",
       "                                           colsample_bynode=None,\n",
       "                                           colsample_bytree=None, device=None,\n",
       "                                           early_stopping_rounds=None,\n",
       "                                           enable_categorical=False,\n",
       "                                           eval_metric=None, feature_types=None,\n",
       "                                           gamma=None, grow_policy=None,\n",
       "                                           importance_type=Non...\n",
       "                                           max_delta_step=None, max_depth=None,\n",
       "                                           max_leaves=None,\n",
       "                                           min_child_weight=None, missing=nan,\n",
       "                                           monotone_constraints=None,\n",
       "                                           multi_strategy=None,\n",
       "                                           n_estimators=None, n_jobs=None,\n",
       "                                           num_parallel_tree=None,\n",
       "                                           random_state=42, ...),\n",
       "                   n_iter=5,\n",
       "                   param_distributions={&#x27;learning_rate&#x27;: [3], &#x27;max_depth&#x27;: [3],\n",
       "                                        &#x27;n_estimators&#x27;: [100, 200],\n",
       "                                        &#x27;subsample&#x27;: [0.5, 0.7, 0.1]},\n",
       "                   random_state=42, scoring=&#x27;f1&#x27;, verbose=2)</pre></div> </div></div><div class=\"sk-parallel\"><div class=\"sk-parallel-item\"><div class=\"sk-item\"><div class=\"sk-label-container\"><div class=\"sk-label fitted sk-toggleable\"><input class=\"sk-toggleable__control sk-hidden--visually\" id=\"sk-estimator-id-22\" type=\"checkbox\" ><label for=\"sk-estimator-id-22\" class=\"sk-toggleable__label fitted sk-toggleable__label-arrow\"><div><div>best_estimator_: XGBClassifier</div></div></label><div class=\"sk-toggleable__content fitted\"><pre>XGBClassifier(base_score=None, booster=None, callbacks=None,\n",
       "              colsample_bylevel=None, colsample_bynode=None,\n",
       "              colsample_bytree=None, device=None, early_stopping_rounds=None,\n",
       "              enable_categorical=False, eval_metric=None, feature_types=None,\n",
       "              gamma=None, grow_policy=None, importance_type=None,\n",
       "              interaction_constraints=None, learning_rate=3, max_bin=None,\n",
       "              max_cat_threshold=None, max_cat_to_onehot=None,\n",
       "              max_delta_step=None, max_depth=3, max_leaves=None,\n",
       "              min_child_weight=None, missing=nan, monotone_constraints=None,\n",
       "              multi_strategy=None, n_estimators=100, n_jobs=None,\n",
       "              num_parallel_tree=None, random_state=42, ...)</pre></div> </div></div><div class=\"sk-serial\"><div class=\"sk-item\"><div class=\"sk-estimator fitted sk-toggleable\"><input class=\"sk-toggleable__control sk-hidden--visually\" id=\"sk-estimator-id-23\" type=\"checkbox\" ><label for=\"sk-estimator-id-23\" class=\"sk-toggleable__label fitted sk-toggleable__label-arrow\"><div><div>XGBClassifier</div></div></label><div class=\"sk-toggleable__content fitted\"><pre>XGBClassifier(base_score=None, booster=None, callbacks=None,\n",
       "              colsample_bylevel=None, colsample_bynode=None,\n",
       "              colsample_bytree=None, device=None, early_stopping_rounds=None,\n",
       "              enable_categorical=False, eval_metric=None, feature_types=None,\n",
       "              gamma=None, grow_policy=None, importance_type=None,\n",
       "              interaction_constraints=None, learning_rate=3, max_bin=None,\n",
       "              max_cat_threshold=None, max_cat_to_onehot=None,\n",
       "              max_delta_step=None, max_depth=3, max_leaves=None,\n",
       "              min_child_weight=None, missing=nan, monotone_constraints=None,\n",
       "              multi_strategy=None, n_estimators=100, n_jobs=None,\n",
       "              num_parallel_tree=None, random_state=42, ...)</pre></div> </div></div></div></div></div></div></div></div></div>"
      ],
      "text/plain": [
       "RandomizedSearchCV(cv=KFold(n_splits=3, random_state=0, shuffle=True),\n",
       "                   estimator=XGBClassifier(base_score=None, booster=None,\n",
       "                                           callbacks=None,\n",
       "                                           colsample_bylevel=None,\n",
       "                                           colsample_bynode=None,\n",
       "                                           colsample_bytree=None, device=None,\n",
       "                                           early_stopping_rounds=None,\n",
       "                                           enable_categorical=False,\n",
       "                                           eval_metric=None, feature_types=None,\n",
       "                                           gamma=None, grow_policy=None,\n",
       "                                           importance_type=Non...\n",
       "                                           max_delta_step=None, max_depth=None,\n",
       "                                           max_leaves=None,\n",
       "                                           min_child_weight=None, missing=nan,\n",
       "                                           monotone_constraints=None,\n",
       "                                           multi_strategy=None,\n",
       "                                           n_estimators=None, n_jobs=None,\n",
       "                                           num_parallel_tree=None,\n",
       "                                           random_state=42, ...),\n",
       "                   n_iter=5,\n",
       "                   param_distributions={'learning_rate': [3], 'max_depth': [3],\n",
       "                                        'n_estimators': [100, 200],\n",
       "                                        'subsample': [0.5, 0.7, 0.1]},\n",
       "                   random_state=42, scoring='f1', verbose=2)"
      ]
     },
     "execution_count": 102,
     "metadata": {},
     "output_type": "execute_result"
    }
   ],
   "source": [
    "xgb_classifier = XGBClassifier(\n",
    "    objective='binary:logistic',\n",
    "    random_state=42\n",
    ")\n",
    "\n",
    "random_search = RandomizedSearchCV(\n",
    "    xgb_classifier,\n",
    "    param_distributions,\n",
    "    scoring='f1', \n",
    "    cv=folds, \n",
    "    verbose=2, \n",
    "    random_state=42,\n",
    "    n_iter=5\n",
    ")\n",
    "\n",
    "random_search.fit(X_train, y_train)"
   ]
  },
  {
   "cell_type": "code",
   "execution_count": 103,
   "id": "5823267b-be77-464c-8c1b-882bd5177c78",
   "metadata": {},
   "outputs": [
    {
     "data": {
      "text/plain": [
       "{'subsample': 0.7, 'n_estimators': 100, 'max_depth': 3, 'learning_rate': 3}"
      ]
     },
     "execution_count": 103,
     "metadata": {},
     "output_type": "execute_result"
    }
   ],
   "source": [
    "random_search.best_params_"
   ]
  },
  {
   "cell_type": "code",
   "execution_count": 104,
   "id": "1c1aa94b-b73b-4e00-a011-aa266cac4c42",
   "metadata": {},
   "outputs": [],
   "source": [
    "xgb_model = random_search.best_estimator_"
   ]
  },
  {
   "cell_type": "markdown",
   "id": "1c57222e-dfbe-4a7f-ae8c-4f9fc3be2357",
   "metadata": {},
   "source": [
    "Después de aplicar RandomizedSearchCV para la optimización de hiperparámetros en el modelo XGBoost, se han obtenido métricas de rendimiento ligeramente mejoradas en comparación con el entrenamiento sin optimización. Para la **clase 0 (noticia no falsa)**, la precisión es de 0.97 y el recall ha aumentado a 0.86, lo que indica que el modelo ha mejorado en la detección de noticias no falsas sin comprometer la precisión. Para la **clase 1 (noticia falsa)**, la precisión es de 0.91 y el recall de 0.98, lo que muestra que el modelo sigue siendo altamente efectivo en identificar noticias falsas con muy pocas omisiones.\n",
    "\n",
    "El F1-score para la clase 0 ha subido a 0.91, y para la clase 1 se mantiene en 0.94, reflejando un balance sólido entre precisión y recall. La precisión y recall promedio (macro avg) han alcanzado valores de 0.94 y 0.92 respectivamente, lo que demuestra que el modelo mantiene un buen rendimiento en ambas clases. En conclusión, el ajuste de hiperparámetros ha permitido obtener una mejora en el recall sin afectar la precisión, aunque el proceso sigue siendo costoso en términos computacionales debido a la naturaleza pesada de XGBoost."
   ]
  },
  {
   "cell_type": "code",
   "execution_count": 105,
   "id": "e2ab7c97-b328-40c1-b323-f35d3b22451c",
   "metadata": {},
   "outputs": [
    {
     "name": "stdout",
     "output_type": "stream",
     "text": [
      "Classification Report:\n",
      "               precision    recall  f1-score   support\n",
      "\n",
      "           0       0.97      0.39      0.56      6128\n",
      "           1       0.70      0.99      0.82      8764\n",
      "\n",
      "    accuracy                           0.74     14892\n",
      "   macro avg       0.83      0.69      0.69     14892\n",
      "weighted avg       0.81      0.74      0.71     14892\n",
      "\n"
     ]
    }
   ],
   "source": [
    "y_pred_train = xgb_model.predict(X_train)\n",
    "y_pred_test = xgb_model.predict(X_test)\n",
    "\n",
    "print(\"Classification Report:\\n\", classification_report(y_test, y_pred_test))"
   ]
  },
  {
   "cell_type": "code",
   "execution_count": 107,
   "id": "0558587c-bdc7-41c0-af91-93f98864ec4d",
   "metadata": {},
   "outputs": [
    {
     "data": {
      "image/png": "iVBORw0KGgoAAAANSUhEUgAAAgQAAAHFCAYAAACNXuEaAAAAOnRFWHRTb2Z0d2FyZQBNYXRwbG90bGliIHZlcnNpb24zLjEwLjAsIGh0dHBzOi8vbWF0cGxvdGxpYi5vcmcvlHJYcgAAAAlwSFlzAAAPYQAAD2EBqD+naQAAS6dJREFUeJzt3QucTeX6wPFn7syYwcwYQ0YmyaVBLv0ZXSj33Do6yVFS5NIURzjKcUI3gwqVkiTkkjqV7gmFkruoSLpNjMwYcpkLZsaY/+d5nb2bPTO22fbc7PX7ns/6zF5rvXvttSdn1rOe93nf5ZWbm5srAADA0rzL+gQAAEDZIyAAAAAEBAAAgIAAAAAQEAAAAEVAAAAACAgAAAABAQAAICAAAACKgADlznfffSf33nuvREdHS4UKFaRSpUrSvHlzmTZtmhw9erREP3vHjh3Stm1bqVy5snh5ecnMmTOL/TP0uJMmTRJPNnnyZHnvvfdces+CBQvM7+b3338vsfMCcH5eTF2M8mTu3LkSFxcn9evXNz8bNWok2dnZsm3bNrOvadOmsnz58hL7/GbNmklGRoY899xzUrVqValTp45ERkYW62ds2rRJatWqZRZPpUHc3//+d3ORL6rDhw/Lr7/+av4bBAQElOj5ASiIgADlxsaNG+WGG26Qjh07mrvL/BeFrKwsWbFihfTs2bPEzsHPz08GDx4sL730Uol9hhW4EhCcOnXKZII0OwCg7NBlgHKVZtaLwiuvvFLoHaK/v79DMHD27FnTjdCgQQPTPiIiQu6++245cOCAw/vatWsnMTExsnXrVhNwBAYGyhVXXCFTpkwxx8ibrj5z5ozMnj3bvLZdoDS9X9jFqrAU9xdffGE+LywsTCpWrCi1a9eW2267TU6ePOm0y2DXrl3Sq1cvk5XQi+M111wjCxcudGizdu1a89433nhDxo8fLzVr1pSQkBDp0KGD7N2794K/X9v30C6Z22+/3XSLhIaGyqhRo8z31mN06dJFgoODTWZEf7d5nT59WkaPHm3Ozfbe2NhYef/99x3a6WdolkXP3/Z71N9J3t/ZypUrZeDAgVKtWjXz3yMzM7PA7/Pnn38230/PNS/9Hfv4+Mijjz56we8MoOgICFAu5OTkmD/0LVq0kKioqCK95/7775eHH37YZBQ++OADeeKJJ0wGoU2bNnLkyBGHtsnJyXLnnXfKXXfdZdp27dpVxo0bJ4sXLzb7u3XrZjIUSu9s9bVtvaj0QqbH0cDltddeM+eiQUdQUJDJbpyPXoj1nHfv3i3PP/+8vPvuu6ar5J577ilwUVb//ve/Zd++ffLqq6+a4EkvnD169DC/w6Lo06eP6Xp55513TDZkxowZ8tBDD8mtt95qzl+7ZG6++Wbzu9VzsdGLttZwjBkzxmRwNDC5/vrrpXfv3vL666/b2+nvTYOhW265xf57zJ9x0WBAszGLFi2St99+27zOr169eqabSPfr78X237Ffv34msPP0Ogyg1GmXAVDWkpOTtesqt2/fvkVqv2fPHtM+Li7OYfvmzZvN9n//+9/2bW3btjXbdF9ejRo1yu3cubPDNm33wAMPOGybOHGi2Z7f/PnzzfaEhASz/vbbb5v1nTt3Oj13baPHtNHvHBAQkLt//36Hdl27ds0NDAzMPX78uFlfs2aNee8tt9zi0O6tt94y2zdu3Oj0c23f49lnn3XYfs0115jt7777rn1bdnZ2brVq1XJ79+593uOdOXPGtBs0aFBus2bNHPYFBQXlDhgw4Ly/s7vvvvuCv0+b+++/P9ff3998v5tvvjk3IiIi9+DBg06/KwDXkSHAJWnNmjXmp95F5/V///d/0rBhQ/n8888dtmthoO7Lq0mTJuZOu7hoKl2zA0OGDDHp8t9++61I79PMSPv27QtkRvS7aVdD/kxF/hoK/R6qqN+le/fuDuv6+9JUvWZNbHx9feXKK68scMz//ve/ct1115kaAW2jd/bz5s2TPXv2iCu0G6WoNINx9dVXy0033WS6TTSrU6NGDZc+D8CFERCgXAgPDzd9yQkJCUVq/+eff5qfhV0YtG/dtt9G+/Tz07oDLWgrLnXr1pXVq1ebWoYHHnjArOuiIxac0XM93/ew7Xf2XWz1FkX9Ltr3n5cGMfq719qF/Nu1bsBGuw+0u+Gyyy4zF2UNVLQuQ9P/edsVhSsXdP1+2k2gn6FBl3YRASh+BAQoF7RITO+St2/fXqAosDC2i2JSUlKBfQcPHjQBRnGxXSi1Dz2v/HUKSvu2P/zwQzlx4oQZXqhFdyNHjpRly5Y5/S7n+x6qOL+LOzQI0Lkh3nzzTVNv0Lp1a2nZsmWB30tRuDKiQAsuJ0yYINdee6188803Mn36dJc/D8CFERCg3NAiP+1i10K3worwdD4CvdgqLXpTtqJAG71j1fS1BhfFRSvulVbn52U7l/MFOK1atZIXX3zRrOuF7Hz0XLXbwBYA2Gihnt6564W3PNCLuGYN8l7Mtcgv/yiD4sy+6GgFHWWg/w20m+jBBx+URx55RDZv3uz2sQE48s23DpQZvZvWIX86IZGONtBRBNp3rIGAziCoFfU6fFAr6nXiIu2rf+GFF8Tb29v0f2uVvw5F0754rZovLlotr2n2QYMGyeOPP276znWIXGJiokO7l19+2VzYtVJfhxtqiltHGygdGng+EydOlI8++sj0keudsH7WkiVL5OOPPzajDHSIX3mgtQfabaD/fXQkhn5/Hdmh6X8d6ZBX48aNTX+/Bk26X4cy6n8zVw0bNkz2798vW7ZsMaM1nn32WdNV0bdvX/NvokqVKsX4DQFrIyBAuaLZAS3+00KyqVOnmjtQLVy76qqrTD+y3iHaaPCgffRa1KZ34nrh1HH08fHxhdYMXCwdC69DCDX1r8MW9SJ03333mSBEf9po/7aOr9cLvJ63Ft5pAKPDHDt16nTe4+uFcsOGDWY4odYe6J21FvrNnz+/QNFkWdLppFNSUkzgo4GOzuWgd+vaxfPYY485tNW6Cf0ueuHWwkidDloDBFfosErNAOnvQQNDpRkK7bLQqaz1fEpy1krAapipEAAAUEMAAAAICAAAAAEBAABQBAQAAICAAAAAEBAAAIBLfR4CfZa9zu6mk564MhUqAKB80JHvaWlp5tkdOslYSdGJwpw9hryodC6M/M/98BSXdECgwUD+J8QBAC49OvNlrVq1SiwYqBgcJnLmpNvHioyMNA9h88Sg4JIOCDQzoP679jsJrHTuNeBpticfL+tTAErM6ZPpMrnPDfa/5yXBZAbOnJSARgNEfPwv/kA5WZL8w0JzPAKCcsbWTaDBQFClkLI+HaBEVAjKKetTAEpcqXT7+lYQLzcCglwvzy67u6QDAgAAikxjDncCDy/xaAQEAABr0Dt8d+7yvTw7Q+DZ3w4AABQJGQIAgDVod4FbXQZe4skICAAA1kCXgVOe/e0AAECRkCEAAFgDXQZOERAAACzCzS4D8eykumd/OwAAUCRkCAAA1kCXgVMEBAAAa2CUgVOe/e0AAECRkCEAAFgDXQZOERAAAKyBLgOnCAgAANZAhsApzw53AABAkZAhAABYA10GThEQAAAs1GXgTkDgJZ7Ms8MdAABQJGQIAADW4O11bnHn/R6MgAAAYA3UEDjl2d8OAAAUCQEBAMBa8xC4s7jgzJkz8p///Eeio6OlYsWKcsUVV8jjjz8uZ8+etbfJzc2VSZMmSc2aNU2bdu3aye7dux2Ok5mZKcOHD5fw8HAJCgqSnj17yoEDBxzaHDt2TPr37y+VK1c2i74+fvy4K6dLQAAAsFiXgTuLC6ZOnSovv/yyzJo1S/bs2SPTpk2Tp59+Wl544QV7G902ffp002br1q0SGRkpHTt2lLS0NHubkSNHyvLly2XZsmWyfv16SU9Pl+7du0tOTo69Tb9+/WTnzp2yYsUKs+hrDQpcQQ0BAAAlYOPGjdKrVy/p1q2bWa9Tp4688cYbsm3bNnt2YObMmTJ+/Hjp3bu32bZw4UKpXr26LF26VIYOHSonTpyQefPmyaJFi6RDhw6mzeLFiyUqKkpWr14tnTt3NsGGBgGbNm2SVq1amTZz586V2NhY2bt3r9SvX79I50uGAABgDaXcZXD99dfL559/Lj/99JNZ//bbb80d/i233GLWExISJDk5WTp16mR/T0BAgLRt21Y2bNhg1rdv3y7Z2dkObbR7ISYmxt5GAw/tJrAFA6p169Zmm61NUZAhAABYQzGNMkhNTXXYrBdxXfJ7+OGHzR1+gwYNxMfHx6T4n3rqKfnHP/5h9mswoDQjkJeu79u3z97G399fqlatWqCN7f36MyIiosDn6zZbm6IgQwAAsIZiyhBERUXZi/d0iY+PL/Tj3nzzTZPe1/T/N998Y7oDnnnmGfPT8bQcMw/alZB/W3752xTWvijHyYsMAQAALkhMTJSQkBD7emHZAfWvf/1LHnnkEenbt69Zb9y4sbnz1wBiwIABpoBQ6V18jRo17O9LSUmxZw20TVZWlhlFkDdLoG3atGljb3Po0KECn3/48OEC2QdnyBAAAKyhmEYZhISEOCznCwhOnjwp3t6Ol1ntOrANO9ThiHoxX7VqlX2/XvzXrVtnv9i3aNFC/Pz8HNokJSXJrl277G20eFC7JrZs2WJvs3nzZrPN1qYoyBAAAKzhIgoDHbj43h49epiagdq1a8vVV18tO3bsMEMMBw4c+L/DeZkhhZMnT5Z69eqZRV8HBgaaYYRKuyQGDRoko0ePlrCwMAkNDZUxY8aYbINt1EHDhg2lS5cuMnjwYJkzZ47ZNmTIEDM0sagjDBQBAQAAJUDnG3j00UclLi7OpPh1dIAOJZwwYYK9zdixY+XUqVOmjXYL6EiBlStXSnBwsL3NjBkzxNfXV/r06WPatm/fXhYsWGCyDTZLliyRESNG2Ecj6ORFOreBK7xytergEqWVnho9fbwtQYIq/dWfA3iSLUnHyvoUgBJzOiNNJnRvZtLbefvlS+JaEdBhinj5Vbjo4+Rmn5bM1Y+U6LmWJTIEAABrKOUug0sNRYUAAIAMAQDAShkCdyYm8hJPRkAAALCGYpqp0FN59rcDAABFQoYAAGANFBU6RUAAALAGugycIiAAAFgDGQKnPDvcAQAARUKGAABgDXQZOEVAAACwBroMnPLscAcAABQJGQIAgCXo44Z1ceMA4skICAAAlkBA4BxdBgAAgAwBAMAi9AbfnZt8L/FoBAQAAEugy8A5ugwAAAAZAgCANZAhcI6AAABgCQQEzhEQAAAsgYDAOWoIAAAAGQIAgEUw7NApAgIAgCXQZeAcXQYAAIAMAQDASk8/didDIB6NgAAAYAle+j+30v5e4snoMgAAAGQIAADWQFGhcwQEAABrYNihU3QZAAAAMgQAAItws8sg18O7DMgQAAAsVUPgzuKKOnXqFHqMBx54wOzPzc2VSZMmSc2aNaVixYrSrl072b17t8MxMjMzZfjw4RIeHi5BQUHSs2dPOXDggEObY8eOSf/+/aVy5cpm0dfHjx8XVxEQAAAsobQDgq1bt0pSUpJ9WbVqldl+++23m5/Tpk2T6dOny6xZs0zbyMhI6dixo6SlpdmPMXLkSFm+fLksW7ZM1q9fL+np6dK9e3fJycmxt+nXr5/s3LlTVqxYYRZ9rUGBq+gyAACgBFSrVs1hfcqUKVK3bl1p27atyQ7MnDlTxo8fL7179zb7Fy5cKNWrV5elS5fK0KFD5cSJEzJv3jxZtGiRdOjQwbRZvHixREVFyerVq6Vz586yZ88eEwRs2rRJWrVqZdrMnTtXYmNjZe/evVK/fv0iny8ZAgCAtUYZuLNcpKysLHMxHzhwoMk0JCQkSHJysnTq1MneJiAgwAQLGzZsMOvbt2+X7OxshzbavRATE2Nvs3HjRtNNYAsGVOvWrc02W5uiIkMAALAEd+ch8Prfe1NTUx2264VcF2fee+89069/zz33mHUNBpRmBPLS9X379tnb+Pv7S9WqVQu0sb1ff0ZERBT4PN1ma1NUZAgAAHCBpuxtBXy6xMfHX/A9mvrv2rWrucPPK3+Aol0JFwpa8rcprH1RjpMfGQIAgCUUV4YgMTFRQkJC7NsvlB3QO37t83/33Xft27SAUOldfI0aNezbU1JS7FkDbaNdDTqKIG+WQNu0adPG3ubQoUMFPvPw4cMFsg8XQoYAAGAJxTXKICQkxGG5UEAwf/58k8Lv1q2bfVt0dLS5mNtGHii9+K9bt85+sW/RooX4+fk5tNHRCrt27bK30eJBLT7csmWLvc3mzZvNNluboiJDAABACTl79qwJCAYMGCC+vn9dcjW40CGFkydPlnr16plFXwcGBpphhEq7IwYNGiSjR4+WsLAwCQ0NlTFjxkjjxo3tow4aNmwoXbp0kcGDB8ucOXPMtiFDhpihia6MMFAEBAAASyiuLgNXaFfB/v37zeiC/MaOHSunTp2SuLg40y2gIwVWrlwpwcHB9jYzZswwgUSfPn1M2/bt28uCBQvEx8fH3mbJkiUyYsQI+2gEnbxI5zZwlVeuVh5corTSUyOoj7clSFClv/pzAE+yJelYWZ8CUGJOZ6TJhO7NTIo7b798SVwrqt+7SLz9Ay/6OGezTsqh+f1L9FzLEjUEAACALgMAgDWURZfBpYSAAABgCQQEzhEQAAAsgYDAOWoIAAAAGQIAgEW4+YAi8ewEAQEBAMAa6DJwji4DAABAhsBqlr33pXy95Qc5cPCI+Pv7SaOromRgv04SVTPc3mbRf7+QdRt3yeE/T4ifr49cGV1T7rmjvTSoF2VvczD5qLy65DPZ/eM+yT6TIy2aXilx93STqlUq2dtMfHqJ/PZ7shxPzZBKQRWkWUxdGdSvo4SFet6EHig/tnz9rWz9+js5fvTcI2qrRYZJu86t5KqG0WZ9wkMzCn1fpx43yPU3tzSvP3hrtfz6035JS003j5+tHV1DOna/QapVD7W3n/74PDl+zPExuPp+PQ7KJzIE5TwgeOmll+Tpp582D2y4+uqrZebMmXLDDfwfqqR8v+d36dGplVxV9zIzx/aCZatl/OSF8sozw6VCBX/TplaNcIm7t5vUiKgqmVlnZPknG+Tfk1+X154bKVVCguT06SzznujLI2XKo/ea97z+1ucmAJj5xGDx9j6XeGraKFr63nqjhFYJlj+PpsrcxZ/JkzPelBlPDC7T3wE8W0jlStKx+/USGl7FrO/c+oO8Me8DuX/0nRJRI1z+9dgQh/Y/7/ld3n9zpTRqcqV9W81aEdKkRQOpXDVYTmWcljWfbZLXX35XHnp0oP3ft7q5a6y0aN3Yvu4f4Fcq3xEXx0vcDAjEswOCMu0yePPNN83DHcaPHy87duwwgYA+L1rnfUbJeGrc3dKpXTOpExUhV1weKaPu/5ukHDkhPycctLe56fom0rxxXalRPdS0G9K/i5w8lSkJ+5LN/t1798uhw8dl9P1/k+ja1c0yatjf5Kdf/5CduxPsx+ndrY00rBcl1atVkUb1a0ufXjfIj78ckDNncsrku8MaGsTUlasaRUt4RFWzdOh2nblQJ/7v329wSJDD8uOuX6XOlVH2AEK1bNNE6tStJVVDK0vNqOrS/pY2cuJ4mj3rYOMf4O9wrICAc0E1cCkq04Bg+vTp5klO9913n3lik2YHoqKiZPbs2WV5WpZy8uRp8zO4UsVC92efOSOffr5NggIrmADCtk28vMTP768Ek7+/r3h7eZkuhMKkpZ+UNeu/k4ZXRYmv718P5QBKkmbBvv9mr2RlnpGoOn89c94mPS1DfvohQVq0ijnvMbIys2XH5t1SNTREQqr89dAZtf7zrRI/fra89PRiWbdqM8GuRR5/7KnKrMtAn/u8fft2eeSRRxy269OaNmzYUFanZSn6XKs5i1bI1fVrS52o6g77Nm/fK/HP/1cys7IltEolmTx+gFQOCTL7tJagQoCfvLZ0pdzTt4NIrsi8pSvlbG6uHD2e7nCceUtWygcrN0tmZrY0qFdLHh97V6l+R1jToYNHZO5zy+TMmTOmBuAfA3tIRGRYgXY7tvwgARX8pGGe7gKbLeu/lZUffiVZWdkSHhEqA+6/zSGYbX1jM6lRK0IqBgbIH/uTZdVHX8uxP1Pl1r4dS/z74SIx7LB8BgRHjhyRnJwcqV7d8UKk68nJ51J7+WVmZpol7xOscPFenP+xJOw7JM8+NqjAvqZXR8tLU++XE2kn5dPPt8vkmW/Kc08OkSqVK5k6gvEj75BZ8z6U91dsNlFzuzaN5croGuLj7fj/mL/3uE4639RcUo4cl8XvrJWnX3rHBAWeHmmjbIVFVJX7x9wlp0+dlh+++0XeXfqZDHzw9gJBwY4tu6VJ84YO2S4brSGoW7+2pKVmyNdrtsubCz+W+0bcYW/bpl1ze9vImtWkQsUK8uaCj6RTj+slMKjwjBtQnpX5sMP8Fwa9az3fxSI+Pt48wtK2aPcCLs5L8z+WTdt+lGkT7pVqYZUL7NcCw5qRYaYGYNSwW8XHx1tWrPnGvl9HFcx//iFZNmesvDX3YRn74G3y59E0qR5R1eE4mlWoVTNcmje5UsaNuF227vhZ9vycWCrfEdald/Jh1arIZbUjTYFhZM1w2fTlDoc2v/96QI6kHJMWrQvvLqhQMUDCqlU1tQR33NNdjqQclT3f/3Lez4y6/FyXxJ9Hjhfzt0FxocugnAYE4eHh4uPjUyAbkJKSUiBrYDNu3DjzHGrbkpjIhcVVGnC9+NpHZujh1Efvlch8F/Dzv08kO/tMge16wa8UVFF27vrNDC9s3aKBk4Oc+5GdTT8rSpf+08vfv//N5t1mNEHkZdWKfJAcJzUCSX+kmJ9aXIjyiYCgnHYZaL9eixYtZNWqVfK3v/3Nvl3Xe/XqVeh7AgICzIKLp8HAmq+/l4lj/iEVK/rL0eNpZrsWDQb4+5khhW8sXyetWzYwwwVT00/KRyu3yJGjqXJDnjuplWu/kajLqknl4CBzx//ywk/kb7fE2ucz2PvLAdn7yx9ydYPaJmBITjkqr7/1hRm5oIWFQElZ9fF6qdegjhkymHU6W77fsVd+/+WA9B/619+Z06czZfe3P0mXnjcWeP/RI8dl186f5Mr6l0tgpYqSeiJd1n++TXz9fKXe/+Yy2P/7QTnwe7JE16slFSqcqyH49P110iDmCqlSlXk2yiu9nrtzTffy7HigbOchGDVqlPTv319atmwpsbGx8sorr5ghh8OGDSvL0/JoH63aan6OfXy+w3YdNqjDEb29vSTx4BFZPX2ZpKadlODgQLnqisvkmUmDzBBEG53YaP4bqyUt/ZQZVtj3bzdK71va2PfrpEdfb/1BFr39hZzOPFeY2LJpPRn3zz7iX0h/LVBcMtJOyrtLPjN9/xUq+kv1GuEmGNALvM2ub/aaO/7GzQtmtPTCv++3P2Tjuh2mBiEoOFDqXFFLBv/zDqkUHHiujY+P7Nq5V9Z+tknO5JwxQYDOR2Cb2Ai4FHnlag65jCcmmjZtmpmYKCYmRmbMmCE33lgwai+MFhVqLcHH2xIkqBJROTzTlqRjZX0KQIk5nZEmE7o3M93AISEl83fcdq24Yvjb4h1w8V06ZzMz5LcX/l6i51qWyvxWLS4uziwAAJQoN7sMxMO7DMp8lAEAACh7ZZ4hAACgNPBwI+cICAAAlsAoA+foMgAAAGQIAADWoMOqdblYuW6891JAQAAAsAS6DJyjywAAAJAhAABYA6MMnCMgAABYAl0GzhEQAAAsgQyBc9QQAAAAMgQAAGsgQ+AcGQIAgKVqCNxZXPXHH3/IXXfdJWFhYRIYGCjXXHONbN++3b5fHzg8adIkqVmzplSsWFHatWsnu3fvdjhGZmamDB8+XMLDwyUoKEh69uwpBw4ccGhz7Ngx6d+/v3mqoy76+vjx4y6dKwEBAAAlQC/S1113nfj5+cmnn34qP/zwgzz77LNSpUoVe5tp06bJ9OnTZdasWbJ161aJjIyUjh07Slpamr3NyJEjZfny5bJs2TJZv369pKenS/fu3SUnJ8fepl+/frJz505ZsWKFWfS1BgWuoMsAAGAJXuJml4G49t6pU6dKVFSUzJ8/376tTp06DtmBmTNnyvjx46V3795m28KFC6V69eqydOlSGTp0qJw4cULmzZsnixYtkg4dOpg2ixcvNsddvXq1dO7cWfbs2WOCgE2bNkmrVq1Mm7lz50psbKzs3btX6tevX6TzJUMAALCE4uoySE1NdVg0pV+YDz74QFq2bCm33367RERESLNmzcyF2iYhIUGSk5OlU6dO9m0BAQHStm1b2bBhg1nX7oXs7GyHNtq9EBMTY2+zceNG001gCwZU69atzTZbm6IgIAAAwAV6d27rq9clPj6+0Ha//fabzJ49W+rVqyefffaZDBs2TEaMGCGvv/662a/BgNKMQF66btunP/39/aVq1apO22jAkZ9us7UpCroMAACWUFyjDBITEyUkJMThrr4wZ8+eNRmCyZMnm3XNEGjBoAYJd999d4Hj5u1KuNB55m9TWPuiHCcvMgQAAEsori6DkJAQh+V8AUGNGjWkUaNGDtsaNmwo+/fvN6+1gFDlv4tPSUmxZw20TVZWlilQdNbm0KFDBT7/8OHDBbIPzhAQAABQAnSEgRb15fXTTz/J5Zdfbl5HR0ebi/mqVavs+/Xiv27dOmnTpo1Zb9GihRmlkLdNUlKS7Nq1y95Giwe1+HDLli32Nps3bzbbbG2Kgi4DAIAllPbERA899JC5IGuXQZ8+fcwF+5VXXjGL7Xg6pFD3a52BLvpa5yvQYYRKaxQGDRoko0ePNnMZhIaGypgxY6Rx48b2UQeadejSpYsMHjxY5syZY7YNGTLEDE0s6ggDRUAAALCE0n640bXXXmvmDxg3bpw8/vjjJiOgwwzvvPNOe5uxY8fKqVOnJC4uznQL6EiBlStXSnBwsL3NjBkzxNfX1wQV2rZ9+/ayYMEC8fHxsbdZsmSJKVi0jUbQyYt0bgOXvl+uVh1conS4h0ZPH29LkKBKfxV4AJ5kS5Jj3yHgSU5npMmE7s1MejtvoV5JXCtaTPhYfCoEXfRxck5nyPbHu5XouZYlaggAAABdBgAAi3Czy0A8+9lGBAQAAGvgaYfO0WUAAADIEAAArKG0RxlcaggIAACWQJeBc3QZAAAAMgQAAGugy8A5AgIAgCXQZeAcXQYAAIAMAQDAGsgQOEdAAACwBGoInCMgAABYAhkC56ghAAAAZAgAANZAl4FzBAQAAEugy8A5ugwAAAAZAgCANej9vVtdBuLZCAgAAJbg7eVlFnfe78noMgAAAGQIAADWwCgD5wgIAACWwCgD5wgIAACW4O11bnHn/Z6MGgIAAECGAABgEaaGgHGH50NAAACwBIoKnaPLAAAAkCEAAFiD1//+5877PRkBAQDAEhhl4BxdBgAAgAwBAMAamJioGAKC559/XopqxIgRRW4LAEBpYZRBMQQEM2bMKHL0REAAAIDIpEmT5LHHHnPYVr16dUlOTjavc3Nzzf5XXnlFjh07Jq1atZIXX3xRrr76anv7zMxMGTNmjLzxxhty6tQpad++vbz00ktSq1Ytext9r157P/jgA7Pes2dPeeGFF6RKlSrFHxAkJCS4dFAAAMqbsnj88dVXXy2rV6+2r/v4+NhfT5s2TaZPny4LFiyQq666Sp588knp2LGj7N27V4KDg02bkSNHyocffijLli2TsLAwGT16tHTv3l22b99uP1a/fv3kwIEDsmLFCrM+ZMgQ6d+/v3lfqdQQZGVlmUChbt264utLKQIAoHwriy4DX19fiYyMLLBdswMzZ86U8ePHS+/evc22hQsXmgzC0qVLZejQoXLixAmZN2+eLFq0SDp06GDaLF68WKKiokyQ0blzZ9mzZ48JBDZt2mQyDGru3LkSGxtrAov69euX3CiDkydPyqBBgyQwMNBEPvv37zfbNV0xZcoUVw8HAECpFhW6s6jU1FSHRdP65/Pzzz9LzZo1JTo6Wvr27Su//fab2a431Np10KlTJ3vbgIAAadu2rWzYsMGsaxYgOzvboY0eKyYmxt5m48aNUrlyZXswoFq3bm222dqUWEAwbtw4+fbbb2Xt2rVSoUIF+3aNXt58801XDwcAwCUlKirKXHBtS3x8fKHt9CL9+uuvy2effWbu2jUAaNOmjfz555/2OgLNCJyvxkB/+vv7S9WqVZ22iYiIKPDZus3WpqhczvW/99575sKvEUjeIRiNGjWSX3/91dXDAQBwSXUZJCYmSkhIiMOdfWG6du1qf924cWOTxtdudu0a0GvouWN6FehKuNDwxvxtCmtflOO4nSE4fPhwodFIRkaGx4/RBABc+kWF7ixKg4G8y/kCgvyCgoJMYKDdCLa6gvx38SkpKfasgbbRej0dReCszaFDhwq9VufPPhR7QHDttdfKxx9/bF+3BQG2IgYAAFCQ1hpoEWCNGjVMTYFezFetWmXfrxf/devWmW4F1aJFC/Hz83Nok5SUJLt27bK30euuFh9u2bLF3mbz5s1mm61NiXUZaF9Jly5d5IcffpAzZ87Ic889J7t37zaFDfpFAAAoj/T21Z08tpeL7XX+gB49ekjt2rXNXb0OK9QixAEDBpibaR1SOHnyZKlXr55Z9LUW7OswQqX1CVrEr0MNdchhaGioOaZmGWyjDho2bGiuyYMHD5Y5c+bYhx3q0ERXRhhcVECgEcfXX38tzzzzjOkLWblypTRv3twEBHqSAACUR6U9dfGBAwfkH//4hxw5ckSqVatm6gZ0eODll19u9o8dO9ZMNhQXF2efmEivqbY5CGwTA+rQxT59+tgnJtJ5C/LOZ7BkyRIz0s82GkEnJpo1a5br3y9XKw8uURppaQT18bYECar0V4EH4Em2JDn2HwKe5HRGmkzo3sykuPMW6pXEteK2l78Sv4qVLvo42afS5Z1hN5TouZali5pRKCcnR5YvX276QjRi0pRFr169mKAIAFBu8fhj51y+gmsxg178tTLS1j/x008/mXSIzqNMtwEAoDziaYfFPMrgvvvuMzMUat/IN998YxYdk9mkSRNTyAAAACyQIdBZCrdt2+Ywc5K+fuqpp8yQRAAAyisPv8kv3QyBdhMUNgmCDqm48sor3TsbAADK+bMMLJ0h0ApNGx0nqcMb9DnPtqkXdRjF448/LlOnTi25MwUAwA0UFRZDQFClShWHyEhHKuqYSNs228hFnYBBRyAAAAAPDAjWrFlT8mcCAEAJYpRBMQQE+nxmAAAuZaU9dfGl5qJnEjp58qTs37/fPIwhLx1+CAAAPDwg0Ecq3nvvvfLpp58Wup8aAgBAeZT3EcYX+35P5vKwQ306kz6EQUcWVKxYUVasWCELFy40T2rSmQoBACiP9Hru7uLJXM4QfPHFF/L++++bSYi8vb3NU5s6duxoHvSgj0bu1q1byZwpAAAoPxmCjIwMiYiIMK/12czahaD0GQY6jTEAAOURExOVwEyFe/fuNa+vueYamTNnjvzxxx/y8ssvS40aNVw9HAAApYIug2LuMtAagqSkJPN64sSJ0rlzZ1myZIn4+/vLggULXD0cAAC4FAOCO++80/66WbNm8vvvv8uPP/4otWvXlvDw8OI+PwAAigWjDEpoHgKbwMBAad68ubuHAQCgRLmb9vfy7HigaAHBqFGjinzA6dOnu3M+AACUCKYuLoaAYMeOHUVp5vG/LAAAPJVHPNyoZXSomQcB8ERd+k4o61MASkxujuP09yU9rM7bzfd7MrdrCAAAuBTQZWDtgAcAABQBGQIAgCXoDb43owzOi4AAAGAJ3m4GBN4eHhDQZQAAAC4uIFi0aJFcd911UrNmTdm3b5/ZNnPmTPMURAAAyiMeblTMAcHs2bPNREW33HKLHD9+XHJycsz2KlWqmKAAAIDy3GXgzuLJXA4IXnjhBZk7d66MHz9efHx87Ntbtmwp33//fXGfHwAAKI9FhQkJCeahRvkFBARIRkZGcZ0XAADFimcZFHOGIDo6Wnbu3Flg+6effiqNGjVy9XAAAJTq0w7dWTyZyxmCf/3rX/LAAw/I6dOnJTc3V7Zs2SJvvPGGxMfHy6uvvloyZwkAgJuYuriYv9+9994rEydOlLFjx8rJkyelX79+8vLLL8tzzz0nffv2dfVwAAB4vPj4eDNKYeTIkfZtelM9adIkM2KvYsWK0q5dO9m9e7fD+zIzM2X48OESHh4uQUFB0rNnTzlw4IBDm2PHjkn//v2lcuXKZtHXWvRfKgHP4MGDzXDDlJQUSU5OlsTERBk0aNDFHAoAgFKtIXBnuRhbt26VV155RZo0aeKwfdq0aTJ9+nSZNWuWaRMZGSkdO3aUtLQ0exsNIJYvXy7Lli2T9evXS3p6unTv3t0+wk/pjbl25a9YscIs+lqDglLNgGjEEhER4c4hAAAoFd7iZg2BuB4R6AX8zjvvNKPzqlat6pAd0KH6OmKvd+/eEhMTIwsXLjSZ96VLl5o2J06ckHnz5smzzz4rHTp0MAX9ixcvNiP6Vq9ebdrs2bPHBAHaZR8bG2sW/ayPPvpI9u7d6+Lv5yKKCq+44orzLgAAeLLU1FSHRdP656M1d926dTMX9Pwj9jTD3qlTJ4fRem3btpUNGzaY9e3bt0t2drZDG+1e0ODB1mbjxo2mm6BVq1b2Nq1btzbbbG1KrKgwb/+H0pPdsWOHiVC04BAAAE8edhgVFeWwXevqtBYgP03zf/PNN6Y7ID8NBlT16tUdtuu6bQZgbePv7++QWbC1sb1ffxaWqddttjYlFhD885//LHT7iy++KNu2bXP1cAAAXFIPN0pMTJSQkBCHO/v8tI1eL1euXCkVKlQ47zHzT4esXQkXmiI5f5vC2hflOCU2iqJr167yzjvvFNfhAAAol0JCQhyWwgICTfdr4X2LFi3E19fXLOvWrZPnn3/evLZlBvLfxet7bPu0yDArK8uMInDW5tChQwU+//DhwwWyD6UWELz99tsSGhpaXIcDAKBY6Q2zO0WFXi7ccLdv394U/2nFv23RKf61wFBfa82dXsxXrVplf49e/DVoaNOmjVnXYMLPz8+hTVJSkuzatcveRosItfhQ5wSy2bx5s9lma1NiXQZa5Zg3DaFpCY1wNBp56aWXXD0cAAAeN3VxcHCwKf7LS+cRCAsLs2/XmrzJkydLvXr1zKKvAwMDzTBCpYWBOqR/9OjR5n160z1mzBhp3LixvUixYcOG0qVLFzMdwJw5c8y2IUOGmKGJ9evXL9mA4NZbb3VY9/b2lmrVqpkJFRo0aODq4QAAsKSxY8fKqVOnJC4uznQL6EgBrTnQYMJmxowZpouhT58+pq1mHhYsWODwcMElS5bIiBEj7KMRdPIindvAVV65eotfRGfOnDEf3LlzZ5PqKGs63EMjqEN/nnAo8AA8SdVrHyzrUwBKTG5OlmR+P9ekuEvq77jtWvGf97+RCkF/XWxddTojTZ7s1bxEz7UsuVRDoFHK/fff73TMJQAA5ZFXMfzPk7lcVKgpDZ13AACAS3HYoTuLJ3O5hkD7OrTAQR+uoBWQWiSRV/65mgEAgAcFBAMHDjTzLt9xxx1mXQsYbHTUgW0ShLwPXAAAwNMmJhKrBwT60IUpU6aY+ZcBALjU6E2rq7P35eXOez0qILANRrj88stL8nwAAEB5ryHw9OgIAOC56DIoxoDgqquuumBQcPToUVcOCQCAx81U6PEBwWOPPWYmdwAAABYOCPr27Vvoc5cBACjvbA8pcuf9nqzIAQH1AwCASxk1BMU0U6ELjzwAAACemiE4e/ZsyZ4JAAAlyc2iQvHwDIHLUxcDAHAp8hYvs7jzfk9GQAAAsASGHRbz0w4BAIDnIUMAALAERhk4R0AAALAE5iFwji4DAABAhgAAYA0UFTpHQAAAsM6wQ3e6DMSzIwK6DAAAABkCAIA10GXgHAEBAMASvN1Mi3uLZ/P07wcAAIqADAEAwBK8vLzM4s77PRkBAQDAEvRyzsMOz4+AAABgCcxU6Bw1BAAAgAwBAMA6PPse3z0EBAAAS2AeAufoMgAAAAQEAABrDTt0Z3HF7NmzpUmTJhISEmKW2NhY+fTTT+37c3NzZdKkSVKzZk2pWLGitGvXTnbv3u1wjMzMTBk+fLiEh4dLUFCQ9OzZUw4cOODQ5tixY9K/f3+pXLmyWfT18ePHxVUEBAAAS81U6M7iilq1asmUKVNk27ZtZrn55pulV69e9ov+tGnTZPr06TJr1izZunWrREZGSseOHSUtLc1+jJEjR8ry5ctl2bJlsn79eklPT5fu3btLTk6OvU2/fv1k586dsmLFCrPoaw0KXOWVqyHKJSo1NdVEQ4f+PGGiL8ATVb32wbI+BaDE5OZkSeb3c+XEiZL7O267Vrz25R4JrBR80cc5mZ4mA29s6Na5hoaGytNPPy0DBw40mQG94D/88MP2bED16tVl6tSpMnToUPM51apVk0WLFskdd9xh2hw8eFCioqLkk08+kc6dO8uePXukUaNGsmnTJmnVqpVpo681G/Hjjz9K/fr1i3xuZAgAAJZQXF0GqampDoteyC9E7+j1Lj8jI8NcrBMSEiQ5OVk6depkbxMQECBt27aVDRs2mPXt27dLdna2QxsNImJiYuxtNm7caIIdWzCgWrdubbbZ2hQVAQEAwFIzFbqzKL1Dt/XX6xIfHy/n8/3330ulSpXMxX7YsGEm/a939BoMKM0I5KXrtn3609/fX6pWreq0TURERIHP1W22NkXFsEMAAFyQmJjo0GWgF/vz0ZS99ulrkd8777wjAwYMkHXr1tn35y9U1F78CxUv5m9TWPuiHCc/MgQAAEsori6DkP+NGrAtzgICvcO/8sorpWXLliaT0LRpU3nuuedMAaHKfxefkpJizxpom6ysLDOKwFmbQ4cOFfjcw4cPF8g+XAgBAQDAEkp7lEFh9M5daw6io6PNxXzVqlX2fXrx1+xBmzZtzHqLFi3Ez8/PoU1SUpLs2rXL3kbrEbT4cMuWLfY2mzdvNttsbYqKLgMAgCWU9uOP//3vf0vXrl1NzYEOJdSiwrVr15qhgXosHWEwefJkqVevnln0dWBgoBlGqLQ+YdCgQTJ69GgJCwszIxTGjBkjjRs3lg4dOpg2DRs2lC5dusjgwYNlzpw5ZtuQIUPM0ERXRhgoAgIAAEqApvJ1PgC9q9eLu05SpMGAzjWgxo4dK6dOnZK4uDjTLaAjBVauXCnBwX8NjZwxY4b4+vpKnz59TNv27dvLggULxMfHx95myZIlMmLECPtoBJ28SOc2cBXzEADlHPMQwJOV5jwES77+ye15CO687qoSPdeyRIYAAGAJPNzIOYoKAQAAGQIAgDV4i5dZ3Hm/JyMgAABYAl0GztFlAAAAyBAAAKzB63//c+f9noyAAABgCXQZOEeXAQAAIEMAALAGTfm7M1LAiy4DAAAufXQZOEdAAACwBAIC56ghAAAAZAgAANbAsEPnCAgAAJbg7XVucef9nowuAwAAQIYAAGANdBk4R0AAALAERhk4R5cBAAAgQwAAsAa9wXevy8CzERAAACyBUQbO0WUAAADIEKCgJj0nSGLS0QLbB/39Bnnm4TskbtIieePjzQ77WsbUkVXzx5TiWQKF8/HxlkcG3yK3d2kpEWEhcujPVFn60SZ5Zt5nkpuba293VZ3qMmn4rXJd8yvFy8tLfvwtSQaOe00OHDpm9keEBcvjI/4m7Vo1kEqBAfLLvhSZPv8z+eCLnfZjNKlfyxyjeaPakpOTKx+s2Sn/mfGOZJzKKpPvDucYZVCOA4Ivv/xSnn76adm+fbskJSXJ8uXL5dZbby3LU4KIfLHwX+aPm82eXw/K3x6cJbd2aGbf1j62kbw44S77ur+fT6mfJ1CYkXd3lHtvu94Ernt+S5JmDWvLrAl3SWr6aZmzbK1pU+eycPl07ihZ/MEGiZ/zsaRmnJL6dSLldFa2/TgvPzZAQipVkH6j5sifJ9Ll751bymuTB8pNd0+T7386IJHhleW9F4fL8lXfyNin35LgoAoSP+o2eXFif7nnkXll+BvA+TDKoBwHBBkZGdK0aVO599575bbbbivLU0Ee4VWDHdZnLlwp0bXC5brm9ezbAvx9pXp4SBmcHeDctY2j5ZN138nKr3ebdc123da5pQkMbB6N6yGrNuyWiS+8b9+2748/CxxnzJRl8s0P+8z6s699JnH/uFmaNogyAUHnG2Ik+0yOjJn2lj3zoK+/WjLO/P8l4cCRUvrGcK2o0L33e7IyrSHo2rWrPPnkk9K7d++yPA04kZV9Rt76dKvc2TPWpFVt1m//Wep1ekRa3vaY/PPJpXL4aFqZnidgs+nbX6XttfWlbu0Isx5T7zJp3fQKWfW/AEH/HXe87mr5ZX+KvP38A/LTZ/Gmu+uWtk0KHOdvHVtIlZBA857eHVuIv7+v+bev/P18TUCQtxvidOa5DEPra+qW4jcGLFhDkJmZaRab1NTUMj0fK/h47XdyIv2U9Oveyr6tQ5tG0qtDM4mKDJV9B/+UyS9/JD3vf17WLhorAf5+ZXq+wMyFqySkUkXZ8t//SM7ZXPHx9pInZ38k76zcbvZXC61k0vsjB3SUp2Z/JJNmvScdYhvJomn3SY/7n5cN3/xi2g0a95rMix8oCZ9PMxf+U6ezpP+/5srvf5y78/9q21556qHeMvyu9vLysrUSWNFfHo3rafZpdwLKH2/xEm838v7eHp4juKQCgvj4eHnsscfK+jQsRftY9Y9ljWpV7Nt6d2phf93oyprSrFFtadJjgqxcv1t63HxNGZ0pcI7eyffpeq0M/s9CUyjY+KrLZPKov0vS4ROy7OPN4u11LjH66brvZfYba8zrXT/9If/X5AoZ2Pt6e0Aw/v4eUiU4UHrFPS9Hj2eYDMKCKQPllsEz5YdfD8qPvyWbOoUnH+otEx7oKTlnz8orb64zRYw5OWfL9HeAwtFl4EEBwbhx42TUqFEOGYKoqKgyPSdPtj/pqKzdslcWTRvstJ3eDUXVCJVfEw+X2rkB5/P4P281WYJ3V53LCOjFu1aNUHnono4mIPjzeLq54/8xIcnhfT8lJEvra66wFx0OuaOtxN7xpLnwq10//yGxzerKfbffKKOmLDPb3v5sm1mqhQbLyVOZor0Hcf1uNpkz4FJzSQUEAQEBZkHpWPrhRqlWNVg6XXe103ZHj6fLH4eOSSRFhigHKgb4y9mzjnfoZ8/m2jMDGgzs+GGf1Lu8ukMbrTlITDo35DCwgr/9fXnp6BuvQmansdXQ3NmjtRmpsGbzj8X8rVAsSBF4TkCA0qN/UJd8uEn6dmslvr5/DSlMP5kpU1/52HQNaGZgf9Kf8viLH0pYlUrSrV3TMj1nQK1Y/72MurezHEg+ZoYd6lwBcf1ukiUfbLK3eX7RajOEcMOOX+SrbT+ZbrEuN8RIj2HPmf0//Z4sv+5PkRnj/iGPPrdcjp7IkG7tmshNrepL34deth9n8O03yubvfjPzDtzUqoE8NuJWeWzW+5KafqpMvjucYx6CchwQpKenyy+/nOuvUwkJCbJz504JDQ2V2rX/GiKE0qddBfoH9a6erR22a4GWpmCXfbJFTqSdMkMPb2hxlfnjqoVaQFl7+On/yr+HdTeTaIVXrSTJR07Igne/lmmvfupQLDsqfpk8dE8nmTL672bEwd0Pvyqbvv3N7D+Tc1b6jJwtEx/sJW9MHypBgQGSkHjY1Ays2vCD/TjNr75cHhnSTYIC/eXn3w/JqMlvyJufbi2T7w24yys375iZUrZ27Vq56aabCmwfMGCALFiw4ILv1xqCypUry6E/T0hICOlqeKaq1z5Y1qcAlJjcnCzJ/H6unDhRcn/HbdeKz3ful0rBF/8Z6Wmp0v6a2iV6rpadh6Bdu3ZmDG/+pSjBAAAAF1NC4M7i6si4a6+9VoKDgyUiIsLMxLt3716HNnrNmzRpktSsWVMqVqxorou7d5+bM8NGh9sPHz5cwsPDJSgoSHr27CkHDhxwaHPs2DHp37+/CXx00dfHjx936Xx5uBEAACVg3bp18sADD8imTZtk1apVcubMGenUqZOZpddm2rRpMn36dJk1a5Zs3bpVIiMjpWPHjpKW9tdkbyNHjjRT+y9btkzWr19vutu7d+8uOTk59jb9+vUzXe4rVqwwi77WoOCS6TJwF10GsAK6DODJSrPL4Itv3e8yuLnpxXcZHD582GQKNFC48cYbTXZAMwN6wX/44Yft2YDq1avL1KlTZejQoeazqlWrJosWLZI77rjDtDl48KAZcv/JJ59I586dZc+ePdKoUSMTeLRqdW4SOX0dGxsrP/74o9SvX79I50eGAABgqVEG7vzPFmDkXfLOoOuMXtyVFs7bCumTk5NN1sBGh9a3bdtWNmzYYNb14X/Z2dkObTSIiImJsbfZuHGjCXhswYBq3bq12WZrUxQEBAAASz3t0J1F6d25ra9eF60VuBDNBujEetdff725mCsNBpRmBPLSdds+/env7y9Vq1Z12kYzD/npNlubomAeAgAAXJCYmOjQZVCUCfMefPBB+e6770wNQH55HxxnCx7yb8svf5vC2hflOHmRIQAAWEJxjTIICQlxWC4UEOgIgQ8++EDWrFkjtWrVsm/XAkKV/y4+JSXFnjXQNllZWWYUgbM2hw4dKrRmIX/2wRkCAgCANZTyuMPc3FyTGXj33Xfliy++kOjoaIf9uq4Xcx2BYKMXfy06bNOmjVlv0aKF+Pn5ObRJSkqSXbt22dto8aDWJ2zZssXeZvPmzWabrU1R0GUAAEAJ0CGHS5culffff9/MRWDLBGjdgc45oOl8HWEwefJkqVevnln0dWBgoBlGaGs7aNAgGT16tISFhZmCxDFjxkjjxo2lQ4cOpk3Dhg2lS5cuMnjwYJkzZ47ZNmTIEDM0sagjDBQBAQDAEkr7WQazZ882P3Wyobzmz58v99xzj3k9duxYOXXqlMTFxZluAR0psHLlShNA2MyYMUN8fX2lT58+pm379u3NBH4+Pn89Z2bJkiUyYsQI+2gEnbxI5zZw6fsxDwFQvjEPATxZac5D8NWuA27PQ3BDTC2mLgYAAJ6LLgMAgCVczPMI8vLshx8TEAAArIKIwCm6DAAAABkCAIA1lPYog0sNAQEAwBLyPo/gYt/vyQgIAACWQAmBc9QQAAAAMgQAAIsgReAUAQEAwBIoKnSOLgMAAECGAABgDYwycI6AAABgCZQQOEeXAQAAIEMAALAIUgROERAAACyBUQbO0WUAAADIEAAArIFRBs4REAAALIESAucICAAA1kBE4BQ1BAAAgAwBAMAaGGXgHAEBAMAa3CwqFM+OB+gyAAAAZAgAABZBTaFzBAQAAGsgInCKLgMAAECGAABgDYwycI6AAABgCUxd7BxdBgAAgAwBAMAaqCl0joAAAGANRARO0WUAALBUUaE7/3PFl19+KT169JCaNWuKl5eXvPfeew77c3NzZdKkSWZ/xYoVpV27drJ7926HNpmZmTJ8+HAJDw+XoKAg6dmzpxw4cMChzbFjx6R///5SuXJls+jr48ePi6sICAAAKAEZGRnStGlTmTVrVqH7p02bJtOnTzf7t27dKpGRkdKxY0dJS0uztxk5cqQsX75cli1bJuvXr5f09HTp3r275OTk2Nv069dPdu7cKStWrDCLvtagwFV0GQAArNNj4M4oA3FN165dzVIYzQ7MnDlTxo8fL7179zbbFi5cKNWrV5elS5fK0KFD5cSJEzJv3jxZtGiRdOjQwbRZvHixREVFyerVq6Vz586yZ88eEwRs2rRJWrVqZdrMnTtXYmNjZe/evVK/fv0iny8ZAgCApUoI3FlUamqqw6JpfVclJCRIcnKydOrUyb4tICBA2rZtKxs2bDDr27dvl+zsbIc22r0QExNjb7Nx40bTTWALBlTr1q3NNluboiIgAADABXqHbuuv1yU+Pl5cpcGA0oxAXrpu26c//f39pWrVqk7bREREFDi+brO1KSq6DAAAllBcExMlJiZKSEiIw539xR/Tq0BXQv5t+eVvU1j7ohwnPzIEAACLKJ5Og5CQEIflYgICLSBU+e/iU1JS7FkDbZOVlWVGEThrc+jQoQLHP3z4cIHsw4UQEAAAUMqio6PNxXzVqlX2bXrxX7dunbRp08ast2jRQvz8/BzaJCUlya5du+xttHhQiw+3bNlib7N582azzdamqOgyAABYQmk/yyA9PV1++eUXh0JCHRIYGhoqtWvXNkMKJ0+eLPXq1TOLvg4MDDTDCJXWJwwaNEhGjx4tYWFh5n1jxoyRxo0b20cdNGzYULp06SKDBw+WOXPmmG1DhgwxQxNdGWGgCAgAAJZQ2hMVbtu2TW666Sb7+qhRo8zPAQMGyIIFC2Ts2LFy6tQpiYuLM90COlJg5cqVEhwcbH/PjBkzxNfXV/r06WPatm/f3rzXx8fH3mbJkiUyYsQI+2gEnbzofHMfOP1+uVp5cInS4R4aQR3684RDgQfgSape+2BZnwJQYnJzsiTz+7kmxV1Sf8dt14of9x2WYDc+Iy01VRpcXq1Ez7UskSEAAFgCjz92joAAAGAJF/M8grzcee+lgIAAAGANPO3QKYYdAgAAMgQAAGsgQeAcAQEAwBIoKnSOLgMAAECGAABgDYwycI6AAABgDRQROEWXAQAAIEMAALAGEgTOERAAACyBUQbO0WUAAADIEAAArMK9UQbi4Z0GBAQAAEugy8A5ugwAAAABAQAAoMsAAGARdBk4R0AAALAEpi52ji4DAABAhgAAYA10GThHQAAAsASmLnaOLgMAAECGAABgEaQInCIgAABYAqMMnKPLAAAAkCEAAFgDowycIyAAAFgCJQTOERAAAKyBiMApaggAAAAZAgCANTDKwDkCAgCAJVBU6MEBQW5urvmZlppa1qcClJjcnKyyPgWgxP992/6el6RUN68VqR5+rbmkA4K0tDTz88roqLI+FQCAm3/PK1euXCLH9vf3l8jISKlXDNeKyMhIczxP5JVbGmFZCTl79qwcPHhQgoODxcvTcznlhEbIUVFRkpiYKCEhIWV9OkCx4t936dNLkAYDNWvWFG/vkqtzP336tGRluZ9t8/f3lwoVKognuqQzBPqPp1atWmV9Gpakfyz5gwlPxb/v0lVSmYG89CLuqRfy4sKwQwAAQEAAAAAICOCigIAAmThxovkJeBr+fcPKLumiQgAAUDzIEAAAAAICAABAQAAAAAgIAACAIiBAkb300ksSHR1tJvdo0aKFfPXVV2V9SkCx+PLLL6VHjx5mtjyd9fS9994r61MCSh0BAYrkzTfflJEjR8r48eNlx44dcsMNN0jXrl1l//79ZX1qgNsyMjKkadOmMmvWrLI+FaDMMOwQRdKqVStp3ry5zJ49276tYcOGcuutt0p8fHyZnhtQnDRDsHz5cvNvG7ASMgS4IH0gyPbt26VTp04O23V9w4YNZXZeAIDiQ0CACzpy5Ijk5ORI9erVHbbrenJycpmdFwCg+BAQoMjyP2Jae5t47DQAeAYCAlxQeHi4+Pj4FMgGpKSkFMgaAAAuTQQEuCB/f38zzHDVqlUO23W9TZs2ZXZeAIDi41uMx4IHGzVqlPTv319atmwpsbGx8sorr5ghh8OGDSvrUwPclp6eLr/88ot9PSEhQXbu3CmhoaFSu3btMj03oLQw7BAuTUw0bdo0SUpKkpiYGJkxY4bceOONZX1agNvWrl0rN910U4HtAwYMkAULFpTJOQGljYAAAABQQwAAAAgIAAAAAQEAAFAEBAAAgIAAAAAQEAAAAAICAACgCAgAN02aNEmuueYa+/o999wjt956a6mfx++//24eNqUz7J1PnTp1ZObMmUU+pk7KU6VKFbfPTc/rvffec/s4AEoOAQE8kl6U9SKki5+fn1xxxRUyZswYycjIKPHPfu6554o8u11RLuIAUBp4lgE8VpcuXWT+/PmSnZ0tX331ldx3330mIJg9e3aBttpGA4fiULly5WI5DgCUJjIE8FgBAQESGRkpUVFR0q9fP7nzzjvtaWtbmv+1114z2QNtq7N4nzhxQoYMGSIRERESEhIiN998s3z77bcOx50yZYp57HNwcLAMGjRITp8+7bA/f5fB2bNnZerUqXLllVeaz9GH5Tz11FNmX3R0tPnZrFkzkylo166d/X0azDRs2FAqVKggDRo0MM+SyGvLli3mfbpfHzq1Y8cOl39H06dPl8aNG0tQUJD5PcXFxZkH/eSnv7errrrKfFbHjh0lMTHRYf+HH35onoip+/X3+dhjj8mZM2dcPh8AZYeAAJZRsWJFkwmw0afbvfXWW/LOO+/YU/bdunWT5ORk+eSTT2T79u3SvHlzad++vRw9etTs1/YTJ040F/Rt27ZJjRo1Clyo8xs3bpwJCB599FH54YcfZOnSpSagsF3U1erVq81Do959912zPnfuXBk/frz5nD179sjkyZPN+xcuXGj2a6aje/fuUr9+fXOeGuBol4irvL295fnnn5ddu3aZY3/xxRcyduxYhzYnT54056H7v/76a0lNTZW+ffva93/22Wdy1113yYgRI8z3mzNnjukysQU9AC4R+nAjwNMMGDAgt1evXvb1zZs354aFheX26dPHrE+cODHXz88vNyUlxd7m888/zw0JCck9ffq0w7Hq1q2bO2fOHPM6NjY2d9iwYQ77W7Vqldu0adNCPzs1NTU3ICAgd+7cuYWeZ0JCgj5cLHfHjh0O26OionKXLl3qsO2JJ54wn6/0fEJDQ3MzMjLs+2fPnl3osfK6/PLLc2fMmHHe/W+99Zb5PdnMnz/fHHPTpk32bXv27DHb9HeqbrjhhtzJkyc7HGfRokW5NWrUsK9r++XLl5/3cwGUPWoI4LE++ugjqVSpkklda2agV69e8sILL9j3X3755VKtWjX7ut5pa7o8LCzM4TinTp2SX3/91bzWu/Vhw4Y57I+NjZU1a9YUeg7aPjMz02QZiurw4cMmJa/dEYMHD7Zv1+9hq0/Q4zZt2lQCAwMdzsNVet6afdA7e73z18/QLhDNQGg3gvL19TVdEjbafaEjD/Qc/u///s/83rZu3eqQEcjJyTHH0exC3nMEUH4REMBj6fPttYBQiwVr1qxZoGjQdsHL29evXQBr164tcKyLHXqn3RSu0vOwdRu0atXKYZ+Pj4/5WRxPLd+3b5/ccsstJsB54oknJDQ0VNavX28CkbxdK0rrG/KzbdPz1ZqB3r17F2ijNQUALg0EBPBYesHXQr6i0noBrR/QO2Idr18YLfLbtGmT3H333fZtun4+9erVM0HB559/bkY55Ofv72+/o7bR+oLLLrtMfvvtN1MIWZhGjRrJokWLTPbCFnQ4O4/CaA2EZgSeffZZU0tgq5HIT9toW80GqL1798rx48dNpsD2e9NtrvyuAZQ/BATA/3To0MGk3XWEgBYBasHewYMHTYGhbtO0+T//+U8ZMGCAeX399dfLkiVLZPfu3aayvjB6h/zwww+bQj29+F933XWmS0Dfo3fiOppBL+grVqyQWrVqmfbaLaBFglqkpyMdunbtarod9KJ87NgxGTVqlBk1oUWHeoz//Oc/Zj6DZ555xqXvW7duXXOx126UHj16mILBl19+uUA7zawMHz7cFB/q6wcffFBat25tDxAmTJhgChx1lMLtt99ugovvvvtOvv/+e3nyyScv8r8GgNLGKAMgTwpcL/433nijDBw40Ayz02p6vdjaRgXccccd5gKoF3kdZqdp9/vvv9/pcXV0wOjRo837NMOgx0hJSTH7NBuhF1qtzNduDa1zUJpNePXVV021vg4LbNu2rXltG6aotRE61E/7/nXooQYHGsS4Qodd6rBDfV9MTIwJbuLj4wu00xoA/b4ahGjApAHMsmXL7Ps7d+5s6jVWrVol1157rQkW9LhaowHg0uGllYVlfRIAAKBskSEAAAAEBAAAgIAAAAAQEAAAAEVAAAAACAgAAAABAQAAICAAAACKgAAAABAQAAAAAgIAAEBAAAAA9Dfw/6j9+4uCc2yAAAAAAElFTkSuQmCC",
      "text/plain": [
       "<Figure size 640x480 with 2 Axes>"
      ]
     },
     "metadata": {},
     "output_type": "display_data"
    }
   ],
   "source": [
    "disp = ConfusionMatrixDisplay(\n",
    "    confusion_matrix(y_test, y_pred_test),\n",
    "    display_labels=[0, 1]\n",
    ")\n",
    "\n",
    "disp.plot(cmap=plt.cm.Blues)\n",
    "plt.title('Confusion matrix')\n",
    "plt.show()"
   ]
  },
  {
   "cell_type": "markdown",
   "id": "659de6c2-ba0d-49af-b771-bbc79365b577",
   "metadata": {},
   "source": [
    "## 5.3. Modelo RandomForest"
   ]
  },
  {
   "cell_type": "code",
   "execution_count": null,
   "id": "49371f19-f0bb-4d65-9bc0-24e6dad3bdf7",
   "metadata": {},
   "outputs": [],
   "source": [
    "from sklearn.ensemble import RandomForestClassifier"
   ]
  },
  {
   "cell_type": "code",
   "execution_count": null,
   "id": "1c4e5482-20e4-43f5-93fa-3d18d419c1f1",
   "metadata": {},
   "outputs": [],
   "source": [
    "randomF = RandomForestClassifier(n_estimators=30, random_state=42)\n",
    "randomF.fit(X_train, y_train)"
   ]
  },
  {
   "cell_type": "markdown",
   "id": "c272fdcd-ed1f-424a-a06c-b22874326d46",
   "metadata": {},
   "source": [
    "El modelo RandomForest presenta un desempeño sólido. Para la **clase 0 (noticias no falsas)**, la precisión es de 0.94, lo que indica que cuando el modelo predice una noticia como no falsa, en la mayoría de los casos, está en lo correcto. Sin embargo, el recall para esta clase es de 0.85, lo que sugiere que el modelo no identifica todas las noticias no falsas correctamente, perdiendo algunas en el proceso. Como resultado, el F1-score de esta clase es de 0.89, reflejando un balance aceptable entre precisión y recall. Para la **clase 1 (noticias falsas)**, el modelo obtiene una precisión de 0.90, lo que significa que cuando predice que una noticia es falsa, en la mayoría de los casos acierta. Además, el recall es bastante alto, con un valor de 0.96, lo que indica que el modelo es muy efectivo en identificar noticias falsas correctamente. Esto se traduce en un F1-score de 0.93, lo que confirma que el modelo maneja bien esta categoría.\n",
    "\n",
    "En términos generales, la exactitud global del modelo es del 92%, lo que es un buen indicador de rendimiento. Sin embargo, un punto importante a considerar es que RandomForest es un modelo computacionalmente costoso. Esto puede representar un problema si se desea hacer iteraciones frecuentes para mejorar el modelo."
   ]
  },
  {
   "cell_type": "code",
   "execution_count": null,
   "id": "23118189-fae5-49dd-9e76-9922e60b7770",
   "metadata": {},
   "outputs": [],
   "source": [
    "y_pred = randomF.predict(X_test)\n",
    "\n",
    "print(\"\\nReporte de clasificación:\\n\", classification_report(y_test, y_pred))"
   ]
  },
  {
   "cell_type": "code",
   "execution_count": null,
   "id": "104f7a3b-92d4-423c-b7c6-15965c14fe09",
   "metadata": {},
   "outputs": [],
   "source": [
    "disp = ConfusionMatrixDisplay(\n",
    "    confusion_matrix(y_test, y_pred),\n",
    "    display_labels=[0, 1]\n",
    ")\n",
    "\n",
    "disp.plot(cmap=plt.cm.Blues)\n",
    "plt.title('Confusion matrix')\n",
    "plt.show()"
   ]
  },
  {
   "cell_type": "markdown",
   "id": "b623b06d-8c2a-46c2-bdb1-5360506b201a",
   "metadata": {},
   "source": [
    "### 5.3.1 Obtener la importancia de las características"
   ]
  },
  {
   "cell_type": "markdown",
   "id": "0ad8a156-e2a3-4282-b03b-674f15f3f35e",
   "metadata": {},
   "source": [
    "### 5.3.2 Construcción del modelo con búsqueda de hiperparámetros"
   ]
  },
  {
   "cell_type": "code",
   "execution_count": null,
   "id": "fabf60cf-313d-42cc-81f6-16beeb448781",
   "metadata": {},
   "outputs": [],
   "source": [
    "folds = KFold(n_splits=5, shuffle=True, random_state=0)\n",
    "\n",
    "param_distributions = {\n",
    "    'n_estimators': [10, 20, 30, 50, 70],\n",
    "    'max_depth': [10, 20, None],\n",
    "    'min_samples_split': [2, 5]\n",
    "}\n",
    "\n",
    "param_distributions"
   ]
  },
  {
   "cell_type": "code",
   "execution_count": null,
   "id": "80f99596-1c26-4485-85c3-f9a584d4c2c0",
   "metadata": {},
   "outputs": [],
   "source": [
    "randomF = RandomForestClassifier(n_estimators=30, random_state=42)\n",
    "\n",
    "random_search = RandomizedSearchCV(\n",
    "    randomF, \n",
    "    param_distributions,\n",
    "    scoring='f1', \n",
    "    cv=folds, \n",
    "    verbose=2, \n",
    "    random_state=42,\n",
    "    n_jobs=-1\n",
    ")\n",
    "\n",
    "random_search.fit(X_train, y_train)"
   ]
  },
  {
   "cell_type": "code",
   "execution_count": null,
   "id": "cd148544-814e-4444-920b-2f90d52021de",
   "metadata": {},
   "outputs": [],
   "source": [
    "random_search.best_params_"
   ]
  },
  {
   "cell_type": "code",
   "execution_count": null,
   "id": "ea090337-fc94-4374-9f8a-b62f7d4262f9",
   "metadata": {},
   "outputs": [],
   "source": [
    "rforest_model = random_search.best_estimator_"
   ]
  },
  {
   "cell_type": "markdown",
   "id": "9521d059-a178-4ccf-bc01-77949984f6c3",
   "metadata": {},
   "source": [
    "Después de aplicar RandomizedSearchCV al modelo RandomForest, se observa un ligero ajuste en las métricas de desempeño. La precisión para la **clase 0** se mantiene alta en 0.94, pero su recall disminuye a 0.84, lo que indica que el modelo tiene más dificultad para identificar correctamente los casos de esta clase. En contraste, la **clase 1** mantiene una precisión de 0.89, mientras que su recall mejora a 0.97, reflejando una mayor sensibilidad para detectar instancias de esta categoría.\n",
    "\n",
    "El f1-score promedio ponderado se mantiene en 0.91, con una ligera reducción en el recall macro. La precisión global del modelo sigue siendo buena, con un accuracy del 91%, pero la disminución del recall para la clase 0 sugiere que el ajuste de hiperparámetros podría haber favorecido la detección de la clase 1 a expensas de la otra. A pesar de las mejoras obtenidas en ciertos aspectos, el entrenamiento del modelo sigue siendo un proceso relativamente lento."
   ]
  },
  {
   "cell_type": "code",
   "execution_count": null,
   "id": "c1613774-217a-421b-9e73-8d489f760e1f",
   "metadata": {},
   "outputs": [],
   "source": [
    "y_pred_train = rforest_model.predict(X_train)\n",
    "y_pred_test = rforest_model.predict(X_test)\n",
    "\n",
    "print(\"Classification Report:\\n\", classification_report(y_test, y_pred_test))"
   ]
  },
  {
   "cell_type": "code",
   "execution_count": null,
   "id": "2cfd4c0f-112a-4146-9cc4-9f5ee06034ef",
   "metadata": {},
   "outputs": [],
   "source": [
    "disp = ConfusionMatrixDisplay(\n",
    "    confusion_matrix(y_test, y_pred_test),\n",
    "    display_labels=[0, 1]\n",
    ")\n",
    "\n",
    "disp.plot(cmap=plt.cm.Blues)\n",
    "plt.title('Confusion matrix')\n",
    "plt.show()"
   ]
  },
  {
   "cell_type": "markdown",
   "id": "3e478629-f29d-4c3d-b7c5-574307d83197",
   "metadata": {},
   "source": [
    "## 5.4 Modelo Naive-Bayes"
   ]
  },
  {
   "cell_type": "markdown",
   "id": "0431fc04",
   "metadata": {},
   "source": [
    "Descripción del algoritmo\n",
    "\n",
    "El modelo utilizado para la clasificación de noticias falsas Naive Bayes, es una técnica basada en el Teorema de Bayes que asume independencia condicional entre las características. Esta variante es importante para datos textuales porque trabaja bien con representaciones como conteo de palabras o TF-IDF.\n",
    "\n",
    "Naive Bayes es utilizado en clasificación de textos debido a su eficiencia y bajo costo computacional, lo que permite entrenarlo y evaluarlo rápidamente, incluso con grandes volúmenes de datos.\n",
    "\n",
    "Optimización de Hiperparámetros con GridSearchCV:\n",
    "\n",
    "Se utilizó GridSearchCV para encontrar el mejor valor del parámetro alpha, el cual controla la suavización de Laplace en Naive Bayes.\n",
    "Se probaron distintos valores de alpha [0.1, 0.5, 1.0, 2.0, 5.0] y se seleccionó aquel que maximizó el F1-score en validación cruzada (cv=5)"
   ]
  },
  {
   "cell_type": "code",
   "execution_count": null,
   "id": "4c0b42b0",
   "metadata": {},
   "outputs": [
    {
     "name": "stdout",
     "output_type": "stream",
     "text": [
      "Mejor parámetro: {'alpha': 0.5}\n"
     ]
    },
    {
     "data": {
      "text/html": [
       "<style>#sk-container-id-1 {\n",
       "  /* Definition of color scheme common for light and dark mode */\n",
       "  --sklearn-color-text: #000;\n",
       "  --sklearn-color-text-muted: #666;\n",
       "  --sklearn-color-line: gray;\n",
       "  /* Definition of color scheme for unfitted estimators */\n",
       "  --sklearn-color-unfitted-level-0: #fff5e6;\n",
       "  --sklearn-color-unfitted-level-1: #f6e4d2;\n",
       "  --sklearn-color-unfitted-level-2: #ffe0b3;\n",
       "  --sklearn-color-unfitted-level-3: chocolate;\n",
       "  /* Definition of color scheme for fitted estimators */\n",
       "  --sklearn-color-fitted-level-0: #f0f8ff;\n",
       "  --sklearn-color-fitted-level-1: #d4ebff;\n",
       "  --sklearn-color-fitted-level-2: #b3dbfd;\n",
       "  --sklearn-color-fitted-level-3: cornflowerblue;\n",
       "\n",
       "  /* Specific color for light theme */\n",
       "  --sklearn-color-text-on-default-background: var(--sg-text-color, var(--theme-code-foreground, var(--jp-content-font-color1, black)));\n",
       "  --sklearn-color-background: var(--sg-background-color, var(--theme-background, var(--jp-layout-color0, white)));\n",
       "  --sklearn-color-border-box: var(--sg-text-color, var(--theme-code-foreground, var(--jp-content-font-color1, black)));\n",
       "  --sklearn-color-icon: #696969;\n",
       "\n",
       "  @media (prefers-color-scheme: dark) {\n",
       "    /* Redefinition of color scheme for dark theme */\n",
       "    --sklearn-color-text-on-default-background: var(--sg-text-color, var(--theme-code-foreground, var(--jp-content-font-color1, white)));\n",
       "    --sklearn-color-background: var(--sg-background-color, var(--theme-background, var(--jp-layout-color0, #111)));\n",
       "    --sklearn-color-border-box: var(--sg-text-color, var(--theme-code-foreground, var(--jp-content-font-color1, white)));\n",
       "    --sklearn-color-icon: #878787;\n",
       "  }\n",
       "}\n",
       "\n",
       "#sk-container-id-1 {\n",
       "  color: var(--sklearn-color-text);\n",
       "}\n",
       "\n",
       "#sk-container-id-1 pre {\n",
       "  padding: 0;\n",
       "}\n",
       "\n",
       "#sk-container-id-1 input.sk-hidden--visually {\n",
       "  border: 0;\n",
       "  clip: rect(1px 1px 1px 1px);\n",
       "  clip: rect(1px, 1px, 1px, 1px);\n",
       "  height: 1px;\n",
       "  margin: -1px;\n",
       "  overflow: hidden;\n",
       "  padding: 0;\n",
       "  position: absolute;\n",
       "  width: 1px;\n",
       "}\n",
       "\n",
       "#sk-container-id-1 div.sk-dashed-wrapped {\n",
       "  border: 1px dashed var(--sklearn-color-line);\n",
       "  margin: 0 0.4em 0.5em 0.4em;\n",
       "  box-sizing: border-box;\n",
       "  padding-bottom: 0.4em;\n",
       "  background-color: var(--sklearn-color-background);\n",
       "}\n",
       "\n",
       "#sk-container-id-1 div.sk-container {\n",
       "  /* jupyter's `normalize.less` sets `[hidden] { display: none; }`\n",
       "     but bootstrap.min.css set `[hidden] { display: none !important; }`\n",
       "     so we also need the `!important` here to be able to override the\n",
       "     default hidden behavior on the sphinx rendered scikit-learn.org.\n",
       "     See: https://github.com/scikit-learn/scikit-learn/issues/21755 */\n",
       "  display: inline-block !important;\n",
       "  position: relative;\n",
       "}\n",
       "\n",
       "#sk-container-id-1 div.sk-text-repr-fallback {\n",
       "  display: none;\n",
       "}\n",
       "\n",
       "div.sk-parallel-item,\n",
       "div.sk-serial,\n",
       "div.sk-item {\n",
       "  /* draw centered vertical line to link estimators */\n",
       "  background-image: linear-gradient(var(--sklearn-color-text-on-default-background), var(--sklearn-color-text-on-default-background));\n",
       "  background-size: 2px 100%;\n",
       "  background-repeat: no-repeat;\n",
       "  background-position: center center;\n",
       "}\n",
       "\n",
       "/* Parallel-specific style estimator block */\n",
       "\n",
       "#sk-container-id-1 div.sk-parallel-item::after {\n",
       "  content: \"\";\n",
       "  width: 100%;\n",
       "  border-bottom: 2px solid var(--sklearn-color-text-on-default-background);\n",
       "  flex-grow: 1;\n",
       "}\n",
       "\n",
       "#sk-container-id-1 div.sk-parallel {\n",
       "  display: flex;\n",
       "  align-items: stretch;\n",
       "  justify-content: center;\n",
       "  background-color: var(--sklearn-color-background);\n",
       "  position: relative;\n",
       "}\n",
       "\n",
       "#sk-container-id-1 div.sk-parallel-item {\n",
       "  display: flex;\n",
       "  flex-direction: column;\n",
       "}\n",
       "\n",
       "#sk-container-id-1 div.sk-parallel-item:first-child::after {\n",
       "  align-self: flex-end;\n",
       "  width: 50%;\n",
       "}\n",
       "\n",
       "#sk-container-id-1 div.sk-parallel-item:last-child::after {\n",
       "  align-self: flex-start;\n",
       "  width: 50%;\n",
       "}\n",
       "\n",
       "#sk-container-id-1 div.sk-parallel-item:only-child::after {\n",
       "  width: 0;\n",
       "}\n",
       "\n",
       "/* Serial-specific style estimator block */\n",
       "\n",
       "#sk-container-id-1 div.sk-serial {\n",
       "  display: flex;\n",
       "  flex-direction: column;\n",
       "  align-items: center;\n",
       "  background-color: var(--sklearn-color-background);\n",
       "  padding-right: 1em;\n",
       "  padding-left: 1em;\n",
       "}\n",
       "\n",
       "\n",
       "/* Toggleable style: style used for estimator/Pipeline/ColumnTransformer box that is\n",
       "clickable and can be expanded/collapsed.\n",
       "- Pipeline and ColumnTransformer use this feature and define the default style\n",
       "- Estimators will overwrite some part of the style using the `sk-estimator` class\n",
       "*/\n",
       "\n",
       "/* Pipeline and ColumnTransformer style (default) */\n",
       "\n",
       "#sk-container-id-1 div.sk-toggleable {\n",
       "  /* Default theme specific background. It is overwritten whether we have a\n",
       "  specific estimator or a Pipeline/ColumnTransformer */\n",
       "  background-color: var(--sklearn-color-background);\n",
       "}\n",
       "\n",
       "/* Toggleable label */\n",
       "#sk-container-id-1 label.sk-toggleable__label {\n",
       "  cursor: pointer;\n",
       "  display: flex;\n",
       "  width: 100%;\n",
       "  margin-bottom: 0;\n",
       "  padding: 0.5em;\n",
       "  box-sizing: border-box;\n",
       "  text-align: center;\n",
       "  align-items: start;\n",
       "  justify-content: space-between;\n",
       "  gap: 0.5em;\n",
       "}\n",
       "\n",
       "#sk-container-id-1 label.sk-toggleable__label .caption {\n",
       "  font-size: 0.6rem;\n",
       "  font-weight: lighter;\n",
       "  color: var(--sklearn-color-text-muted);\n",
       "}\n",
       "\n",
       "#sk-container-id-1 label.sk-toggleable__label-arrow:before {\n",
       "  /* Arrow on the left of the label */\n",
       "  content: \"▸\";\n",
       "  float: left;\n",
       "  margin-right: 0.25em;\n",
       "  color: var(--sklearn-color-icon);\n",
       "}\n",
       "\n",
       "#sk-container-id-1 label.sk-toggleable__label-arrow:hover:before {\n",
       "  color: var(--sklearn-color-text);\n",
       "}\n",
       "\n",
       "/* Toggleable content - dropdown */\n",
       "\n",
       "#sk-container-id-1 div.sk-toggleable__content {\n",
       "  max-height: 0;\n",
       "  max-width: 0;\n",
       "  overflow: hidden;\n",
       "  text-align: left;\n",
       "  /* unfitted */\n",
       "  background-color: var(--sklearn-color-unfitted-level-0);\n",
       "}\n",
       "\n",
       "#sk-container-id-1 div.sk-toggleable__content.fitted {\n",
       "  /* fitted */\n",
       "  background-color: var(--sklearn-color-fitted-level-0);\n",
       "}\n",
       "\n",
       "#sk-container-id-1 div.sk-toggleable__content pre {\n",
       "  margin: 0.2em;\n",
       "  border-radius: 0.25em;\n",
       "  color: var(--sklearn-color-text);\n",
       "  /* unfitted */\n",
       "  background-color: var(--sklearn-color-unfitted-level-0);\n",
       "}\n",
       "\n",
       "#sk-container-id-1 div.sk-toggleable__content.fitted pre {\n",
       "  /* unfitted */\n",
       "  background-color: var(--sklearn-color-fitted-level-0);\n",
       "}\n",
       "\n",
       "#sk-container-id-1 input.sk-toggleable__control:checked~div.sk-toggleable__content {\n",
       "  /* Expand drop-down */\n",
       "  max-height: 200px;\n",
       "  max-width: 100%;\n",
       "  overflow: auto;\n",
       "}\n",
       "\n",
       "#sk-container-id-1 input.sk-toggleable__control:checked~label.sk-toggleable__label-arrow:before {\n",
       "  content: \"▾\";\n",
       "}\n",
       "\n",
       "/* Pipeline/ColumnTransformer-specific style */\n",
       "\n",
       "#sk-container-id-1 div.sk-label input.sk-toggleable__control:checked~label.sk-toggleable__label {\n",
       "  color: var(--sklearn-color-text);\n",
       "  background-color: var(--sklearn-color-unfitted-level-2);\n",
       "}\n",
       "\n",
       "#sk-container-id-1 div.sk-label.fitted input.sk-toggleable__control:checked~label.sk-toggleable__label {\n",
       "  background-color: var(--sklearn-color-fitted-level-2);\n",
       "}\n",
       "\n",
       "/* Estimator-specific style */\n",
       "\n",
       "/* Colorize estimator box */\n",
       "#sk-container-id-1 div.sk-estimator input.sk-toggleable__control:checked~label.sk-toggleable__label {\n",
       "  /* unfitted */\n",
       "  background-color: var(--sklearn-color-unfitted-level-2);\n",
       "}\n",
       "\n",
       "#sk-container-id-1 div.sk-estimator.fitted input.sk-toggleable__control:checked~label.sk-toggleable__label {\n",
       "  /* fitted */\n",
       "  background-color: var(--sklearn-color-fitted-level-2);\n",
       "}\n",
       "\n",
       "#sk-container-id-1 div.sk-label label.sk-toggleable__label,\n",
       "#sk-container-id-1 div.sk-label label {\n",
       "  /* The background is the default theme color */\n",
       "  color: var(--sklearn-color-text-on-default-background);\n",
       "}\n",
       "\n",
       "/* On hover, darken the color of the background */\n",
       "#sk-container-id-1 div.sk-label:hover label.sk-toggleable__label {\n",
       "  color: var(--sklearn-color-text);\n",
       "  background-color: var(--sklearn-color-unfitted-level-2);\n",
       "}\n",
       "\n",
       "/* Label box, darken color on hover, fitted */\n",
       "#sk-container-id-1 div.sk-label.fitted:hover label.sk-toggleable__label.fitted {\n",
       "  color: var(--sklearn-color-text);\n",
       "  background-color: var(--sklearn-color-fitted-level-2);\n",
       "}\n",
       "\n",
       "/* Estimator label */\n",
       "\n",
       "#sk-container-id-1 div.sk-label label {\n",
       "  font-family: monospace;\n",
       "  font-weight: bold;\n",
       "  display: inline-block;\n",
       "  line-height: 1.2em;\n",
       "}\n",
       "\n",
       "#sk-container-id-1 div.sk-label-container {\n",
       "  text-align: center;\n",
       "}\n",
       "\n",
       "/* Estimator-specific */\n",
       "#sk-container-id-1 div.sk-estimator {\n",
       "  font-family: monospace;\n",
       "  border: 1px dotted var(--sklearn-color-border-box);\n",
       "  border-radius: 0.25em;\n",
       "  box-sizing: border-box;\n",
       "  margin-bottom: 0.5em;\n",
       "  /* unfitted */\n",
       "  background-color: var(--sklearn-color-unfitted-level-0);\n",
       "}\n",
       "\n",
       "#sk-container-id-1 div.sk-estimator.fitted {\n",
       "  /* fitted */\n",
       "  background-color: var(--sklearn-color-fitted-level-0);\n",
       "}\n",
       "\n",
       "/* on hover */\n",
       "#sk-container-id-1 div.sk-estimator:hover {\n",
       "  /* unfitted */\n",
       "  background-color: var(--sklearn-color-unfitted-level-2);\n",
       "}\n",
       "\n",
       "#sk-container-id-1 div.sk-estimator.fitted:hover {\n",
       "  /* fitted */\n",
       "  background-color: var(--sklearn-color-fitted-level-2);\n",
       "}\n",
       "\n",
       "/* Specification for estimator info (e.g. \"i\" and \"?\") */\n",
       "\n",
       "/* Common style for \"i\" and \"?\" */\n",
       "\n",
       ".sk-estimator-doc-link,\n",
       "a:link.sk-estimator-doc-link,\n",
       "a:visited.sk-estimator-doc-link {\n",
       "  float: right;\n",
       "  font-size: smaller;\n",
       "  line-height: 1em;\n",
       "  font-family: monospace;\n",
       "  background-color: var(--sklearn-color-background);\n",
       "  border-radius: 1em;\n",
       "  height: 1em;\n",
       "  width: 1em;\n",
       "  text-decoration: none !important;\n",
       "  margin-left: 0.5em;\n",
       "  text-align: center;\n",
       "  /* unfitted */\n",
       "  border: var(--sklearn-color-unfitted-level-1) 1pt solid;\n",
       "  color: var(--sklearn-color-unfitted-level-1);\n",
       "}\n",
       "\n",
       ".sk-estimator-doc-link.fitted,\n",
       "a:link.sk-estimator-doc-link.fitted,\n",
       "a:visited.sk-estimator-doc-link.fitted {\n",
       "  /* fitted */\n",
       "  border: var(--sklearn-color-fitted-level-1) 1pt solid;\n",
       "  color: var(--sklearn-color-fitted-level-1);\n",
       "}\n",
       "\n",
       "/* On hover */\n",
       "div.sk-estimator:hover .sk-estimator-doc-link:hover,\n",
       ".sk-estimator-doc-link:hover,\n",
       "div.sk-label-container:hover .sk-estimator-doc-link:hover,\n",
       ".sk-estimator-doc-link:hover {\n",
       "  /* unfitted */\n",
       "  background-color: var(--sklearn-color-unfitted-level-3);\n",
       "  color: var(--sklearn-color-background);\n",
       "  text-decoration: none;\n",
       "}\n",
       "\n",
       "div.sk-estimator.fitted:hover .sk-estimator-doc-link.fitted:hover,\n",
       ".sk-estimator-doc-link.fitted:hover,\n",
       "div.sk-label-container:hover .sk-estimator-doc-link.fitted:hover,\n",
       ".sk-estimator-doc-link.fitted:hover {\n",
       "  /* fitted */\n",
       "  background-color: var(--sklearn-color-fitted-level-3);\n",
       "  color: var(--sklearn-color-background);\n",
       "  text-decoration: none;\n",
       "}\n",
       "\n",
       "/* Span, style for the box shown on hovering the info icon */\n",
       ".sk-estimator-doc-link span {\n",
       "  display: none;\n",
       "  z-index: 9999;\n",
       "  position: relative;\n",
       "  font-weight: normal;\n",
       "  right: .2ex;\n",
       "  padding: .5ex;\n",
       "  margin: .5ex;\n",
       "  width: min-content;\n",
       "  min-width: 20ex;\n",
       "  max-width: 50ex;\n",
       "  color: var(--sklearn-color-text);\n",
       "  box-shadow: 2pt 2pt 4pt #999;\n",
       "  /* unfitted */\n",
       "  background: var(--sklearn-color-unfitted-level-0);\n",
       "  border: .5pt solid var(--sklearn-color-unfitted-level-3);\n",
       "}\n",
       "\n",
       ".sk-estimator-doc-link.fitted span {\n",
       "  /* fitted */\n",
       "  background: var(--sklearn-color-fitted-level-0);\n",
       "  border: var(--sklearn-color-fitted-level-3);\n",
       "}\n",
       "\n",
       ".sk-estimator-doc-link:hover span {\n",
       "  display: block;\n",
       "}\n",
       "\n",
       "/* \"?\"-specific style due to the `<a>` HTML tag */\n",
       "\n",
       "#sk-container-id-1 a.estimator_doc_link {\n",
       "  float: right;\n",
       "  font-size: 1rem;\n",
       "  line-height: 1em;\n",
       "  font-family: monospace;\n",
       "  background-color: var(--sklearn-color-background);\n",
       "  border-radius: 1rem;\n",
       "  height: 1rem;\n",
       "  width: 1rem;\n",
       "  text-decoration: none;\n",
       "  /* unfitted */\n",
       "  color: var(--sklearn-color-unfitted-level-1);\n",
       "  border: var(--sklearn-color-unfitted-level-1) 1pt solid;\n",
       "}\n",
       "\n",
       "#sk-container-id-1 a.estimator_doc_link.fitted {\n",
       "  /* fitted */\n",
       "  border: var(--sklearn-color-fitted-level-1) 1pt solid;\n",
       "  color: var(--sklearn-color-fitted-level-1);\n",
       "}\n",
       "\n",
       "/* On hover */\n",
       "#sk-container-id-1 a.estimator_doc_link:hover {\n",
       "  /* unfitted */\n",
       "  background-color: var(--sklearn-color-unfitted-level-3);\n",
       "  color: var(--sklearn-color-background);\n",
       "  text-decoration: none;\n",
       "}\n",
       "\n",
       "#sk-container-id-1 a.estimator_doc_link.fitted:hover {\n",
       "  /* fitted */\n",
       "  background-color: var(--sklearn-color-fitted-level-3);\n",
       "}\n",
       "</style><div id=\"sk-container-id-1\" class=\"sk-top-container\"><div class=\"sk-text-repr-fallback\"><pre>MultinomialNB(alpha=0.5)</pre><b>In a Jupyter environment, please rerun this cell to show the HTML representation or trust the notebook. <br />On GitHub, the HTML representation is unable to render, please try loading this page with nbviewer.org.</b></div><div class=\"sk-container\" hidden><div class=\"sk-item\"><div class=\"sk-estimator fitted sk-toggleable\"><input class=\"sk-toggleable__control sk-hidden--visually\" id=\"sk-estimator-id-1\" type=\"checkbox\" checked><label for=\"sk-estimator-id-1\" class=\"sk-toggleable__label fitted sk-toggleable__label-arrow\"><div><div>MultinomialNB</div></div><div><a class=\"sk-estimator-doc-link fitted\" rel=\"noreferrer\" target=\"_blank\" href=\"https://scikit-learn.org/1.6/modules/generated/sklearn.naive_bayes.MultinomialNB.html\">?<span>Documentation for MultinomialNB</span></a><span class=\"sk-estimator-doc-link fitted\">i<span>Fitted</span></span></div></label><div class=\"sk-toggleable__content fitted\"><pre>MultinomialNB(alpha=0.5)</pre></div> </div></div></div></div>"
      ],
      "text/plain": [
       "MultinomialNB(alpha=0.5)"
      ]
     },
     "execution_count": 37,
     "metadata": {},
     "output_type": "execute_result"
    }
   ],
   "source": [
    "from sklearn.naive_bayes import MultinomialNB\n",
    "from sklearn.model_selection import train_test_split, cross_val_score, GridSearchCV\n",
    "from sklearn.metrics import classification_report, confusion_matrix, ConfusionMatrixDisplay\n",
    "import matplotlib.pyplot as plt\n",
    "\n",
    "X_features = X_tf_idf  \n",
    "y_target = y_label  # La variable con las etiquetas\n",
    "\n",
    "# Separar los datos en entrenamiento y prueba\n",
    "X_train, X_test, y_train, y_test = train_test_split(X_features, y_target, test_size=0.2, random_state=42)\n",
    "\n",
    "# Definicion valores de alpha para la optimización\n",
    "param_grid = {'alpha': [0.1, 0.5, 1.0, 2.0, 5.0]}\n",
    "\n",
    "# Aplicacion GridSearchCV para encontrar el mejor alpha\n",
    "grid_search = GridSearchCV(MultinomialNB(), param_grid, cv=5, scoring='f1')\n",
    "grid_search.fit(X_train, y_train)\n",
    "\n",
    "# Mejor modelo encontrado\n",
    "print(\"Mejor parámetro:\", grid_search.best_params_)\n",
    "nb_model = grid_search.best_estimator_\n",
    "\n",
    "# Entrenamiento del modelo con el mejor alpha\n",
    "nb_model.fit(X_train, y_train)"
   ]
  },
  {
   "cell_type": "markdown",
   "id": "0e8f8a95",
   "metadata": {},
   "source": [
    "Se utilizó cross_val_score para evaluar el desempeño del modelo en diferentes subconjuntos de los datos, asegurando que el modelo no dependa de un solo conjunto de entrenamiento y evitando el sobreajuste.\n",
    "\n",
    "Después de entrenar el modelo con diferentes valores de alpha, GridSearchCV encontró que el mejor valor fue alpha = 5.0,\n",
    "este hiperparámetro fue seleccionado porque proporcionó el mejor balance entre precisión y recall, lo que es crucial en la detección de noticias falsas."
   ]
  },
  {
   "cell_type": "code",
   "execution_count": null,
   "id": "68ed0a69",
   "metadata": {},
   "outputs": [
    {
     "name": "stdout",
     "output_type": "stream",
     "text": [
      "F1-scores en validación cruzada: [0.850796   0.86237846 0.84658041 0.84183486 0.84760845]\n",
      "Media del F1-score: 0.8498396367190585\n"
     ]
    }
   ],
   "source": [
    "# Validación cruzada\n",
    "scores = cross_val_score(nb_model, X_test, y_test, cv=5, scoring='f1')\n",
    "# Imprime los resultados de la validación cruzada\n",
    "print(\"F1-scores en validación cruzada:\", scores)\n",
    "print(\"Media del F1-score:\", scores.mean())\n"
   ]
  },
  {
   "cell_type": "code",
   "execution_count": 39,
   "id": "d945e0cb",
   "metadata": {},
   "outputs": [
    {
     "name": "stdout",
     "output_type": "stream",
     "text": [
      "Classification Report:\n",
      "               precision    recall  f1-score   support\n",
      "\n",
      "           0       0.93      0.65      0.77      4098\n",
      "           1       0.80      0.96      0.87      5830\n",
      "\n",
      "    accuracy                           0.84      9928\n",
      "   macro avg       0.86      0.81      0.82      9928\n",
      "weighted avg       0.85      0.84      0.83      9928\n",
      "\n"
     ]
    }
   ],
   "source": [
    "#Predicción en el conjunto de prueba\n",
    "y_pred = nb_model.predict(X_test)\n",
    "\n",
    "# Reporte de clasificación\n",
    "print(\"Classification Report:\\n\", classification_report(y_test, y_pred))\n",
    "\n"
   ]
  },
  {
   "cell_type": "markdown",
   "id": "d767c848",
   "metadata": {},
   "source": [
    "El modelo Naive Bayes presenta un rendimiento aceptable, pero no es el mejor para la clasificación de noticias falsas. Aunque muestra una precisión del 93% en la clase 0 (noticias reales) y del 80% en la clase 1 (noticias falsas), el principal problema radica en el recall de la clase 0, que es solo 0.65. Esto significa que el modelo no está identificando correctamente una gran cantidad de noticias reales, clasificándolas erróneamente como falsas.\n",
    "\n",
    "El F1-score promedio es de 0.83, lo que indica que el modelo tiene un desempeño equilibrado, pero aún puede mejorarse. El recall más alto en la clase 1 (0.96) indica que el modelo detecta bien las noticias falsas, pero a costa de clasificar demasiadas noticias reales como falsas. Esto puede ser un problema en aplicaciones donde es crucial minimizar los falsos positivos."
   ]
  },
  {
   "cell_type": "code",
   "execution_count": 40,
   "id": "04b20f6b",
   "metadata": {},
   "outputs": [
    {
     "data": {
      "image/png": "iVBORw0KGgoAAAANSUhEUgAAAgMAAAHHCAYAAAAiSltoAAAAOXRFWHRTb2Z0d2FyZQBNYXRwbG90bGliIHZlcnNpb24zLjkuNCwgaHR0cHM6Ly9tYXRwbG90bGliLm9yZy8ekN5oAAAACXBIWXMAAA9hAAAPYQGoP6dpAABBPklEQVR4nO3dCZzM9f/A8ffusutYu87dJetKRK5Q0uEoR8gRKhU2V3/9kCNHfpVCpR9FjqRQdChHUaiQM1kp4ucuWVk5c63F7rI7/8f7UzO/nWUya2b2mO/r2eP7mJnv9zPf+cyEz/v7/hzfAJvNZhMAAGBZgdldAQAAkL0IBgAAsDiCAQAALI5gAAAAiyMYAADA4ggGAACwOIIBAAAsjmAAAACLIxgAAMDiCAaAdH799Vdp1qyZhIeHS0BAgCxatMir5z9w4IA576xZs7x6Xn9Qrlw5eeKJJ7K7GoAlEQwgx/ntt9/k//7v/6RChQqSL18+CQsLk7vuuksmTpwoFy9e9Olnx8TEyPbt2+WVV16RDz/8UOrWrevTz/NHu3btkpdeeskEPgByhwDuTYCcZOnSpfLQQw9JSEiIdO3aVapVqyYpKSmyfv16+eyzz8yV47vvvuuTz9ZAo0CBAvLcc8/Jyy+/7JPP0L9uycnJkjdvXgkKChJ/tGDBAvP/cPXq1dKoUSO336e/S2BgoPltAGStPFn8eYBLcXFx0qlTJylbtqysWrVKSpYs6TjWp08f2bdvnwkWfOXEiRPmsXDhwj77DO0i0GwH/hccJSUlSf78+U0ACCB70E2AHGPs2LGSmJgoM2fOdAoE7CpWrCj9+/d3vL58+bKMHj1abrzxRtOQaJ/zv//9b3OFmZ7uf+CBB0x24fbbbzeNsXZBfPDBB44ymtbWIEQNGTLENNr6PqXZCPvz9PQ9Wi69FStWyN13320CitDQUKlcubKp07XGDGjwc88990jBggXNe9u2bSu7d+++6udpUKR10nI6tqFbt25y4cKFa/6+epWumZb//ve/0rBhQ5MF0d9Ur+TV2rVrpV69eqZh1np/++23Tu///fff5V//+pc5pmWKFStmMgDpuwP0e+k+1bhxY1Nf3dasWeP0/2LZsmWmC0bP884771wxZkCDBH1/iRIl5Pjx447za5aoevXq5v/5+fPnr/mdAbiHYAA5xuLFi00jfeedd7pVvmfPnjJixAipXbu2TJgwwTRwY8aMMdmFjLQB7dixozRt2lTeeOMNKVKkiGl4du7caY63b9/enEM9+uijZrzAm2++man667m0odNgZNSoUeZz2rRpI99///0/vk8b3ebNm5tGTxv8QYMGyYYNG8w4iav1uz/88MNy7tw58131uTbAI0eOdKuOp0+fNnXURl+DLw2i9PeaO3eueWzZsqW89tprpqHV30s/x+7HH3809dJykyZNkt69e8vKlStNkGEPRho0aCBPP/20ea5BkP6OulWpUsVxnr1795rfWP9f6DiQWrVqXVFPDSDee+89kzXQz7F78cUXze/8/vvvm8AJgJfomAEgu509e1bHrtjatm3rVvmtW7ea8j179nTaP3jwYLN/1apVjn1ly5Y1+9atW+fYd/z4cVtISIjtmWeeceyLi4sz5caNG+d0zpiYGHOOjF588UVT3m7ChAnm9YkTJ1zW2/4Z77//vmNfrVq1bBEREbaTJ0869m3bts0WGBho69q16xWf1717d6dzPvjgg7ZixYrZrqVhw4bm/XPmzHHs27Nnj9mnn7Vx40bH/mXLll1RzwsXLlxxztjYWFPugw8+cOybP3++2bd69eorytv/X3zzzTdXPaa/dXrvvPOOKf/RRx+Z+gUFBdkGDBhwze8KIHPIDCBHSEhIMI+FChVyq/xXX31lHvUqOr1nnnnGPGYcW1C1alWThrfT9LOmu/fv3y/eYh9r8MUXX0haWppb7zly5Ihs3brVZCmKFi3q2F+jRg1z5Wz/numlv1JW+r1Onjzp+A3/iXZdpM+c6G+g9dYrd80W2Nmfp/99NKVvd+nSJfOZ2s2g79+yZYu4q3z58iYT4o4nn3zSlO3Xr5906dLFdA+8+uqrbn8WAPcQDCBH0OmDKn1a+p9o/7WOPNfGKL2oqCjTOOnx9MqUKXPFObSrQNPm3vLII4+Y1L52X0RGRppGd968ef8YGNjrqY1yRtpA//nnn1f0jWf8Lvo9lDvfpXTp0leMc9BxB9HR0Vfsy3hOnW2h3TJaVrsXihcvboKqM2fOyNmzZyUzwUBm6BgS7YbQNSC0SyR9UALAOwgGkGOCgVKlSsmOHTsy9b6MDZsrrqbxuTOz1tVnpKamOr3WRmrdunVmDIBexepAPQ0Q9Ao/Y1lPePJdXL3XnXPq1bmuv6DjFDTIWb58uRkwqQMJ3c2EqMw25jr40D4oVNeAAOB9BAPIMXRgmy44FBsbe82yOvJfGyC9Wkzv2LFj5krVPjPAG/TKW8+ZUcbsg9JsxX333Sfjx483i+9o46kzBXTOvavvYR9Ul9GePXvM1XdOGSinsw50USYdGGkfjKkzJzL+Nu4GaO52o2gQoqtC6p+PwYMHX/V3B+AZggHkGEOHDjUNn6bZtVHPSAMFHX2udNS7yjjiXxth1apVK6/VS/upNQ2uV/rpG6mFCxc6lTt16tQV77WPlM843dFOp1BqmdmzZzs1qpoh0Stv+/fMCTR7kDH7MHny5CuyHvbg5WoBVGb16tXLBH3aVaCLTeXJk0d69OjhVhYEgPtYdAg5hja6c+bMMal17S9PvwKhTmmbP3++Yx56zZo1zVWqNhDa6Oi0wk2bNplGtV27dmaOurdo3/+wYcPkwQcfNNPmtP/67bfflkqVKjkNnNPphNpNoIGIXvHrVMGpU6eafnq9gnZl3Lhx0qJFC6lfv75p6LRvXhtZ7bfXqYY5hV6Z6zRBrZcOyNQMjnaJaDdBehrcaODwn//8xwRROr7g3nvvlYiIiEx9nk4f1IGgOk5Af0Olv0vnzp3N769rHgDwkkzOPgB87pdffrH16tXLVq5cOVtwcLCtUKFCtrvuuss2efJkW1JSkqPcpUuXbCNHjrSVL1/eljdvXlt0dLRt+PDhTmXsU9ZatWp11al2ul1raqFavny5rVq1aqY+lStXNlPdMk4tXLlypZkaWapUKVNOHx999FHzfTJ+Rvope+rbb7813zF//vy2sLAwW+vWrW27du1yKmP/vIxTF/Vcul/P/U/0u95yyy1X7Hf1++g5+/Tp43h9+vRpW7du3WzFixe3hYaG2po3b26mJl5tSuD06dNtFSpUMFMB008zdPVZ9mP288THx9vCw8PN75CRTqUsWLCgbf/+/f/4fQG4j3sTAABgcYwZAADA4ggGAACwOIIBAAAsjmAAAACLIxgAAMDiCAYAALC4XL3okK5MdvjwYXOnO28ugQoAyBo6u11vUKb3JtHlvH0lKSnJLGDmqeDgYMmXL5/4m1wdDGggkPFuawCA3Cc+Pt6x0qQvAoH8hYqJXL7g8bmioqIkLi7O7wKCXB0MaEZA9f9wrYQUCM3u6gA+0aJiieyuAuAz5xPPyQN33eL499wXTEbg8gUJqRojEhR8/SdKTZGju2ab8xEM5CD2rgENBEIKEgzAP4UWCsvuKgA+lyVdvXnySYAHwYAtwH+H2eXqYAAAALdpvOFJ0BEgfotgAABgDXpl78nVfYD/Zgb895sBAAC3kBkAAFiDdhF41E0QIP6KYAAAYA10E7jkv98MAAC4hcwAAMAa6CZwiWAAAGARHnYTiP8m0/33mwEAALeQGQAAWAPdBC4RDAAArIHZBC757zcDAABuITMAALAGuglcIhgAAFgD3QQuEQwAAKyBzIBL/hvmAAAAt5AZAABYA90ELhEMAAAs1E3gSTAQIP7Kf8McAADgFjIDAABrCAz4a/Pk/X6KYAAAYA2MGXDJf78ZAABwC5kBAIA1sM6ASwQDAABroJvAJf/9ZgAAwC1kBgAA1kA3gUsEAwAAa6CbwCWCAQCANZAZcMl/wxwAAOAWMgMAAGugm8AlggEAgDXQTeCS/4Y5AADALWQGAAAW4WE3gfjv9TPBAADAGugmsGCYAwAA3EIwAACwUGYg0IMtIFMf99JLL0lAQIDTdvPNNzuOJyUlSZ8+faRYsWISGhoqHTp0kGPHjjmd4+DBg9KqVSspUKCAREREyJAhQ+Ty5ctOZdasWSO1a9eWkJAQqVixosyaNSvTPw3BAADAGjwKBAKva7zBLbfcIkeOHHFs69evdxwbOHCgLF68WObPny9r166Vw4cPS/v27R3HU1NTTSCQkpIiGzZskNmzZ5uGfsSIEY4ycXFxpkzjxo1l69atMmDAAOnZs6csW7YsU/VkzAAAAD6SJ08eiYqKumL/2bNnZebMmTJnzhy59957zb73339fqlSpIhs3bpQ77rhDli9fLrt27ZJvv/1WIiMjpVatWjJ69GgZNmyYyToEBwfLtGnTpHz58vLGG2+Yc+j7NeCYMGGCNG/e3O16khkAAFhrAKEnWyb9+uuvUqpUKalQoYI8/vjjJu2vNm/eLJcuXZImTZo4ymoXQpkyZSQ2Nta81sfq1aubQMBOG/iEhATZuXOno0z6c9jL2M/hLjIDAABr8NIKhAkJCU67ta9et4zq1atn0vqVK1c2XQQjR46Ue+65R3bs2CFHjx41V/aFCxd2eo82/HpM6WP6QMB+3H7sn8poHS9evCj58+d366sRDAAArMFLUwujo6Oddr/44osmbZ9RixYtHM9r1KhhgoOyZcvKvHnz3G6kswrBAAAAmRAfHy9hYWGO11fLClyNZgEqVaok+/btk6ZNm5qBgWfOnHHKDuhsAvsYA33ctGmT0znssw3Sl8k4A0Ffa/0yE3AwZgAAYA1emk0QFhbmtLkbDCQmJspvv/0mJUuWlDp16kjevHll5cqVjuN79+41Ywrq169vXuvj9u3b5fjx444yK1asMJ9ZtWpVR5n057CXsZ/DXQQDAABryOIBhIMHDzZTBg8cOGCmBj744IMSFBQkjz76qISHh0uPHj1k0KBBsnr1ajOgsFu3bqYR15kEqlmzZqbR79Kli2zbts1MF3z++efN2gT2AKR3796yf/9+GTp0qOzZs0emTp1quiF02mJm0E0AAIAPHDp0yDT8J0+elBIlSsjdd99tpg3qc6XT/wIDA81iQ8nJyWYWgDbmdho4LFmyRJ566ikTJBQsWFBiYmJk1KhRjjI6rXDp0qWm8Z84caKULl1aZsyYkalphSrAZrPZJJfS0ZIaXQ39bLOEFAzN7uoAPtGmkvNIYcCfJJ5LkMY1y5h59+n74X3RVuRrPUUC8l7/wD3bpYuStLivT+uaXcgMAAAswb4ksAcnEH/FmAEAACyOzAAAwBr0wt6Ti/sA8VsEAwAAS6CbwDW6CQAAsDgyAwAASyAz4BrBAADAEggGXCMYAABYAsGAa4wZAADA4sgMAACsgamFLhEMAAAsgW4C1+gmAADA4sgMAAAs4a+7EHuSGRC/RTAAALCEAP3Po1R/gPgrugkAALA4MgMAAEtgAKFrBAMAAGtgaqFLdBMAAGBxZAYAANbgYTeBjW4CAACsPWYggGAAAIDcjWDANcYMAABgcWQGAADWwGwClwgGAACWQDeBa3QTAABgcWQGAACWQGbANYIBAIAlEAy4RjcBAAAWR2YAAGAJZAZcIxgAAFgDUwtdopsAAACLIzMAALAEuglcIxgAAFgCwYBrBAMAAEsgGHCNMQMAAFgcmQEAgDUwm8AlggEAgCXQTeAa3QQAAFgcmQGL2bj6R/l1529y8vhpyZs3j5QqW1IatrhLipYo4lTuj9+PyPplsXIk/qgEBAZIRMkS0rFHO/Oeg78dkrnTP7/q+Tv3eURKRkfK2VMJ8u7YWVccf/xfD0mpMiV99v2ArTvj5JMvvpO9vx2Wk6fPySvDHpcG9apetezr0xbJF8t/lH7dWsrDre8y+44cPy2z56+WLdv3y8kz56R4kTBp1rCmdO3QyPz5Vwf/OCGvv/OFHIg/LucvJEuxooWk6T01pdvD90qePEFZ+n3hPjIDOTwYeOutt2TcuHFy9OhRqVmzpkyePFluv/327K6WX4qP+0NuvaOGREVHSlpqmny3LFbmz1wk3QZ1luDgvI5AYMF7X8gdjevKfW0bSmBgoBw/ckLsfw9uKFtSnnquh9N5v1++UX7/LV6iSkc47X+454NSLLKo43X+Avmy4mvCwpKSU6RiuZLS6t468tzYOS7Lrdu4U3b+Ei/FixZy2n/w0AlJS7PJ4N5tpXRUMdl/8JiMfXuhJCVdkj5PtDBl8gQFSfOGt0rlCqUktGA+2XfgqCmj7/u/zs18/h1xfQLEw2BACAZ8Zu7cuTJo0CCZNm2a1KtXT958801p3ry57N27VyIinBsWeO6h7u2cXrd4qIm89fIMOXbouERXuMHsW71kndS5q6bUa1TXUS595iAoT5CEFiroeJ2amir7du2XW++secVftHwF8jmVBXztjtqVzfZPTpw8K2/OWCJvjHhChr7ygdOxerUrmc2uVFRROXj4T1m07AdHMKD7dLOLiigiP++Mk//uPuD17wNYIhgYP3689OrVS7p162Zea1CwdOlSee+99+TZZ5/N7ur5veSkFEejrc4nXpAj8cekaq2b5eOp8+TMqbMmELin+Z1Sulypq55j3644uXghSarXrXLFsYWzF0vq5VQpUryw3N6wjlSsWsHH3wj4Z2lpafLyxAXyaLt7pHyZSLfec/5CkoSF5nd5/NCRk/LDz79Iwztu8WJN4W10E+TQYCAlJUU2b94sw4cPd+zTlHSTJk0kNjY2O6tmCbY0m6xass6k/UtEFTP7zp46ax6/X/mDNGp5t0SULC47t+yRedM/l24DO5tGPaPtP+2UcpXKSKHw/6Vb84bklUat7pYbypYyf4F+2bFPFn64RB7s8gABAbLVxwu/k6CgQOnYqr5b5bWh/+yrWPlXzF9ZgfSeGv6O/LL/sKRcuixtmt4mPTrd54Maw2uYWpgzg4E///zTpJgjI52jc329Z8+eK8onJyebzS4hISFL6umvVnyxRv48elIee6qjY5/N9tdjzdurSfW6fw26irwhwowH0Ea/wf1/DbKyO3f2nBz45aC0fsz5H8oCBfPLbffUdrzWQYWJCedl07otBAPINnt/+0MWLN0gM1/v49ZVnnYnDB49SxrVr2Ya+4xeeuYRuXAxRX47cESmzv5GPvlivTz+YAMf1R7w426CzBgzZoyMHDkyu6vhF779Yo3s3xMnnf6vg9MVfcFCBcxj+kF/5nVEUUk4k3jFebb/tNsMCqxYtfw1P7NkmUj5fd9Br9QfuB7bdh2Q02fPS8cnxzn2paalyVuzv5b5SzbI/HeGOPb/eSpBnh4xU6pVLiNDn3Iea2MX+XemrHx0hKSm2WTc24ukU5u7TeYBOQ/dBDk0GChevLgEBQXJsWPHnPbr66ioqCvKa3eCDjZMnxmIjo7Okrr6C5vNJiu/XGumF3Z6soMULhrudDy8SJiEhhWU0ydOO+3X1+Url7viXDs275KqtW82/x+v5cThP6UggwmRjZo3ulXq1qjotO+Z0e+bmQEt763tlBHQQKDyjTfI8L4dTPelO91ul1NTzd8L5EwEAzk0GAgODpY6derIypUrpV27do7BPfq6b9++V5QPCQkxGzzLCOzeulce7PqA6ddPPHfe7A/JF2LmUOsf9tsa1JbvV/wgJUoWN+sL7NyyW06dOC1tOrd0OpeuN6DrCdS47cpBUzs27zZXRxGlSpjXGnxs/2mXNO9Anyp868LFZPnj6EnHa1034Ne4wxIWWkAiSxSW8L+zX3Y6TbBo4VApc0MJp0BAy/aJuV/OJPz1d0QVK/JXFm352q1mPYEKZSMlOE8e2fPbH/LOx8vk3ruqs85ADqZtuSfteYD/xgLZ302gV/oxMTFSt25ds7aATi08f/68Y3YBvGvrxu3m8dN3nRcNatGxiVT7e4xA3btvNTMAVi/5TpIuJJmg4KGeD0qRYs6DB7f/uNMsWqRdCFcTu2qTJJw+JwGBgVIsooi0fux+qVz9Jp99N8A+LkAbc7sp739lHu9vfKs81+9/42Nc+XHbb2bQoG7te411Ovbd56+YRw10P164TuIP/2lea+DQvkV9ebj1nV7+NkDWCLDlgJzWlClTHIsO1apVSyZNmmTWHLgW7SYIDw+XoZ9tlpCCoVlSVyCrtank3vQ3IDdKPJcgjWuWkbNnz0pYWJhPPsPeVlTot0ACQ66/qzIt+bzsn9zRp3W1bGZAaZfA1boFAADwGg+7CcSPuwkY8goAgMXliMwAAAC+xmwC1wgGAACWwGwC1+gmAADA4sgMAAAsITAwwGzXy+bBe3M6ggEAgCXQTeAa3QQAAFgcmQEAgCUwm8A1MgMAAEt1E3iyXa/XXnvNBBMDBgxw7EtKSpI+ffpIsWLFJDQ0VDp06HDFjfsOHjworVq1kgIFCkhERIQMGTJELl++7FRmzZo1Urt2bXPvnooVK8qsWbMyXT+CAQCApTIDnmzX48cff5R33nlHatSo4bR/4MCBsnjxYpk/f76sXbtWDh8+LO3bt3ccT01NNYFASkqKbNiwQWbPnm0a+hEjRjjKxMXFmTKNGzeWrVu3mmCjZ8+esmzZskzVkWAAAAAfSUxMlMcff1ymT58uRYoUcezX+xvMnDlTxo8fL/fee6+5g+/7779vGv2NGzeaMsuXL5ddu3bJRx99ZO7b06JFCxk9erS89dZbJkBQ06ZNk/Lly8sbb7whVapUMUv7d+zYUSZMmJCpehIMAAAswVuZgYSEBKctOTnZ5WdqN4BeuTdp0sRp/+bNm+XSpUtO+2+++WYpU6aMxMbGmtf6WL16dYmM/N/Nypo3b24+c+fOnY4yGc+tZezncBfBAADAErw1ZiA6OtrcBdG+jRkz5qqf9+mnn8qWLVuuelzv0hscHCyFCzvfGl4bfj1mL5M+ELAftx/7pzIaMFy8eNHt34bZBAAAZEJ8fLzTLYx14N7VyvTv319WrFgh+fLlk5yOzAAAwBICxMNuAvkrNaCBQPrtasGAdgMcP37cjPLPkyeP2XSQ4KRJk8xzvXrXfv8zZ844vU9nE0RFRZnn+phxdoH99bXKaL3y58/v9m9DMAAAsISsnFp43333yfbt280If/tWt25dM5jQ/jxv3ryycuVKx3v27t1rphLWr1/fvNZHPYcGFXaaadCGvmrVqo4y6c9hL2M/h7voJgAAwMsKFSok1apVc9pXsGBBs6aAfX+PHj1k0KBBUrRoUdPA9+vXzzTid9xxhznerFkz0+h36dJFxo4da8YHPP/882ZQoj0b0bt3b5kyZYoMHTpUunfvLqtWrZJ58+bJ0qVLM1VfggEAgCXktBUIJ0yYIIGBgWaxIZ2RoLMApk6d6jgeFBQkS5YskaeeesoECRpMxMTEyKhRoxxldFqhNvy6ZsHEiROldOnSMmPGDHOuTH03m81mk1xKR0vqSM6hn22WkIKh2V0dwCfaVHIeKQz4k8RzCdK4Zhkz7z79oDxftBW1nlssQfkKXvd5UpPOy9ZXWvu0rtmFMQMAAFgc3QQAAEvIad0EOQnBAADAEjy92VCA/8YCBAMAAGsgM+AaYwYAALA4MgMAAGvwsJtA/DcxQDAAALAGuglco5sAAACLIzMAALAEZhO4RjAAALAEuglco5sAAACLIzMAALAEuglcIxgAAFgC3QSu0U0AAIDFkRkAAFgCmQHXCAYAAJbAmAHXCAYAAJZAZsA1xgwAAGBxZAYAAJZAN4FrBAMAAEugm8A1ugkAALA4MgMAAEvQ63qPugnEfxEMAAAsITAgwGyevN9f0U0AAIDFkRkAAFgCswlcIxgAAFgCswlcIxgAAFhCYMBfmyfv91eMGQAAwOLIDAAArMGMGWBu4dUQDAAALIEBhK7RTQAAgMWRGQAAWELA3/958n5/RTAAALAEZhO4RjcBAAAWR2YAAGAJLDrkYTDw5ZdfirvatGnjdlkAALIKswk8DAbatWvndtSUmprqVlkAAJCLgoG0tDTf1wQAAB/iFsY+GjOQlJQk+fLl8+QUAABkCboJvDibQLsBRo8eLTfccIOEhobK/v37zf4XXnhBZs6cmdnTAQCQpQMIPdn8VaaDgVdeeUVmzZolY8eOleDgYMf+atWqyYwZM7xdPwAAkNOCgQ8++EDeffddefzxxyUoKMixv2bNmrJnzx5v1w8AAK92E3iy+atMjxn4448/pGLFilcdZHjp0iVv1QsAAK9iAKEXMwNVq1aV77777or9CxYskFtvvTWzpwMAALktMzBixAiJiYkxGQLNBnz++eeyd+9e032wZMkS39QSAAAP6XW9J9f2AeK/Mp0ZaNu2rSxevFi+/fZbKViwoAkOdu/ebfY1bdrUN7UEAMBDzCbw8joD99xzj6xYseJ63goAAPxl0aGffvrJZATs4wjq1KnjzXoBAOBV3MLYi8HAoUOH5NFHH5Xvv/9eChcubPadOXNG7rzzTvn000+ldOnSmT0lAAA+x10LvThmoGfPnmYKoWYFTp06ZTZ9roMJ9RgAAPDzzMDatWtlw4YNUrlyZcc+fT558mQzlgAAgJzKjy/uszYYiI6OvuriQnrPglKlSnlWGwAAfIRuAi92E4wbN0769etnBhDa6fP+/fvL66+/ntnTAQCQpQMIPdksnRkoUqSIU0R0/vx5qVevnuTJ89fbL1++bJ53795d2rVr57vaAgCA7AkG3nzzTe9/MgAAWYhuAg+DAV1+GACA3IzliH2w6JBKSkqSlJQUp31hYWGenBIAAOT0AYQ6XqBv374SERFh7k2g4wnSbwAA5ORbGHuyZcbbb78tNWrUMBfJutWvX1++/vprpwvqPn36SLFixSQ0NFQ6dOggx44dczrHwYMHpVWrVlKgQAHT7g4ZMsSM00tvzZo1Urt2bQkJCZGKFSvKrFmzxOfBwNChQ2XVqlXmS+oHz5gxQ0aOHGmmFeqdCwEAyIm0Lfd0ywxdkfe1116TzZs3m1l39957r7nZ386dO83xgQMHmpv8zZ8/36zhc/jwYWnfvr3TlH0NBDQDr+v7zJ492zT0eoNAu7i4OFOmcePGsnXrVhkwYIBZAHDZsmWZqmuAzWazZeYNZcqUMY1+o0aNTKSzZcsWE4l8+OGH8sknn8hXX30lWSUhIUHCw8Nl6GebJaRgaJZ9LpCV2lSKzO4qAD6TeC5BGtcsI2fPnvVZN7O9rej6fqwEF7j+tiLlQqJ80K2+R3UtWrSomaLfsWNHKVGihMyZM8c8V3v27JEqVapIbGys3HHHHSaL8MADD5ggITLyr38Hpk2bJsOGDZMTJ05IcHCweb506VLZsWOH4zM6depkbhPwzTff+C4zoMsPV6hQwTzXH0Nfq7vvvlvWrVuX2dMBAJCrbmGckJDgtCUnJ1/zs/UqX+/fo13t2l2g2QJdwK9JkyaOMjfffLO54NZgQOlj9erVHYGAat68uflMe3ZBy6Q/h72M/Rw+CwY0ENC0hL3i8+bNM8811WG/cREAAP7aTRAdHW0yDfZtzJgxLj9z+/btZjyAdqv37t1bFi5caO70e/ToUXNln7Hd1IZfjyl9TB8I2I/bj/1TGQ0YLl686LvZBN26dZNt27ZJw4YN5dlnn5XWrVvLlClTTIQzfvz4zJ4OAIBcJT4+3qmbQBt6V/TePdqXr10LCxYsMFP1dXxATpPpYEAHPNhpakL7ODTdoeMGdNQkAAA50fXMCEjP/l777AB36NW/to+qTp068uOPP8rEiRPlkUceMQMDtW8/fXZAZxNERUWZ5/q4adMmp/PZZxukL5NxBoK+1vrlz5/f/e8mHipbtqwZ/UggAADIybJ6NsHVpKWlmTEGGhjkzZtXVq5c6Ti2d+9eM5VQxxQofdRuhuPHjzvKrFixwjT02tVgL5P+HPYy9nN4NTMwadIkt0/49NNPZ6oCAAD443LEw4cPlxYtWphBgefOnTMzB3RNAJ32p2MNevToIYMGDTIzDLSB15sAaiOuMwlUs2bNTKPfpUsXGTt2rBkf8Pzzz5u1CexdEzoOQbvqddq/3h9Ip/7rWD6dYeD1YGDChAlu/1AEAwAAiLmi79q1qxw5csQ0/ppB10CgadOmjrY1MDDQLDak2QKdBTB16lTH+4OCgmTJkiXy1FNPmSBBF/rTMQejRo1ylClfvrxp+LULX7sfdG0DXf9Hz+XTdQZyEvvc0WMnfTc/FchuRW7rm91VAHzGlpoiydunZ8k6A09+tMnjdQbe7Xy7T+uaK+9NAABAbsFdC304gBAAAORuZAYAAJagF/aBHlzcB/hvYoBgAABgDYEeBgOBfhwM0E0AAIDFXVcw8N1330nnzp3NVIc//vjD7NO7Fq5fv97b9QMAIEfdqMgfZToY+Oyzz8z8RV3m8Oeff3bcrUmnWrz66qu+qCMAAF7rJvBk81eZDgZefvllcz/l6dOnm6UU7e666y7ZsmWLt+sHAABy2gBCXTu5QYMGV+zXBR30hgsAAOREnt5fIIDMwP/oHZL27dt3xX4dL1ChQgVv1QsAAJ/ctdCTzV9lOhjo1auX9O/fX3744QczmOLw4cPy8ccfy+DBg836yQAA5NQGz9PNX2W6m+DZZ581t2C877775MKFC6bLQO+epMGA3nEJAAD4eTCg2YDnnntOhgwZYroLEhMTzS0WQ0Ov/+YPAAD4GmMGfLACYXBwsAkCAADIDQLFs37/QPHfaCDTwUDjxo3/ceGFVatWeVonAACQk4OBWrVqOb2+dOmSbN26VXbs2CExMTHerBsAAF5DN4EXg4EJEyZcdf9LL71kxg8AAJATcaMi17w2U0LvVfDee+9563QAACC33cI4NjZW8uXL563TAQDgVZrm92QAYYAfZwYyHQy0b9/e6bXNZpMjR47ITz/9JC+88II36wYAgNcwZsCLwYDegyC9wMBAqVy5sowaNUqaNWuW2dMBAIDcFAykpqZKt27dpHr16lKkSBHf1QoAAC9jAKGXBhAGBQWZq3/uTggAyG0CvPCfv8r0bIJq1arJ/v37fVMbAAB8nBnwZPNXmQ4GXn75ZXNToiVLlpiBgwkJCU4bAADw0zEDOkDwmWeekZYtW5rXbdq0cVqWWGcV6GsdVwAAQE7DmAEvBAMjR46U3r17y+rVq919CwAAOYZesP7TvXWuxZP3+k0woFf+qmHDhr6sDwAAyMlTC/05KgIA+De6CbwUDFSqVOmaAcGpU6cyc0oAALIEKxB6KRjQcQMZVyAEAAAWCgY6deokERERvqsNAAA+ojcp8uRGRYF+nBpwOxhgvAAAIDdjzIAXFh2yzyYAAAAWzQykpaX5tiYAAPiShwMIxY8zA5m+hTEAALlRoASYzZP3+yuCAQCAJTC10Is3KgIAAP6FzAAAwBKYTeAawQAAwBJYZ8A1ugkAALA4MgMAAEtgAKFrBAMAAOtMLfSkm0D8NxqgmwAAAIsjMwAAsAS6CVwjGAAAWEKgh+nwQPFf/vzdAACAG8gMAAAsISAgwGyevN9fEQwAACxBm3JuWnh1BAMAAEtgBULXGDMAAIDFkRkAAFiG/17be4ZgAABgCawz4BrdBAAAWByZAQCAJTC10DWCAQCAJbACoTW/GwAAcAPBAADAUt0EnmyZMWbMGLntttukUKFCEhERIe3atZO9e/c6lUlKSpI+ffpIsWLFJDQ0VDp06CDHjh1zKnPw4EFp1aqVFChQwJxnyJAhcvnyZacya9askdq1a0tISIhUrFhRZs2alam6EgwAACy1AqEnW2asXbvWNPQbN26UFStWyKVLl6RZs2Zy/vx5R5mBAwfK4sWLZf78+ab84cOHpX379o7jqampJhBISUmRDRs2yOzZs01DP2LECEeZuLg4U6Zx48aydetWGTBggPTs2VOWLVvmdl0DbDabTXKphIQECQ8Pl2Mnz0pYWFh2VwfwiSK39c3uKgA+Y0tNkeTt0+XsWd/9O25vK2Z9t0cKhBa67vNcSDwnT9xz83XX9cSJE+bKXhv9Bg0amPOUKFFC5syZIx07djRl9uzZI1WqVJHY2Fi544475Ouvv5YHHnjABAmRkZGmzLRp02TYsGHmfMHBweb50qVLZceOHY7P6tSpk5w5c0a++eYbt+pGZgAAYAne6iZISEhw2pKTk936fG38VdGiRc3j5s2bTbagSZMmjjI333yzlClTxgQDSh+rV6/uCARU8+bNzefu3LnTUSb9Oexl7OdwB8EAAMBSswk82VR0dLTJNNg3HRtwLWlpaSZ9f9ddd0m1atXMvqNHj5or+8KFCzuV1YZfj9nLpA8E7Mftx/6pjAYMFy9eFHcwtRAAYAneWmcgPj7eqZtAB+1di44d0DT++vXrJSciMwAAQCZoIJB+u1Yw0LdvX1myZImsXr1aSpcu7dgfFRVlBgZq3356OptAj9nLZJxdYH99rTJat/z587v1nQgGAACWkNWzCWw2mwkEFi5cKKtWrZLy5cs7Ha9Tp47kzZtXVq5c6dinUw91KmH9+vXNa33cvn27HD9+3FFGZyZoQ1+1alVHmfTnsJexn8MddBMAACwhq29U1KdPHzNT4IsvvjBrDdj7+HWcgV6x62OPHj1k0KBBZlChNvD9+vUzjbjOJFA6FVEb/S5dusjYsWPNOZ5//nlzbntGonfv3jJlyhQZOnSodO/e3QQe8+bNMzMM3EVmAAAAH3j77bfNDIJGjRpJyZIlHdvcuXMdZSZMmGCmDupiQzrdUFP+n3/+ueN4UFCQ6WLQRw0SOnfuLF27dpVRo0Y5ymjGQRt+zQbUrFlT3njjDZkxY4aZUeAu1hkAcjjWGYA/y8p1Bj7d8KvH6wx0uvMmn9Y1u9BNAACwhKzuJshN6CYAAMDiyAwAACwh4O//PHm/vyIYAABYAt0ErtFNAACAxZEZAABYgqb5A+kmuCqCAQCAJdBN4BrBAADAEggGXGPMAAAAFkdmAABgCUwtdI1gAABgCYEBf22evN9f0U0AAIDFkRkAAFgC3QSuEQwAACyB2QSu0U0AAIDFkRkAAFiCXth71k3gvwgGAACWwGwC1+gmAADA4sgMWNz495fJktXb5Nffj0m+kLxye40K8lLftnJTuUhHmaTkS/L8m5/L5ys2S0rKZbn3jiry+rBHJKJYmDk+Z/FG6TPqo6ue/5dlY6RE0UJZ9n2AYb1ayrNPtnTa98uBo1LvoZcdr2+rXl6ef+oBqVOtnKSmpsmOX/6QDk+/Zf6sR5csKkN63C8N6lYyf8aP/nlW5n39o7zx3jK5dDnVvL9i2QgZ/2wnqVw+SsJC85syC775Sf4z/Su5nJqW5d8Z7mE2QQ4NBtatWyfjxo2TzZs3y5EjR2ThwoXSrl277KyS5WzYsk96PtRAbq1aVi6npsroqYulfb8psnHe81Iwf4gp8+8Jn8ny9Ttl1pge5h++oePmSZehM2TZzEHm+INNa8t99as6nbfPyA8lKeUSgQCyxe7fDku7PpMdry9fTnMKBBZM+pdMmLVchr0+3zTe1W66QdLSbOZ4pXKREhgYKAPHfCr7D52QqjeWkjf//agUyB8iIyYuNGU0KPj0q03y3z3xcvbcBalWqbQpExgYYP4OIWdiNkEODQbOnz8vNWvWlO7du0v79u2zsyqWtWByH6fXU1/sLDc1Gy5bd8fLXbUrytnEi/LRF7Ey/eUnpMFtlU2ZKSM6m6usH7fHmX9Y8+cLNpvdn6fPybqffpFJLzye5d8HUNrAHz957qrHXhnYXt6Zu0benL3CsW/f78cdz1fG7jab3e9/nJSKZSKke8d7HMGA7tPNLv7oabmr9k1Sv9aNPvpG8N4AQs/e76+yNRho0aKF2ZBzJCQmmcciYQXM47bdB81VUKPb/woEVKVyUVI6qogjGMjo06WbTHDQ9t5aWVhz4H8qRJeQXV+9Iskpl8yf01FTvpRDx05L8SKh5s/s/G9+MpmtcjcUN11kL09dLBu37Xd5Ps2InT57weXx8qWLy331q5guNyA3ylVjBpKTk81ml5CQkK318TdpaWkyfPwCqVezglStWMrsO3YyQYLz5pHwQn8FB3YRRcPMsav56MtY6di8rlO2AMgqm3cekD4jP5J9vx+TyOLhMqxXC/lq+kC5s9MrpvFXz/ZqKS9MWijb9x6STq1ul0VT+8mdnV6V/fEnrtrQP/lIQ3nh76xAehpQ1KgcbcbbzPp8vbz6ztIs+Y64PoESIIEe5PoD/Tg3kKuCgTFjxsjIkSOzuxp+a/DYebL7tyPy9fSB132OTf/dL3vjjsq0kV29WjfAXd9u2OV4vnPfYflpxwHZvniUtGtS2wwkVLMWrjcDX9X2Xw5Jw9sqS+c29WXUW186natkiXBZMKmPLPr2Z/lg0YYrPqv7v9+T0AL5zJiDkU+3k36d75NJH37r8++I60M3gZ9MLRw+fLicPXvWscXHx2d3lfzGkLHzZNl3O2Tx20/LDZFFHPsji4VJyqXLZpBUesdPJZhjGX34RaxUr1RaalUpkyX1Bq4lIfGi7Dt43HQdHP3zr2yWBqzp7T1w1HR9pRdVPFy+fLu/CXAHvPrJVc/9x7Ez5lyfLd9sAolhT7Y0gwiB3CZXBQMhISESFhbmtMEzNpvNBAJL12yTL99+Wsr+nUa1q1mljOTNEyRrf9zr2PfrgWNy6OjpK8YLJF5IlkXfbpHObetnWf2BaymYP1jK31DcTP87ePikHD5+xkwNTE8HCMYfOeWUEVg8rb9s23PQTJvVvyfXEhAQYP6ueJKGRhalBjzZ/FSu6iaA9w3+zzxZsOwnmfP6kybdeezvK6ew0Hymzz88NL9p3J+b8LkUCSsohQrmk6Hj5ptAIGMwsHDFZjOK+5EWt2XTtwFERvV/UL75brtp3LVRf/bJVpKaliafLdtsjk/+6FsZ/mQrs7aAdhE8+kA9ualspMQMm+kUCMQfPWXGCeigQzv7DIWH7q9rBtbu2ndYki9dllurlJERfdo4/g4gZ2KdgRwaDCQmJsq+ffscr+Pi4mTr1q1StGhRKVOGNHNWeO+z78zjA70nOu1/a0Rneaz1Heb5qwM7mKudrsNmOC06dLUuggca1bxisCGQlW6IKCwzXu4mRcMLyJ+nE+WHbfulabc35OSZRHN82idrJF9wXnl1UAcpHFZAdv76h7TvO0UO/PGnOd6o3s1yY5kIs+mMhPSK3NbXPGqD379rU1NGMwIaOMyYv06mzlmVDd8Y8FyAzZ38l4+sWbNGGjdufMX+mJgYmTVr1jXfr7MJwsPD5djJs3QZwG/ZGyDAH9lSUyR5+3QzDsxX/47b24qVWw9KaKHr/4zEcwlyX60yPq2rJTMDjRo1cqsvDgAATzGbwE8GEAIAAO9jACEAwBpIDbhEMAAAsARmE7hGMAAAsATuWugaYwYAALA4MgMAAEtgyIBrBAMAAGsgGnCJbgIAACyOzAAAwBKYTeAawQAAwBKYTeAa3QQAAFgcmQEAgCUwftA1ggEAgDUQDbhENwEAABZHZgAAYAnMJnCNYAAAYAnMJnCNYAAAYAkMGXCNMQMAAFgcmQEAgDWQGnCJYAAAYAkMIHSNbgIAACyOzAAAwBKYTeAawQAAwBIYMuAa3QQAAFgcmQEAgDWQGnCJYAAAYAnMJnCNbgIAACyOYAAAYKnZBJ5smbFu3Tpp3bq1lCpVSgICAmTRokVOx202m4wYMUJKliwp+fPnlyZNmsivv/7qVObUqVPy+OOPS1hYmBQuXFh69OghiYmJTmX++9//yj333CP58uWT6OhoGTt2rGQWwQAAwFJDBjzZMuP8+fNSs2ZNeeutt656XBvtSZMmybRp0+SHH36QggULSvPmzSUpKclRRgOBnTt3yooVK2TJkiUmwHjyyScdxxMSEqRZs2ZStmxZ2bx5s4wbN05eeukleffddzNVV8YMAACsIYsHELZo0cJsV6NZgTfffFOef/55adu2rdn3wQcfSGRkpMkgdOrUSXbv3i3ffPON/Pjjj1K3bl1TZvLkydKyZUt5/fXXTcbh448/lpSUFHnvvfckODhYbrnlFtm6dauMHz/eKWi4FjIDAABksbi4ODl69KjpGrALDw+XevXqSWxsrHmtj9o1YA8ElJYPDAw0mQR7mQYNGphAwE6zC3v37pXTp0+7XR8yAwAAS/DWbIKEhASn/SEhIWbLDA0ElGYC0tPX9mP6GBER4XQ8T548UrRoUacy5cuXv+Ic9mNFihRxqz5kBgAA1uDp4MGAv06jg/T0Kt6+jRkzRnI7MgMAAGRCfHy8Gd1vl9msgIqKijKPx44dM7MJ7PR1rVq1HGWOHz/u9L7Lly+bGQb29+ujvic9+2t7GXeQGQAAWIK3ZhOEhYU5bdcTDGhqXxvrlStXOvZp94OOBahfv755rY9nzpwxswTsVq1aJWlpaWZsgb2MzjC4dOmSo4zOPKhcubLbXQSKYAAAYA1ZPLcwMTHRjOzXzT5oUJ8fPHjQrDswYMAAefnll+XLL7+U7du3S9euXc0MgXbt2pnyVapUkfvvv1969eolmzZtku+//1769u1rZhpoOfXYY4+ZwYO6/oBOQZw7d65MnDhRBg0alKm60k0AAIAP/PTTT9K4cWPHa3sDHRMTI7NmzZKhQ4eatQh0CqBmAO6++24zlVAXD7LTqYMaANx3331mFkGHDh3M2gR2OmZh+fLl0qdPH6lTp44UL17cLGSUmWmFKsCmkx1zKU2p6A9x7ORZp/4bwJ8Uua1vdlcB8Blbaookb58uZ8/67t9xe1ux9bdjUqjQ9X/GuXMJUuvGSJ/WNbuQGQAAWML1LCmcnifvzekYMwAAgMWRGQAAWEIWr0acqxAMAACsgWjAJYIBAIAleGs5Yn/EmAEAACyOzAAAwDq9BJ7MJhD/RTAAALAEhgy4RjcBAAAWR2YAAGAJLDrkGsEAAMAi6ChwhW4CAAAsjswAAMAS6CZwjWAAAGAJdBK4RjcBAAAWR2YAAGAJdBO4RjAAALAE7k3gGsEAAMAaGDTgEmMGAACwODIDAABLIDHgGsEAAMASGEDoGt0EAABYHJkBAIAlMJvANYIBAIA1MGjAJboJAACwODIDAABLIDHgGsEAAMASmE3gGt0EAABYHJkBAIBFeDabQPy4o4BgAABgCXQTuEY3AQAAFkcwAACAxdFNAACwBLoJXCMYAABYAssRu0Y3AQAAFkdmAABgCXQTuEYwAACwBJYjdo1uAgAALI7MAADAGkgNuEQwAACwBGYTuEY3AQAAFkdmAABgCcwmcI1gAABgCQwZcI1gAABgDUQDLjFmAAAAiyMzAACwBGYTuEYwAACwBAYQ+mkwYLPZzOO5hITsrgrgM7bUlOyuAuDzP9/2f899KcHDtiLBj9uaXB0MnDt3zjxWLB+d3VUBAHj473l4eLhPzh0cHCxRUVFykxfaiqioKHM+fxNgy4pwzEfS0tLk8OHDUqhQIQnw5/xNDqKRcXR0tMTHx0tYWFh2VwfwKv58Zz1tgjQQKFWqlAQG+m5Me1JSkqSkeJ5lCw4Olnz58om/ydWZAf2DU7p06eyuhiXpP5T8Ywl/xZ/vrOWrjEB62oD7YyPuLUwtBADA4ggGAACwOIIBZEpISIi8+OKL5hHwN/z5hlXl6gGEAADAc2QGAACwOIIBAAAsjmAAAACLIxgAAMDiCAbgtrfeekvKlStnFu6oV6+ebNq0KburBHjFunXrpHXr1mYVPF3NdNGiRdldJSBLEQzALXPnzpVBgwaZaVdbtmyRmjVrSvPmzeX48ePZXTXAY+fPnzd/pjXgBayIqYVwi2YCbrvtNpkyZYrjvhC6hnu/fv3k2Wefze7qAV6jmYGFCxdKu3btsrsqQJYhM4Br0pt7bN68WZo0aeJ0Xwh9HRsbm611AwB4jmAA1/Tnn39KamqqREZGOu3X10ePHs22egEAvINgAAAAiyMYwDUVL15cgoKC5NixY0779XVUVFS21QsA4B0EA7im4OBgqVOnjqxcudKxTwcQ6uv69etna90AAJ7L44VzwAJ0WmFMTIzUrVtXbr/9dnnzzTfNdKxu3bpld9UAjyUmJsq+ffscr+Pi4mTr1q1StGhRKVOmTLbWDcgKTC2E23Ra4bhx48ygwVq1asmkSZPMlEMgt1uzZo00btz4iv0aAM+aNStb6gRkJYIBAAAsjjEDAABYHMEAAAAWRzAAAIDFEQwAAGBxBAMAAFgcwQAAABZHMAAAgMURDAAeeuKJJ6Rdu3aO140aNZIBAwZky8I5AQEBcubMGZdl9PiiRYvcPudLL71kFpjyxIEDB8zn6op+AHImggH4bQOtDZBuem+FihUryqhRo+Ty5cs+/+zPP/9cRo8e7bUGHAB8jXsTwG/df//98v7770tycrJ89dVX0qdPH8mbN68MHz78irIpKSkmaPAGXc8eAHITMgPwWyEhIeYWy2XLlpWnnnpKmjRpIl9++aVTav+VV16RUqVKSeXKlc3++Ph4efjhh6Vw4cKmUW/btq1Jc9ulpqaamzbp8WLFisnQoUMl44reGbsJNBgZNmyYREdHmzpplmLmzJnmvPb18IsUKWIyBFov+10hx4wZI+XLl5f8+fNLzZo1ZcGCBU6fowFOpUqVzHE9T/p6ukvrpecoUKCAVKhQQV544QW5dOnSFeXeeecdU38tp7/P2bNnnY7PmDFDqlSpIvny5ZObb75Zpk6dmum6AMg+BAOwDG00NQNgp7dg3rt3r6xYsUKWLFliGsHmzZtLoUKF5LvvvpPvv/9eQkNDTYbB/r433njD3Ljmvffek/Xr18upU6dk4cKF//i5Xbt2lU8++cTc2Gn37t2mYdXzauP62WefmTJajyNHjsjEiRPNaw0EPvjgA5k2bZrs3LlTBg4cKJ07d5a1a9c6gpb27dtL69atTV98z5495dlnn830b6LfVb/Prl27zGdPnz5dJkyY4FRG7+Y3b948Wbx4sXzzzTfy888/y7/+9S/H8Y8//lhGjBhhAiv9fq+++qoJKmbPnp3p+gDIJnqjIsDfxMTE2Nq2bWuep6Wl2VasWGELCQmxDR482HE8MjLSlpyc7HjPhx9+aKtcubIpb6fH8+fPb1u2bJl5XbJkSdvYsWMdxy9dumQrXbq047NUw4YNbf379zfP9+7dq2kD8/lXs3r1anP89OnTjn1JSUm2AgUK2DZs2OBUtkePHrZHH33UPB8+fLitatWqTseHDRt2xbky0uMLFy50eXzcuHG2OnXqOF6/+OKLtqCgINuhQ4cc+77++mtbYGCg7ciRI+b1jTfeaJszZ47TeUaPHm2rX7++eR4XF2c+9+eff3b5uQCyF2MG4Lf0al+vwPWKX9Pujz32mBkdb1e9enWncQLbtm0zV8F6tZxeUlKS/PbbbyY1rlfv6W/bnCdPHqlbt+4VXQV2etUeFBQkDRs2dLveWocLFy5I06ZNnfZrduLWW281z/UKPOPto+vXry+ZNXfuXJOx0O+XmJhoBliGhYU5lSlTpozccMMNTp+jv6dmM/S30vf26NFDevXq5Sij5wkPD890fQBkD4IB+C3tR3/77bdNg6/jArThTq9gwYJOr7UxrFOnjkl7Z1SiRInr7prILK2HWrp0qVMjrHTMgbfExsbK448/LiNHjjTdI9p4f/rpp6YrJLN11e6FjMGJBkEAcgeCAfgtbex1sJ67ateuba6UIyIirrg6titZsqT88MMP0qBBA8cV8ObNm817r0azD3oVrX39OoAxI3tmQgcm2lWtWtU0+gcPHnSZUdDBevbBkHYbN26UzNiwYYMZXPncc8859v3+++9XlNN6HD582ARU9s8JDAw0gy4jIyPN/v3795vAAkDuxABC4G/amBUvXtzMINABhHFxcWYdgKeffloOHTpkyvTv319ee+01s3DPnj17zEC6f1ojoFy5chITEyPdu3c377GfUwfkKW2MdRaBdmmcOHHCXGlr6n3w4MFm0KAOwtM0/JYtW2Ty5MmOQXm9e/eWX3/9VYYMGWLS9XPmzDEDATPjpptuMg29ZgP0M7S74GqDIXWGgH4H7UbR30V/D51RoDM1lGYWdMCjvv+XX36R7du3mymd48ePz1R9AGQfggHgbzptbt26daaPXEfq69W39oXrmAF7puCZZ56RLl26mMZR+8614X7wwQf/8bzaVdGxY0cTOOi0O+1bP3/+vDmm3QDamOpMAL3K7tu3r9mvixbpiHxtZLUeOqNBuw10qqHSOupMBA0wdNqhzjrQUfyZ0aZNGxNw6GfqKoOaKdDPzEizK/p7tGzZUpo1ayY1atRwmjqoMxl0aqEGAJoJ0WyGBib2ugLI+QJ0FGF2VwIAAGQfMgMAAFgcwQAAABZHMAAAgMURDAAAYHEEAwAAWBzBAAAAFkcwAACAxREMAABgcQQDAABYHMEAAAAWRzAAAIDFEQwAACDW9v9Qi0ta9+g1oQAAAABJRU5ErkJggg==",
      "text/plain": [
       "<Figure size 640x480 with 2 Axes>"
      ]
     },
     "metadata": {},
     "output_type": "display_data"
    }
   ],
   "source": [
    "# Matriz de confusión\n",
    "disp = ConfusionMatrixDisplay(confusion_matrix(y_test, y_pred), display_labels=[0, 1])\n",
    "disp.plot(cmap=plt.cm.Blues)\n",
    "plt.title('Confusion matrix')\n",
    "plt.show()"
   ]
<<<<<<<< HEAD:informe.ipynb
========
  },
  {
   "cell_type": "markdown",
   "id": "94b9769b",
   "metadata": {},
   "source": [
    "El modelo logró identificar correctamente 5623 noticias falsas, lo que indica que tiene una alta efectividad en esta categoría. Además, solo 207 noticias falsas fueron clasificadas erróneamente como reales, lo que demuestra que el modelo tiene una tasa baja de falsos negativos. Por otro lado, uno de los problemas principales que se evidencian en la matriz es la cantidad de 1423 noticias reales que fueron clasificadas como falsas. Este alto número de falsos positivos puede indicar que el modelo es demasiado estricto al momento de detectar noticias falsas, lo que podría llevar a etiquetar mal noticias verdaderas como falsas. Por ultimo, 2675 noticias reales fueron correctamente clasificadas, lo que muestra que el modelo también tiene cierta capacidad para identificar noticias legítimas, aunque en menor medida comparado con su precisión en detectar noticias falsas."
   ]
  },
  {
   "cell_type": "markdown",
   "id": "4591b862-1eee-4677-b177-e12dec7faa84",
   "metadata": {},
   "source": [
    "# Resultados"
   ]
>>>>>>>> ecfa5ff7e82bed6791d991fbb8ac490006c68c5e:cambios_2.ipynb
  }
 ],
 "metadata": {
  "kernelspec": {
   "display_name": "pyomo_env",
   "language": "python",
   "name": "python3"
  },
  "language_info": {
   "codemirror_mode": {
    "name": "ipython",
    "version": 3
   },
   "file_extension": ".py",
   "mimetype": "text/x-python",
   "name": "python",
   "nbconvert_exporter": "python",
   "pygments_lexer": "ipython3",
   "version": "3.9.21"
  }
 },
 "nbformat": 4,
 "nbformat_minor": 5
}
